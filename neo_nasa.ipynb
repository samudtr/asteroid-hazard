{
 "cells": [
  {
   "cell_type": "code",
   "execution_count": 34,
   "metadata": {},
   "outputs": [],
   "source": [
    "import pandas as pd\n",
    "import seaborn as sns\n",
    "import xgboost as xgb\n",
    "import optuna as opt\n",
    "import numpy as np\n",
    "import os\n",
    "import plotly\n",
    "from sklearn.model_selection import train_test_split\n",
    "from sklearn.metrics import roc_auc_score\n",
    "from optuna.integration import XGBoostPruningCallback\n",
    "import optuna.visualization as vis\n",
    "import shap\n",
    "from sklearn.preprocessing import StandardScaler\n",
    "from optuna_dashboard import run_server"
   ]
  },
  {
   "cell_type": "code",
   "execution_count": 35,
   "metadata": {},
   "outputs": [
    {
     "data": {
      "text/html": [
       "<div>\n",
       "<style scoped>\n",
       "    .dataframe tbody tr th:only-of-type {\n",
       "        vertical-align: middle;\n",
       "    }\n",
       "\n",
       "    .dataframe tbody tr th {\n",
       "        vertical-align: top;\n",
       "    }\n",
       "\n",
       "    .dataframe thead th {\n",
       "        text-align: right;\n",
       "    }\n",
       "</style>\n",
       "<table border=\"1\" class=\"dataframe\">\n",
       "  <thead>\n",
       "    <tr style=\"text-align: right;\">\n",
       "      <th></th>\n",
       "      <th>id</th>\n",
       "      <th>est_diameter_min</th>\n",
       "      <th>est_diameter_max</th>\n",
       "      <th>relative_velocity</th>\n",
       "      <th>miss_distance</th>\n",
       "      <th>absolute_magnitude</th>\n",
       "    </tr>\n",
       "  </thead>\n",
       "  <tbody>\n",
       "    <tr>\n",
       "      <th>count</th>\n",
       "      <td>9.083600e+04</td>\n",
       "      <td>90836.000000</td>\n",
       "      <td>90836.000000</td>\n",
       "      <td>90836.000000</td>\n",
       "      <td>9.083600e+04</td>\n",
       "      <td>90836.000000</td>\n",
       "    </tr>\n",
       "    <tr>\n",
       "      <th>mean</th>\n",
       "      <td>1.438288e+07</td>\n",
       "      <td>0.127432</td>\n",
       "      <td>0.284947</td>\n",
       "      <td>48066.918918</td>\n",
       "      <td>3.706655e+07</td>\n",
       "      <td>23.527103</td>\n",
       "    </tr>\n",
       "    <tr>\n",
       "      <th>std</th>\n",
       "      <td>2.087202e+07</td>\n",
       "      <td>0.298511</td>\n",
       "      <td>0.667491</td>\n",
       "      <td>25293.296961</td>\n",
       "      <td>2.235204e+07</td>\n",
       "      <td>2.894086</td>\n",
       "    </tr>\n",
       "    <tr>\n",
       "      <th>min</th>\n",
       "      <td>2.000433e+06</td>\n",
       "      <td>0.000609</td>\n",
       "      <td>0.001362</td>\n",
       "      <td>203.346433</td>\n",
       "      <td>6.745533e+03</td>\n",
       "      <td>9.230000</td>\n",
       "    </tr>\n",
       "    <tr>\n",
       "      <th>25%</th>\n",
       "      <td>3.448110e+06</td>\n",
       "      <td>0.019256</td>\n",
       "      <td>0.043057</td>\n",
       "      <td>28619.020645</td>\n",
       "      <td>1.721082e+07</td>\n",
       "      <td>21.340000</td>\n",
       "    </tr>\n",
       "    <tr>\n",
       "      <th>50%</th>\n",
       "      <td>3.748362e+06</td>\n",
       "      <td>0.048368</td>\n",
       "      <td>0.108153</td>\n",
       "      <td>44190.117890</td>\n",
       "      <td>3.784658e+07</td>\n",
       "      <td>23.700000</td>\n",
       "    </tr>\n",
       "    <tr>\n",
       "      <th>75%</th>\n",
       "      <td>3.884023e+06</td>\n",
       "      <td>0.143402</td>\n",
       "      <td>0.320656</td>\n",
       "      <td>62923.604633</td>\n",
       "      <td>5.654900e+07</td>\n",
       "      <td>25.700000</td>\n",
       "    </tr>\n",
       "    <tr>\n",
       "      <th>max</th>\n",
       "      <td>5.427591e+07</td>\n",
       "      <td>37.892650</td>\n",
       "      <td>84.730541</td>\n",
       "      <td>236990.128088</td>\n",
       "      <td>7.479865e+07</td>\n",
       "      <td>33.200000</td>\n",
       "    </tr>\n",
       "  </tbody>\n",
       "</table>\n",
       "</div>"
      ],
      "text/plain": [
       "                 id  est_diameter_min  est_diameter_max  relative_velocity  \\\n",
       "count  9.083600e+04      90836.000000      90836.000000       90836.000000   \n",
       "mean   1.438288e+07          0.127432          0.284947       48066.918918   \n",
       "std    2.087202e+07          0.298511          0.667491       25293.296961   \n",
       "min    2.000433e+06          0.000609          0.001362         203.346433   \n",
       "25%    3.448110e+06          0.019256          0.043057       28619.020645   \n",
       "50%    3.748362e+06          0.048368          0.108153       44190.117890   \n",
       "75%    3.884023e+06          0.143402          0.320656       62923.604633   \n",
       "max    5.427591e+07         37.892650         84.730541      236990.128088   \n",
       "\n",
       "       miss_distance  absolute_magnitude  \n",
       "count   9.083600e+04        90836.000000  \n",
       "mean    3.706655e+07           23.527103  \n",
       "std     2.235204e+07            2.894086  \n",
       "min     6.745533e+03            9.230000  \n",
       "25%     1.721082e+07           21.340000  \n",
       "50%     3.784658e+07           23.700000  \n",
       "75%     5.654900e+07           25.700000  \n",
       "max     7.479865e+07           33.200000  "
      ]
     },
     "execution_count": 35,
     "metadata": {},
     "output_type": "execute_result"
    }
   ],
   "source": [
    "df = pd.read_csv(\"c:/Users/samud/Documents/Python_Learning/Asteroids/neo.csv/neo.csv\")\n",
    "df.describe()"
   ]
  },
  {
   "cell_type": "code",
   "execution_count": 36,
   "metadata": {},
   "outputs": [
    {
     "data": {
      "text/html": [
       "<div>\n",
       "<style scoped>\n",
       "    .dataframe tbody tr th:only-of-type {\n",
       "        vertical-align: middle;\n",
       "    }\n",
       "\n",
       "    .dataframe tbody tr th {\n",
       "        vertical-align: top;\n",
       "    }\n",
       "\n",
       "    .dataframe thead th {\n",
       "        text-align: right;\n",
       "    }\n",
       "</style>\n",
       "<table border=\"1\" class=\"dataframe\">\n",
       "  <thead>\n",
       "    <tr style=\"text-align: right;\">\n",
       "      <th></th>\n",
       "      <th>id</th>\n",
       "      <th>est_diameter_min</th>\n",
       "      <th>est_diameter_max</th>\n",
       "      <th>relative_velocity</th>\n",
       "      <th>miss_distance</th>\n",
       "      <th>sentry_object</th>\n",
       "      <th>absolute_magnitude</th>\n",
       "      <th>hazardous</th>\n",
       "    </tr>\n",
       "  </thead>\n",
       "  <tbody>\n",
       "    <tr>\n",
       "      <th>0</th>\n",
       "      <td>2162635</td>\n",
       "      <td>1.198271</td>\n",
       "      <td>2.679415</td>\n",
       "      <td>13569.249224</td>\n",
       "      <td>5.483974e+07</td>\n",
       "      <td>False</td>\n",
       "      <td>16.73</td>\n",
       "      <td>False</td>\n",
       "    </tr>\n",
       "    <tr>\n",
       "      <th>1</th>\n",
       "      <td>2277475</td>\n",
       "      <td>0.265800</td>\n",
       "      <td>0.594347</td>\n",
       "      <td>73588.726663</td>\n",
       "      <td>6.143813e+07</td>\n",
       "      <td>False</td>\n",
       "      <td>20.00</td>\n",
       "      <td>True</td>\n",
       "    </tr>\n",
       "    <tr>\n",
       "      <th>2</th>\n",
       "      <td>2512244</td>\n",
       "      <td>0.722030</td>\n",
       "      <td>1.614507</td>\n",
       "      <td>114258.692129</td>\n",
       "      <td>4.979872e+07</td>\n",
       "      <td>False</td>\n",
       "      <td>17.83</td>\n",
       "      <td>False</td>\n",
       "    </tr>\n",
       "    <tr>\n",
       "      <th>3</th>\n",
       "      <td>3596030</td>\n",
       "      <td>0.096506</td>\n",
       "      <td>0.215794</td>\n",
       "      <td>24764.303138</td>\n",
       "      <td>2.543497e+07</td>\n",
       "      <td>False</td>\n",
       "      <td>22.20</td>\n",
       "      <td>False</td>\n",
       "    </tr>\n",
       "    <tr>\n",
       "      <th>4</th>\n",
       "      <td>3667127</td>\n",
       "      <td>0.255009</td>\n",
       "      <td>0.570217</td>\n",
       "      <td>42737.733765</td>\n",
       "      <td>4.627557e+07</td>\n",
       "      <td>False</td>\n",
       "      <td>20.09</td>\n",
       "      <td>True</td>\n",
       "    </tr>\n",
       "    <tr>\n",
       "      <th>...</th>\n",
       "      <td>...</td>\n",
       "      <td>...</td>\n",
       "      <td>...</td>\n",
       "      <td>...</td>\n",
       "      <td>...</td>\n",
       "      <td>...</td>\n",
       "      <td>...</td>\n",
       "      <td>...</td>\n",
       "    </tr>\n",
       "    <tr>\n",
       "      <th>90831</th>\n",
       "      <td>3763337</td>\n",
       "      <td>0.026580</td>\n",
       "      <td>0.059435</td>\n",
       "      <td>52078.886692</td>\n",
       "      <td>1.230039e+07</td>\n",
       "      <td>False</td>\n",
       "      <td>25.00</td>\n",
       "      <td>False</td>\n",
       "    </tr>\n",
       "    <tr>\n",
       "      <th>90832</th>\n",
       "      <td>3837603</td>\n",
       "      <td>0.016771</td>\n",
       "      <td>0.037501</td>\n",
       "      <td>46114.605073</td>\n",
       "      <td>5.432121e+07</td>\n",
       "      <td>False</td>\n",
       "      <td>26.00</td>\n",
       "      <td>False</td>\n",
       "    </tr>\n",
       "    <tr>\n",
       "      <th>90833</th>\n",
       "      <td>54017201</td>\n",
       "      <td>0.031956</td>\n",
       "      <td>0.071456</td>\n",
       "      <td>7566.807732</td>\n",
       "      <td>2.840077e+07</td>\n",
       "      <td>False</td>\n",
       "      <td>24.60</td>\n",
       "      <td>False</td>\n",
       "    </tr>\n",
       "    <tr>\n",
       "      <th>90834</th>\n",
       "      <td>54115824</td>\n",
       "      <td>0.007321</td>\n",
       "      <td>0.016370</td>\n",
       "      <td>69199.154484</td>\n",
       "      <td>6.869206e+07</td>\n",
       "      <td>False</td>\n",
       "      <td>27.80</td>\n",
       "      <td>False</td>\n",
       "    </tr>\n",
       "    <tr>\n",
       "      <th>90835</th>\n",
       "      <td>54205447</td>\n",
       "      <td>0.039862</td>\n",
       "      <td>0.089133</td>\n",
       "      <td>27024.455553</td>\n",
       "      <td>5.977213e+07</td>\n",
       "      <td>False</td>\n",
       "      <td>24.12</td>\n",
       "      <td>False</td>\n",
       "    </tr>\n",
       "  </tbody>\n",
       "</table>\n",
       "<p>90836 rows × 8 columns</p>\n",
       "</div>"
      ],
      "text/plain": [
       "             id  est_diameter_min  est_diameter_max  relative_velocity  \\\n",
       "0       2162635          1.198271          2.679415       13569.249224   \n",
       "1       2277475          0.265800          0.594347       73588.726663   \n",
       "2       2512244          0.722030          1.614507      114258.692129   \n",
       "3       3596030          0.096506          0.215794       24764.303138   \n",
       "4       3667127          0.255009          0.570217       42737.733765   \n",
       "...         ...               ...               ...                ...   \n",
       "90831   3763337          0.026580          0.059435       52078.886692   \n",
       "90832   3837603          0.016771          0.037501       46114.605073   \n",
       "90833  54017201          0.031956          0.071456        7566.807732   \n",
       "90834  54115824          0.007321          0.016370       69199.154484   \n",
       "90835  54205447          0.039862          0.089133       27024.455553   \n",
       "\n",
       "       miss_distance  sentry_object  absolute_magnitude  hazardous  \n",
       "0       5.483974e+07          False               16.73      False  \n",
       "1       6.143813e+07          False               20.00       True  \n",
       "2       4.979872e+07          False               17.83      False  \n",
       "3       2.543497e+07          False               22.20      False  \n",
       "4       4.627557e+07          False               20.09       True  \n",
       "...              ...            ...                 ...        ...  \n",
       "90831   1.230039e+07          False               25.00      False  \n",
       "90832   5.432121e+07          False               26.00      False  \n",
       "90833   2.840077e+07          False               24.60      False  \n",
       "90834   6.869206e+07          False               27.80      False  \n",
       "90835   5.977213e+07          False               24.12      False  \n",
       "\n",
       "[90836 rows x 8 columns]"
      ]
     },
     "execution_count": 36,
     "metadata": {},
     "output_type": "execute_result"
    }
   ],
   "source": [
    "df.select_dtypes(include =[\"float\", \"int\", \"bool\"])"
   ]
  },
  {
   "cell_type": "code",
   "execution_count": 37,
   "metadata": {},
   "outputs": [],
   "source": [
    "#for cl in df.select_dtypes(include =[\"float\", \"int\"]).columns:\n",
    " #   df.hist(column= cl)"
   ]
  },
  {
   "cell_type": "code",
   "execution_count": 38,
   "metadata": {},
   "outputs": [],
   "source": [
    "## These two columns are equal along all dataset -> They are not reliable features as predictors\n",
    "df = df.drop(columns=['sentry_object','orbiting_body','name','id', 'est_diameter_max'])\n",
    "df = df.drop_duplicates()\n",
    "df['hazardous'] = df['hazardous'].astype(int)"
   ]
  },
  {
   "cell_type": "code",
   "execution_count": 39,
   "metadata": {},
   "outputs": [
    {
     "data": {
      "text/plain": [
       "hazardous\n",
       "0    81996\n",
       "1     8833\n",
       "Name: count, dtype: int64"
      ]
     },
     "execution_count": 39,
     "metadata": {},
     "output_type": "execute_result"
    }
   ],
   "source": [
    "# Detected Imbalanced dataset\n",
    "df['hazardous'].value_counts()"
   ]
  },
  {
   "cell_type": "code",
   "execution_count": 40,
   "metadata": {},
   "outputs": [],
   "source": [
    "scaler = StandardScaler()\n",
    "Y = df['hazardous']\n",
    "df_scaled = pd.DataFrame(scaler.fit_transform(df), columns=df.columns)\n",
    "X = df_scaled.drop(columns='hazardous')"
   ]
  },
  {
   "cell_type": "code",
   "execution_count": 41,
   "metadata": {},
   "outputs": [],
   "source": [
    "def objective(trial):\n",
    "    X_train, X_test, Y_train, Y_test = train_test_split(X, Y, test_size=0.20, stratify = Y, random_state = 42)\n",
    "    train = xgb.DMatrix(X_train, Y_train)\n",
    "    test = xgb.DMatrix(X_test, Y_test)\n",
    "    \n",
    "    trial.set_user_attr('X_train', X_train)\n",
    "    trial.set_user_attr('X_test', X_test)\n",
    "    trial.set_user_attr('Y_train', Y_train)\n",
    "    trial.set_user_attr('Y_test', Y_test)\n",
    "\n",
    "    neg_count = (Y_train == 0).sum()\n",
    "    pos_count = (Y_train == 1).sum()\n",
    "    scale_pos_weight = neg_count / pos_count if pos_count > 0 else 1\n",
    "\n",
    "\n",
    "    param = {\n",
    "        \"verbosity\": 0,\n",
    "        \"objective\": \"binary:logistic\",\n",
    "        \"eval_metric\": \"auc\",\n",
    "        \"booster\": \"gbtree\",\n",
    "        \"lambda\": trial.suggest_float(\"lambda\", 1e-8, 1.0),\n",
    "        \"alpha\": trial.suggest_float(\"alpha\", 1e-8, 1.0),\n",
    "        \"max_depth\": trial.suggest_int(\"max_depth\", 1, 9),\n",
    "        \"eta\": trial.suggest_float(\"eta\", 1e-8, 1.0),\n",
    "        \"gamma\": trial.suggest_float(\"gamma\", 1e-8, 1.0),\n",
    "        \"grow_policy\": trial.suggest_categorical(\"grow_policy\", [\"depthwise\", \"lossguide\"]),\n",
    "        \"scale_pos_weight\": scale_pos_weight\n",
    "    }\n",
    "\n",
    "    # Add a callback for pruning.\n",
    "    pruning_callback = opt.integration.XGBoostPruningCallback(trial, \"validation-auc\")\n",
    "\n",
    "    # Best Model\n",
    "    bst = xgb.train(param, train, evals=[(test, \"validation\")])\n",
    "    trial.set_user_attr(\"model\", bst)\n",
    "    preds = bst.predict(test)\n",
    "    pred_labels = np.rint(preds)\n",
    "    auc = roc_auc_score(Y_test, pred_labels)\n",
    "    return auc"
   ]
  },
  {
   "cell_type": "code",
   "execution_count": 42,
   "metadata": {},
   "outputs": [
    {
     "name": "stderr",
     "output_type": "stream",
     "text": [
      "[I 2024-12-24 11:02:27,491] A new study created in memory with name: no-name-800292e9-acb7-4bcd-ab83-de13df870f52\n"
     ]
    },
    {
     "name": "stdout",
     "output_type": "stream",
     "text": [
      "[0]\tvalidation-auc:0.91057\n",
      "[1]\tvalidation-auc:0.91221\n",
      "[2]\tvalidation-auc:0.91324\n",
      "[3]\tvalidation-auc:0.91338\n",
      "[4]\tvalidation-auc:0.91411\n",
      "[5]\tvalidation-auc:0.91516\n",
      "[6]\tvalidation-auc:0.91526\n",
      "[7]\tvalidation-auc:0.91537\n",
      "[8]\tvalidation-auc:0.91613\n",
      "[9]\tvalidation-auc:0.91603\n"
     ]
    },
    {
     "name": "stderr",
     "output_type": "stream",
     "text": [
      "[I 2024-12-24 11:02:27,592] Trial 0 finished with value: 0.8774235271085208 and parameters: {'lambda': 0.5398228476848984, 'alpha': 0.1386825444794546, 'max_depth': 9, 'eta': 0.23827385524216274, 'gamma': 0.18532251737294844, 'grow_policy': 'depthwise'}. Best is trial 0 with value: 0.8774235271085208.\n"
     ]
    },
    {
     "name": "stdout",
     "output_type": "stream",
     "text": [
      "[0]\tvalidation-auc:0.90682\n",
      "[1]\tvalidation-auc:0.91276\n",
      "[2]\tvalidation-auc:0.91359\n",
      "[3]\tvalidation-auc:0.91408\n",
      "[4]\tvalidation-auc:0.91438\n",
      "[5]\tvalidation-auc:0.91524\n",
      "[6]\tvalidation-auc:0.91570\n",
      "[7]\tvalidation-auc:0.91556\n",
      "[8]\tvalidation-auc:0.91553\n",
      "[9]\tvalidation-auc:0.91819\n"
     ]
    },
    {
     "name": "stderr",
     "output_type": "stream",
     "text": [
      "[I 2024-12-24 11:02:27,680] Trial 1 finished with value: 0.8766441685040701 and parameters: {'lambda': 0.8739326245624404, 'alpha': 0.9010266231405415, 'max_depth': 5, 'eta': 0.8047242373545667, 'gamma': 0.11864256895487309, 'grow_policy': 'depthwise'}. Best is trial 0 with value: 0.8774235271085208.\n"
     ]
    },
    {
     "name": "stdout",
     "output_type": "stream",
     "text": [
      "[0]\tvalidation-auc:0.90682\n",
      "[1]\tvalidation-auc:0.91261\n",
      "[2]\tvalidation-auc:0.91380\n",
      "[3]\tvalidation-auc:0.91397\n",
      "[4]\tvalidation-auc:0.91417\n",
      "[5]\tvalidation-auc:0.91416\n",
      "[6]\tvalidation-auc:0.91476\n",
      "[7]\tvalidation-auc:0.91498\n",
      "[8]\tvalidation-auc:0.91532\n",
      "[9]\tvalidation-auc:0.91509\n"
     ]
    },
    {
     "name": "stderr",
     "output_type": "stream",
     "text": [
      "[I 2024-12-24 11:02:27,776] Trial 2 finished with value: 0.8747682518082509 and parameters: {'lambda': 0.9086043651176463, 'alpha': 0.7730087875249179, 'max_depth': 5, 'eta': 0.8606077459746414, 'gamma': 0.8529739565787992, 'grow_policy': 'lossguide'}. Best is trial 0 with value: 0.8774235271085208.\n"
     ]
    },
    {
     "name": "stdout",
     "output_type": "stream",
     "text": [
      "[0]\tvalidation-auc:0.90766\n",
      "[1]\tvalidation-auc:0.91152\n",
      "[2]\tvalidation-auc:0.91166\n",
      "[3]\tvalidation-auc:0.91322\n",
      "[4]\tvalidation-auc:0.91420\n",
      "[5]\tvalidation-auc:0.91445\n",
      "[6]\tvalidation-auc:0.91480\n",
      "[7]\tvalidation-auc:0.91406\n",
      "[8]\tvalidation-auc:0.91465\n",
      "[9]\tvalidation-auc:0.91477\n"
     ]
    },
    {
     "name": "stderr",
     "output_type": "stream",
     "text": [
      "[I 2024-12-24 11:02:27,871] Trial 3 finished with value: 0.8771528644771878 and parameters: {'lambda': 0.05941034823288504, 'alpha': 0.038793232847074435, 'max_depth': 6, 'eta': 0.33316919707224285, 'gamma': 0.38048086171711154, 'grow_policy': 'depthwise'}. Best is trial 0 with value: 0.8774235271085208.\n"
     ]
    },
    {
     "name": "stdout",
     "output_type": "stream",
     "text": [
      "[0]\tvalidation-auc:0.90775\n",
      "[1]\tvalidation-auc:0.91160\n",
      "[2]\tvalidation-auc:0.91229\n",
      "[3]\tvalidation-auc:0.91336\n",
      "[4]\tvalidation-auc:0.91426\n",
      "[5]\tvalidation-auc:0.91360\n",
      "[6]\tvalidation-auc:0.91472\n",
      "[7]\tvalidation-auc:0.91541\n",
      "[8]\tvalidation-auc:0.91560\n",
      "[9]\tvalidation-auc:0.91573\n"
     ]
    },
    {
     "name": "stderr",
     "output_type": "stream",
     "text": [
      "[I 2024-12-24 11:02:27,964] Trial 4 finished with value: 0.8769003886629801 and parameters: {'lambda': 0.9470614867294569, 'alpha': 0.3129412152600667, 'max_depth': 6, 'eta': 0.45858231864597215, 'gamma': 0.09518271605649901, 'grow_policy': 'depthwise'}. Best is trial 0 with value: 0.8774235271085208.\n"
     ]
    },
    {
     "name": "stdout",
     "output_type": "stream",
     "text": [
      "[0]\tvalidation-auc:0.90943\n",
      "[1]\tvalidation-auc:0.90977\n",
      "[2]\tvalidation-auc:0.90970\n",
      "[3]\tvalidation-auc:0.90978\n",
      "[4]\tvalidation-auc:0.91157\n",
      "[5]\tvalidation-auc:0.91189\n",
      "[6]\tvalidation-auc:0.91250\n",
      "[7]\tvalidation-auc:0.91247\n",
      "[8]\tvalidation-auc:0.91253\n",
      "[9]\tvalidation-auc:0.91250\n"
     ]
    },
    {
     "name": "stderr",
     "output_type": "stream",
     "text": [
      "[I 2024-12-24 11:02:28,136] Trial 5 finished with value: 0.8778407540896267 and parameters: {'lambda': 0.09449918581154952, 'alpha': 0.44748066908826173, 'max_depth': 8, 'eta': 0.04125401570649334, 'gamma': 0.4539501764077267, 'grow_policy': 'lossguide'}. Best is trial 5 with value: 0.8778407540896267.\n"
     ]
    },
    {
     "name": "stdout",
     "output_type": "stream",
     "text": [
      "[0]\tvalidation-auc:0.89979\n",
      "[1]\tvalidation-auc:0.90498\n",
      "[2]\tvalidation-auc:0.90771\n",
      "[3]\tvalidation-auc:0.90947\n",
      "[4]\tvalidation-auc:0.91129\n",
      "[5]\tvalidation-auc:0.91196\n",
      "[6]\tvalidation-auc:0.91198\n",
      "[7]\tvalidation-auc:0.91257\n",
      "[8]\tvalidation-auc:0.91360\n",
      "[9]\tvalidation-auc:0.91419\n"
     ]
    },
    {
     "name": "stderr",
     "output_type": "stream",
     "text": [
      "[I 2024-12-24 11:02:28,216] Trial 6 finished with value: 0.8780006910990508 and parameters: {'lambda': 0.7615761122993835, 'alpha': 0.2503852034435169, 'max_depth': 3, 'eta': 0.6146072491761762, 'gamma': 0.8684084439853984, 'grow_policy': 'lossguide'}. Best is trial 6 with value: 0.8780006910990508.\n"
     ]
    },
    {
     "name": "stdout",
     "output_type": "stream",
     "text": [
      "[0]\tvalidation-auc:0.90957\n",
      "[1]\tvalidation-auc:0.90962\n",
      "[2]\tvalidation-auc:0.91103\n",
      "[3]\tvalidation-auc:0.91107\n",
      "[4]\tvalidation-auc:0.91147\n",
      "[5]\tvalidation-auc:0.91229\n",
      "[6]\tvalidation-auc:0.91242\n",
      "[7]\tvalidation-auc:0.91253\n",
      "[8]\tvalidation-auc:0.91276\n",
      "[9]\tvalidation-auc:0.91284\n"
     ]
    },
    {
     "name": "stderr",
     "output_type": "stream",
     "text": [
      "[I 2024-12-24 11:02:28,317] Trial 7 finished with value: 0.8783933123863993 and parameters: {'lambda': 0.49429896747124613, 'alpha': 0.440890592057632, 'max_depth': 7, 'eta': 0.08462781786284292, 'gamma': 0.9577632723860522, 'grow_policy': 'depthwise'}. Best is trial 7 with value: 0.8783933123863993.\n"
     ]
    },
    {
     "name": "stdout",
     "output_type": "stream",
     "text": [
      "[0]\tvalidation-auc:0.90774\n",
      "[1]\tvalidation-auc:0.91231\n",
      "[2]\tvalidation-auc:0.91293\n",
      "[3]\tvalidation-auc:0.91288\n",
      "[4]\tvalidation-auc:0.91299\n",
      "[5]\tvalidation-auc:0.91407\n",
      "[6]\tvalidation-auc:0.91494\n",
      "[7]\tvalidation-auc:0.91495\n",
      "[8]\tvalidation-auc:0.91488\n",
      "[9]\tvalidation-auc:0.91491\n"
     ]
    },
    {
     "name": "stderr",
     "output_type": "stream",
     "text": [
      "[I 2024-12-24 11:02:28,436] Trial 8 finished with value: 0.8782847263900344 and parameters: {'lambda': 0.24238797083775626, 'alpha': 0.2636877926377177, 'max_depth': 6, 'eta': 0.37045785338680937, 'gamma': 0.8647239390186324, 'grow_policy': 'lossguide'}. Best is trial 7 with value: 0.8783933123863993.\n"
     ]
    },
    {
     "name": "stdout",
     "output_type": "stream",
     "text": [
      "[0]\tvalidation-auc:0.89248\n",
      "[1]\tvalidation-auc:0.89874\n",
      "[2]\tvalidation-auc:0.90069\n",
      "[3]\tvalidation-auc:0.90406\n",
      "[4]\tvalidation-auc:0.90526\n",
      "[5]\tvalidation-auc:0.90668\n",
      "[6]\tvalidation-auc:0.91046\n",
      "[7]\tvalidation-auc:0.91047\n",
      "[8]\tvalidation-auc:0.91301\n",
      "[9]\tvalidation-auc:0.91296\n"
     ]
    },
    {
     "name": "stderr",
     "output_type": "stream",
     "text": [
      "[I 2024-12-24 11:02:28,534] Trial 9 finished with value: 0.8772689391629571 and parameters: {'lambda': 0.23301020529793853, 'alpha': 0.03674913981055097, 'max_depth': 2, 'eta': 0.6032561742980403, 'gamma': 0.07657236101458455, 'grow_policy': 'lossguide'}. Best is trial 7 with value: 0.8783933123863993.\n"
     ]
    },
    {
     "name": "stdout",
     "output_type": "stream",
     "text": [
      "[0]\tvalidation-auc:0.90967\n",
      "[1]\tvalidation-auc:0.90957\n",
      "[2]\tvalidation-auc:0.90969\n",
      "[3]\tvalidation-auc:0.90962\n",
      "[4]\tvalidation-auc:0.91133\n",
      "[5]\tvalidation-auc:0.91225\n",
      "[6]\tvalidation-auc:0.91239\n",
      "[7]\tvalidation-auc:0.91227\n",
      "[8]\tvalidation-auc:0.91233\n",
      "[9]\tvalidation-auc:0.91241\n"
     ]
    },
    {
     "name": "stderr",
     "output_type": "stream",
     "text": [
      "[I 2024-12-24 11:02:28,659] Trial 10 finished with value: 0.8779541542434659 and parameters: {'lambda': 0.5561714485684843, 'alpha': 0.6320409547377825, 'max_depth': 8, 'eta': 0.03815567575583626, 'gamma': 0.6474894767902655, 'grow_policy': 'depthwise'}. Best is trial 7 with value: 0.8783933123863993.\n"
     ]
    },
    {
     "name": "stdout",
     "output_type": "stream",
     "text": [
      "[0]\tvalidation-auc:0.90957\n",
      "[1]\tvalidation-auc:0.91137\n",
      "[2]\tvalidation-auc:0.91251\n",
      "[3]\tvalidation-auc:0.91250\n",
      "[4]\tvalidation-auc:0.91339\n",
      "[5]\tvalidation-auc:0.91348\n",
      "[6]\tvalidation-auc:0.91378\n",
      "[7]\tvalidation-auc:0.91426\n",
      "[8]\tvalidation-auc:0.91415\n",
      "[9]\tvalidation-auc:0.91438\n"
     ]
    },
    {
     "name": "stderr",
     "output_type": "stream",
     "text": [
      "[I 2024-12-24 11:02:28,804] Trial 11 finished with value: 0.8784676643740579 and parameters: {'lambda': 0.313036207336642, 'alpha': 0.44883236352367434, 'max_depth': 7, 'eta': 0.21937582249448306, 'gamma': 0.9947036392432221, 'grow_policy': 'lossguide'}. Best is trial 11 with value: 0.8784676643740579.\n"
     ]
    },
    {
     "name": "stdout",
     "output_type": "stream",
     "text": [
      "[0]\tvalidation-auc:0.90957\n",
      "[1]\tvalidation-auc:0.91135\n",
      "[2]\tvalidation-auc:0.91174\n",
      "[3]\tvalidation-auc:0.91272\n",
      "[4]\tvalidation-auc:0.91303\n",
      "[5]\tvalidation-auc:0.91305\n",
      "[6]\tvalidation-auc:0.91349\n",
      "[7]\tvalidation-auc:0.91411\n",
      "[8]\tvalidation-auc:0.91414\n",
      "[9]\tvalidation-auc:0.91401\n"
     ]
    },
    {
     "name": "stderr",
     "output_type": "stream",
     "text": [
      "[I 2024-12-24 11:02:28,959] Trial 12 finished with value: 0.8786982090264382 and parameters: {'lambda': 0.39354267918009306, 'alpha': 0.5195105142906442, 'max_depth': 7, 'eta': 0.16613515300109394, 'gamma': 0.9988592462321385, 'grow_policy': 'lossguide'}. Best is trial 12 with value: 0.8786982090264382.\n"
     ]
    },
    {
     "name": "stdout",
     "output_type": "stream",
     "text": [
      "[0]\tvalidation-auc:0.91063\n",
      "[1]\tvalidation-auc:0.91263\n",
      "[2]\tvalidation-auc:0.91364\n",
      "[3]\tvalidation-auc:0.91401\n",
      "[4]\tvalidation-auc:0.91449\n",
      "[5]\tvalidation-auc:0.91430\n",
      "[6]\tvalidation-auc:0.91566\n",
      "[7]\tvalidation-auc:0.91658\n",
      "[8]\tvalidation-auc:0.91675\n",
      "[9]\tvalidation-auc:0.91706\n"
     ]
    },
    {
     "name": "stderr",
     "output_type": "stream",
     "text": [
      "[I 2024-12-24 11:02:29,158] Trial 13 finished with value: 0.877654071760901 and parameters: {'lambda': 0.3640358239458398, 'alpha': 0.6210967559882685, 'max_depth': 9, 'eta': 0.22377777639896457, 'gamma': 0.6462119496095329, 'grow_policy': 'lossguide'}. Best is trial 12 with value: 0.8786982090264382.\n"
     ]
    },
    {
     "name": "stdout",
     "output_type": "stream",
     "text": [
      "[0]\tvalidation-auc:0.90378\n",
      "[1]\tvalidation-auc:0.90957\n",
      "[2]\tvalidation-auc:0.90909\n",
      "[3]\tvalidation-auc:0.91039\n",
      "[4]\tvalidation-auc:0.91067\n",
      "[5]\tvalidation-auc:0.91060\n",
      "[6]\tvalidation-auc:0.91044\n",
      "[7]\tvalidation-auc:0.91054\n",
      "[8]\tvalidation-auc:0.91307\n",
      "[9]\tvalidation-auc:0.91337\n"
     ]
    },
    {
     "name": "stderr",
     "output_type": "stream",
     "text": [
      "[I 2024-12-24 11:02:29,268] Trial 14 finished with value: 0.8771164908429376 and parameters: {'lambda': 0.38204937105376585, 'alpha': 0.6195494266230588, 'max_depth': 4, 'eta': 0.18970068193922635, 'gamma': 0.9978294775251874, 'grow_policy': 'lossguide'}. Best is trial 12 with value: 0.8786982090264382.\n"
     ]
    },
    {
     "name": "stdout",
     "output_type": "stream",
     "text": [
      "[0]\tvalidation-auc:0.90960\n",
      "[1]\tvalidation-auc:0.91321\n",
      "[2]\tvalidation-auc:0.91299\n",
      "[3]\tvalidation-auc:0.91276\n",
      "[4]\tvalidation-auc:0.91335\n",
      "[5]\tvalidation-auc:0.91424\n",
      "[6]\tvalidation-auc:0.91384\n",
      "[7]\tvalidation-auc:0.91427\n",
      "[8]\tvalidation-auc:0.91587\n",
      "[9]\tvalidation-auc:0.91711\n"
     ]
    },
    {
     "name": "stderr",
     "output_type": "stream",
     "text": [
      "[I 2024-12-24 11:02:29,410] Trial 15 finished with value: 0.8663311733813465 and parameters: {'lambda': 0.6669049970137024, 'alpha': 0.5013418673439088, 'max_depth': 7, 'eta': 0.986509577265946, 'gamma': 0.7014396901059248, 'grow_policy': 'lossguide'}. Best is trial 12 with value: 0.8786982090264382.\n"
     ]
    },
    {
     "name": "stdout",
     "output_type": "stream",
     "text": [
      "[0]\tvalidation-auc:0.87094\n",
      "[1]\tvalidation-auc:0.87238\n",
      "[2]\tvalidation-auc:0.87361\n",
      "[3]\tvalidation-auc:0.87361\n",
      "[4]\tvalidation-auc:0.87361\n",
      "[5]\tvalidation-auc:0.87361\n",
      "[6]\tvalidation-auc:0.87361\n",
      "[7]\tvalidation-auc:0.87361\n",
      "[8]\tvalidation-auc:0.87361\n",
      "[9]\tvalidation-auc:0.87361\n"
     ]
    },
    {
     "name": "stderr",
     "output_type": "stream",
     "text": [
      "[I 2024-12-24 11:02:29,515] Trial 16 finished with value: 0.8709393918970242 and parameters: {'lambda': 0.22351312239732593, 'alpha': 0.9994296172643942, 'max_depth': 1, 'eta': 0.15134892396341645, 'gamma': 0.7612998767165413, 'grow_policy': 'lossguide'}. Best is trial 12 with value: 0.8786982090264382.\n"
     ]
    },
    {
     "name": "stdout",
     "output_type": "stream",
     "text": [
      "[0]\tvalidation-auc:0.90968\n",
      "[1]\tvalidation-auc:0.91104\n",
      "[2]\tvalidation-auc:0.91336\n",
      "[3]\tvalidation-auc:0.91389\n",
      "[4]\tvalidation-auc:0.91412\n",
      "[5]\tvalidation-auc:0.91491\n",
      "[6]\tvalidation-auc:0.91538\n",
      "[7]\tvalidation-auc:0.91613\n",
      "[8]\tvalidation-auc:0.91601\n",
      "[9]\tvalidation-auc:0.91664\n"
     ]
    },
    {
     "name": "stderr",
     "output_type": "stream",
     "text": [
      "[I 2024-12-24 11:02:29,648] Trial 17 finished with value: 0.8770223473189958 and parameters: {'lambda': 0.4190440422539099, 'alpha': 0.3691141192823989, 'max_depth': 7, 'eta': 0.3153939832055339, 'gamma': 0.2925757947895342, 'grow_policy': 'lossguide'}. Best is trial 12 with value: 0.8786982090264382.\n"
     ]
    },
    {
     "name": "stdout",
     "output_type": "stream",
     "text": [
      "[0]\tvalidation-auc:0.90959\n",
      "[1]\tvalidation-auc:0.91213\n",
      "[2]\tvalidation-auc:0.91398\n",
      "[3]\tvalidation-auc:0.91520\n",
      "[4]\tvalidation-auc:0.91578\n",
      "[5]\tvalidation-auc:0.91705\n",
      "[6]\tvalidation-auc:0.91762\n",
      "[7]\tvalidation-auc:0.91838\n",
      "[8]\tvalidation-auc:0.91833\n",
      "[9]\tvalidation-auc:0.91776\n"
     ]
    },
    {
     "name": "stderr",
     "output_type": "stream",
     "text": [
      "[I 2024-12-24 11:02:29,807] Trial 18 finished with value: 0.8752523420876113 and parameters: {'lambda': 0.30464189257311375, 'alpha': 0.7539463676069249, 'max_depth': 8, 'eta': 0.4776737754690507, 'gamma': 0.6003641112438005, 'grow_policy': 'lossguide'}. Best is trial 12 with value: 0.8786982090264382.\n"
     ]
    },
    {
     "name": "stdout",
     "output_type": "stream",
     "text": [
      "[0]\tvalidation-auc:0.90376\n",
      "[1]\tvalidation-auc:0.91007\n",
      "[2]\tvalidation-auc:0.90924\n",
      "[3]\tvalidation-auc:0.91135\n",
      "[4]\tvalidation-auc:0.91226\n",
      "[5]\tvalidation-auc:0.91354\n",
      "[6]\tvalidation-auc:0.91361\n",
      "[7]\tvalidation-auc:0.91383\n",
      "[8]\tvalidation-auc:0.91415\n",
      "[9]\tvalidation-auc:0.91473\n"
     ]
    },
    {
     "name": "stderr",
     "output_type": "stream",
     "text": [
      "[I 2024-12-24 11:02:29,917] Trial 19 finished with value: 0.8777920776084978 and parameters: {'lambda': 0.15767404506453775, 'alpha': 0.5304511487480479, 'max_depth': 4, 'eta': 0.5816483079430997, 'gamma': 0.7823920959681094, 'grow_policy': 'lossguide'}. Best is trial 12 with value: 0.8786982090264382.\n"
     ]
    },
    {
     "name": "stdout",
     "output_type": "stream",
     "text": [
      "[0]\tvalidation-auc:0.90682\n",
      "[1]\tvalidation-auc:0.90890\n",
      "[2]\tvalidation-auc:0.90935\n",
      "[3]\tvalidation-auc:0.91047\n",
      "[4]\tvalidation-auc:0.91140\n",
      "[5]\tvalidation-auc:0.91146\n",
      "[6]\tvalidation-auc:0.91082\n",
      "[7]\tvalidation-auc:0.91157\n",
      "[8]\tvalidation-auc:0.91228\n",
      "[9]\tvalidation-auc:0.91216\n"
     ]
    },
    {
     "name": "stderr",
     "output_type": "stream",
     "text": [
      "[I 2024-12-24 11:02:30,037] Trial 20 finished with value: 0.8782750980750857 and parameters: {'lambda': 0.6547575222215691, 'alpha': 0.7392418669227112, 'max_depth': 5, 'eta': 0.12600111875635728, 'gamma': 0.5458643852801488, 'grow_policy': 'lossguide'}. Best is trial 12 with value: 0.8786982090264382.\n"
     ]
    },
    {
     "name": "stdout",
     "output_type": "stream",
     "text": [
      "[0]\tvalidation-auc:0.90957\n",
      "[1]\tvalidation-auc:0.90962\n",
      "[2]\tvalidation-auc:0.90962\n",
      "[3]\tvalidation-auc:0.90963\n",
      "[4]\tvalidation-auc:0.90964\n",
      "[5]\tvalidation-auc:0.90966\n",
      "[6]\tvalidation-auc:0.90965\n",
      "[7]\tvalidation-auc:0.90972\n",
      "[8]\tvalidation-auc:0.90972\n",
      "[9]\tvalidation-auc:0.90965\n"
     ]
    },
    {
     "name": "stderr",
     "output_type": "stream",
     "text": [
      "[I 2024-12-24 11:02:30,163] Trial 21 finished with value: 0.8780055052565251 and parameters: {'lambda': 0.4762138371566751, 'alpha': 0.42592976376307695, 'max_depth': 7, 'eta': 0.006168202282126889, 'gamma': 0.996558552965295, 'grow_policy': 'depthwise'}. Best is trial 12 with value: 0.8786982090264382.\n"
     ]
    },
    {
     "name": "stdout",
     "output_type": "stream",
     "text": [
      "[0]\tvalidation-auc:0.90956\n",
      "[1]\tvalidation-auc:0.90958\n",
      "[2]\tvalidation-auc:0.91111\n",
      "[3]\tvalidation-auc:0.91173\n",
      "[4]\tvalidation-auc:0.91238\n",
      "[5]\tvalidation-auc:0.91253\n",
      "[6]\tvalidation-auc:0.91272\n",
      "[7]\tvalidation-auc:0.91279\n",
      "[8]\tvalidation-auc:0.91283\n",
      "[9]\tvalidation-auc:0.91334\n"
     ]
    },
    {
     "name": "stderr",
     "output_type": "stream",
     "text": [
      "[I 2024-12-24 11:02:30,282] Trial 22 finished with value: 0.87859818153225 and parameters: {'lambda': 0.4648285926974961, 'alpha': 0.5321698145783063, 'max_depth': 7, 'eta': 0.106851174492543, 'gamma': 0.9308438740451204, 'grow_policy': 'depthwise'}. Best is trial 12 with value: 0.8786982090264382.\n"
     ]
    },
    {
     "name": "stdout",
     "output_type": "stream",
     "text": [
      "[0]\tvalidation-auc:0.90977\n",
      "[1]\tvalidation-auc:0.91254\n",
      "[2]\tvalidation-auc:0.91443\n",
      "[3]\tvalidation-auc:0.91442\n",
      "[4]\tvalidation-auc:0.91581\n",
      "[5]\tvalidation-auc:0.91601\n",
      "[6]\tvalidation-auc:0.91651\n",
      "[7]\tvalidation-auc:0.91695\n",
      "[8]\tvalidation-auc:0.91658\n",
      "[9]\tvalidation-auc:0.91687\n"
     ]
    },
    {
     "name": "stderr",
     "output_type": "stream",
     "text": [
      "[I 2024-12-24 11:02:30,418] Trial 23 finished with value: 0.8767441959982584 and parameters: {'lambda': 0.6251128078933975, 'alpha': 0.5527843472471267, 'max_depth': 8, 'eta': 0.2900202453617343, 'gamma': 0.9091603511975537, 'grow_policy': 'depthwise'}. Best is trial 12 with value: 0.8786982090264382.\n"
     ]
    },
    {
     "name": "stdout",
     "output_type": "stream",
     "text": [
      "[0]\tvalidation-auc:0.90759\n",
      "[1]\tvalidation-auc:0.91187\n",
      "[2]\tvalidation-auc:0.91228\n",
      "[3]\tvalidation-auc:0.91198\n",
      "[4]\tvalidation-auc:0.91296\n",
      "[5]\tvalidation-auc:0.91376\n",
      "[6]\tvalidation-auc:0.91420\n",
      "[7]\tvalidation-auc:0.91430\n",
      "[8]\tvalidation-auc:0.91423\n",
      "[9]\tvalidation-auc:0.91525\n"
     ]
    },
    {
     "name": "stderr",
     "output_type": "stream",
     "text": [
      "[I 2024-12-24 11:02:30,526] Trial 24 finished with value: 0.8765088371884037 and parameters: {'lambda': 0.3441720542681848, 'alpha': 0.3666424307061851, 'max_depth': 6, 'eta': 0.41050272388465747, 'gamma': 0.7835144279228209, 'grow_policy': 'depthwise'}. Best is trial 12 with value: 0.8786982090264382.\n"
     ]
    },
    {
     "name": "stdout",
     "output_type": "stream",
     "text": [
      "[0]\tvalidation-auc:0.91063\n",
      "[1]\tvalidation-auc:0.91239\n",
      "[2]\tvalidation-auc:0.91330\n",
      "[3]\tvalidation-auc:0.91360\n",
      "[4]\tvalidation-auc:0.91406\n",
      "[5]\tvalidation-auc:0.91473\n",
      "[6]\tvalidation-auc:0.91491\n",
      "[7]\tvalidation-auc:0.91510\n",
      "[8]\tvalidation-auc:0.91539\n",
      "[9]\tvalidation-auc:0.91632\n"
     ]
    },
    {
     "name": "stderr",
     "output_type": "stream",
     "text": [
      "[I 2024-12-24 11:02:30,678] Trial 25 finished with value: 0.8777540992550894 and parameters: {'lambda': 0.2965709836839372, 'alpha': 0.6619454621276026, 'max_depth': 9, 'eta': 0.1369606050114757, 'gamma': 0.9270140902449218, 'grow_policy': 'lossguide'}. Best is trial 12 with value: 0.8786982090264382.\n"
     ]
    },
    {
     "name": "stdout",
     "output_type": "stream",
     "text": [
      "[0]\tvalidation-auc:0.90972\n",
      "[1]\tvalidation-auc:0.91136\n",
      "[2]\tvalidation-auc:0.91237\n",
      "[3]\tvalidation-auc:0.91242\n",
      "[4]\tvalidation-auc:0.91294\n",
      "[5]\tvalidation-auc:0.91284\n",
      "[6]\tvalidation-auc:0.91329\n",
      "[7]\tvalidation-auc:0.91353\n",
      "[8]\tvalidation-auc:0.91400\n",
      "[9]\tvalidation-auc:0.91451\n"
     ]
    },
    {
     "name": "stderr",
     "output_type": "stream",
     "text": [
      "[I 2024-12-24 11:02:30,796] Trial 26 finished with value: 0.8788116091802773 and parameters: {'lambda': 0.4447131281596533, 'alpha': 0.14839076112450217, 'max_depth': 7, 'eta': 0.2528017887490327, 'gamma': 0.7979738227253611, 'grow_policy': 'depthwise'}. Best is trial 26 with value: 0.8788116091802773.\n"
     ]
    },
    {
     "name": "stdout",
     "output_type": "stream",
     "text": [
      "[0]\tvalidation-auc:0.90771\n",
      "[1]\tvalidation-auc:0.91188\n",
      "[2]\tvalidation-auc:0.91381\n",
      "[3]\tvalidation-auc:0.91402\n",
      "[4]\tvalidation-auc:0.91489\n",
      "[5]\tvalidation-auc:0.91457\n",
      "[6]\tvalidation-auc:0.91524\n",
      "[7]\tvalidation-auc:0.91541\n",
      "[8]\tvalidation-auc:0.91560\n",
      "[9]\tvalidation-auc:0.91561\n"
     ]
    },
    {
     "name": "stderr",
     "output_type": "stream",
     "text": [
      "[I 2024-12-24 11:02:30,905] Trial 27 finished with value: 0.8781408365721916 and parameters: {'lambda': 0.4550901410874521, 'alpha': 0.16939108138706205, 'max_depth': 6, 'eta': 0.26358014223336923, 'gamma': 0.7890595390777788, 'grow_policy': 'depthwise'}. Best is trial 26 with value: 0.8788116091802773.\n"
     ]
    },
    {
     "name": "stdout",
     "output_type": "stream",
     "text": [
      "[0]\tvalidation-auc:0.90378\n",
      "[1]\tvalidation-auc:0.90720\n",
      "[2]\tvalidation-auc:0.90973\n",
      "[3]\tvalidation-auc:0.90996\n",
      "[4]\tvalidation-auc:0.90992\n",
      "[5]\tvalidation-auc:0.91055\n",
      "[6]\tvalidation-auc:0.91051\n",
      "[7]\tvalidation-auc:0.91063\n",
      "[8]\tvalidation-auc:0.91067\n",
      "[9]\tvalidation-auc:0.91072\n"
     ]
    },
    {
     "name": "stderr",
     "output_type": "stream",
     "text": [
      "[I 2024-12-24 11:02:31,004] Trial 28 finished with value: 0.876689635546883 and parameters: {'lambda': 0.7536568063616454, 'alpha': 0.17289845074892274, 'max_depth': 4, 'eta': 0.09765414734670012, 'gamma': 0.7053436628047947, 'grow_policy': 'depthwise'}. Best is trial 26 with value: 0.8788116091802773.\n"
     ]
    },
    {
     "name": "stdout",
     "output_type": "stream",
     "text": [
      "[0]\tvalidation-auc:0.91048\n",
      "[1]\tvalidation-auc:0.91260\n",
      "[2]\tvalidation-auc:0.91358\n",
      "[3]\tvalidation-auc:0.91493\n",
      "[4]\tvalidation-auc:0.91535\n",
      "[5]\tvalidation-auc:0.91567\n",
      "[6]\tvalidation-auc:0.91575\n",
      "[7]\tvalidation-auc:0.91708\n",
      "[8]\tvalidation-auc:0.91726\n",
      "[9]\tvalidation-auc:0.91735\n"
     ]
    },
    {
     "name": "stderr",
     "output_type": "stream",
     "text": [
      "[I 2024-12-24 11:02:31,124] Trial 29 finished with value: 0.878019947728948 and parameters: {'lambda': 0.5564494717092593, 'alpha': 0.10302699821290445, 'max_depth': 9, 'eta': 0.1967663921507843, 'gamma': 0.8686572465605183, 'grow_policy': 'depthwise'}. Best is trial 26 with value: 0.8788116091802773.\n"
     ]
    },
    {
     "name": "stdout",
     "output_type": "stream",
     "text": [
      "[0]\tvalidation-auc:0.90965\n",
      "[1]\tvalidation-auc:0.91228\n",
      "[2]\tvalidation-auc:0.91353\n",
      "[3]\tvalidation-auc:0.91414\n",
      "[4]\tvalidation-auc:0.91432\n",
      "[5]\tvalidation-auc:0.91611\n",
      "[6]\tvalidation-auc:0.91698\n",
      "[7]\tvalidation-auc:0.91661\n",
      "[8]\tvalidation-auc:0.91768\n",
      "[9]\tvalidation-auc:0.91802\n"
     ]
    },
    {
     "name": "stderr",
     "output_type": "stream",
     "text": [
      "[I 2024-12-24 11:02:31,226] Trial 30 finished with value: 0.8763708313408071 and parameters: {'lambda': 0.5831622341682675, 'alpha': 0.5584956180774135, 'max_depth': 8, 'eta': 0.3951647337056827, 'gamma': 0.0011576159634490435, 'grow_policy': 'depthwise'}. Best is trial 26 with value: 0.8788116091802773.\n"
     ]
    },
    {
     "name": "stdout",
     "output_type": "stream",
     "text": [
      "[0]\tvalidation-auc:0.90958\n",
      "[1]\tvalidation-auc:0.91119\n",
      "[2]\tvalidation-auc:0.91235\n",
      "[3]\tvalidation-auc:0.91238\n",
      "[4]\tvalidation-auc:0.91317\n",
      "[5]\tvalidation-auc:0.91344\n",
      "[6]\tvalidation-auc:0.91399\n",
      "[7]\tvalidation-auc:0.91391\n",
      "[8]\tvalidation-auc:0.91440\n",
      "[9]\tvalidation-auc:0.91465\n"
     ]
    },
    {
     "name": "stderr",
     "output_type": "stream",
     "text": [
      "[I 2024-12-24 11:02:31,337] Trial 31 finished with value: 0.8783676368798696 and parameters: {'lambda': 0.4300906635134863, 'alpha': 0.3552248119559414, 'max_depth': 7, 'eta': 0.24198089965743952, 'gamma': 0.936350539688693, 'grow_policy': 'depthwise'}. Best is trial 26 with value: 0.8788116091802773.\n"
     ]
    },
    {
     "name": "stdout",
     "output_type": "stream",
     "text": [
      "[0]\tvalidation-auc:0.90956\n",
      "[1]\tvalidation-auc:0.91134\n",
      "[2]\tvalidation-auc:0.91229\n",
      "[3]\tvalidation-auc:0.91251\n",
      "[4]\tvalidation-auc:0.91271\n",
      "[5]\tvalidation-auc:0.91272\n",
      "[6]\tvalidation-auc:0.91335\n",
      "[7]\tvalidation-auc:0.91366\n",
      "[8]\tvalidation-auc:0.91382\n",
      "[9]\tvalidation-auc:0.91372\n"
     ]
    },
    {
     "name": "stderr",
     "output_type": "stream",
     "text": [
      "[I 2024-12-24 11:02:31,460] Trial 32 finished with value: 0.8779017334176346 and parameters: {'lambda': 0.15387772877872063, 'alpha': 0.7006845948306896, 'max_depth': 7, 'eta': 0.1748095125801275, 'gamma': 0.9997536423937265, 'grow_policy': 'depthwise'}. Best is trial 26 with value: 0.8788116091802773.\n"
     ]
    },
    {
     "name": "stdout",
     "output_type": "stream",
     "text": [
      "[0]\tvalidation-auc:0.90763\n",
      "[1]\tvalidation-auc:0.90762\n",
      "[2]\tvalidation-auc:0.91170\n",
      "[3]\tvalidation-auc:0.91167\n",
      "[4]\tvalidation-auc:0.91170\n",
      "[5]\tvalidation-auc:0.91208\n",
      "[6]\tvalidation-auc:0.91215\n",
      "[7]\tvalidation-auc:0.91215\n",
      "[8]\tvalidation-auc:0.91221\n",
      "[9]\tvalidation-auc:0.91237\n"
     ]
    },
    {
     "name": "stderr",
     "output_type": "stream",
     "text": [
      "[I 2024-12-24 11:02:31,571] Trial 33 finished with value: 0.8784238020504032 and parameters: {'lambda': 0.5123345682167747, 'alpha': 0.4733160660707839, 'max_depth': 6, 'eta': 0.0682407546116619, 'gamma': 0.8262955207292736, 'grow_policy': 'depthwise'}. Best is trial 26 with value: 0.8788116091802773.\n"
     ]
    },
    {
     "name": "stdout",
     "output_type": "stream",
     "text": [
      "[0]\tvalidation-auc:0.90681\n",
      "[1]\tvalidation-auc:0.91033\n",
      "[2]\tvalidation-auc:0.91192\n",
      "[3]\tvalidation-auc:0.91270\n",
      "[4]\tvalidation-auc:0.91255\n",
      "[5]\tvalidation-auc:0.91456\n",
      "[6]\tvalidation-auc:0.91498\n",
      "[7]\tvalidation-auc:0.91709\n",
      "[8]\tvalidation-auc:0.91712\n",
      "[9]\tvalidation-auc:0.91754\n"
     ]
    },
    {
     "name": "stderr",
     "output_type": "stream",
     "text": [
      "[I 2024-12-24 11:02:31,681] Trial 34 finished with value: 0.8772272164648465 and parameters: {'lambda': 0.3038926335591106, 'alpha': 0.2319369683395267, 'max_depth': 5, 'eta': 0.7054096999651515, 'gamma': 0.9151404875999712, 'grow_policy': 'lossguide'}. Best is trial 26 with value: 0.8788116091802773.\n"
     ]
    },
    {
     "name": "stdout",
     "output_type": "stream",
     "text": [
      "[0]\tvalidation-auc:0.90977\n",
      "[1]\tvalidation-auc:0.91272\n",
      "[2]\tvalidation-auc:0.91405\n",
      "[3]\tvalidation-auc:0.91443\n",
      "[4]\tvalidation-auc:0.91492\n",
      "[5]\tvalidation-auc:0.91536\n",
      "[6]\tvalidation-auc:0.91563\n",
      "[7]\tvalidation-auc:0.91587\n",
      "[8]\tvalidation-auc:0.91723\n",
      "[9]\tvalidation-auc:0.91704\n"
     ]
    },
    {
     "name": "stderr",
     "output_type": "stream",
     "text": [
      "[I 2024-12-24 11:02:31,815] Trial 35 finished with value: 0.8784334303653517 and parameters: {'lambda': 0.4135123354416107, 'alpha': 0.8272713585561312, 'max_depth': 8, 'eta': 0.3254517152806052, 'gamma': 0.8271924434088733, 'grow_policy': 'depthwise'}. Best is trial 26 with value: 0.8788116091802773.\n"
     ]
    },
    {
     "name": "stdout",
     "output_type": "stream",
     "text": [
      "[0]\tvalidation-auc:0.90957\n",
      "[1]\tvalidation-auc:0.91133\n",
      "[2]\tvalidation-auc:0.91245\n",
      "[3]\tvalidation-auc:0.91243\n",
      "[4]\tvalidation-auc:0.91324\n",
      "[5]\tvalidation-auc:0.91330\n",
      "[6]\tvalidation-auc:0.91324\n",
      "[7]\tvalidation-auc:0.91411\n",
      "[8]\tvalidation-auc:0.91433\n",
      "[9]\tvalidation-auc:0.91467\n"
     ]
    },
    {
     "name": "stderr",
     "output_type": "stream",
     "text": [
      "[I 2024-12-24 11:02:32,074] Trial 36 finished with value: 0.8783590783776931 and parameters: {'lambda': 0.34763195992652923, 'alpha': 0.5745775078735926, 'max_depth': 7, 'eta': 0.2468321841432647, 'gamma': 0.9499400538796732, 'grow_policy': 'lossguide'}. Best is trial 26 with value: 0.8788116091802773.\n"
     ]
    },
    {
     "name": "stdout",
     "output_type": "stream",
     "text": [
      "[0]\tvalidation-auc:0.90771\n",
      "[1]\tvalidation-auc:0.90773\n",
      "[2]\tvalidation-auc:0.90772\n",
      "[3]\tvalidation-auc:0.90773\n",
      "[4]\tvalidation-auc:0.90771\n",
      "[5]\tvalidation-auc:0.90773\n",
      "[6]\tvalidation-auc:0.90771\n",
      "[7]\tvalidation-auc:0.90773\n",
      "[8]\tvalidation-auc:0.90771\n",
      "[9]\tvalidation-auc:0.90773\n"
     ]
    },
    {
     "name": "stderr",
     "output_type": "stream",
     "text": [
      "[I 2024-12-24 11:02:32,194] Trial 37 finished with value: 0.8781274639125407 and parameters: {'lambda': 0.0196009159590399, 'alpha': 0.8248011120138158, 'max_depth': 6, 'eta': 0.005900114608791557, 'gamma': 0.3096341129556556, 'grow_policy': 'depthwise'}. Best is trial 26 with value: 0.8788116091802773.\n"
     ]
    },
    {
     "name": "stdout",
     "output_type": "stream",
     "text": [
      "[0]\tvalidation-auc:0.90965\n",
      "[1]\tvalidation-auc:0.90974\n",
      "[2]\tvalidation-auc:0.91167\n",
      "[3]\tvalidation-auc:0.91211\n",
      "[4]\tvalidation-auc:0.91239\n",
      "[5]\tvalidation-auc:0.91399\n",
      "[6]\tvalidation-auc:0.91395\n",
      "[7]\tvalidation-auc:0.91406\n",
      "[8]\tvalidation-auc:0.91410\n",
      "[9]\tvalidation-auc:0.91500\n"
     ]
    },
    {
     "name": "stderr",
     "output_type": "stream",
     "text": [
      "[I 2024-12-24 11:02:32,373] Trial 38 finished with value: 0.8772357749670231 and parameters: {'lambda': 0.7384133771256196, 'alpha': 0.30309670286284135, 'max_depth': 8, 'eta': 0.12559004220950265, 'gamma': 0.7323700486815775, 'grow_policy': 'lossguide'}. Best is trial 26 with value: 0.8788116091802773.\n"
     ]
    },
    {
     "name": "stdout",
     "output_type": "stream",
     "text": [
      "[0]\tvalidation-auc:0.90681\n",
      "[1]\tvalidation-auc:0.91107\n",
      "[2]\tvalidation-auc:0.91210\n",
      "[3]\tvalidation-auc:0.91242\n",
      "[4]\tvalidation-auc:0.91297\n",
      "[5]\tvalidation-auc:0.91350\n",
      "[6]\tvalidation-auc:0.91406\n",
      "[7]\tvalidation-auc:0.91408\n",
      "[8]\tvalidation-auc:0.91399\n",
      "[9]\tvalidation-auc:0.91423\n"
     ]
    },
    {
     "name": "stderr",
     "output_type": "stream",
     "text": [
      "[I 2024-12-24 11:02:32,502] Trial 39 finished with value: 0.8783799397267484 and parameters: {'lambda': 0.5084259501783417, 'alpha': 0.003928934343442436, 'max_depth': 5, 'eta': 0.3639165717992614, 'gamma': 0.45794575801696263, 'grow_policy': 'depthwise'}. Best is trial 26 with value: 0.8788116091802773.\n"
     ]
    },
    {
     "name": "stdout",
     "output_type": "stream",
     "text": [
      "[0]\tvalidation-auc:0.91066\n",
      "[1]\tvalidation-auc:0.91272\n",
      "[2]\tvalidation-auc:0.91545\n",
      "[3]\tvalidation-auc:0.91687\n",
      "[4]\tvalidation-auc:0.91759\n",
      "[5]\tvalidation-auc:0.91777\n",
      "[6]\tvalidation-auc:0.91899\n",
      "[7]\tvalidation-auc:0.91867\n",
      "[8]\tvalidation-auc:0.91874\n",
      "[9]\tvalidation-auc:0.91799\n"
     ]
    },
    {
     "name": "stderr",
     "output_type": "stream",
     "text": [
      "[I 2024-12-24 11:02:32,706] Trial 40 finished with value: 0.8687863936932397 and parameters: {'lambda': 0.601109998913901, 'alpha': 0.4112101945056659, 'max_depth': 9, 'eta': 0.5607104365135811, 'gamma': 0.8830138803412402, 'grow_policy': 'lossguide'}. Best is trial 26 with value: 0.8788116091802773.\n"
     ]
    },
    {
     "name": "stdout",
     "output_type": "stream",
     "text": [
      "[0]\tvalidation-auc:0.90977\n",
      "[1]\tvalidation-auc:0.91254\n",
      "[2]\tvalidation-auc:0.91404\n",
      "[3]\tvalidation-auc:0.91458\n",
      "[4]\tvalidation-auc:0.91528\n",
      "[5]\tvalidation-auc:0.91583\n",
      "[6]\tvalidation-auc:0.91558\n",
      "[7]\tvalidation-auc:0.91587\n",
      "[8]\tvalidation-auc:0.91628\n",
      "[9]\tvalidation-auc:0.91588\n"
     ]
    },
    {
     "name": "stderr",
     "output_type": "stream",
     "text": [
      "[I 2024-12-24 11:02:32,833] Trial 41 finished with value: 0.8779284787369364 and parameters: {'lambda': 0.41007071643427245, 'alpha': 0.8237641648699535, 'max_depth': 8, 'eta': 0.30573368134252443, 'gamma': 0.8022530658992856, 'grow_policy': 'depthwise'}. Best is trial 26 with value: 0.8788116091802773.\n"
     ]
    },
    {
     "name": "stdout",
     "output_type": "stream",
     "text": [
      "[0]\tvalidation-auc:0.90986\n",
      "[1]\tvalidation-auc:0.91209\n",
      "[2]\tvalidation-auc:0.91427\n",
      "[3]\tvalidation-auc:0.91509\n",
      "[4]\tvalidation-auc:0.91549\n",
      "[5]\tvalidation-auc:0.91555\n",
      "[6]\tvalidation-auc:0.91659\n",
      "[7]\tvalidation-auc:0.91707\n",
      "[8]\tvalidation-auc:0.91718\n",
      "[9]\tvalidation-auc:0.91754\n"
     ]
    },
    {
     "name": "stderr",
     "output_type": "stream",
     "text": [
      "[I 2024-12-24 11:02:32,956] Trial 42 finished with value: 0.8763098520127992 and parameters: {'lambda': 0.46641304616610046, 'alpha': 0.9554924906886701, 'max_depth': 7, 'eta': 0.44541595813702445, 'gamma': 0.8450410031003524, 'grow_policy': 'depthwise'}. Best is trial 26 with value: 0.8788116091802773.\n"
     ]
    },
    {
     "name": "stdout",
     "output_type": "stream",
     "text": [
      "[0]\tvalidation-auc:0.90976\n",
      "[1]\tvalidation-auc:0.91215\n",
      "[2]\tvalidation-auc:0.91384\n",
      "[3]\tvalidation-auc:0.91538\n",
      "[4]\tvalidation-auc:0.91514\n",
      "[5]\tvalidation-auc:0.91576\n",
      "[6]\tvalidation-auc:0.91581\n",
      "[7]\tvalidation-auc:0.91561\n",
      "[8]\tvalidation-auc:0.91700\n",
      "[9]\tvalidation-auc:0.91751\n"
     ]
    },
    {
     "name": "stderr",
     "output_type": "stream",
     "text": [
      "[I 2024-12-24 11:02:33,073] Trial 43 finished with value: 0.8740193828678042 and parameters: {'lambda': 0.3935739200365816, 'alpha': 0.9178224194182669, 'max_depth': 8, 'eta': 0.3492690778517141, 'gamma': 0.8974291231786053, 'grow_policy': 'depthwise'}. Best is trial 26 with value: 0.8788116091802773.\n"
     ]
    },
    {
     "name": "stdout",
     "output_type": "stream",
     "text": [
      "[0]\tvalidation-auc:0.90972\n",
      "[1]\tvalidation-auc:0.91148\n",
      "[2]\tvalidation-auc:0.91251\n",
      "[3]\tvalidation-auc:0.91244\n",
      "[4]\tvalidation-auc:0.91276\n",
      "[5]\tvalidation-auc:0.91341\n",
      "[6]\tvalidation-auc:0.91318\n",
      "[7]\tvalidation-auc:0.91391\n",
      "[8]\tvalidation-auc:0.91410\n",
      "[9]\tvalidation-auc:0.91447\n"
     ]
    },
    {
     "name": "stderr",
     "output_type": "stream",
     "text": [
      "[I 2024-12-24 11:02:33,196] Trial 44 finished with value: 0.8783676368798696 and parameters: {'lambda': 0.2815493462536649, 'alpha': 0.10883207037909326, 'max_depth': 7, 'eta': 0.20990184917166238, 'gamma': 0.9590939890432713, 'grow_policy': 'depthwise'}. Best is trial 26 with value: 0.8788116091802773.\n"
     ]
    },
    {
     "name": "stdout",
     "output_type": "stream",
     "text": [
      "[0]\tvalidation-auc:0.90958\n",
      "[1]\tvalidation-auc:0.91212\n",
      "[2]\tvalidation-auc:0.91417\n",
      "[3]\tvalidation-auc:0.91434\n",
      "[4]\tvalidation-auc:0.91543\n",
      "[5]\tvalidation-auc:0.91539\n",
      "[6]\tvalidation-auc:0.91579\n",
      "[7]\tvalidation-auc:0.91611\n",
      "[8]\tvalidation-auc:0.91740\n",
      "[9]\tvalidation-auc:0.91770\n"
     ]
    },
    {
     "name": "stderr",
     "output_type": "stream",
     "text": [
      "[I 2024-12-24 11:02:33,330] Trial 45 finished with value: 0.8776845614249051 and parameters: {'lambda': 0.20531905336201983, 'alpha': 0.6846611440262103, 'max_depth': 8, 'eta': 0.27640127268122905, 'gamma': 0.8422265149089427, 'grow_policy': 'depthwise'}. Best is trial 26 with value: 0.8788116091802773.\n"
     ]
    },
    {
     "name": "stdout",
     "output_type": "stream",
     "text": [
      "[0]\tvalidation-auc:0.90760\n",
      "[1]\tvalidation-auc:0.90762\n",
      "[2]\tvalidation-auc:0.91172\n",
      "[3]\tvalidation-auc:0.91153\n",
      "[4]\tvalidation-auc:0.91157\n",
      "[5]\tvalidation-auc:0.91197\n",
      "[6]\tvalidation-auc:0.91220\n",
      "[7]\tvalidation-auc:0.91217\n",
      "[8]\tvalidation-auc:0.91374\n",
      "[9]\tvalidation-auc:0.91370\n"
     ]
    },
    {
     "name": "stderr",
     "output_type": "stream",
     "text": [
      "[I 2024-12-24 11:02:33,470] Trial 46 finished with value: 0.8784323605525797 and parameters: {'lambda': 0.3430042242343757, 'alpha': 0.8276918287696815, 'max_depth': 6, 'eta': 0.07722895887029231, 'gamma': 0.9600040521779274, 'grow_policy': 'depthwise'}. Best is trial 26 with value: 0.8788116091802773.\n"
     ]
    },
    {
     "name": "stdout",
     "output_type": "stream",
     "text": [
      "[0]\tvalidation-auc:0.90962\n",
      "[1]\tvalidation-auc:0.91132\n",
      "[2]\tvalidation-auc:0.91234\n",
      "[3]\tvalidation-auc:0.91230\n",
      "[4]\tvalidation-auc:0.91241\n",
      "[5]\tvalidation-auc:0.91245\n",
      "[6]\tvalidation-auc:0.91316\n",
      "[7]\tvalidation-auc:0.91339\n",
      "[8]\tvalidation-auc:0.91371\n",
      "[9]\tvalidation-auc:0.91368\n"
     ]
    },
    {
     "name": "stderr",
     "output_type": "stream",
     "text": [
      "[I 2024-12-24 11:02:33,596] Trial 47 finished with value: 0.8781542092318424 and parameters: {'lambda': 0.8349236979913266, 'alpha': 0.5056359921682173, 'max_depth': 7, 'eta': 0.17311146899537644, 'gamma': 0.6632332622550374, 'grow_policy': 'lossguide'}. Best is trial 26 with value: 0.8788116091802773.\n"
     ]
    },
    {
     "name": "stdout",
     "output_type": "stream",
     "text": [
      "[0]\tvalidation-auc:0.91063\n",
      "[1]\tvalidation-auc:0.91186\n",
      "[2]\tvalidation-auc:0.91348\n",
      "[3]\tvalidation-auc:0.91309\n",
      "[4]\tvalidation-auc:0.91330\n",
      "[5]\tvalidation-auc:0.91434\n",
      "[6]\tvalidation-auc:0.91701\n",
      "[7]\tvalidation-auc:0.91690\n",
      "[8]\tvalidation-auc:0.91700\n",
      "[9]\tvalidation-auc:0.91776\n"
     ]
    },
    {
     "name": "stderr",
     "output_type": "stream",
     "text": [
      "[I 2024-12-24 11:02:33,807] Trial 48 finished with value: 0.876001211028058 and parameters: {'lambda': 0.5397891534450865, 'alpha': 0.27904402380571625, 'max_depth': 9, 'eta': 0.3334973100104781, 'gamma': 0.5895758539573823, 'grow_policy': 'lossguide'}. Best is trial 26 with value: 0.8788116091802773.\n"
     ]
    },
    {
     "name": "stdout",
     "output_type": "stream",
     "text": [
      "[0]\tvalidation-auc:0.90959\n",
      "[1]\tvalidation-auc:0.91209\n",
      "[2]\tvalidation-auc:0.91483\n",
      "[3]\tvalidation-auc:0.91488\n",
      "[4]\tvalidation-auc:0.91643\n",
      "[5]\tvalidation-auc:0.91787\n",
      "[6]\tvalidation-auc:0.91813\n",
      "[7]\tvalidation-auc:0.91817\n",
      "[8]\tvalidation-auc:0.91788\n",
      "[9]\tvalidation-auc:0.91775\n"
     ]
    },
    {
     "name": "stderr",
     "output_type": "stream",
     "text": [
      "[I 2024-12-24 11:02:33,926] Trial 49 finished with value: 0.8735727360354664 and parameters: {'lambda': 0.44418274230845706, 'alpha': 0.5793188907606628, 'max_depth': 8, 'eta': 0.5324164374307125, 'gamma': 0.7443513516567064, 'grow_policy': 'depthwise'}. Best is trial 26 with value: 0.8788116091802773.\n"
     ]
    },
    {
     "name": "stdout",
     "output_type": "stream",
     "text": [
      "[0]\tvalidation-auc:0.90682\n",
      "[1]\tvalidation-auc:0.90903\n",
      "[2]\tvalidation-auc:0.91082\n",
      "[3]\tvalidation-auc:0.91080\n",
      "[4]\tvalidation-auc:0.91016\n",
      "[5]\tvalidation-auc:0.91094\n",
      "[6]\tvalidation-auc:0.91077\n",
      "[7]\tvalidation-auc:0.91123\n",
      "[8]\tvalidation-auc:0.91251\n",
      "[9]\tvalidation-auc:0.91357\n"
     ]
    },
    {
     "name": "stderr",
     "output_type": "stream",
     "text": [
      "[I 2024-12-24 11:02:34,036] Trial 50 finished with value: 0.8781836290830741 and parameters: {'lambda': 0.9980134255438178, 'alpha': 0.21766826934858938, 'max_depth': 5, 'eta': 0.2037014691412965, 'gamma': 0.8279355329107172, 'grow_policy': 'lossguide'}. Best is trial 26 with value: 0.8788116091802773.\n"
     ]
    },
    {
     "name": "stdout",
     "output_type": "stream",
     "text": [
      "[0]\tvalidation-auc:0.90760\n",
      "[1]\tvalidation-auc:0.91182\n",
      "[2]\tvalidation-auc:0.91171\n",
      "[3]\tvalidation-auc:0.91220\n",
      "[4]\tvalidation-auc:0.91223\n",
      "[5]\tvalidation-auc:0.91376\n",
      "[6]\tvalidation-auc:0.91393\n",
      "[7]\tvalidation-auc:0.91397\n",
      "[8]\tvalidation-auc:0.91446\n",
      "[9]\tvalidation-auc:0.91483\n"
     ]
    },
    {
     "name": "stderr",
     "output_type": "stream",
     "text": [
      "[I 2024-12-24 11:02:34,161] Trial 51 finished with value: 0.8783189603987406 and parameters: {'lambda': 0.3486948240121779, 'alpha': 0.8061291811986627, 'max_depth': 6, 'eta': 0.1208441216283345, 'gamma': 0.9620082323079169, 'grow_policy': 'depthwise'}. Best is trial 26 with value: 0.8788116091802773.\n"
     ]
    },
    {
     "name": "stdout",
     "output_type": "stream",
     "text": [
      "[0]\tvalidation-auc:0.90971\n",
      "[1]\tvalidation-auc:0.90974\n",
      "[2]\tvalidation-auc:0.91119\n",
      "[3]\tvalidation-auc:0.91114\n",
      "[4]\tvalidation-auc:0.91130\n",
      "[5]\tvalidation-auc:0.91221\n",
      "[6]\tvalidation-auc:0.91239\n",
      "[7]\tvalidation-auc:0.91249\n",
      "[8]\tvalidation-auc:0.91251\n",
      "[9]\tvalidation-auc:0.91253\n"
     ]
    },
    {
     "name": "stderr",
     "output_type": "stream",
     "text": [
      "[I 2024-12-24 11:02:34,284] Trial 52 finished with value: 0.8785676918682461 and parameters: {'lambda': 0.2717398555760706, 'alpha': 0.8641185789942218, 'max_depth': 7, 'eta': 0.0659845779123926, 'gamma': 0.9657454274869375, 'grow_policy': 'depthwise'}. Best is trial 26 with value: 0.8788116091802773.\n"
     ]
    },
    {
     "name": "stdout",
     "output_type": "stream",
     "text": [
      "[0]\tvalidation-auc:0.90971\n",
      "[1]\tvalidation-auc:0.90975\n",
      "[2]\tvalidation-auc:0.91120\n",
      "[3]\tvalidation-auc:0.91114\n",
      "[4]\tvalidation-auc:0.91130\n",
      "[5]\tvalidation-auc:0.91225\n",
      "[6]\tvalidation-auc:0.91243\n",
      "[7]\tvalidation-auc:0.91250\n",
      "[8]\tvalidation-auc:0.91253\n",
      "[9]\tvalidation-auc:0.91252\n"
     ]
    },
    {
     "name": "stderr",
     "output_type": "stream",
     "text": [
      "[I 2024-12-24 11:02:34,407] Trial 53 finished with value: 0.8785676918682461 and parameters: {'lambda': 0.2637134779376658, 'alpha': 0.884423708653457, 'max_depth': 7, 'eta': 0.0662828109224107, 'gamma': 0.8903639885844359, 'grow_policy': 'depthwise'}. Best is trial 26 with value: 0.8788116091802773.\n"
     ]
    },
    {
     "name": "stdout",
     "output_type": "stream",
     "text": [
      "[0]\tvalidation-auc:0.90970\n",
      "[1]\tvalidation-auc:0.90973\n",
      "[2]\tvalidation-auc:0.90974\n",
      "[3]\tvalidation-auc:0.90973\n",
      "[4]\tvalidation-auc:0.91106\n",
      "[5]\tvalidation-auc:0.91092\n",
      "[6]\tvalidation-auc:0.91131\n",
      "[7]\tvalidation-auc:0.91141\n",
      "[8]\tvalidation-auc:0.91143\n",
      "[9]\tvalidation-auc:0.91174\n"
     ]
    },
    {
     "name": "stderr",
     "output_type": "stream",
     "text": [
      "[I 2024-12-24 11:02:34,529] Trial 54 finished with value: 0.8782713537303837 and parameters: {'lambda': 0.17942057303040387, 'alpha': 0.8776114065591101, 'max_depth': 7, 'eta': 0.03746954047765737, 'gamma': 0.9951931088677821, 'grow_policy': 'depthwise'}. Best is trial 26 with value: 0.8788116091802773.\n"
     ]
    },
    {
     "name": "stdout",
     "output_type": "stream",
     "text": [
      "[0]\tvalidation-auc:0.90973\n",
      "[1]\tvalidation-auc:0.90975\n",
      "[2]\tvalidation-auc:0.90976\n",
      "[3]\tvalidation-auc:0.91116\n",
      "[4]\tvalidation-auc:0.91112\n",
      "[5]\tvalidation-auc:0.91132\n",
      "[6]\tvalidation-auc:0.91130\n",
      "[7]\tvalidation-auc:0.91185\n",
      "[8]\tvalidation-auc:0.91189\n",
      "[9]\tvalidation-auc:0.91211\n"
     ]
    },
    {
     "name": "stderr",
     "output_type": "stream",
     "text": [
      "[I 2024-12-24 11:02:34,649] Trial 55 finished with value: 0.877653001948129 and parameters: {'lambda': 0.26957705561968576, 'alpha': 0.9820022066810355, 'max_depth': 7, 'eta': 0.04136021975077346, 'gamma': 0.8895978300162157, 'grow_policy': 'depthwise'}. Best is trial 26 with value: 0.8788116091802773.\n"
     ]
    },
    {
     "name": "stdout",
     "output_type": "stream",
     "text": [
      "[0]\tvalidation-auc:0.90760\n",
      "[1]\tvalidation-auc:0.91181\n",
      "[2]\tvalidation-auc:0.91185\n",
      "[3]\tvalidation-auc:0.91197\n",
      "[4]\tvalidation-auc:0.91219\n",
      "[5]\tvalidation-auc:0.91238\n",
      "[6]\tvalidation-auc:0.91258\n",
      "[7]\tvalidation-auc:0.91333\n",
      "[8]\tvalidation-auc:0.91321\n",
      "[9]\tvalidation-auc:0.91398\n"
     ]
    },
    {
     "name": "stderr",
     "output_type": "stream",
     "text": [
      "[I 2024-12-24 11:02:34,763] Trial 56 finished with value: 0.8781274639125407 and parameters: {'lambda': 0.11301429424152915, 'alpha': 0.876549670963997, 'max_depth': 6, 'eta': 0.15204720411908934, 'gamma': 0.9356335051921219, 'grow_policy': 'lossguide'}. Best is trial 26 with value: 0.8788116091802773.\n"
     ]
    },
    {
     "name": "stdout",
     "output_type": "stream",
     "text": [
      "[0]\tvalidation-auc:0.89979\n",
      "[1]\tvalidation-auc:0.90336\n",
      "[2]\tvalidation-auc:0.90338\n",
      "[3]\tvalidation-auc:0.90364\n",
      "[4]\tvalidation-auc:0.90525\n",
      "[5]\tvalidation-auc:0.90525\n",
      "[6]\tvalidation-auc:0.90545\n",
      "[7]\tvalidation-auc:0.90535\n",
      "[8]\tvalidation-auc:0.90543\n",
      "[9]\tvalidation-auc:0.90548\n"
     ]
    },
    {
     "name": "stderr",
     "output_type": "stream",
     "text": [
      "[I 2024-12-24 11:02:34,859] Trial 57 finished with value: 0.8766591458828792 and parameters: {'lambda': 0.24431867125571766, 'alpha': 0.6130994021393502, 'max_depth': 3, 'eta': 0.08724082670316241, 'gamma': 0.8784607598749952, 'grow_policy': 'depthwise'}. Best is trial 26 with value: 0.8788116091802773.\n"
     ]
    },
    {
     "name": "stdout",
     "output_type": "stream",
     "text": [
      "[0]\tvalidation-auc:0.90969\n",
      "[1]\tvalidation-auc:0.90974\n",
      "[2]\tvalidation-auc:0.90966\n",
      "[3]\tvalidation-auc:0.91112\n",
      "[4]\tvalidation-auc:0.91103\n",
      "[5]\tvalidation-auc:0.91126\n",
      "[6]\tvalidation-auc:0.91178\n",
      "[7]\tvalidation-auc:0.91220\n",
      "[8]\tvalidation-auc:0.91240\n",
      "[9]\tvalidation-auc:0.91247\n"
     ]
    },
    {
     "name": "stderr",
     "output_type": "stream",
     "text": [
      "[I 2024-12-24 11:02:34,983] Trial 58 finished with value: 0.8783847538842227 and parameters: {'lambda': 0.31139682381985984, 'alpha': 0.7267606947779315, 'max_depth': 7, 'eta': 0.052135492800819416, 'gamma': 0.9733581071341455, 'grow_policy': 'lossguide'}. Best is trial 26 with value: 0.8788116091802773.\n"
     ]
    },
    {
     "name": "stdout",
     "output_type": "stream",
     "text": [
      "[0]\tvalidation-auc:0.90760\n",
      "[1]\tvalidation-auc:0.90761\n",
      "[2]\tvalidation-auc:0.90761\n",
      "[3]\tvalidation-auc:0.90761\n",
      "[4]\tvalidation-auc:0.90761\n",
      "[5]\tvalidation-auc:0.90761\n",
      "[6]\tvalidation-auc:0.90761\n",
      "[7]\tvalidation-auc:0.90761\n",
      "[8]\tvalidation-auc:0.90761\n",
      "[9]\tvalidation-auc:0.90761\n"
     ]
    },
    {
     "name": "stderr",
     "output_type": "stream",
     "text": [
      "[I 2024-12-24 11:02:35,107] Trial 59 finished with value: 0.8780359949205291 and parameters: {'lambda': 0.25583039585932293, 'alpha': 0.9305568879970147, 'max_depth': 6, 'eta': 0.0014628280687435241, 'gamma': 0.9210442273754174, 'grow_policy': 'depthwise'}. Best is trial 26 with value: 0.8788116091802773.\n"
     ]
    },
    {
     "name": "stdout",
     "output_type": "stream",
     "text": [
      "[0]\tvalidation-auc:0.90972\n",
      "[1]\tvalidation-auc:0.91151\n",
      "[2]\tvalidation-auc:0.91172\n",
      "[3]\tvalidation-auc:0.91246\n",
      "[4]\tvalidation-auc:0.91282\n",
      "[5]\tvalidation-auc:0.91280\n",
      "[6]\tvalidation-auc:0.91341\n",
      "[7]\tvalidation-auc:0.91306\n",
      "[8]\tvalidation-auc:0.91350\n",
      "[9]\tvalidation-auc:0.91378\n"
     ]
    },
    {
     "name": "stderr",
     "output_type": "stream",
     "text": [
      "[I 2024-12-24 11:02:35,227] Trial 60 finished with value: 0.8779798297499954 and parameters: {'lambda': 0.3823288960133711, 'alpha': 0.3983845335644549, 'max_depth': 7, 'eta': 0.16122617679083992, 'gamma': 0.23479520767171214, 'grow_policy': 'lossguide'}. Best is trial 26 with value: 0.8788116091802773.\n"
     ]
    },
    {
     "name": "stdout",
     "output_type": "stream",
     "text": [
      "[0]\tvalidation-auc:0.90977\n",
      "[1]\tvalidation-auc:0.91233\n",
      "[2]\tvalidation-auc:0.91418\n",
      "[3]\tvalidation-auc:0.91386\n",
      "[4]\tvalidation-auc:0.91478\n",
      "[5]\tvalidation-auc:0.91486\n",
      "[6]\tvalidation-auc:0.91558\n",
      "[7]\tvalidation-auc:0.91592\n",
      "[8]\tvalidation-auc:0.91592\n",
      "[9]\tvalidation-auc:0.91634\n"
     ]
    },
    {
     "name": "stderr",
     "output_type": "stream",
     "text": [
      "[I 2024-12-24 11:02:35,340] Trial 61 finished with value: 0.878167581891493 and parameters: {'lambda': 0.41984124169521786, 'alpha': 0.7813950311397476, 'max_depth': 8, 'eta': 0.24069696856360534, 'gamma': 0.8085150439910498, 'grow_policy': 'depthwise'}. Best is trial 26 with value: 0.8788116091802773.\n"
     ]
    },
    {
     "name": "stdout",
     "output_type": "stream",
     "text": [
      "[0]\tvalidation-auc:0.90977\n",
      "[1]\tvalidation-auc:0.90981\n",
      "[2]\tvalidation-auc:0.91152\n",
      "[3]\tvalidation-auc:0.91207\n",
      "[4]\tvalidation-auc:0.91222\n",
      "[5]\tvalidation-auc:0.91326\n",
      "[6]\tvalidation-auc:0.91356\n",
      "[7]\tvalidation-auc:0.91421\n",
      "[8]\tvalidation-auc:0.91420\n",
      "[9]\tvalidation-auc:0.91444\n"
     ]
    },
    {
     "name": "stderr",
     "output_type": "stream",
     "text": [
      "[I 2024-12-24 11:02:35,470] Trial 62 finished with value: 0.8781456507296658 and parameters: {'lambda': 0.3239720170379439, 'alpha': 0.8583806428506457, 'max_depth': 8, 'eta': 0.09712751147302336, 'gamma': 0.859195894764163, 'grow_policy': 'depthwise'}. Best is trial 26 with value: 0.8788116091802773.\n"
     ]
    },
    {
     "name": "stdout",
     "output_type": "stream",
     "text": [
      "[0]\tvalidation-auc:0.90957\n",
      "[1]\tvalidation-auc:0.90962\n",
      "[2]\tvalidation-auc:0.91112\n",
      "[3]\tvalidation-auc:0.91173\n",
      "[4]\tvalidation-auc:0.91245\n",
      "[5]\tvalidation-auc:0.91255\n",
      "[6]\tvalidation-auc:0.91288\n",
      "[7]\tvalidation-auc:0.91293\n",
      "[8]\tvalidation-auc:0.91353\n",
      "[9]\tvalidation-auc:0.91358\n"
     ]
    },
    {
     "name": "stderr",
     "output_type": "stream",
     "text": [
      "[I 2024-12-24 11:02:35,583] Trial 63 finished with value: 0.8782932848922108 and parameters: {'lambda': 0.48822051063653527, 'alpha': 0.46158976596269274, 'max_depth': 7, 'eta': 0.11426279179219508, 'gamma': 0.9065380027612191, 'grow_policy': 'depthwise'}. Best is trial 26 with value: 0.8788116091802773.\n"
     ]
    },
    {
     "name": "stdout",
     "output_type": "stream",
     "text": [
      "[0]\tvalidation-auc:0.90986\n",
      "[1]\tvalidation-auc:0.91281\n",
      "[2]\tvalidation-auc:0.91399\n",
      "[3]\tvalidation-auc:0.91430\n",
      "[4]\tvalidation-auc:0.91396\n",
      "[5]\tvalidation-auc:0.91768\n",
      "[6]\tvalidation-auc:0.91752\n",
      "[7]\tvalidation-auc:0.91848\n",
      "[8]\tvalidation-auc:0.91975\n",
      "[9]\tvalidation-auc:0.92026\n"
     ]
    },
    {
     "name": "stderr",
     "output_type": "stream",
     "text": [
      "[I 2024-12-24 11:02:35,727] Trial 64 finished with value: 0.8764633701455907 and parameters: {'lambda': 0.3778918174435514, 'alpha': 0.9514807825892706, 'max_depth': 7, 'eta': 0.6637585975466944, 'gamma': 0.9911915367491884, 'grow_policy': 'depthwise'}. Best is trial 26 with value: 0.8788116091802773.\n"
     ]
    },
    {
     "name": "stdout",
     "output_type": "stream",
     "text": [
      "[0]\tvalidation-auc:0.90977\n",
      "[1]\tvalidation-auc:0.91211\n",
      "[2]\tvalidation-auc:0.91349\n",
      "[3]\tvalidation-auc:0.91336\n",
      "[4]\tvalidation-auc:0.91375\n",
      "[5]\tvalidation-auc:0.91373\n",
      "[6]\tvalidation-auc:0.91459\n",
      "[7]\tvalidation-auc:0.91528\n",
      "[8]\tvalidation-auc:0.91592\n",
      "[9]\tvalidation-auc:0.91612\n"
     ]
    },
    {
     "name": "stderr",
     "output_type": "stream",
     "text": [
      "[I 2024-12-24 11:02:35,852] Trial 65 finished with value: 0.87834196137334 and parameters: {'lambda': 0.45319429103028563, 'alpha': 0.7714293836062395, 'max_depth': 8, 'eta': 0.2224408797668055, 'gamma': 0.9337235597219832, 'grow_policy': 'depthwise'}. Best is trial 26 with value: 0.8788116091802773.\n"
     ]
    },
    {
     "name": "stdout",
     "output_type": "stream",
     "text": [
      "[0]\tvalidation-auc:0.90760\n",
      "[1]\tvalidation-auc:0.91179\n",
      "[2]\tvalidation-auc:0.91216\n",
      "[3]\tvalidation-auc:0.91225\n",
      "[4]\tvalidation-auc:0.91303\n",
      "[5]\tvalidation-auc:0.91434\n",
      "[6]\tvalidation-auc:0.91470\n",
      "[7]\tvalidation-auc:0.91517\n",
      "[8]\tvalidation-auc:0.91558\n",
      "[9]\tvalidation-auc:0.91541\n"
     ]
    },
    {
     "name": "stderr",
     "output_type": "stream",
     "text": [
      "[I 2024-12-24 11:02:35,971] Trial 66 finished with value: 0.8779712712478188 and parameters: {'lambda': 0.21438695578941108, 'alpha': 0.9014359195973489, 'max_depth': 6, 'eta': 0.28201283343506345, 'gamma': 0.7750980622464636, 'grow_policy': 'depthwise'}. Best is trial 26 with value: 0.8788116091802773.\n"
     ]
    },
    {
     "name": "stdout",
     "output_type": "stream",
     "text": [
      "[0]\tvalidation-auc:0.91067\n",
      "[1]\tvalidation-auc:0.91255\n",
      "[2]\tvalidation-auc:0.91367\n",
      "[3]\tvalidation-auc:0.91392\n",
      "[4]\tvalidation-auc:0.91487\n",
      "[5]\tvalidation-auc:0.91528\n",
      "[6]\tvalidation-auc:0.91745\n",
      "[7]\tvalidation-auc:0.91724\n",
      "[8]\tvalidation-auc:0.91704\n",
      "[9]\tvalidation-auc:0.91750\n"
     ]
    },
    {
     "name": "stderr",
     "output_type": "stream",
     "text": [
      "[I 2024-12-24 11:02:36,110] Trial 67 finished with value: 0.8768575961520974 and parameters: {'lambda': 0.522121908434944, 'alpha': 0.6609423288229179, 'max_depth': 9, 'eta': 0.18723990830290826, 'gamma': 0.861858002284038, 'grow_policy': 'depthwise'}. Best is trial 26 with value: 0.8788116091802773.\n"
     ]
    },
    {
     "name": "stdout",
     "output_type": "stream",
     "text": [
      "[0]\tvalidation-auc:0.90960\n",
      "[1]\tvalidation-auc:0.91225\n",
      "[2]\tvalidation-auc:0.91432\n",
      "[3]\tvalidation-auc:0.91427\n",
      "[4]\tvalidation-auc:0.91460\n",
      "[5]\tvalidation-auc:0.91457\n",
      "[6]\tvalidation-auc:0.91416\n",
      "[7]\tvalidation-auc:0.91454\n",
      "[8]\tvalidation-auc:0.91482\n",
      "[9]\tvalidation-auc:0.91489\n"
     ]
    },
    {
     "name": "stderr",
     "output_type": "stream",
     "text": [
      "[I 2024-12-24 11:02:36,245] Trial 68 finished with value: 0.8768051753262661 and parameters: {'lambda': 0.11891076538775727, 'alpha': 0.506007387535341, 'max_depth': 7, 'eta': 0.4211729519721513, 'gamma': 0.7121076719852635, 'grow_policy': 'lossguide'}. Best is trial 26 with value: 0.8788116091802773.\n"
     ]
    },
    {
     "name": "stdout",
     "output_type": "stream",
     "text": [
      "[0]\tvalidation-auc:0.90972\n",
      "[1]\tvalidation-auc:0.91131\n",
      "[2]\tvalidation-auc:0.91219\n",
      "[3]\tvalidation-auc:0.91290\n",
      "[4]\tvalidation-auc:0.91385\n",
      "[5]\tvalidation-auc:0.91850\n",
      "[6]\tvalidation-auc:0.91842\n",
      "[7]\tvalidation-auc:0.91760\n",
      "[8]\tvalidation-auc:0.91743\n",
      "[9]\tvalidation-auc:0.91770\n"
     ]
    },
    {
     "name": "stderr",
     "output_type": "stream",
     "text": [
      "[I 2024-12-24 11:02:36,369] Trial 69 finished with value: 0.8688045805103649 and parameters: {'lambda': 0.4050382928428821, 'alpha': 0.33596629951590506, 'max_depth': 8, 'eta': 0.9128974028260979, 'gamma': 0.3762479159563153, 'grow_policy': 'depthwise'}. Best is trial 26 with value: 0.8788116091802773.\n"
     ]
    },
    {
     "name": "stdout",
     "output_type": "stream",
     "text": [
      "[0]\tvalidation-auc:0.87094\n",
      "[1]\tvalidation-auc:0.87238\n",
      "[2]\tvalidation-auc:0.87361\n",
      "[3]\tvalidation-auc:0.87361\n",
      "[4]\tvalidation-auc:0.87361\n",
      "[5]\tvalidation-auc:0.87361\n",
      "[6]\tvalidation-auc:0.87361\n",
      "[7]\tvalidation-auc:0.87361\n",
      "[8]\tvalidation-auc:0.87361\n",
      "[9]\tvalidation-auc:0.87361\n"
     ]
    },
    {
     "name": "stderr",
     "output_type": "stream",
     "text": [
      "[I 2024-12-24 11:02:36,470] Trial 70 finished with value: 0.8709393918970242 and parameters: {'lambda': 0.27924513497054704, 'alpha': 0.8569819807787866, 'max_depth': 1, 'eta': 0.14124552529782325, 'gamma': 0.9746197856457351, 'grow_policy': 'depthwise'}. Best is trial 26 with value: 0.8788116091802773.\n"
     ]
    },
    {
     "name": "stdout",
     "output_type": "stream",
     "text": [
      "[0]\tvalidation-auc:0.90760\n",
      "[1]\tvalidation-auc:0.90760\n",
      "[2]\tvalidation-auc:0.90761\n",
      "[3]\tvalidation-auc:0.91168\n",
      "[4]\tvalidation-auc:0.91166\n",
      "[5]\tvalidation-auc:0.91167\n",
      "[6]\tvalidation-auc:0.91157\n",
      "[7]\tvalidation-auc:0.91171\n",
      "[8]\tvalidation-auc:0.91208\n",
      "[9]\tvalidation-auc:0.91383\n"
     ]
    },
    {
     "name": "stderr",
     "output_type": "stream",
     "text": [
      "[I 2024-12-24 11:02:36,584] Trial 71 finished with value: 0.8782932848922108 and parameters: {'lambda': 0.34495879427641907, 'alpha': 0.8049641155012603, 'max_depth': 6, 'eta': 0.04846702462696101, 'gamma': 0.948943678743308, 'grow_policy': 'depthwise'}. Best is trial 26 with value: 0.8788116091802773.\n"
     ]
    },
    {
     "name": "stdout",
     "output_type": "stream",
     "text": [
      "[0]\tvalidation-auc:0.90760\n",
      "[1]\tvalidation-auc:0.90762\n",
      "[2]\tvalidation-auc:0.91172\n",
      "[3]\tvalidation-auc:0.91153\n",
      "[4]\tvalidation-auc:0.91157\n",
      "[5]\tvalidation-auc:0.91197\n",
      "[6]\tvalidation-auc:0.91220\n",
      "[7]\tvalidation-auc:0.91215\n",
      "[8]\tvalidation-auc:0.91230\n",
      "[9]\tvalidation-auc:0.91256\n"
     ]
    },
    {
     "name": "stderr",
     "output_type": "stream",
     "text": [
      "[I 2024-12-24 11:02:36,703] Trial 72 finished with value: 0.8784323605525797 and parameters: {'lambda': 0.32545963171843584, 'alpha': 0.8430424937046243, 'max_depth': 6, 'eta': 0.07548427907909229, 'gamma': 0.8971114288283599, 'grow_policy': 'depthwise'}. Best is trial 26 with value: 0.8788116091802773.\n"
     ]
    },
    {
     "name": "stdout",
     "output_type": "stream",
     "text": [
      "[0]\tvalidation-auc:0.90760\n",
      "[1]\tvalidation-auc:0.90762\n",
      "[2]\tvalidation-auc:0.91191\n",
      "[3]\tvalidation-auc:0.91196\n",
      "[4]\tvalidation-auc:0.91200\n",
      "[5]\tvalidation-auc:0.91178\n",
      "[6]\tvalidation-auc:0.91222\n",
      "[7]\tvalidation-auc:0.91225\n",
      "[8]\tvalidation-auc:0.91354\n",
      "[9]\tvalidation-auc:0.91369\n"
     ]
    },
    {
     "name": "stderr",
     "output_type": "stream",
     "text": [
      "[I 2024-12-24 11:02:36,813] Trial 73 finished with value: 0.8787677468566226 and parameters: {'lambda': 0.36292931599983436, 'alpha': 0.7143987295224592, 'max_depth': 6, 'eta': 0.09976775441570906, 'gamma': 0.9677363929283285, 'grow_policy': 'depthwise'}. Best is trial 26 with value: 0.8788116091802773.\n"
     ]
    },
    {
     "name": "stdout",
     "output_type": "stream",
     "text": [
      "[0]\tvalidation-auc:0.90957\n",
      "[1]\tvalidation-auc:0.90958\n",
      "[2]\tvalidation-auc:0.91111\n",
      "[3]\tvalidation-auc:0.91170\n",
      "[4]\tvalidation-auc:0.91236\n",
      "[5]\tvalidation-auc:0.91245\n",
      "[6]\tvalidation-auc:0.91270\n",
      "[7]\tvalidation-auc:0.91278\n",
      "[8]\tvalidation-auc:0.91319\n",
      "[9]\tvalidation-auc:0.91356\n"
     ]
    },
    {
     "name": "stderr",
     "output_type": "stream",
     "text": [
      "[I 2024-12-24 11:02:36,928] Trial 74 finished with value: 0.8782847263900344 and parameters: {'lambda': 0.36612764146205723, 'alpha': 0.5967995126280798, 'max_depth': 7, 'eta': 0.10923466871591901, 'gamma': 0.9217713313551599, 'grow_policy': 'depthwise'}. Best is trial 26 with value: 0.8788116091802773.\n"
     ]
    },
    {
     "name": "stdout",
     "output_type": "stream",
     "text": [
      "[0]\tvalidation-auc:0.90971\n",
      "[1]\tvalidation-auc:0.91147\n",
      "[2]\tvalidation-auc:0.91197\n",
      "[3]\tvalidation-auc:0.91247\n",
      "[4]\tvalidation-auc:0.91274\n",
      "[5]\tvalidation-auc:0.91275\n",
      "[6]\tvalidation-auc:0.91325\n",
      "[7]\tvalidation-auc:0.91396\n",
      "[8]\tvalidation-auc:0.91371\n",
      "[9]\tvalidation-auc:0.91376\n"
     ]
    },
    {
     "name": "stderr",
     "output_type": "stream",
     "text": [
      "[I 2024-12-24 11:02:37,049] Trial 75 finished with value: 0.8789201951766423 and parameters: {'lambda': 0.4797103135051677, 'alpha': 0.7447013985246016, 'max_depth': 7, 'eta': 0.163782035851141, 'gamma': 0.8251073950066338, 'grow_policy': 'depthwise'}. Best is trial 75 with value: 0.8789201951766423.\n"
     ]
    },
    {
     "name": "stdout",
     "output_type": "stream",
     "text": [
      "[0]\tvalidation-auc:0.90972\n",
      "[1]\tvalidation-auc:0.90975\n",
      "[2]\tvalidation-auc:0.90976\n",
      "[3]\tvalidation-auc:0.90979\n",
      "[4]\tvalidation-auc:0.90979\n",
      "[5]\tvalidation-auc:0.90987\n",
      "[6]\tvalidation-auc:0.91110\n",
      "[7]\tvalidation-auc:0.91109\n",
      "[8]\tvalidation-auc:0.91117\n",
      "[9]\tvalidation-auc:0.91121\n"
     ]
    },
    {
     "name": "stderr",
     "output_type": "stream",
     "text": [
      "[I 2024-12-24 11:02:37,173] Trial 76 finished with value: 0.8778530569365056 and parameters: {'lambda': 0.5745230795202816, 'alpha': 0.7204576759399036, 'max_depth': 7, 'eta': 0.02111193312009687, 'gamma': 0.9993778441122514, 'grow_policy': 'lossguide'}. Best is trial 75 with value: 0.8789201951766423.\n"
     ]
    },
    {
     "name": "stdout",
     "output_type": "stream",
     "text": [
      "[0]\tvalidation-auc:0.90760\n",
      "[1]\tvalidation-auc:0.91197\n",
      "[2]\tvalidation-auc:0.91190\n",
      "[3]\tvalidation-auc:0.91188\n",
      "[4]\tvalidation-auc:0.91185\n",
      "[5]\tvalidation-auc:0.91238\n",
      "[6]\tvalidation-auc:0.91279\n",
      "[7]\tvalidation-auc:0.91322\n",
      "[8]\tvalidation-auc:0.91313\n",
      "[9]\tvalidation-auc:0.91375\n"
     ]
    },
    {
     "name": "stderr",
     "output_type": "stream",
     "text": [
      "[I 2024-12-24 11:02:37,281] Trial 77 finished with value: 0.8788677743508109 and parameters: {'lambda': 0.47590560064688175, 'alpha': 0.6422135649661401, 'max_depth': 6, 'eta': 0.15530646453910676, 'gamma': 0.9723594942056649, 'grow_policy': 'depthwise'}. Best is trial 75 with value: 0.8789201951766423.\n"
     ]
    },
    {
     "name": "stdout",
     "output_type": "stream",
     "text": [
      "[0]\tvalidation-auc:0.90681\n",
      "[1]\tvalidation-auc:0.90889\n",
      "[2]\tvalidation-auc:0.90938\n",
      "[3]\tvalidation-auc:0.91042\n",
      "[4]\tvalidation-auc:0.90969\n",
      "[5]\tvalidation-auc:0.91096\n",
      "[6]\tvalidation-auc:0.91167\n",
      "[7]\tvalidation-auc:0.91161\n",
      "[8]\tvalidation-auc:0.91144\n",
      "[9]\tvalidation-auc:0.91267\n"
     ]
    },
    {
     "name": "stderr",
     "output_type": "stream",
     "text": [
      "[I 2024-12-24 11:02:37,392] Trial 78 finished with value: 0.8778091946128508 and parameters: {'lambda': 0.49346149953718954, 'alpha': 0.6460567066591617, 'max_depth': 5, 'eta': 0.15483911639849907, 'gamma': 0.8813329687529509, 'grow_policy': 'depthwise'}. Best is trial 75 with value: 0.8789201951766423.\n"
     ]
    },
    {
     "name": "stdout",
     "output_type": "stream",
     "text": [
      "[0]\tvalidation-auc:0.90760\n",
      "[1]\tvalidation-auc:0.90762\n",
      "[2]\tvalidation-auc:0.91172\n",
      "[3]\tvalidation-auc:0.91169\n",
      "[4]\tvalidation-auc:0.91167\n",
      "[5]\tvalidation-auc:0.91170\n",
      "[6]\tvalidation-auc:0.91206\n",
      "[7]\tvalidation-auc:0.91216\n",
      "[8]\tvalidation-auc:0.91211\n",
      "[9]\tvalidation-auc:0.91227\n"
     ]
    },
    {
     "name": "stderr",
     "output_type": "stream",
     "text": [
      "[I 2024-12-24 11:02:37,506] Trial 79 finished with value: 0.8784628502165837 and parameters: {'lambda': 0.44156135886438985, 'alpha': 0.6881733215669976, 'max_depth': 6, 'eta': 0.05945986730926506, 'gamma': 0.9455992318160308, 'grow_policy': 'depthwise'}. Best is trial 75 with value: 0.8789201951766423.\n"
     ]
    },
    {
     "name": "stdout",
     "output_type": "stream",
     "text": [
      "[0]\tvalidation-auc:0.90763\n",
      "[1]\tvalidation-auc:0.91199\n",
      "[2]\tvalidation-auc:0.91223\n",
      "[3]\tvalidation-auc:0.91239\n",
      "[4]\tvalidation-auc:0.91272\n",
      "[5]\tvalidation-auc:0.91269\n",
      "[6]\tvalidation-auc:0.91337\n",
      "[7]\tvalidation-auc:0.91345\n",
      "[8]\tvalidation-auc:0.91396\n",
      "[9]\tvalidation-auc:0.91496\n"
     ]
    },
    {
     "name": "stderr",
     "output_type": "stream",
     "text": [
      "[I 2024-12-24 11:02:37,616] Trial 80 finished with value: 0.878340891560568 and parameters: {'lambda': 0.5378693792733316, 'alpha': 0.5360881871115637, 'max_depth': 6, 'eta': 0.1808446850300024, 'gamma': 0.8206276693780534, 'grow_policy': 'depthwise'}. Best is trial 75 with value: 0.8789201951766423.\n"
     ]
    },
    {
     "name": "stdout",
     "output_type": "stream",
     "text": [
      "[0]\tvalidation-auc:0.90971\n",
      "[1]\tvalidation-auc:0.91141\n",
      "[2]\tvalidation-auc:0.91136\n",
      "[3]\tvalidation-auc:0.91235\n",
      "[4]\tvalidation-auc:0.91248\n",
      "[5]\tvalidation-auc:0.91271\n",
      "[6]\tvalidation-auc:0.91287\n",
      "[7]\tvalidation-auc:0.91350\n",
      "[8]\tvalidation-auc:0.91351\n",
      "[9]\tvalidation-auc:0.91363\n"
     ]
    },
    {
     "name": "stderr",
     "output_type": "stream",
     "text": [
      "[I 2024-12-24 11:02:37,728] Trial 81 finished with value: 0.878101788406011 and parameters: {'lambda': 0.4725704944780336, 'alpha': 0.7497442454401921, 'max_depth': 7, 'eta': 0.13730858027961576, 'gamma': 0.9754923164601521, 'grow_policy': 'depthwise'}. Best is trial 75 with value: 0.8789201951766423.\n"
     ]
    },
    {
     "name": "stdout",
     "output_type": "stream",
     "text": [
      "[0]\tvalidation-auc:0.90956\n",
      "[1]\tvalidation-auc:0.91133\n",
      "[2]\tvalidation-auc:0.91244\n",
      "[3]\tvalidation-auc:0.91241\n",
      "[4]\tvalidation-auc:0.91327\n",
      "[5]\tvalidation-auc:0.91427\n",
      "[6]\tvalidation-auc:0.91448\n",
      "[7]\tvalidation-auc:0.91471\n",
      "[8]\tvalidation-auc:0.91481\n",
      "[9]\tvalidation-auc:0.91564\n"
     ]
    },
    {
     "name": "stderr",
     "output_type": "stream",
     "text": [
      "[I 2024-12-24 11:02:37,845] Trial 82 finished with value: 0.8778017059234462 and parameters: {'lambda': 0.3973673524256976, 'alpha': 0.4860156374305437, 'max_depth': 7, 'eta': 0.2155831661309349, 'gamma': 0.9148475265999428, 'grow_policy': 'depthwise'}. Best is trial 75 with value: 0.8789201951766423.\n"
     ]
    },
    {
     "name": "stdout",
     "output_type": "stream",
     "text": [
      "[0]\tvalidation-auc:0.90972\n",
      "[1]\tvalidation-auc:0.90976\n",
      "[2]\tvalidation-auc:0.91124\n",
      "[3]\tvalidation-auc:0.91220\n",
      "[4]\tvalidation-auc:0.91227\n",
      "[5]\tvalidation-auc:0.91256\n",
      "[6]\tvalidation-auc:0.91275\n",
      "[7]\tvalidation-auc:0.91275\n",
      "[8]\tvalidation-auc:0.91277\n",
      "[9]\tvalidation-auc:0.91287\n"
     ]
    },
    {
     "name": "stderr",
     "output_type": "stream",
     "text": [
      "[I 2024-12-24 11:02:37,955] Trial 83 finished with value: 0.8784457332122304 and parameters: {'lambda': 0.4226768000846788, 'alpha': 0.7082550519501929, 'max_depth': 7, 'eta': 0.09725369533204736, 'gamma': 0.8567352287834151, 'grow_policy': 'depthwise'}. Best is trial 75 with value: 0.8789201951766423.\n"
     ]
    },
    {
     "name": "stdout",
     "output_type": "stream",
     "text": [
      "[0]\tvalidation-auc:0.90761\n",
      "[1]\tvalidation-auc:0.91182\n",
      "[2]\tvalidation-auc:0.91384\n",
      "[3]\tvalidation-auc:0.91417\n",
      "[4]\tvalidation-auc:0.91404\n",
      "[5]\tvalidation-auc:0.91476\n",
      "[6]\tvalidation-auc:0.91473\n",
      "[7]\tvalidation-auc:0.91500\n",
      "[8]\tvalidation-auc:0.91471\n",
      "[9]\tvalidation-auc:0.91522\n"
     ]
    },
    {
     "name": "stderr",
     "output_type": "stream",
     "text": [
      "[I 2024-12-24 11:02:38,073] Trial 84 finished with value: 0.8778493125918033 and parameters: {'lambda': 0.2988089418351352, 'alpha': 0.5498500629074573, 'max_depth': 6, 'eta': 0.25213221382962003, 'gamma': 0.9496134902264857, 'grow_policy': 'lossguide'}. Best is trial 75 with value: 0.8789201951766423.\n"
     ]
    },
    {
     "name": "stdout",
     "output_type": "stream",
     "text": [
      "[0]\tvalidation-auc:0.90962\n",
      "[1]\tvalidation-auc:0.90962\n",
      "[2]\tvalidation-auc:0.90962\n",
      "[3]\tvalidation-auc:0.90963\n",
      "[4]\tvalidation-auc:0.90961\n",
      "[5]\tvalidation-auc:0.91083\n",
      "[6]\tvalidation-auc:0.91087\n",
      "[7]\tvalidation-auc:0.91106\n",
      "[8]\tvalidation-auc:0.91106\n",
      "[9]\tvalidation-auc:0.91124\n"
     ]
    },
    {
     "name": "stderr",
     "output_type": "stream",
     "text": [
      "[I 2024-12-24 11:02:38,192] Trial 85 finished with value: 0.877844498434329 and parameters: {'lambda': 0.19997176386272086, 'alpha': 0.4334717507493007, 'max_depth': 7, 'eta': 0.026889152405010656, 'gamma': 0.9734960505271052, 'grow_policy': 'depthwise'}. Best is trial 75 with value: 0.8789201951766423.\n"
     ]
    },
    {
     "name": "stdout",
     "output_type": "stream",
     "text": [
      "[0]\tvalidation-auc:0.90763\n",
      "[1]\tvalidation-auc:0.91199\n",
      "[2]\tvalidation-auc:0.91229\n",
      "[3]\tvalidation-auc:0.91247\n",
      "[4]\tvalidation-auc:0.91282\n",
      "[5]\tvalidation-auc:0.91299\n",
      "[6]\tvalidation-auc:0.91350\n",
      "[7]\tvalidation-auc:0.91403\n",
      "[8]\tvalidation-auc:0.91437\n",
      "[9]\tvalidation-auc:0.91490\n"
     ]
    },
    {
     "name": "stderr",
     "output_type": "stream",
     "text": [
      "[I 2024-12-24 11:02:38,302] Trial 86 finished with value: 0.8780884157463602 and parameters: {'lambda': 0.4718468685963199, 'alpha': 0.6335466038057219, 'max_depth': 6, 'eta': 0.1913899196463972, 'gamma': 0.903204167823167, 'grow_policy': 'depthwise'}. Best is trial 75 with value: 0.8789201951766423.\n"
     ]
    },
    {
     "name": "stdout",
     "output_type": "stream",
     "text": [
      "[0]\tvalidation-auc:0.90956\n",
      "[1]\tvalidation-auc:0.91134\n",
      "[2]\tvalidation-auc:0.91105\n",
      "[3]\tvalidation-auc:0.91201\n",
      "[4]\tvalidation-auc:0.91243\n",
      "[5]\tvalidation-auc:0.91267\n",
      "[6]\tvalidation-auc:0.91286\n",
      "[7]\tvalidation-auc:0.91322\n",
      "[8]\tvalidation-auc:0.91379\n",
      "[9]\tvalidation-auc:0.91412\n"
     ]
    },
    {
     "name": "stderr",
     "output_type": "stream",
     "text": [
      "[I 2024-12-24 11:02:38,429] Trial 87 finished with value: 0.8782932848922108 and parameters: {'lambda': 0.2415535878885068, 'alpha': 0.5958761685374612, 'max_depth': 7, 'eta': 0.1203168888344529, 'gamma': 0.9312837262675625, 'grow_policy': 'lossguide'}. Best is trial 75 with value: 0.8789201951766423.\n"
     ]
    },
    {
     "name": "stdout",
     "output_type": "stream",
     "text": [
      "[0]\tvalidation-auc:0.90378\n",
      "[1]\tvalidation-auc:0.90445\n",
      "[2]\tvalidation-auc:0.90847\n",
      "[3]\tvalidation-auc:0.90957\n",
      "[4]\tvalidation-auc:0.90974\n",
      "[5]\tvalidation-auc:0.91021\n",
      "[6]\tvalidation-auc:0.91037\n",
      "[7]\tvalidation-auc:0.90950\n",
      "[8]\tvalidation-auc:0.91046\n",
      "[9]\tvalidation-auc:0.91056\n"
     ]
    },
    {
     "name": "stderr",
     "output_type": "stream",
     "text": [
      "[I 2024-12-24 11:02:38,540] Trial 88 finished with value: 0.8764066700686712 and parameters: {'lambda': 0.3679553004581908, 'alpha': 0.7803502192449282, 'max_depth': 4, 'eta': 0.06640134345601727, 'gamma': 0.5248575948035232, 'grow_policy': 'depthwise'}. Best is trial 75 with value: 0.8789201951766423.\n"
     ]
    },
    {
     "name": "stdout",
     "output_type": "stream",
     "text": [
      "[0]\tvalidation-auc:0.90760\n",
      "[1]\tvalidation-auc:0.91180\n",
      "[2]\tvalidation-auc:0.91182\n",
      "[3]\tvalidation-auc:0.91205\n",
      "[4]\tvalidation-auc:0.91187\n",
      "[5]\tvalidation-auc:0.91247\n",
      "[6]\tvalidation-auc:0.91287\n",
      "[7]\tvalidation-auc:0.91343\n",
      "[8]\tvalidation-auc:0.91331\n",
      "[9]\tvalidation-auc:0.91396\n"
     ]
    },
    {
     "name": "stderr",
     "output_type": "stream",
     "text": [
      "[I 2024-12-24 11:02:38,650] Trial 89 finished with value: 0.8791031331606656 and parameters: {'lambda': 0.6777908625450508, 'alpha': 0.66764929279712, 'max_depth': 6, 'eta': 0.15695287784429587, 'gamma': 0.7599000497334989, 'grow_policy': 'depthwise'}. Best is trial 89 with value: 0.8791031331606656.\n"
     ]
    },
    {
     "name": "stdout",
     "output_type": "stream",
     "text": [
      "[0]\tvalidation-auc:0.90682\n",
      "[1]\tvalidation-auc:0.91273\n",
      "[2]\tvalidation-auc:0.91310\n",
      "[3]\tvalidation-auc:0.91355\n",
      "[4]\tvalidation-auc:0.91343\n",
      "[5]\tvalidation-auc:0.91368\n",
      "[6]\tvalidation-auc:0.91321\n",
      "[7]\tvalidation-auc:0.91291\n",
      "[8]\tvalidation-auc:0.91380\n",
      "[9]\tvalidation-auc:0.91372\n"
     ]
    },
    {
     "name": "stderr",
     "output_type": "stream",
     "text": [
      "[I 2024-12-24 11:02:38,760] Trial 90 finished with value: 0.8768271064880935 and parameters: {'lambda': 0.6531771054837388, 'alpha': 0.6676439308673101, 'max_depth': 5, 'eta': 0.7830787448272469, 'gamma': 0.7432296035695618, 'grow_policy': 'depthwise'}. Best is trial 89 with value: 0.8791031331606656.\n"
     ]
    },
    {
     "name": "stdout",
     "output_type": "stream",
     "text": [
      "[0]\tvalidation-auc:0.90772\n",
      "[1]\tvalidation-auc:0.91207\n",
      "[2]\tvalidation-auc:0.91229\n",
      "[3]\tvalidation-auc:0.91216\n",
      "[4]\tvalidation-auc:0.91250\n",
      "[5]\tvalidation-auc:0.91359\n",
      "[6]\tvalidation-auc:0.91349\n",
      "[7]\tvalidation-auc:0.91339\n",
      "[8]\tvalidation-auc:0.91397\n",
      "[9]\tvalidation-auc:0.91458\n"
     ]
    },
    {
     "name": "stderr",
     "output_type": "stream",
     "text": [
      "[I 2024-12-24 11:02:38,871] Trial 91 finished with value: 0.8779445259285172 and parameters: {'lambda': 0.7321484316473941, 'alpha': 0.05061470267471058, 'max_depth': 6, 'eta': 0.17125410158389298, 'gamma': 0.6687146441287111, 'grow_policy': 'depthwise'}. Best is trial 89 with value: 0.8791031331606656.\n"
     ]
    },
    {
     "name": "stdout",
     "output_type": "stream",
     "text": [
      "[0]\tvalidation-auc:0.90763\n",
      "[1]\tvalidation-auc:0.91182\n",
      "[2]\tvalidation-auc:0.91186\n",
      "[3]\tvalidation-auc:0.91201\n",
      "[4]\tvalidation-auc:0.91216\n",
      "[5]\tvalidation-auc:0.91234\n",
      "[6]\tvalidation-auc:0.91247\n",
      "[7]\tvalidation-auc:0.91309\n",
      "[8]\tvalidation-auc:0.91315\n",
      "[9]\tvalidation-auc:0.91374\n"
     ]
    },
    {
     "name": "stderr",
     "output_type": "stream",
     "text": [
      "[I 2024-12-24 11:02:38,981] Trial 92 finished with value: 0.8783713812245719 and parameters: {'lambda': 0.8408456550140954, 'alpha': 0.675941364261562, 'max_depth': 6, 'eta': 0.1386858080639461, 'gamma': 0.7908757041519263, 'grow_policy': 'depthwise'}. Best is trial 89 with value: 0.8791031331606656.\n"
     ]
    },
    {
     "name": "stdout",
     "output_type": "stream",
     "text": [
      "[0]\tvalidation-auc:0.90959\n",
      "[1]\tvalidation-auc:0.90964\n",
      "[2]\tvalidation-auc:0.91113\n",
      "[3]\tvalidation-auc:0.91210\n",
      "[4]\tvalidation-auc:0.91215\n",
      "[5]\tvalidation-auc:0.91241\n",
      "[6]\tvalidation-auc:0.91269\n",
      "[7]\tvalidation-auc:0.91261\n",
      "[8]\tvalidation-auc:0.91285\n",
      "[9]\tvalidation-auc:0.91290\n"
     ]
    },
    {
     "name": "stderr",
     "output_type": "stream",
     "text": [
      "[I 2024-12-24 11:02:39,102] Trial 93 finished with value: 0.8782237470620267 and parameters: {'lambda': 0.5587142948229658, 'alpha': 0.5695039029450136, 'max_depth': 7, 'eta': 0.08961262632642733, 'gamma': 0.8418905746638775, 'grow_policy': 'depthwise'}. Best is trial 89 with value: 0.8791031331606656.\n"
     ]
    },
    {
     "name": "stdout",
     "output_type": "stream",
     "text": [
      "[0]\tvalidation-auc:0.90958\n",
      "[1]\tvalidation-auc:0.91116\n",
      "[2]\tvalidation-auc:0.91336\n",
      "[3]\tvalidation-auc:0.91357\n",
      "[4]\tvalidation-auc:0.91464\n",
      "[5]\tvalidation-auc:0.91448\n",
      "[6]\tvalidation-auc:0.91452\n",
      "[7]\tvalidation-auc:0.91473\n",
      "[8]\tvalidation-auc:0.91517\n",
      "[9]\tvalidation-auc:0.91673\n"
     ]
    },
    {
     "name": "stderr",
     "output_type": "stream",
     "text": [
      "[I 2024-12-24 11:02:39,212] Trial 94 finished with value: 0.8781322780700149 and parameters: {'lambda': 0.5188980305884237, 'alpha': 0.5245728322393853, 'max_depth': 7, 'eta': 0.26628622747526187, 'gamma': 0.7642705821071786, 'grow_policy': 'depthwise'}. Best is trial 89 with value: 0.8791031331606656.\n"
     ]
    },
    {
     "name": "stdout",
     "output_type": "stream",
     "text": [
      "[0]\tvalidation-auc:0.90760\n",
      "[1]\tvalidation-auc:0.91181\n",
      "[2]\tvalidation-auc:0.91255\n",
      "[3]\tvalidation-auc:0.91254\n",
      "[4]\tvalidation-auc:0.91329\n",
      "[5]\tvalidation-auc:0.91321\n",
      "[6]\tvalidation-auc:0.91377\n",
      "[7]\tvalidation-auc:0.91482\n",
      "[8]\tvalidation-auc:0.91479\n",
      "[9]\tvalidation-auc:0.91481\n"
     ]
    },
    {
     "name": "stderr",
     "output_type": "stream",
     "text": [
      "[I 2024-12-24 11:02:39,330] Trial 95 finished with value: 0.8776834916121329 and parameters: {'lambda': 0.32424654354474103, 'alpha': 0.7374459350072431, 'max_depth': 6, 'eta': 0.23057699029341794, 'gamma': 0.982493063866614, 'grow_policy': 'lossguide'}. Best is trial 89 with value: 0.8791031331606656.\n"
     ]
    },
    {
     "name": "stdout",
     "output_type": "stream",
     "text": [
      "[0]\tvalidation-auc:0.90971\n",
      "[1]\tvalidation-auc:0.91216\n",
      "[2]\tvalidation-auc:0.91233\n",
      "[3]\tvalidation-auc:0.91403\n",
      "[4]\tvalidation-auc:0.91435\n",
      "[5]\tvalidation-auc:0.91477\n",
      "[6]\tvalidation-auc:0.91501\n",
      "[7]\tvalidation-auc:0.91541\n",
      "[8]\tvalidation-auc:0.91550\n",
      "[9]\tvalidation-auc:0.91548\n"
     ]
    },
    {
     "name": "stderr",
     "output_type": "stream",
     "text": [
      "[I 2024-12-24 11:02:39,449] Trial 96 finished with value: 0.8783895680416969 and parameters: {'lambda': 0.6001988027155729, 'alpha': 0.604128015921725, 'max_depth': 7, 'eta': 0.3011377216847097, 'gamma': 0.9636125593461331, 'grow_policy': 'depthwise'}. Best is trial 89 with value: 0.8791031331606656.\n"
     ]
    },
    {
     "name": "stdout",
     "output_type": "stream",
     "text": [
      "[0]\tvalidation-auc:0.90958\n",
      "[1]\tvalidation-auc:0.91184\n",
      "[2]\tvalidation-auc:0.91233\n",
      "[3]\tvalidation-auc:0.91258\n",
      "[4]\tvalidation-auc:0.91392\n",
      "[5]\tvalidation-auc:0.91372\n",
      "[6]\tvalidation-auc:0.91399\n",
      "[7]\tvalidation-auc:0.91484\n",
      "[8]\tvalidation-auc:0.91532\n",
      "[9]\tvalidation-auc:0.91544\n"
     ]
    },
    {
     "name": "stderr",
     "output_type": "stream",
     "text": [
      "[I 2024-12-24 11:02:39,586] Trial 97 finished with value: 0.8780980440613089 and parameters: {'lambda': 0.2654676528891729, 'alpha': 0.6398428281374708, 'max_depth': 8, 'eta': 0.1585531048900706, 'gamma': 0.8782068956931538, 'grow_policy': 'depthwise'}. Best is trial 89 with value: 0.8791031331606656.\n"
     ]
    },
    {
     "name": "stdout",
     "output_type": "stream",
     "text": [
      "[0]\tvalidation-auc:0.90681\n",
      "[1]\tvalidation-auc:0.90903\n",
      "[2]\tvalidation-auc:0.91082\n",
      "[3]\tvalidation-auc:0.91080\n",
      "[4]\tvalidation-auc:0.91017\n",
      "[5]\tvalidation-auc:0.91093\n",
      "[6]\tvalidation-auc:0.91077\n",
      "[7]\tvalidation-auc:0.91223\n",
      "[8]\tvalidation-auc:0.91336\n",
      "[9]\tvalidation-auc:0.91340\n"
     ]
    },
    {
     "name": "stderr",
     "output_type": "stream",
     "text": [
      "[I 2024-12-24 11:02:39,717] Trial 98 finished with value: 0.8780311807630546 and parameters: {'lambda': 0.448866765185366, 'alpha': 0.7661032170503793, 'max_depth': 5, 'eta': 0.20091382476672628, 'gamma': 0.8133880146598498, 'grow_policy': 'lossguide'}. Best is trial 89 with value: 0.8791031331606656.\n"
     ]
    },
    {
     "name": "stdout",
     "output_type": "stream",
     "text": [
      "[0]\tvalidation-auc:0.90971\n",
      "[1]\tvalidation-auc:0.90975\n",
      "[2]\tvalidation-auc:0.91126\n",
      "[3]\tvalidation-auc:0.91181\n",
      "[4]\tvalidation-auc:0.91241\n",
      "[5]\tvalidation-auc:0.91258\n",
      "[6]\tvalidation-auc:0.91277\n",
      "[7]\tvalidation-auc:0.91280\n",
      "[8]\tvalidation-auc:0.91290\n",
      "[9]\tvalidation-auc:0.91369\n"
     ]
    },
    {
     "name": "stderr",
     "output_type": "stream",
     "text": [
      "[I 2024-12-24 11:02:39,847] Trial 99 finished with value: 0.8786896505242616 and parameters: {'lambda': 0.3906960020072756, 'alpha': 0.70621533387811, 'max_depth': 7, 'eta': 0.10883868700026444, 'gamma': 0.9364137010192994, 'grow_policy': 'depthwise'}. Best is trial 89 with value: 0.8791031331606656.\n"
     ]
    },
    {
     "name": "stdout",
     "output_type": "stream",
     "text": [
      "Best trial:\n",
      "AUC: 0.8791031331606656\n",
      "Best parameters:  {'lambda': 0.6777908625450508, 'alpha': 0.66764929279712, 'max_depth': 6, 'eta': 0.15695287784429587, 'gamma': 0.7599000497334989, 'grow_policy': 'depthwise'}\n"
     ]
    }
   ],
   "source": [
    "storage = opt.storages.InMemoryStorage()\n",
    "\n",
    "study = opt.create_study(direction=\"maximize\", storage= storage);  # Maximize AUC\n",
    "\n",
    "study.optimize(objective, n_trials=100)\n",
    "\n",
    "print(\"Best trial:\")\n",
    "print(f\"AUC: {study.best_trial.value}\")\n",
    "print(\"Best parameters: \", study.best_trial.params)"
   ]
  },
  {
   "cell_type": "code",
   "execution_count": 43,
   "metadata": {},
   "outputs": [
    {
     "data": {
      "application/vnd.plotly.v1+json": {
       "config": {
        "plotlyServerURL": "https://plot.ly"
       },
       "data": [
        {
         "mode": "markers",
         "name": "Objective Value",
         "type": "scatter",
         "x": [
          0,
          1,
          2,
          3,
          4,
          5,
          6,
          7,
          8,
          9,
          10,
          11,
          12,
          13,
          14,
          15,
          16,
          17,
          18,
          19,
          20,
          21,
          22,
          23,
          24,
          25,
          26,
          27,
          28,
          29,
          30,
          31,
          32,
          33,
          34,
          35,
          36,
          37,
          38,
          39,
          40,
          41,
          42,
          43,
          44,
          45,
          46,
          47,
          48,
          49,
          50,
          51,
          52,
          53,
          54,
          55,
          56,
          57,
          58,
          59,
          60,
          61,
          62,
          63,
          64,
          65,
          66,
          67,
          68,
          69,
          70,
          71,
          72,
          73,
          74,
          75,
          76,
          77,
          78,
          79,
          80,
          81,
          82,
          83,
          84,
          85,
          86,
          87,
          88,
          89,
          90,
          91,
          92,
          93,
          94,
          95,
          96,
          97,
          98,
          99
         ],
         "y": [
          0.8774235271085208,
          0.8766441685040701,
          0.8747682518082509,
          0.8771528644771878,
          0.8769003886629801,
          0.8778407540896267,
          0.8780006910990508,
          0.8783933123863993,
          0.8782847263900344,
          0.8772689391629571,
          0.8779541542434659,
          0.8784676643740579,
          0.8786982090264382,
          0.877654071760901,
          0.8771164908429376,
          0.8663311733813465,
          0.8709393918970242,
          0.8770223473189958,
          0.8752523420876113,
          0.8777920776084978,
          0.8782750980750857,
          0.8780055052565251,
          0.87859818153225,
          0.8767441959982584,
          0.8765088371884037,
          0.8777540992550894,
          0.8788116091802773,
          0.8781408365721916,
          0.876689635546883,
          0.878019947728948,
          0.8763708313408071,
          0.8783676368798696,
          0.8779017334176346,
          0.8784238020504032,
          0.8772272164648465,
          0.8784334303653517,
          0.8783590783776931,
          0.8781274639125407,
          0.8772357749670231,
          0.8783799397267484,
          0.8687863936932397,
          0.8779284787369364,
          0.8763098520127992,
          0.8740193828678042,
          0.8783676368798696,
          0.8776845614249051,
          0.8784323605525797,
          0.8781542092318424,
          0.876001211028058,
          0.8735727360354664,
          0.8781836290830741,
          0.8783189603987406,
          0.8785676918682461,
          0.8785676918682461,
          0.8782713537303837,
          0.877653001948129,
          0.8781274639125407,
          0.8766591458828792,
          0.8783847538842227,
          0.8780359949205291,
          0.8779798297499954,
          0.878167581891493,
          0.8781456507296658,
          0.8782932848922108,
          0.8764633701455907,
          0.87834196137334,
          0.8779712712478188,
          0.8768575961520974,
          0.8768051753262661,
          0.8688045805103649,
          0.8709393918970242,
          0.8782932848922108,
          0.8784323605525797,
          0.8787677468566226,
          0.8782847263900344,
          0.8789201951766423,
          0.8778530569365056,
          0.8788677743508109,
          0.8778091946128508,
          0.8784628502165837,
          0.878340891560568,
          0.878101788406011,
          0.8778017059234462,
          0.8784457332122304,
          0.8778493125918033,
          0.877844498434329,
          0.8780884157463602,
          0.8782932848922108,
          0.8764066700686712,
          0.8791031331606656,
          0.8768271064880935,
          0.8779445259285172,
          0.8783713812245719,
          0.8782237470620267,
          0.8781322780700149,
          0.8776834916121329,
          0.8783895680416969,
          0.8780980440613089,
          0.8780311807630546,
          0.8786896505242616
         ]
        },
        {
         "mode": "lines",
         "name": "Best Value",
         "type": "scatter",
         "x": [
          0,
          1,
          2,
          3,
          4,
          5,
          6,
          7,
          8,
          9,
          10,
          11,
          12,
          13,
          14,
          15,
          16,
          17,
          18,
          19,
          20,
          21,
          22,
          23,
          24,
          25,
          26,
          27,
          28,
          29,
          30,
          31,
          32,
          33,
          34,
          35,
          36,
          37,
          38,
          39,
          40,
          41,
          42,
          43,
          44,
          45,
          46,
          47,
          48,
          49,
          50,
          51,
          52,
          53,
          54,
          55,
          56,
          57,
          58,
          59,
          60,
          61,
          62,
          63,
          64,
          65,
          66,
          67,
          68,
          69,
          70,
          71,
          72,
          73,
          74,
          75,
          76,
          77,
          78,
          79,
          80,
          81,
          82,
          83,
          84,
          85,
          86,
          87,
          88,
          89,
          90,
          91,
          92,
          93,
          94,
          95,
          96,
          97,
          98,
          99
         ],
         "y": [
          0.8774235271085208,
          0.8774235271085208,
          0.8774235271085208,
          0.8774235271085208,
          0.8774235271085208,
          0.8778407540896267,
          0.8780006910990508,
          0.8783933123863993,
          0.8783933123863993,
          0.8783933123863993,
          0.8783933123863993,
          0.8784676643740579,
          0.8786982090264382,
          0.8786982090264382,
          0.8786982090264382,
          0.8786982090264382,
          0.8786982090264382,
          0.8786982090264382,
          0.8786982090264382,
          0.8786982090264382,
          0.8786982090264382,
          0.8786982090264382,
          0.8786982090264382,
          0.8786982090264382,
          0.8786982090264382,
          0.8786982090264382,
          0.8788116091802773,
          0.8788116091802773,
          0.8788116091802773,
          0.8788116091802773,
          0.8788116091802773,
          0.8788116091802773,
          0.8788116091802773,
          0.8788116091802773,
          0.8788116091802773,
          0.8788116091802773,
          0.8788116091802773,
          0.8788116091802773,
          0.8788116091802773,
          0.8788116091802773,
          0.8788116091802773,
          0.8788116091802773,
          0.8788116091802773,
          0.8788116091802773,
          0.8788116091802773,
          0.8788116091802773,
          0.8788116091802773,
          0.8788116091802773,
          0.8788116091802773,
          0.8788116091802773,
          0.8788116091802773,
          0.8788116091802773,
          0.8788116091802773,
          0.8788116091802773,
          0.8788116091802773,
          0.8788116091802773,
          0.8788116091802773,
          0.8788116091802773,
          0.8788116091802773,
          0.8788116091802773,
          0.8788116091802773,
          0.8788116091802773,
          0.8788116091802773,
          0.8788116091802773,
          0.8788116091802773,
          0.8788116091802773,
          0.8788116091802773,
          0.8788116091802773,
          0.8788116091802773,
          0.8788116091802773,
          0.8788116091802773,
          0.8788116091802773,
          0.8788116091802773,
          0.8788116091802773,
          0.8788116091802773,
          0.8789201951766423,
          0.8789201951766423,
          0.8789201951766423,
          0.8789201951766423,
          0.8789201951766423,
          0.8789201951766423,
          0.8789201951766423,
          0.8789201951766423,
          0.8789201951766423,
          0.8789201951766423,
          0.8789201951766423,
          0.8789201951766423,
          0.8789201951766423,
          0.8789201951766423,
          0.8791031331606656,
          0.8791031331606656,
          0.8791031331606656,
          0.8791031331606656,
          0.8791031331606656,
          0.8791031331606656,
          0.8791031331606656,
          0.8791031331606656,
          0.8791031331606656,
          0.8791031331606656,
          0.8791031331606656
         ]
        },
        {
         "marker": {
          "color": "#cccccc"
         },
         "mode": "markers",
         "name": "Infeasible Trial",
         "showlegend": false,
         "type": "scatter",
         "x": [],
         "y": []
        }
       ],
       "layout": {
        "template": {
         "data": {
          "bar": [
           {
            "error_x": {
             "color": "#2a3f5f"
            },
            "error_y": {
             "color": "#2a3f5f"
            },
            "marker": {
             "line": {
              "color": "#E5ECF6",
              "width": 0.5
             },
             "pattern": {
              "fillmode": "overlay",
              "size": 10,
              "solidity": 0.2
             }
            },
            "type": "bar"
           }
          ],
          "barpolar": [
           {
            "marker": {
             "line": {
              "color": "#E5ECF6",
              "width": 0.5
             },
             "pattern": {
              "fillmode": "overlay",
              "size": 10,
              "solidity": 0.2
             }
            },
            "type": "barpolar"
           }
          ],
          "carpet": [
           {
            "aaxis": {
             "endlinecolor": "#2a3f5f",
             "gridcolor": "white",
             "linecolor": "white",
             "minorgridcolor": "white",
             "startlinecolor": "#2a3f5f"
            },
            "baxis": {
             "endlinecolor": "#2a3f5f",
             "gridcolor": "white",
             "linecolor": "white",
             "minorgridcolor": "white",
             "startlinecolor": "#2a3f5f"
            },
            "type": "carpet"
           }
          ],
          "choropleth": [
           {
            "colorbar": {
             "outlinewidth": 0,
             "ticks": ""
            },
            "type": "choropleth"
           }
          ],
          "contour": [
           {
            "colorbar": {
             "outlinewidth": 0,
             "ticks": ""
            },
            "colorscale": [
             [
              0,
              "#0d0887"
             ],
             [
              0.1111111111111111,
              "#46039f"
             ],
             [
              0.2222222222222222,
              "#7201a8"
             ],
             [
              0.3333333333333333,
              "#9c179e"
             ],
             [
              0.4444444444444444,
              "#bd3786"
             ],
             [
              0.5555555555555556,
              "#d8576b"
             ],
             [
              0.6666666666666666,
              "#ed7953"
             ],
             [
              0.7777777777777778,
              "#fb9f3a"
             ],
             [
              0.8888888888888888,
              "#fdca26"
             ],
             [
              1,
              "#f0f921"
             ]
            ],
            "type": "contour"
           }
          ],
          "contourcarpet": [
           {
            "colorbar": {
             "outlinewidth": 0,
             "ticks": ""
            },
            "type": "contourcarpet"
           }
          ],
          "heatmap": [
           {
            "colorbar": {
             "outlinewidth": 0,
             "ticks": ""
            },
            "colorscale": [
             [
              0,
              "#0d0887"
             ],
             [
              0.1111111111111111,
              "#46039f"
             ],
             [
              0.2222222222222222,
              "#7201a8"
             ],
             [
              0.3333333333333333,
              "#9c179e"
             ],
             [
              0.4444444444444444,
              "#bd3786"
             ],
             [
              0.5555555555555556,
              "#d8576b"
             ],
             [
              0.6666666666666666,
              "#ed7953"
             ],
             [
              0.7777777777777778,
              "#fb9f3a"
             ],
             [
              0.8888888888888888,
              "#fdca26"
             ],
             [
              1,
              "#f0f921"
             ]
            ],
            "type": "heatmap"
           }
          ],
          "heatmapgl": [
           {
            "colorbar": {
             "outlinewidth": 0,
             "ticks": ""
            },
            "colorscale": [
             [
              0,
              "#0d0887"
             ],
             [
              0.1111111111111111,
              "#46039f"
             ],
             [
              0.2222222222222222,
              "#7201a8"
             ],
             [
              0.3333333333333333,
              "#9c179e"
             ],
             [
              0.4444444444444444,
              "#bd3786"
             ],
             [
              0.5555555555555556,
              "#d8576b"
             ],
             [
              0.6666666666666666,
              "#ed7953"
             ],
             [
              0.7777777777777778,
              "#fb9f3a"
             ],
             [
              0.8888888888888888,
              "#fdca26"
             ],
             [
              1,
              "#f0f921"
             ]
            ],
            "type": "heatmapgl"
           }
          ],
          "histogram": [
           {
            "marker": {
             "pattern": {
              "fillmode": "overlay",
              "size": 10,
              "solidity": 0.2
             }
            },
            "type": "histogram"
           }
          ],
          "histogram2d": [
           {
            "colorbar": {
             "outlinewidth": 0,
             "ticks": ""
            },
            "colorscale": [
             [
              0,
              "#0d0887"
             ],
             [
              0.1111111111111111,
              "#46039f"
             ],
             [
              0.2222222222222222,
              "#7201a8"
             ],
             [
              0.3333333333333333,
              "#9c179e"
             ],
             [
              0.4444444444444444,
              "#bd3786"
             ],
             [
              0.5555555555555556,
              "#d8576b"
             ],
             [
              0.6666666666666666,
              "#ed7953"
             ],
             [
              0.7777777777777778,
              "#fb9f3a"
             ],
             [
              0.8888888888888888,
              "#fdca26"
             ],
             [
              1,
              "#f0f921"
             ]
            ],
            "type": "histogram2d"
           }
          ],
          "histogram2dcontour": [
           {
            "colorbar": {
             "outlinewidth": 0,
             "ticks": ""
            },
            "colorscale": [
             [
              0,
              "#0d0887"
             ],
             [
              0.1111111111111111,
              "#46039f"
             ],
             [
              0.2222222222222222,
              "#7201a8"
             ],
             [
              0.3333333333333333,
              "#9c179e"
             ],
             [
              0.4444444444444444,
              "#bd3786"
             ],
             [
              0.5555555555555556,
              "#d8576b"
             ],
             [
              0.6666666666666666,
              "#ed7953"
             ],
             [
              0.7777777777777778,
              "#fb9f3a"
             ],
             [
              0.8888888888888888,
              "#fdca26"
             ],
             [
              1,
              "#f0f921"
             ]
            ],
            "type": "histogram2dcontour"
           }
          ],
          "mesh3d": [
           {
            "colorbar": {
             "outlinewidth": 0,
             "ticks": ""
            },
            "type": "mesh3d"
           }
          ],
          "parcoords": [
           {
            "line": {
             "colorbar": {
              "outlinewidth": 0,
              "ticks": ""
             }
            },
            "type": "parcoords"
           }
          ],
          "pie": [
           {
            "automargin": true,
            "type": "pie"
           }
          ],
          "scatter": [
           {
            "fillpattern": {
             "fillmode": "overlay",
             "size": 10,
             "solidity": 0.2
            },
            "type": "scatter"
           }
          ],
          "scatter3d": [
           {
            "line": {
             "colorbar": {
              "outlinewidth": 0,
              "ticks": ""
             }
            },
            "marker": {
             "colorbar": {
              "outlinewidth": 0,
              "ticks": ""
             }
            },
            "type": "scatter3d"
           }
          ],
          "scattercarpet": [
           {
            "marker": {
             "colorbar": {
              "outlinewidth": 0,
              "ticks": ""
             }
            },
            "type": "scattercarpet"
           }
          ],
          "scattergeo": [
           {
            "marker": {
             "colorbar": {
              "outlinewidth": 0,
              "ticks": ""
             }
            },
            "type": "scattergeo"
           }
          ],
          "scattergl": [
           {
            "marker": {
             "colorbar": {
              "outlinewidth": 0,
              "ticks": ""
             }
            },
            "type": "scattergl"
           }
          ],
          "scattermapbox": [
           {
            "marker": {
             "colorbar": {
              "outlinewidth": 0,
              "ticks": ""
             }
            },
            "type": "scattermapbox"
           }
          ],
          "scatterpolar": [
           {
            "marker": {
             "colorbar": {
              "outlinewidth": 0,
              "ticks": ""
             }
            },
            "type": "scatterpolar"
           }
          ],
          "scatterpolargl": [
           {
            "marker": {
             "colorbar": {
              "outlinewidth": 0,
              "ticks": ""
             }
            },
            "type": "scatterpolargl"
           }
          ],
          "scatterternary": [
           {
            "marker": {
             "colorbar": {
              "outlinewidth": 0,
              "ticks": ""
             }
            },
            "type": "scatterternary"
           }
          ],
          "surface": [
           {
            "colorbar": {
             "outlinewidth": 0,
             "ticks": ""
            },
            "colorscale": [
             [
              0,
              "#0d0887"
             ],
             [
              0.1111111111111111,
              "#46039f"
             ],
             [
              0.2222222222222222,
              "#7201a8"
             ],
             [
              0.3333333333333333,
              "#9c179e"
             ],
             [
              0.4444444444444444,
              "#bd3786"
             ],
             [
              0.5555555555555556,
              "#d8576b"
             ],
             [
              0.6666666666666666,
              "#ed7953"
             ],
             [
              0.7777777777777778,
              "#fb9f3a"
             ],
             [
              0.8888888888888888,
              "#fdca26"
             ],
             [
              1,
              "#f0f921"
             ]
            ],
            "type": "surface"
           }
          ],
          "table": [
           {
            "cells": {
             "fill": {
              "color": "#EBF0F8"
             },
             "line": {
              "color": "white"
             }
            },
            "header": {
             "fill": {
              "color": "#C8D4E3"
             },
             "line": {
              "color": "white"
             }
            },
            "type": "table"
           }
          ]
         },
         "layout": {
          "annotationdefaults": {
           "arrowcolor": "#2a3f5f",
           "arrowhead": 0,
           "arrowwidth": 1
          },
          "autotypenumbers": "strict",
          "coloraxis": {
           "colorbar": {
            "outlinewidth": 0,
            "ticks": ""
           }
          },
          "colorscale": {
           "diverging": [
            [
             0,
             "#8e0152"
            ],
            [
             0.1,
             "#c51b7d"
            ],
            [
             0.2,
             "#de77ae"
            ],
            [
             0.3,
             "#f1b6da"
            ],
            [
             0.4,
             "#fde0ef"
            ],
            [
             0.5,
             "#f7f7f7"
            ],
            [
             0.6,
             "#e6f5d0"
            ],
            [
             0.7,
             "#b8e186"
            ],
            [
             0.8,
             "#7fbc41"
            ],
            [
             0.9,
             "#4d9221"
            ],
            [
             1,
             "#276419"
            ]
           ],
           "sequential": [
            [
             0,
             "#0d0887"
            ],
            [
             0.1111111111111111,
             "#46039f"
            ],
            [
             0.2222222222222222,
             "#7201a8"
            ],
            [
             0.3333333333333333,
             "#9c179e"
            ],
            [
             0.4444444444444444,
             "#bd3786"
            ],
            [
             0.5555555555555556,
             "#d8576b"
            ],
            [
             0.6666666666666666,
             "#ed7953"
            ],
            [
             0.7777777777777778,
             "#fb9f3a"
            ],
            [
             0.8888888888888888,
             "#fdca26"
            ],
            [
             1,
             "#f0f921"
            ]
           ],
           "sequentialminus": [
            [
             0,
             "#0d0887"
            ],
            [
             0.1111111111111111,
             "#46039f"
            ],
            [
             0.2222222222222222,
             "#7201a8"
            ],
            [
             0.3333333333333333,
             "#9c179e"
            ],
            [
             0.4444444444444444,
             "#bd3786"
            ],
            [
             0.5555555555555556,
             "#d8576b"
            ],
            [
             0.6666666666666666,
             "#ed7953"
            ],
            [
             0.7777777777777778,
             "#fb9f3a"
            ],
            [
             0.8888888888888888,
             "#fdca26"
            ],
            [
             1,
             "#f0f921"
            ]
           ]
          },
          "colorway": [
           "#636efa",
           "#EF553B",
           "#00cc96",
           "#ab63fa",
           "#FFA15A",
           "#19d3f3",
           "#FF6692",
           "#B6E880",
           "#FF97FF",
           "#FECB52"
          ],
          "font": {
           "color": "#2a3f5f"
          },
          "geo": {
           "bgcolor": "white",
           "lakecolor": "white",
           "landcolor": "#E5ECF6",
           "showlakes": true,
           "showland": true,
           "subunitcolor": "white"
          },
          "hoverlabel": {
           "align": "left"
          },
          "hovermode": "closest",
          "mapbox": {
           "style": "light"
          },
          "paper_bgcolor": "white",
          "plot_bgcolor": "#E5ECF6",
          "polar": {
           "angularaxis": {
            "gridcolor": "white",
            "linecolor": "white",
            "ticks": ""
           },
           "bgcolor": "#E5ECF6",
           "radialaxis": {
            "gridcolor": "white",
            "linecolor": "white",
            "ticks": ""
           }
          },
          "scene": {
           "xaxis": {
            "backgroundcolor": "#E5ECF6",
            "gridcolor": "white",
            "gridwidth": 2,
            "linecolor": "white",
            "showbackground": true,
            "ticks": "",
            "zerolinecolor": "white"
           },
           "yaxis": {
            "backgroundcolor": "#E5ECF6",
            "gridcolor": "white",
            "gridwidth": 2,
            "linecolor": "white",
            "showbackground": true,
            "ticks": "",
            "zerolinecolor": "white"
           },
           "zaxis": {
            "backgroundcolor": "#E5ECF6",
            "gridcolor": "white",
            "gridwidth": 2,
            "linecolor": "white",
            "showbackground": true,
            "ticks": "",
            "zerolinecolor": "white"
           }
          },
          "shapedefaults": {
           "line": {
            "color": "#2a3f5f"
           }
          },
          "ternary": {
           "aaxis": {
            "gridcolor": "white",
            "linecolor": "white",
            "ticks": ""
           },
           "baxis": {
            "gridcolor": "white",
            "linecolor": "white",
            "ticks": ""
           },
           "bgcolor": "#E5ECF6",
           "caxis": {
            "gridcolor": "white",
            "linecolor": "white",
            "ticks": ""
           }
          },
          "title": {
           "x": 0.05
          },
          "xaxis": {
           "automargin": true,
           "gridcolor": "white",
           "linecolor": "white",
           "ticks": "",
           "title": {
            "standoff": 15
           },
           "zerolinecolor": "white",
           "zerolinewidth": 2
          },
          "yaxis": {
           "automargin": true,
           "gridcolor": "white",
           "linecolor": "white",
           "ticks": "",
           "title": {
            "standoff": 15
           },
           "zerolinecolor": "white",
           "zerolinewidth": 2
          }
         }
        },
        "title": {
         "text": "Optimization History Plot"
        },
        "xaxis": {
         "title": {
          "text": "Trial"
         }
        },
        "yaxis": {
         "title": {
          "text": "Objective Value"
         }
        }
       }
      }
     },
     "metadata": {},
     "output_type": "display_data"
    }
   ],
   "source": [
    "vis.plot_optimization_history(study)"
   ]
  },
  {
   "cell_type": "code",
   "execution_count": 44,
   "metadata": {},
   "outputs": [
    {
     "data": {
      "application/vnd.plotly.v1+json": {
       "config": {
        "plotlyServerURL": "https://plot.ly"
       },
       "data": [
        {
         "cliponaxis": false,
         "hovertemplate": [
          "lambda (FloatDistribution): 0.0015830379558308444<extra></extra>",
          "gamma (FloatDistribution): 0.0028944821677384393<extra></extra>",
          "grow_policy (CategoricalDistribution): 0.0032664121114980163<extra></extra>",
          "alpha (FloatDistribution): 0.031423128415331514<extra></extra>",
          "max_depth (IntDistribution): 0.22657645690221262<extra></extra>",
          "eta (FloatDistribution): 0.7342564824473885<extra></extra>"
         ],
         "name": "Objective Value",
         "orientation": "h",
         "text": [
          "<0.01",
          "<0.01",
          "<0.01",
          "0.03",
          "0.23",
          "0.73"
         ],
         "textposition": "outside",
         "type": "bar",
         "x": [
          0.0015830379558308444,
          0.0028944821677384393,
          0.0032664121114980163,
          0.031423128415331514,
          0.22657645690221262,
          0.7342564824473885
         ],
         "y": [
          "lambda",
          "gamma",
          "grow_policy",
          "alpha",
          "max_depth",
          "eta"
         ]
        }
       ],
       "layout": {
        "template": {
         "data": {
          "bar": [
           {
            "error_x": {
             "color": "#2a3f5f"
            },
            "error_y": {
             "color": "#2a3f5f"
            },
            "marker": {
             "line": {
              "color": "#E5ECF6",
              "width": 0.5
             },
             "pattern": {
              "fillmode": "overlay",
              "size": 10,
              "solidity": 0.2
             }
            },
            "type": "bar"
           }
          ],
          "barpolar": [
           {
            "marker": {
             "line": {
              "color": "#E5ECF6",
              "width": 0.5
             },
             "pattern": {
              "fillmode": "overlay",
              "size": 10,
              "solidity": 0.2
             }
            },
            "type": "barpolar"
           }
          ],
          "carpet": [
           {
            "aaxis": {
             "endlinecolor": "#2a3f5f",
             "gridcolor": "white",
             "linecolor": "white",
             "minorgridcolor": "white",
             "startlinecolor": "#2a3f5f"
            },
            "baxis": {
             "endlinecolor": "#2a3f5f",
             "gridcolor": "white",
             "linecolor": "white",
             "minorgridcolor": "white",
             "startlinecolor": "#2a3f5f"
            },
            "type": "carpet"
           }
          ],
          "choropleth": [
           {
            "colorbar": {
             "outlinewidth": 0,
             "ticks": ""
            },
            "type": "choropleth"
           }
          ],
          "contour": [
           {
            "colorbar": {
             "outlinewidth": 0,
             "ticks": ""
            },
            "colorscale": [
             [
              0,
              "#0d0887"
             ],
             [
              0.1111111111111111,
              "#46039f"
             ],
             [
              0.2222222222222222,
              "#7201a8"
             ],
             [
              0.3333333333333333,
              "#9c179e"
             ],
             [
              0.4444444444444444,
              "#bd3786"
             ],
             [
              0.5555555555555556,
              "#d8576b"
             ],
             [
              0.6666666666666666,
              "#ed7953"
             ],
             [
              0.7777777777777778,
              "#fb9f3a"
             ],
             [
              0.8888888888888888,
              "#fdca26"
             ],
             [
              1,
              "#f0f921"
             ]
            ],
            "type": "contour"
           }
          ],
          "contourcarpet": [
           {
            "colorbar": {
             "outlinewidth": 0,
             "ticks": ""
            },
            "type": "contourcarpet"
           }
          ],
          "heatmap": [
           {
            "colorbar": {
             "outlinewidth": 0,
             "ticks": ""
            },
            "colorscale": [
             [
              0,
              "#0d0887"
             ],
             [
              0.1111111111111111,
              "#46039f"
             ],
             [
              0.2222222222222222,
              "#7201a8"
             ],
             [
              0.3333333333333333,
              "#9c179e"
             ],
             [
              0.4444444444444444,
              "#bd3786"
             ],
             [
              0.5555555555555556,
              "#d8576b"
             ],
             [
              0.6666666666666666,
              "#ed7953"
             ],
             [
              0.7777777777777778,
              "#fb9f3a"
             ],
             [
              0.8888888888888888,
              "#fdca26"
             ],
             [
              1,
              "#f0f921"
             ]
            ],
            "type": "heatmap"
           }
          ],
          "heatmapgl": [
           {
            "colorbar": {
             "outlinewidth": 0,
             "ticks": ""
            },
            "colorscale": [
             [
              0,
              "#0d0887"
             ],
             [
              0.1111111111111111,
              "#46039f"
             ],
             [
              0.2222222222222222,
              "#7201a8"
             ],
             [
              0.3333333333333333,
              "#9c179e"
             ],
             [
              0.4444444444444444,
              "#bd3786"
             ],
             [
              0.5555555555555556,
              "#d8576b"
             ],
             [
              0.6666666666666666,
              "#ed7953"
             ],
             [
              0.7777777777777778,
              "#fb9f3a"
             ],
             [
              0.8888888888888888,
              "#fdca26"
             ],
             [
              1,
              "#f0f921"
             ]
            ],
            "type": "heatmapgl"
           }
          ],
          "histogram": [
           {
            "marker": {
             "pattern": {
              "fillmode": "overlay",
              "size": 10,
              "solidity": 0.2
             }
            },
            "type": "histogram"
           }
          ],
          "histogram2d": [
           {
            "colorbar": {
             "outlinewidth": 0,
             "ticks": ""
            },
            "colorscale": [
             [
              0,
              "#0d0887"
             ],
             [
              0.1111111111111111,
              "#46039f"
             ],
             [
              0.2222222222222222,
              "#7201a8"
             ],
             [
              0.3333333333333333,
              "#9c179e"
             ],
             [
              0.4444444444444444,
              "#bd3786"
             ],
             [
              0.5555555555555556,
              "#d8576b"
             ],
             [
              0.6666666666666666,
              "#ed7953"
             ],
             [
              0.7777777777777778,
              "#fb9f3a"
             ],
             [
              0.8888888888888888,
              "#fdca26"
             ],
             [
              1,
              "#f0f921"
             ]
            ],
            "type": "histogram2d"
           }
          ],
          "histogram2dcontour": [
           {
            "colorbar": {
             "outlinewidth": 0,
             "ticks": ""
            },
            "colorscale": [
             [
              0,
              "#0d0887"
             ],
             [
              0.1111111111111111,
              "#46039f"
             ],
             [
              0.2222222222222222,
              "#7201a8"
             ],
             [
              0.3333333333333333,
              "#9c179e"
             ],
             [
              0.4444444444444444,
              "#bd3786"
             ],
             [
              0.5555555555555556,
              "#d8576b"
             ],
             [
              0.6666666666666666,
              "#ed7953"
             ],
             [
              0.7777777777777778,
              "#fb9f3a"
             ],
             [
              0.8888888888888888,
              "#fdca26"
             ],
             [
              1,
              "#f0f921"
             ]
            ],
            "type": "histogram2dcontour"
           }
          ],
          "mesh3d": [
           {
            "colorbar": {
             "outlinewidth": 0,
             "ticks": ""
            },
            "type": "mesh3d"
           }
          ],
          "parcoords": [
           {
            "line": {
             "colorbar": {
              "outlinewidth": 0,
              "ticks": ""
             }
            },
            "type": "parcoords"
           }
          ],
          "pie": [
           {
            "automargin": true,
            "type": "pie"
           }
          ],
          "scatter": [
           {
            "fillpattern": {
             "fillmode": "overlay",
             "size": 10,
             "solidity": 0.2
            },
            "type": "scatter"
           }
          ],
          "scatter3d": [
           {
            "line": {
             "colorbar": {
              "outlinewidth": 0,
              "ticks": ""
             }
            },
            "marker": {
             "colorbar": {
              "outlinewidth": 0,
              "ticks": ""
             }
            },
            "type": "scatter3d"
           }
          ],
          "scattercarpet": [
           {
            "marker": {
             "colorbar": {
              "outlinewidth": 0,
              "ticks": ""
             }
            },
            "type": "scattercarpet"
           }
          ],
          "scattergeo": [
           {
            "marker": {
             "colorbar": {
              "outlinewidth": 0,
              "ticks": ""
             }
            },
            "type": "scattergeo"
           }
          ],
          "scattergl": [
           {
            "marker": {
             "colorbar": {
              "outlinewidth": 0,
              "ticks": ""
             }
            },
            "type": "scattergl"
           }
          ],
          "scattermapbox": [
           {
            "marker": {
             "colorbar": {
              "outlinewidth": 0,
              "ticks": ""
             }
            },
            "type": "scattermapbox"
           }
          ],
          "scatterpolar": [
           {
            "marker": {
             "colorbar": {
              "outlinewidth": 0,
              "ticks": ""
             }
            },
            "type": "scatterpolar"
           }
          ],
          "scatterpolargl": [
           {
            "marker": {
             "colorbar": {
              "outlinewidth": 0,
              "ticks": ""
             }
            },
            "type": "scatterpolargl"
           }
          ],
          "scatterternary": [
           {
            "marker": {
             "colorbar": {
              "outlinewidth": 0,
              "ticks": ""
             }
            },
            "type": "scatterternary"
           }
          ],
          "surface": [
           {
            "colorbar": {
             "outlinewidth": 0,
             "ticks": ""
            },
            "colorscale": [
             [
              0,
              "#0d0887"
             ],
             [
              0.1111111111111111,
              "#46039f"
             ],
             [
              0.2222222222222222,
              "#7201a8"
             ],
             [
              0.3333333333333333,
              "#9c179e"
             ],
             [
              0.4444444444444444,
              "#bd3786"
             ],
             [
              0.5555555555555556,
              "#d8576b"
             ],
             [
              0.6666666666666666,
              "#ed7953"
             ],
             [
              0.7777777777777778,
              "#fb9f3a"
             ],
             [
              0.8888888888888888,
              "#fdca26"
             ],
             [
              1,
              "#f0f921"
             ]
            ],
            "type": "surface"
           }
          ],
          "table": [
           {
            "cells": {
             "fill": {
              "color": "#EBF0F8"
             },
             "line": {
              "color": "white"
             }
            },
            "header": {
             "fill": {
              "color": "#C8D4E3"
             },
             "line": {
              "color": "white"
             }
            },
            "type": "table"
           }
          ]
         },
         "layout": {
          "annotationdefaults": {
           "arrowcolor": "#2a3f5f",
           "arrowhead": 0,
           "arrowwidth": 1
          },
          "autotypenumbers": "strict",
          "coloraxis": {
           "colorbar": {
            "outlinewidth": 0,
            "ticks": ""
           }
          },
          "colorscale": {
           "diverging": [
            [
             0,
             "#8e0152"
            ],
            [
             0.1,
             "#c51b7d"
            ],
            [
             0.2,
             "#de77ae"
            ],
            [
             0.3,
             "#f1b6da"
            ],
            [
             0.4,
             "#fde0ef"
            ],
            [
             0.5,
             "#f7f7f7"
            ],
            [
             0.6,
             "#e6f5d0"
            ],
            [
             0.7,
             "#b8e186"
            ],
            [
             0.8,
             "#7fbc41"
            ],
            [
             0.9,
             "#4d9221"
            ],
            [
             1,
             "#276419"
            ]
           ],
           "sequential": [
            [
             0,
             "#0d0887"
            ],
            [
             0.1111111111111111,
             "#46039f"
            ],
            [
             0.2222222222222222,
             "#7201a8"
            ],
            [
             0.3333333333333333,
             "#9c179e"
            ],
            [
             0.4444444444444444,
             "#bd3786"
            ],
            [
             0.5555555555555556,
             "#d8576b"
            ],
            [
             0.6666666666666666,
             "#ed7953"
            ],
            [
             0.7777777777777778,
             "#fb9f3a"
            ],
            [
             0.8888888888888888,
             "#fdca26"
            ],
            [
             1,
             "#f0f921"
            ]
           ],
           "sequentialminus": [
            [
             0,
             "#0d0887"
            ],
            [
             0.1111111111111111,
             "#46039f"
            ],
            [
             0.2222222222222222,
             "#7201a8"
            ],
            [
             0.3333333333333333,
             "#9c179e"
            ],
            [
             0.4444444444444444,
             "#bd3786"
            ],
            [
             0.5555555555555556,
             "#d8576b"
            ],
            [
             0.6666666666666666,
             "#ed7953"
            ],
            [
             0.7777777777777778,
             "#fb9f3a"
            ],
            [
             0.8888888888888888,
             "#fdca26"
            ],
            [
             1,
             "#f0f921"
            ]
           ]
          },
          "colorway": [
           "#636efa",
           "#EF553B",
           "#00cc96",
           "#ab63fa",
           "#FFA15A",
           "#19d3f3",
           "#FF6692",
           "#B6E880",
           "#FF97FF",
           "#FECB52"
          ],
          "font": {
           "color": "#2a3f5f"
          },
          "geo": {
           "bgcolor": "white",
           "lakecolor": "white",
           "landcolor": "#E5ECF6",
           "showlakes": true,
           "showland": true,
           "subunitcolor": "white"
          },
          "hoverlabel": {
           "align": "left"
          },
          "hovermode": "closest",
          "mapbox": {
           "style": "light"
          },
          "paper_bgcolor": "white",
          "plot_bgcolor": "#E5ECF6",
          "polar": {
           "angularaxis": {
            "gridcolor": "white",
            "linecolor": "white",
            "ticks": ""
           },
           "bgcolor": "#E5ECF6",
           "radialaxis": {
            "gridcolor": "white",
            "linecolor": "white",
            "ticks": ""
           }
          },
          "scene": {
           "xaxis": {
            "backgroundcolor": "#E5ECF6",
            "gridcolor": "white",
            "gridwidth": 2,
            "linecolor": "white",
            "showbackground": true,
            "ticks": "",
            "zerolinecolor": "white"
           },
           "yaxis": {
            "backgroundcolor": "#E5ECF6",
            "gridcolor": "white",
            "gridwidth": 2,
            "linecolor": "white",
            "showbackground": true,
            "ticks": "",
            "zerolinecolor": "white"
           },
           "zaxis": {
            "backgroundcolor": "#E5ECF6",
            "gridcolor": "white",
            "gridwidth": 2,
            "linecolor": "white",
            "showbackground": true,
            "ticks": "",
            "zerolinecolor": "white"
           }
          },
          "shapedefaults": {
           "line": {
            "color": "#2a3f5f"
           }
          },
          "ternary": {
           "aaxis": {
            "gridcolor": "white",
            "linecolor": "white",
            "ticks": ""
           },
           "baxis": {
            "gridcolor": "white",
            "linecolor": "white",
            "ticks": ""
           },
           "bgcolor": "#E5ECF6",
           "caxis": {
            "gridcolor": "white",
            "linecolor": "white",
            "ticks": ""
           }
          },
          "title": {
           "x": 0.05
          },
          "xaxis": {
           "automargin": true,
           "gridcolor": "white",
           "linecolor": "white",
           "ticks": "",
           "title": {
            "standoff": 15
           },
           "zerolinecolor": "white",
           "zerolinewidth": 2
          },
          "yaxis": {
           "automargin": true,
           "gridcolor": "white",
           "linecolor": "white",
           "ticks": "",
           "title": {
            "standoff": 15
           },
           "zerolinecolor": "white",
           "zerolinewidth": 2
          }
         }
        },
        "title": {
         "text": "Hyperparameter Importances"
        },
        "xaxis": {
         "title": {
          "text": "Hyperparameter Importance"
         }
        },
        "yaxis": {
         "title": {
          "text": "Hyperparameter"
         }
        }
       }
      }
     },
     "metadata": {},
     "output_type": "display_data"
    }
   ],
   "source": [
    "vis.plot_param_importances(study)"
   ]
  },
  {
   "cell_type": "code",
   "execution_count": 45,
   "metadata": {},
   "outputs": [
    {
     "data": {
      "application/vnd.plotly.v1+json": {
       "config": {
        "plotlyServerURL": "https://plot.ly"
       },
       "data": [
        {
         "dimensions": [
          {
           "label": "Objective Value",
           "range": [
            0.8663311733813465,
            0.8791031331606656
           ],
           "values": [
            0.8774235271085208,
            0.8766441685040701,
            0.8747682518082509,
            0.8771528644771878,
            0.8769003886629801,
            0.8778407540896267,
            0.8780006910990508,
            0.8783933123863993,
            0.8782847263900344,
            0.8772689391629571,
            0.8779541542434659,
            0.8784676643740579,
            0.8786982090264382,
            0.877654071760901,
            0.8771164908429376,
            0.8663311733813465,
            0.8709393918970242,
            0.8770223473189958,
            0.8752523420876113,
            0.8777920776084978,
            0.8782750980750857,
            0.8780055052565251,
            0.87859818153225,
            0.8767441959982584,
            0.8765088371884037,
            0.8777540992550894,
            0.8788116091802773,
            0.8781408365721916,
            0.876689635546883,
            0.878019947728948,
            0.8763708313408071,
            0.8783676368798696,
            0.8779017334176346,
            0.8784238020504032,
            0.8772272164648465,
            0.8784334303653517,
            0.8783590783776931,
            0.8781274639125407,
            0.8772357749670231,
            0.8783799397267484,
            0.8687863936932397,
            0.8779284787369364,
            0.8763098520127992,
            0.8740193828678042,
            0.8783676368798696,
            0.8776845614249051,
            0.8784323605525797,
            0.8781542092318424,
            0.876001211028058,
            0.8735727360354664,
            0.8781836290830741,
            0.8783189603987406,
            0.8785676918682461,
            0.8785676918682461,
            0.8782713537303837,
            0.877653001948129,
            0.8781274639125407,
            0.8766591458828792,
            0.8783847538842227,
            0.8780359949205291,
            0.8779798297499954,
            0.878167581891493,
            0.8781456507296658,
            0.8782932848922108,
            0.8764633701455907,
            0.87834196137334,
            0.8779712712478188,
            0.8768575961520974,
            0.8768051753262661,
            0.8688045805103649,
            0.8709393918970242,
            0.8782932848922108,
            0.8784323605525797,
            0.8787677468566226,
            0.8782847263900344,
            0.8789201951766423,
            0.8778530569365056,
            0.8788677743508109,
            0.8778091946128508,
            0.8784628502165837,
            0.878340891560568,
            0.878101788406011,
            0.8778017059234462,
            0.8784457332122304,
            0.8778493125918033,
            0.877844498434329,
            0.8780884157463602,
            0.8782932848922108,
            0.8764066700686712,
            0.8791031331606656,
            0.8768271064880935,
            0.8779445259285172,
            0.8783713812245719,
            0.8782237470620267,
            0.8781322780700149,
            0.8776834916121329,
            0.8783895680416969,
            0.8780980440613089,
            0.8780311807630546,
            0.8786896505242616
           ]
          },
          {
           "label": "alpha",
           "range": [
            0.003928934343442436,
            0.9994296172643942
           ],
           "values": [
            0.1386825444794546,
            0.9010266231405415,
            0.7730087875249179,
            0.038793232847074435,
            0.3129412152600667,
            0.44748066908826173,
            0.2503852034435169,
            0.440890592057632,
            0.2636877926377177,
            0.03674913981055097,
            0.6320409547377825,
            0.44883236352367434,
            0.5195105142906442,
            0.6210967559882685,
            0.6195494266230588,
            0.5013418673439088,
            0.9994296172643942,
            0.3691141192823989,
            0.7539463676069249,
            0.5304511487480479,
            0.7392418669227112,
            0.42592976376307695,
            0.5321698145783063,
            0.5527843472471267,
            0.3666424307061851,
            0.6619454621276026,
            0.14839076112450217,
            0.16939108138706205,
            0.17289845074892274,
            0.10302699821290445,
            0.5584956180774135,
            0.3552248119559414,
            0.7006845948306896,
            0.4733160660707839,
            0.2319369683395267,
            0.8272713585561312,
            0.5745775078735926,
            0.8248011120138158,
            0.30309670286284135,
            0.003928934343442436,
            0.4112101945056659,
            0.8237641648699535,
            0.9554924906886701,
            0.9178224194182669,
            0.10883207037909326,
            0.6846611440262103,
            0.8276918287696815,
            0.5056359921682173,
            0.27904402380571625,
            0.5793188907606628,
            0.21766826934858938,
            0.8061291811986627,
            0.8641185789942218,
            0.884423708653457,
            0.8776114065591101,
            0.9820022066810355,
            0.876549670963997,
            0.6130994021393502,
            0.7267606947779315,
            0.9305568879970147,
            0.3983845335644549,
            0.7813950311397476,
            0.8583806428506457,
            0.46158976596269274,
            0.9514807825892706,
            0.7714293836062395,
            0.9014359195973489,
            0.6609423288229179,
            0.506007387535341,
            0.33596629951590506,
            0.8569819807787866,
            0.8049641155012603,
            0.8430424937046243,
            0.7143987295224592,
            0.5967995126280798,
            0.7447013985246016,
            0.7204576759399036,
            0.6422135649661401,
            0.6460567066591617,
            0.6881733215669976,
            0.5360881871115637,
            0.7497442454401921,
            0.4860156374305437,
            0.7082550519501929,
            0.5498500629074573,
            0.4334717507493007,
            0.6335466038057219,
            0.5958761685374612,
            0.7803502192449282,
            0.66764929279712,
            0.6676439308673101,
            0.05061470267471058,
            0.675941364261562,
            0.5695039029450136,
            0.5245728322393853,
            0.7374459350072431,
            0.604128015921725,
            0.6398428281374708,
            0.7661032170503793,
            0.70621533387811
           ]
          },
          {
           "label": "eta",
           "range": [
            0.0014628280687435241,
            0.986509577265946
           ],
           "values": [
            0.23827385524216274,
            0.8047242373545667,
            0.8606077459746414,
            0.33316919707224285,
            0.45858231864597215,
            0.04125401570649334,
            0.6146072491761762,
            0.08462781786284292,
            0.37045785338680937,
            0.6032561742980403,
            0.03815567575583626,
            0.21937582249448306,
            0.16613515300109394,
            0.22377777639896457,
            0.18970068193922635,
            0.986509577265946,
            0.15134892396341645,
            0.3153939832055339,
            0.4776737754690507,
            0.5816483079430997,
            0.12600111875635728,
            0.006168202282126889,
            0.106851174492543,
            0.2900202453617343,
            0.41050272388465747,
            0.1369606050114757,
            0.2528017887490327,
            0.26358014223336923,
            0.09765414734670012,
            0.1967663921507843,
            0.3951647337056827,
            0.24198089965743952,
            0.1748095125801275,
            0.0682407546116619,
            0.7054096999651515,
            0.3254517152806052,
            0.2468321841432647,
            0.005900114608791557,
            0.12559004220950265,
            0.3639165717992614,
            0.5607104365135811,
            0.30573368134252443,
            0.44541595813702445,
            0.3492690778517141,
            0.20990184917166238,
            0.27640127268122905,
            0.07722895887029231,
            0.17311146899537644,
            0.3334973100104781,
            0.5324164374307125,
            0.2037014691412965,
            0.1208441216283345,
            0.0659845779123926,
            0.0662828109224107,
            0.03746954047765737,
            0.04136021975077346,
            0.15204720411908934,
            0.08724082670316241,
            0.052135492800819416,
            0.0014628280687435241,
            0.16122617679083992,
            0.24069696856360534,
            0.09712751147302336,
            0.11426279179219508,
            0.6637585975466944,
            0.2224408797668055,
            0.28201283343506345,
            0.18723990830290826,
            0.4211729519721513,
            0.9128974028260979,
            0.14124552529782325,
            0.04846702462696101,
            0.07548427907909229,
            0.09976775441570906,
            0.10923466871591901,
            0.163782035851141,
            0.02111193312009687,
            0.15530646453910676,
            0.15483911639849907,
            0.05945986730926506,
            0.1808446850300024,
            0.13730858027961576,
            0.2155831661309349,
            0.09725369533204736,
            0.25213221382962003,
            0.026889152405010656,
            0.1913899196463972,
            0.1203168888344529,
            0.06640134345601727,
            0.15695287784429587,
            0.7830787448272469,
            0.17125410158389298,
            0.1386858080639461,
            0.08961262632642733,
            0.26628622747526187,
            0.23057699029341794,
            0.3011377216847097,
            0.1585531048900706,
            0.20091382476672628,
            0.10883868700026444
           ]
          },
          {
           "label": "gamma",
           "range": [
            0.0011576159634490435,
            0.9997536423937265
           ],
           "values": [
            0.18532251737294844,
            0.11864256895487309,
            0.8529739565787992,
            0.38048086171711154,
            0.09518271605649901,
            0.4539501764077267,
            0.8684084439853984,
            0.9577632723860522,
            0.8647239390186324,
            0.07657236101458455,
            0.6474894767902655,
            0.9947036392432221,
            0.9988592462321385,
            0.6462119496095329,
            0.9978294775251874,
            0.7014396901059248,
            0.7612998767165413,
            0.2925757947895342,
            0.6003641112438005,
            0.7823920959681094,
            0.5458643852801488,
            0.996558552965295,
            0.9308438740451204,
            0.9091603511975537,
            0.7835144279228209,
            0.9270140902449218,
            0.7979738227253611,
            0.7890595390777788,
            0.7053436628047947,
            0.8686572465605183,
            0.0011576159634490435,
            0.936350539688693,
            0.9997536423937265,
            0.8262955207292736,
            0.9151404875999712,
            0.8271924434088733,
            0.9499400538796732,
            0.3096341129556556,
            0.7323700486815775,
            0.45794575801696263,
            0.8830138803412402,
            0.8022530658992856,
            0.8450410031003524,
            0.8974291231786053,
            0.9590939890432713,
            0.8422265149089427,
            0.9600040521779274,
            0.6632332622550374,
            0.5895758539573823,
            0.7443513516567064,
            0.8279355329107172,
            0.9620082323079169,
            0.9657454274869375,
            0.8903639885844359,
            0.9951931088677821,
            0.8895978300162157,
            0.9356335051921219,
            0.8784607598749952,
            0.9733581071341455,
            0.9210442273754174,
            0.23479520767171214,
            0.8085150439910498,
            0.859195894764163,
            0.9065380027612191,
            0.9911915367491884,
            0.9337235597219832,
            0.7750980622464636,
            0.861858002284038,
            0.7121076719852635,
            0.3762479159563153,
            0.9746197856457351,
            0.948943678743308,
            0.8971114288283599,
            0.9677363929283285,
            0.9217713313551599,
            0.8251073950066338,
            0.9993778441122514,
            0.9723594942056649,
            0.8813329687529509,
            0.9455992318160308,
            0.8206276693780534,
            0.9754923164601521,
            0.9148475265999428,
            0.8567352287834151,
            0.9496134902264857,
            0.9734960505271052,
            0.903204167823167,
            0.9312837262675625,
            0.5248575948035232,
            0.7599000497334989,
            0.7432296035695618,
            0.6687146441287111,
            0.7908757041519263,
            0.8418905746638775,
            0.7642705821071786,
            0.982493063866614,
            0.9636125593461331,
            0.8782068956931538,
            0.8133880146598498,
            0.9364137010192994
           ]
          },
          {
           "label": "grow_policy",
           "range": [
            0,
            1
           ],
           "ticktext": [
            "depthwise",
            "lossguide"
           ],
           "tickvals": [
            0,
            1
           ],
           "values": [
            0,
            0,
            1,
            0,
            0,
            1,
            1,
            0,
            1,
            1,
            0,
            1,
            1,
            1,
            1,
            1,
            1,
            1,
            1,
            1,
            1,
            0,
            0,
            0,
            0,
            1,
            0,
            0,
            0,
            0,
            0,
            0,
            0,
            0,
            1,
            0,
            1,
            0,
            1,
            0,
            1,
            0,
            0,
            0,
            0,
            0,
            0,
            1,
            1,
            0,
            1,
            0,
            0,
            0,
            0,
            0,
            1,
            0,
            1,
            0,
            1,
            0,
            0,
            0,
            0,
            0,
            0,
            0,
            1,
            0,
            0,
            0,
            0,
            0,
            0,
            0,
            1,
            0,
            0,
            0,
            0,
            0,
            0,
            0,
            1,
            0,
            0,
            1,
            0,
            0,
            0,
            0,
            0,
            0,
            0,
            1,
            0,
            0,
            1,
            0
           ]
          },
          {
           "label": "lambda",
           "range": [
            0.0196009159590399,
            0.9980134255438178
           ],
           "values": [
            0.5398228476848984,
            0.8739326245624404,
            0.9086043651176463,
            0.05941034823288504,
            0.9470614867294569,
            0.09449918581154952,
            0.7615761122993835,
            0.49429896747124613,
            0.24238797083775626,
            0.23301020529793853,
            0.5561714485684843,
            0.313036207336642,
            0.39354267918009306,
            0.3640358239458398,
            0.38204937105376585,
            0.6669049970137024,
            0.22351312239732593,
            0.4190440422539099,
            0.30464189257311375,
            0.15767404506453775,
            0.6547575222215691,
            0.4762138371566751,
            0.4648285926974961,
            0.6251128078933975,
            0.3441720542681848,
            0.2965709836839372,
            0.4447131281596533,
            0.4550901410874521,
            0.7536568063616454,
            0.5564494717092593,
            0.5831622341682675,
            0.4300906635134863,
            0.15387772877872063,
            0.5123345682167747,
            0.3038926335591106,
            0.4135123354416107,
            0.34763195992652923,
            0.0196009159590399,
            0.7384133771256196,
            0.5084259501783417,
            0.601109998913901,
            0.41007071643427245,
            0.46641304616610046,
            0.3935739200365816,
            0.2815493462536649,
            0.20531905336201983,
            0.3430042242343757,
            0.8349236979913266,
            0.5397891534450865,
            0.44418274230845706,
            0.9980134255438178,
            0.3486948240121779,
            0.2717398555760706,
            0.2637134779376658,
            0.17942057303040387,
            0.26957705561968576,
            0.11301429424152915,
            0.24431867125571766,
            0.31139682381985984,
            0.25583039585932293,
            0.3823288960133711,
            0.41984124169521786,
            0.3239720170379439,
            0.48822051063653527,
            0.3778918174435514,
            0.45319429103028563,
            0.21438695578941108,
            0.522121908434944,
            0.11891076538775727,
            0.4050382928428821,
            0.27924513497054704,
            0.34495879427641907,
            0.32545963171843584,
            0.36292931599983436,
            0.36612764146205723,
            0.4797103135051677,
            0.5745230795202816,
            0.47590560064688175,
            0.49346149953718954,
            0.44156135886438985,
            0.5378693792733316,
            0.4725704944780336,
            0.3973673524256976,
            0.4226768000846788,
            0.2988089418351352,
            0.19997176386272086,
            0.4718468685963199,
            0.2415535878885068,
            0.3679553004581908,
            0.6777908625450508,
            0.6531771054837388,
            0.7321484316473941,
            0.8408456550140954,
            0.5587142948229658,
            0.5188980305884237,
            0.32424654354474103,
            0.6001988027155729,
            0.2654676528891729,
            0.448866765185366,
            0.3906960020072756
           ]
          },
          {
           "label": "max_depth",
           "range": [
            1,
            9
           ],
           "values": [
            9,
            5,
            5,
            6,
            6,
            8,
            3,
            7,
            6,
            2,
            8,
            7,
            7,
            9,
            4,
            7,
            1,
            7,
            8,
            4,
            5,
            7,
            7,
            8,
            6,
            9,
            7,
            6,
            4,
            9,
            8,
            7,
            7,
            6,
            5,
            8,
            7,
            6,
            8,
            5,
            9,
            8,
            7,
            8,
            7,
            8,
            6,
            7,
            9,
            8,
            5,
            6,
            7,
            7,
            7,
            7,
            6,
            3,
            7,
            6,
            7,
            8,
            8,
            7,
            7,
            8,
            6,
            9,
            7,
            8,
            1,
            6,
            6,
            6,
            7,
            7,
            7,
            6,
            5,
            6,
            6,
            7,
            7,
            7,
            6,
            7,
            6,
            7,
            4,
            6,
            5,
            6,
            6,
            7,
            7,
            6,
            7,
            8,
            5,
            7
           ]
          }
         ],
         "labelangle": 30,
         "labelside": "bottom",
         "line": {
          "color": [
           0.8774235271085208,
           0.8766441685040701,
           0.8747682518082509,
           0.8771528644771878,
           0.8769003886629801,
           0.8778407540896267,
           0.8780006910990508,
           0.8783933123863993,
           0.8782847263900344,
           0.8772689391629571,
           0.8779541542434659,
           0.8784676643740579,
           0.8786982090264382,
           0.877654071760901,
           0.8771164908429376,
           0.8663311733813465,
           0.8709393918970242,
           0.8770223473189958,
           0.8752523420876113,
           0.8777920776084978,
           0.8782750980750857,
           0.8780055052565251,
           0.87859818153225,
           0.8767441959982584,
           0.8765088371884037,
           0.8777540992550894,
           0.8788116091802773,
           0.8781408365721916,
           0.876689635546883,
           0.878019947728948,
           0.8763708313408071,
           0.8783676368798696,
           0.8779017334176346,
           0.8784238020504032,
           0.8772272164648465,
           0.8784334303653517,
           0.8783590783776931,
           0.8781274639125407,
           0.8772357749670231,
           0.8783799397267484,
           0.8687863936932397,
           0.8779284787369364,
           0.8763098520127992,
           0.8740193828678042,
           0.8783676368798696,
           0.8776845614249051,
           0.8784323605525797,
           0.8781542092318424,
           0.876001211028058,
           0.8735727360354664,
           0.8781836290830741,
           0.8783189603987406,
           0.8785676918682461,
           0.8785676918682461,
           0.8782713537303837,
           0.877653001948129,
           0.8781274639125407,
           0.8766591458828792,
           0.8783847538842227,
           0.8780359949205291,
           0.8779798297499954,
           0.878167581891493,
           0.8781456507296658,
           0.8782932848922108,
           0.8764633701455907,
           0.87834196137334,
           0.8779712712478188,
           0.8768575961520974,
           0.8768051753262661,
           0.8688045805103649,
           0.8709393918970242,
           0.8782932848922108,
           0.8784323605525797,
           0.8787677468566226,
           0.8782847263900344,
           0.8789201951766423,
           0.8778530569365056,
           0.8788677743508109,
           0.8778091946128508,
           0.8784628502165837,
           0.878340891560568,
           0.878101788406011,
           0.8778017059234462,
           0.8784457332122304,
           0.8778493125918033,
           0.877844498434329,
           0.8780884157463602,
           0.8782932848922108,
           0.8764066700686712,
           0.8791031331606656,
           0.8768271064880935,
           0.8779445259285172,
           0.8783713812245719,
           0.8782237470620267,
           0.8781322780700149,
           0.8776834916121329,
           0.8783895680416969,
           0.8780980440613089,
           0.8780311807630546,
           0.8786896505242616
          ],
          "colorbar": {
           "title": {
            "text": "Objective Value"
           }
          },
          "colorscale": [
           [
            0,
            "rgb(247,251,255)"
           ],
           [
            0.125,
            "rgb(222,235,247)"
           ],
           [
            0.25,
            "rgb(198,219,239)"
           ],
           [
            0.375,
            "rgb(158,202,225)"
           ],
           [
            0.5,
            "rgb(107,174,214)"
           ],
           [
            0.625,
            "rgb(66,146,198)"
           ],
           [
            0.75,
            "rgb(33,113,181)"
           ],
           [
            0.875,
            "rgb(8,81,156)"
           ],
           [
            1,
            "rgb(8,48,107)"
           ]
          ],
          "reversescale": false,
          "showscale": true
         },
         "type": "parcoords"
        }
       ],
       "layout": {
        "template": {
         "data": {
          "bar": [
           {
            "error_x": {
             "color": "#2a3f5f"
            },
            "error_y": {
             "color": "#2a3f5f"
            },
            "marker": {
             "line": {
              "color": "#E5ECF6",
              "width": 0.5
             },
             "pattern": {
              "fillmode": "overlay",
              "size": 10,
              "solidity": 0.2
             }
            },
            "type": "bar"
           }
          ],
          "barpolar": [
           {
            "marker": {
             "line": {
              "color": "#E5ECF6",
              "width": 0.5
             },
             "pattern": {
              "fillmode": "overlay",
              "size": 10,
              "solidity": 0.2
             }
            },
            "type": "barpolar"
           }
          ],
          "carpet": [
           {
            "aaxis": {
             "endlinecolor": "#2a3f5f",
             "gridcolor": "white",
             "linecolor": "white",
             "minorgridcolor": "white",
             "startlinecolor": "#2a3f5f"
            },
            "baxis": {
             "endlinecolor": "#2a3f5f",
             "gridcolor": "white",
             "linecolor": "white",
             "minorgridcolor": "white",
             "startlinecolor": "#2a3f5f"
            },
            "type": "carpet"
           }
          ],
          "choropleth": [
           {
            "colorbar": {
             "outlinewidth": 0,
             "ticks": ""
            },
            "type": "choropleth"
           }
          ],
          "contour": [
           {
            "colorbar": {
             "outlinewidth": 0,
             "ticks": ""
            },
            "colorscale": [
             [
              0,
              "#0d0887"
             ],
             [
              0.1111111111111111,
              "#46039f"
             ],
             [
              0.2222222222222222,
              "#7201a8"
             ],
             [
              0.3333333333333333,
              "#9c179e"
             ],
             [
              0.4444444444444444,
              "#bd3786"
             ],
             [
              0.5555555555555556,
              "#d8576b"
             ],
             [
              0.6666666666666666,
              "#ed7953"
             ],
             [
              0.7777777777777778,
              "#fb9f3a"
             ],
             [
              0.8888888888888888,
              "#fdca26"
             ],
             [
              1,
              "#f0f921"
             ]
            ],
            "type": "contour"
           }
          ],
          "contourcarpet": [
           {
            "colorbar": {
             "outlinewidth": 0,
             "ticks": ""
            },
            "type": "contourcarpet"
           }
          ],
          "heatmap": [
           {
            "colorbar": {
             "outlinewidth": 0,
             "ticks": ""
            },
            "colorscale": [
             [
              0,
              "#0d0887"
             ],
             [
              0.1111111111111111,
              "#46039f"
             ],
             [
              0.2222222222222222,
              "#7201a8"
             ],
             [
              0.3333333333333333,
              "#9c179e"
             ],
             [
              0.4444444444444444,
              "#bd3786"
             ],
             [
              0.5555555555555556,
              "#d8576b"
             ],
             [
              0.6666666666666666,
              "#ed7953"
             ],
             [
              0.7777777777777778,
              "#fb9f3a"
             ],
             [
              0.8888888888888888,
              "#fdca26"
             ],
             [
              1,
              "#f0f921"
             ]
            ],
            "type": "heatmap"
           }
          ],
          "heatmapgl": [
           {
            "colorbar": {
             "outlinewidth": 0,
             "ticks": ""
            },
            "colorscale": [
             [
              0,
              "#0d0887"
             ],
             [
              0.1111111111111111,
              "#46039f"
             ],
             [
              0.2222222222222222,
              "#7201a8"
             ],
             [
              0.3333333333333333,
              "#9c179e"
             ],
             [
              0.4444444444444444,
              "#bd3786"
             ],
             [
              0.5555555555555556,
              "#d8576b"
             ],
             [
              0.6666666666666666,
              "#ed7953"
             ],
             [
              0.7777777777777778,
              "#fb9f3a"
             ],
             [
              0.8888888888888888,
              "#fdca26"
             ],
             [
              1,
              "#f0f921"
             ]
            ],
            "type": "heatmapgl"
           }
          ],
          "histogram": [
           {
            "marker": {
             "pattern": {
              "fillmode": "overlay",
              "size": 10,
              "solidity": 0.2
             }
            },
            "type": "histogram"
           }
          ],
          "histogram2d": [
           {
            "colorbar": {
             "outlinewidth": 0,
             "ticks": ""
            },
            "colorscale": [
             [
              0,
              "#0d0887"
             ],
             [
              0.1111111111111111,
              "#46039f"
             ],
             [
              0.2222222222222222,
              "#7201a8"
             ],
             [
              0.3333333333333333,
              "#9c179e"
             ],
             [
              0.4444444444444444,
              "#bd3786"
             ],
             [
              0.5555555555555556,
              "#d8576b"
             ],
             [
              0.6666666666666666,
              "#ed7953"
             ],
             [
              0.7777777777777778,
              "#fb9f3a"
             ],
             [
              0.8888888888888888,
              "#fdca26"
             ],
             [
              1,
              "#f0f921"
             ]
            ],
            "type": "histogram2d"
           }
          ],
          "histogram2dcontour": [
           {
            "colorbar": {
             "outlinewidth": 0,
             "ticks": ""
            },
            "colorscale": [
             [
              0,
              "#0d0887"
             ],
             [
              0.1111111111111111,
              "#46039f"
             ],
             [
              0.2222222222222222,
              "#7201a8"
             ],
             [
              0.3333333333333333,
              "#9c179e"
             ],
             [
              0.4444444444444444,
              "#bd3786"
             ],
             [
              0.5555555555555556,
              "#d8576b"
             ],
             [
              0.6666666666666666,
              "#ed7953"
             ],
             [
              0.7777777777777778,
              "#fb9f3a"
             ],
             [
              0.8888888888888888,
              "#fdca26"
             ],
             [
              1,
              "#f0f921"
             ]
            ],
            "type": "histogram2dcontour"
           }
          ],
          "mesh3d": [
           {
            "colorbar": {
             "outlinewidth": 0,
             "ticks": ""
            },
            "type": "mesh3d"
           }
          ],
          "parcoords": [
           {
            "line": {
             "colorbar": {
              "outlinewidth": 0,
              "ticks": ""
             }
            },
            "type": "parcoords"
           }
          ],
          "pie": [
           {
            "automargin": true,
            "type": "pie"
           }
          ],
          "scatter": [
           {
            "fillpattern": {
             "fillmode": "overlay",
             "size": 10,
             "solidity": 0.2
            },
            "type": "scatter"
           }
          ],
          "scatter3d": [
           {
            "line": {
             "colorbar": {
              "outlinewidth": 0,
              "ticks": ""
             }
            },
            "marker": {
             "colorbar": {
              "outlinewidth": 0,
              "ticks": ""
             }
            },
            "type": "scatter3d"
           }
          ],
          "scattercarpet": [
           {
            "marker": {
             "colorbar": {
              "outlinewidth": 0,
              "ticks": ""
             }
            },
            "type": "scattercarpet"
           }
          ],
          "scattergeo": [
           {
            "marker": {
             "colorbar": {
              "outlinewidth": 0,
              "ticks": ""
             }
            },
            "type": "scattergeo"
           }
          ],
          "scattergl": [
           {
            "marker": {
             "colorbar": {
              "outlinewidth": 0,
              "ticks": ""
             }
            },
            "type": "scattergl"
           }
          ],
          "scattermapbox": [
           {
            "marker": {
             "colorbar": {
              "outlinewidth": 0,
              "ticks": ""
             }
            },
            "type": "scattermapbox"
           }
          ],
          "scatterpolar": [
           {
            "marker": {
             "colorbar": {
              "outlinewidth": 0,
              "ticks": ""
             }
            },
            "type": "scatterpolar"
           }
          ],
          "scatterpolargl": [
           {
            "marker": {
             "colorbar": {
              "outlinewidth": 0,
              "ticks": ""
             }
            },
            "type": "scatterpolargl"
           }
          ],
          "scatterternary": [
           {
            "marker": {
             "colorbar": {
              "outlinewidth": 0,
              "ticks": ""
             }
            },
            "type": "scatterternary"
           }
          ],
          "surface": [
           {
            "colorbar": {
             "outlinewidth": 0,
             "ticks": ""
            },
            "colorscale": [
             [
              0,
              "#0d0887"
             ],
             [
              0.1111111111111111,
              "#46039f"
             ],
             [
              0.2222222222222222,
              "#7201a8"
             ],
             [
              0.3333333333333333,
              "#9c179e"
             ],
             [
              0.4444444444444444,
              "#bd3786"
             ],
             [
              0.5555555555555556,
              "#d8576b"
             ],
             [
              0.6666666666666666,
              "#ed7953"
             ],
             [
              0.7777777777777778,
              "#fb9f3a"
             ],
             [
              0.8888888888888888,
              "#fdca26"
             ],
             [
              1,
              "#f0f921"
             ]
            ],
            "type": "surface"
           }
          ],
          "table": [
           {
            "cells": {
             "fill": {
              "color": "#EBF0F8"
             },
             "line": {
              "color": "white"
             }
            },
            "header": {
             "fill": {
              "color": "#C8D4E3"
             },
             "line": {
              "color": "white"
             }
            },
            "type": "table"
           }
          ]
         },
         "layout": {
          "annotationdefaults": {
           "arrowcolor": "#2a3f5f",
           "arrowhead": 0,
           "arrowwidth": 1
          },
          "autotypenumbers": "strict",
          "coloraxis": {
           "colorbar": {
            "outlinewidth": 0,
            "ticks": ""
           }
          },
          "colorscale": {
           "diverging": [
            [
             0,
             "#8e0152"
            ],
            [
             0.1,
             "#c51b7d"
            ],
            [
             0.2,
             "#de77ae"
            ],
            [
             0.3,
             "#f1b6da"
            ],
            [
             0.4,
             "#fde0ef"
            ],
            [
             0.5,
             "#f7f7f7"
            ],
            [
             0.6,
             "#e6f5d0"
            ],
            [
             0.7,
             "#b8e186"
            ],
            [
             0.8,
             "#7fbc41"
            ],
            [
             0.9,
             "#4d9221"
            ],
            [
             1,
             "#276419"
            ]
           ],
           "sequential": [
            [
             0,
             "#0d0887"
            ],
            [
             0.1111111111111111,
             "#46039f"
            ],
            [
             0.2222222222222222,
             "#7201a8"
            ],
            [
             0.3333333333333333,
             "#9c179e"
            ],
            [
             0.4444444444444444,
             "#bd3786"
            ],
            [
             0.5555555555555556,
             "#d8576b"
            ],
            [
             0.6666666666666666,
             "#ed7953"
            ],
            [
             0.7777777777777778,
             "#fb9f3a"
            ],
            [
             0.8888888888888888,
             "#fdca26"
            ],
            [
             1,
             "#f0f921"
            ]
           ],
           "sequentialminus": [
            [
             0,
             "#0d0887"
            ],
            [
             0.1111111111111111,
             "#46039f"
            ],
            [
             0.2222222222222222,
             "#7201a8"
            ],
            [
             0.3333333333333333,
             "#9c179e"
            ],
            [
             0.4444444444444444,
             "#bd3786"
            ],
            [
             0.5555555555555556,
             "#d8576b"
            ],
            [
             0.6666666666666666,
             "#ed7953"
            ],
            [
             0.7777777777777778,
             "#fb9f3a"
            ],
            [
             0.8888888888888888,
             "#fdca26"
            ],
            [
             1,
             "#f0f921"
            ]
           ]
          },
          "colorway": [
           "#636efa",
           "#EF553B",
           "#00cc96",
           "#ab63fa",
           "#FFA15A",
           "#19d3f3",
           "#FF6692",
           "#B6E880",
           "#FF97FF",
           "#FECB52"
          ],
          "font": {
           "color": "#2a3f5f"
          },
          "geo": {
           "bgcolor": "white",
           "lakecolor": "white",
           "landcolor": "#E5ECF6",
           "showlakes": true,
           "showland": true,
           "subunitcolor": "white"
          },
          "hoverlabel": {
           "align": "left"
          },
          "hovermode": "closest",
          "mapbox": {
           "style": "light"
          },
          "paper_bgcolor": "white",
          "plot_bgcolor": "#E5ECF6",
          "polar": {
           "angularaxis": {
            "gridcolor": "white",
            "linecolor": "white",
            "ticks": ""
           },
           "bgcolor": "#E5ECF6",
           "radialaxis": {
            "gridcolor": "white",
            "linecolor": "white",
            "ticks": ""
           }
          },
          "scene": {
           "xaxis": {
            "backgroundcolor": "#E5ECF6",
            "gridcolor": "white",
            "gridwidth": 2,
            "linecolor": "white",
            "showbackground": true,
            "ticks": "",
            "zerolinecolor": "white"
           },
           "yaxis": {
            "backgroundcolor": "#E5ECF6",
            "gridcolor": "white",
            "gridwidth": 2,
            "linecolor": "white",
            "showbackground": true,
            "ticks": "",
            "zerolinecolor": "white"
           },
           "zaxis": {
            "backgroundcolor": "#E5ECF6",
            "gridcolor": "white",
            "gridwidth": 2,
            "linecolor": "white",
            "showbackground": true,
            "ticks": "",
            "zerolinecolor": "white"
           }
          },
          "shapedefaults": {
           "line": {
            "color": "#2a3f5f"
           }
          },
          "ternary": {
           "aaxis": {
            "gridcolor": "white",
            "linecolor": "white",
            "ticks": ""
           },
           "baxis": {
            "gridcolor": "white",
            "linecolor": "white",
            "ticks": ""
           },
           "bgcolor": "#E5ECF6",
           "caxis": {
            "gridcolor": "white",
            "linecolor": "white",
            "ticks": ""
           }
          },
          "title": {
           "x": 0.05
          },
          "xaxis": {
           "automargin": true,
           "gridcolor": "white",
           "linecolor": "white",
           "ticks": "",
           "title": {
            "standoff": 15
           },
           "zerolinecolor": "white",
           "zerolinewidth": 2
          },
          "yaxis": {
           "automargin": true,
           "gridcolor": "white",
           "linecolor": "white",
           "ticks": "",
           "title": {
            "standoff": 15
           },
           "zerolinecolor": "white",
           "zerolinewidth": 2
          }
         }
        },
        "title": {
         "text": "Parallel Coordinate Plot"
        }
       }
      }
     },
     "metadata": {},
     "output_type": "display_data"
    }
   ],
   "source": [
    "opt.visualization.plot_parallel_coordinate(study)"
   ]
  },
  {
   "cell_type": "code",
   "execution_count": 46,
   "metadata": {},
   "outputs": [],
   "source": [
    "best_model = study.best_trial.user_attrs['model']\n",
    "explainer = shap.TreeExplainer(best_model)"
   ]
  },
  {
   "cell_type": "code",
   "execution_count": 47,
   "metadata": {},
   "outputs": [
    {
     "data": {
      "image/png": "[encoded data removed]",
      "text/plain": [
       "<Figure size 800x310 with 2 Axes>"
      ]
     },
     "metadata": {},
     "output_type": "display_data"
    }
   ],
   "source": [
    "X_train_best = study.best_trial.user_attrs['X_train']\n",
    "X_test_best = study.best_trial.user_attrs['X_test']\n",
    "Y_train_best = study.best_trial.user_attrs['Y_train']\n",
    "Y_test_best = study.best_trial.user_attrs['Y_test']\n",
    "\n",
    "explanation = explainer(X_test_best)\n",
    "shap.plots.beeswarm(explanation)"
   ]
  },
  {
   "cell_type": "code",
   "execution_count": 48,
   "metadata": {},
   "outputs": [],
   "source": [
    "#run_server(storage)"
   ]
  },
  {
   "cell_type": "code",
   "execution_count": 49,
   "metadata": {},
   "outputs": [
    {
     "data": {
      "text/plain": [
       "'c:\\\\Users\\\\samud\\\\Documents\\\\Python_Learning\\\\Asteroids'"
      ]
     },
     "execution_count": 49,
     "metadata": {},
     "output_type": "execute_result"
    }
   ],
   "source": [
    "os.getcwd()"
   ]
  }
 ],
 "metadata": {
  "kernelspec": {
   "display_name": "venv",
   "language": "python",
   "name": "python3"
  },
  "language_info": {
   "codemirror_mode": {
    "name": "ipython",
    "version": 3
   },
   "file_extension": ".py",
   "mimetype": "text/x-python",
   "name": "python",
   "nbconvert_exporter": "python",
   "pygments_lexer": "ipython3",
   "version": "3.12.1"
  }
 },
 "nbformat": 4,
 "nbformat_minor": 2
}
