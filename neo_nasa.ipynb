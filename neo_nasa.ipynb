{
 "cells": [
  {
   "cell_type": "code",
   "execution_count": 11,
   "metadata": {},
   "outputs": [],
   "source": [
    "import pandas as pd\n",
    "import seaborn as sns\n",
    "import xgboost as xgb\n",
    "import optuna as opt\n",
    "import numpy as np\n",
    "import os\n",
    "import plotly\n",
    "from sklearn.model_selection import train_test_split\n",
    "from sklearn.metrics import roc_auc_score\n",
    "from optuna.integration import XGBoostPruningCallback\n",
    "import optuna.visualization as vis\n",
    "import shap\n",
    "from sklearn.preprocessing import StandardScaler\n",
    "from optuna_dashboard import run_server\n"
   ]
  },
  {
   "cell_type": "code",
   "execution_count": 12,
   "metadata": {},
   "outputs": [
    {
     "data": {
      "text/plain": [
       "id                      int64\n",
       "name                   object\n",
       "est_diameter_min      float64\n",
       "est_diameter_max      float64\n",
       "relative_velocity     float64\n",
       "miss_distance         float64\n",
       "orbiting_body          object\n",
       "sentry_object            bool\n",
       "absolute_magnitude    float64\n",
       "hazardous                bool\n",
       "dtype: object"
      ]
     },
     "execution_count": 12,
     "metadata": {},
     "output_type": "execute_result"
    }
   ],
   "source": [
    "df = pd.read_csv(\"c:/Users/samud/Documents/Python_Learning/Asteroids/neo.csv/neo.csv\")\n",
    "df.dtypes"
   ]
  },
  {
   "cell_type": "code",
   "execution_count": 13,
   "metadata": {},
   "outputs": [
    {
     "data": {
      "text/html": [
       "<div>\n",
       "<style scoped>\n",
       "    .dataframe tbody tr th:only-of-type {\n",
       "        vertical-align: middle;\n",
       "    }\n",
       "\n",
       "    .dataframe tbody tr th {\n",
       "        vertical-align: top;\n",
       "    }\n",
       "\n",
       "    .dataframe thead th {\n",
       "        text-align: right;\n",
       "    }\n",
       "</style>\n",
       "<table border=\"1\" class=\"dataframe\">\n",
       "  <thead>\n",
       "    <tr style=\"text-align: right;\">\n",
       "      <th></th>\n",
       "      <th>id</th>\n",
       "      <th>est_diameter_min</th>\n",
       "      <th>est_diameter_max</th>\n",
       "      <th>relative_velocity</th>\n",
       "      <th>miss_distance</th>\n",
       "      <th>sentry_object</th>\n",
       "      <th>absolute_magnitude</th>\n",
       "      <th>hazardous</th>\n",
       "    </tr>\n",
       "  </thead>\n",
       "  <tbody>\n",
       "    <tr>\n",
       "      <th>0</th>\n",
       "      <td>2162635</td>\n",
       "      <td>1.198271</td>\n",
       "      <td>2.679415</td>\n",
       "      <td>13569.249224</td>\n",
       "      <td>5.483974e+07</td>\n",
       "      <td>False</td>\n",
       "      <td>16.73</td>\n",
       "      <td>False</td>\n",
       "    </tr>\n",
       "    <tr>\n",
       "      <th>1</th>\n",
       "      <td>2277475</td>\n",
       "      <td>0.265800</td>\n",
       "      <td>0.594347</td>\n",
       "      <td>73588.726663</td>\n",
       "      <td>6.143813e+07</td>\n",
       "      <td>False</td>\n",
       "      <td>20.00</td>\n",
       "      <td>True</td>\n",
       "    </tr>\n",
       "    <tr>\n",
       "      <th>2</th>\n",
       "      <td>2512244</td>\n",
       "      <td>0.722030</td>\n",
       "      <td>1.614507</td>\n",
       "      <td>114258.692129</td>\n",
       "      <td>4.979872e+07</td>\n",
       "      <td>False</td>\n",
       "      <td>17.83</td>\n",
       "      <td>False</td>\n",
       "    </tr>\n",
       "    <tr>\n",
       "      <th>3</th>\n",
       "      <td>3596030</td>\n",
       "      <td>0.096506</td>\n",
       "      <td>0.215794</td>\n",
       "      <td>24764.303138</td>\n",
       "      <td>2.543497e+07</td>\n",
       "      <td>False</td>\n",
       "      <td>22.20</td>\n",
       "      <td>False</td>\n",
       "    </tr>\n",
       "    <tr>\n",
       "      <th>4</th>\n",
       "      <td>3667127</td>\n",
       "      <td>0.255009</td>\n",
       "      <td>0.570217</td>\n",
       "      <td>42737.733765</td>\n",
       "      <td>4.627557e+07</td>\n",
       "      <td>False</td>\n",
       "      <td>20.09</td>\n",
       "      <td>True</td>\n",
       "    </tr>\n",
       "    <tr>\n",
       "      <th>...</th>\n",
       "      <td>...</td>\n",
       "      <td>...</td>\n",
       "      <td>...</td>\n",
       "      <td>...</td>\n",
       "      <td>...</td>\n",
       "      <td>...</td>\n",
       "      <td>...</td>\n",
       "      <td>...</td>\n",
       "    </tr>\n",
       "    <tr>\n",
       "      <th>90831</th>\n",
       "      <td>3763337</td>\n",
       "      <td>0.026580</td>\n",
       "      <td>0.059435</td>\n",
       "      <td>52078.886692</td>\n",
       "      <td>1.230039e+07</td>\n",
       "      <td>False</td>\n",
       "      <td>25.00</td>\n",
       "      <td>False</td>\n",
       "    </tr>\n",
       "    <tr>\n",
       "      <th>90832</th>\n",
       "      <td>3837603</td>\n",
       "      <td>0.016771</td>\n",
       "      <td>0.037501</td>\n",
       "      <td>46114.605073</td>\n",
       "      <td>5.432121e+07</td>\n",
       "      <td>False</td>\n",
       "      <td>26.00</td>\n",
       "      <td>False</td>\n",
       "    </tr>\n",
       "    <tr>\n",
       "      <th>90833</th>\n",
       "      <td>54017201</td>\n",
       "      <td>0.031956</td>\n",
       "      <td>0.071456</td>\n",
       "      <td>7566.807732</td>\n",
       "      <td>2.840077e+07</td>\n",
       "      <td>False</td>\n",
       "      <td>24.60</td>\n",
       "      <td>False</td>\n",
       "    </tr>\n",
       "    <tr>\n",
       "      <th>90834</th>\n",
       "      <td>54115824</td>\n",
       "      <td>0.007321</td>\n",
       "      <td>0.016370</td>\n",
       "      <td>69199.154484</td>\n",
       "      <td>6.869206e+07</td>\n",
       "      <td>False</td>\n",
       "      <td>27.80</td>\n",
       "      <td>False</td>\n",
       "    </tr>\n",
       "    <tr>\n",
       "      <th>90835</th>\n",
       "      <td>54205447</td>\n",
       "      <td>0.039862</td>\n",
       "      <td>0.089133</td>\n",
       "      <td>27024.455553</td>\n",
       "      <td>5.977213e+07</td>\n",
       "      <td>False</td>\n",
       "      <td>24.12</td>\n",
       "      <td>False</td>\n",
       "    </tr>\n",
       "  </tbody>\n",
       "</table>\n",
       "<p>90836 rows × 8 columns</p>\n",
       "</div>"
      ],
      "text/plain": [
       "             id  est_diameter_min  est_diameter_max  relative_velocity  \\\n",
       "0       2162635          1.198271          2.679415       13569.249224   \n",
       "1       2277475          0.265800          0.594347       73588.726663   \n",
       "2       2512244          0.722030          1.614507      114258.692129   \n",
       "3       3596030          0.096506          0.215794       24764.303138   \n",
       "4       3667127          0.255009          0.570217       42737.733765   \n",
       "...         ...               ...               ...                ...   \n",
       "90831   3763337          0.026580          0.059435       52078.886692   \n",
       "90832   3837603          0.016771          0.037501       46114.605073   \n",
       "90833  54017201          0.031956          0.071456        7566.807732   \n",
       "90834  54115824          0.007321          0.016370       69199.154484   \n",
       "90835  54205447          0.039862          0.089133       27024.455553   \n",
       "\n",
       "       miss_distance  sentry_object  absolute_magnitude  hazardous  \n",
       "0       5.483974e+07          False               16.73      False  \n",
       "1       6.143813e+07          False               20.00       True  \n",
       "2       4.979872e+07          False               17.83      False  \n",
       "3       2.543497e+07          False               22.20      False  \n",
       "4       4.627557e+07          False               20.09       True  \n",
       "...              ...            ...                 ...        ...  \n",
       "90831   1.230039e+07          False               25.00      False  \n",
       "90832   5.432121e+07          False               26.00      False  \n",
       "90833   2.840077e+07          False               24.60      False  \n",
       "90834   6.869206e+07          False               27.80      False  \n",
       "90835   5.977213e+07          False               24.12      False  \n",
       "\n",
       "[90836 rows x 8 columns]"
      ]
     },
     "execution_count": 13,
     "metadata": {},
     "output_type": "execute_result"
    }
   ],
   "source": [
    "df.select_dtypes(include =[\"float\", \"int\", \"bool\"])"
   ]
  },
  {
   "cell_type": "code",
   "execution_count": 14,
   "metadata": {},
   "outputs": [],
   "source": [
    "#for cl in df.select_dtypes(include =[\"float\", \"int\"]).columns:\n",
    " #   df.hist(column= cl)"
   ]
  },
  {
   "cell_type": "code",
   "execution_count": 15,
   "metadata": {},
   "outputs": [],
   "source": [
    "## These two columns are equal along all dataset -> They are not reliable features as predictors\n",
    "df = df.drop(columns=['sentry_object','orbiting_body','name','id'])\n",
    "df = df.drop_duplicates()\n",
    "df['hazardous'] = df['hazardous'].astype(int)"
   ]
  },
  {
   "cell_type": "code",
   "execution_count": 16,
   "metadata": {},
   "outputs": [
    {
     "data": {
      "text/plain": [
       "hazardous\n",
       "0    81996\n",
       "1     8833\n",
       "Name: count, dtype: int64"
      ]
     },
     "execution_count": 16,
     "metadata": {},
     "output_type": "execute_result"
    }
   ],
   "source": [
    "# Detected Imbalanced dataset\n",
    "df['hazardous'].value_counts()"
   ]
  },
  {
   "cell_type": "code",
   "execution_count": 17,
   "metadata": {},
   "outputs": [],
   "source": [
    "scaler = StandardScaler()\n",
    "Y = df['hazardous']\n",
    "df_scaled = pd.DataFrame(scaler.fit_transform(df), columns=df.columns)\n",
    "X = df_scaled.drop(columns='hazardous')"
   ]
  },
  {
   "cell_type": "code",
   "execution_count": 18,
   "metadata": {},
   "outputs": [],
   "source": [
    "def objective(trial):\n",
    "    X_train, X_test, Y_train, Y_test = train_test_split(X, Y, test_size=0.20, stratify = Y, random_state = 42)\n",
    "    train = xgb.DMatrix(X_train, Y_train)\n",
    "    test = xgb.DMatrix(X_test, Y_test)\n",
    "    \n",
    "    trial.set_user_attr('X_train', X_train)\n",
    "    trial.set_user_attr('X_test', X_test)\n",
    "    trial.set_user_attr('Y_train', Y_train)\n",
    "    trial.set_user_attr('Y_test', Y_test)\n",
    "\n",
    "    neg_count = (Y_train == 0).sum()\n",
    "    pos_count = (Y_train == 1).sum()\n",
    "    scale_pos_weight = neg_count / pos_count if pos_count > 0 else 1\n",
    "\n",
    "\n",
    "    param = {\n",
    "        \"verbosity\": 0,\n",
    "        \"objective\": \"binary:logistic\",\n",
    "        \"eval_metric\": \"auc\",\n",
    "        \"booster\": \"gbtree\",\n",
    "        \"lambda\": trial.suggest_float(\"lambda\", 1e-8, 1.0),\n",
    "        \"alpha\": trial.suggest_float(\"alpha\", 1e-8, 1.0),\n",
    "        \"max_depth\": trial.suggest_int(\"max_depth\", 1, 9),\n",
    "        \"eta\": trial.suggest_float(\"eta\", 1e-8, 1.0),\n",
    "        \"gamma\": trial.suggest_float(\"gamma\", 1e-8, 1.0),\n",
    "        \"grow_policy\": trial.suggest_categorical(\"grow_policy\", [\"depthwise\", \"lossguide\"]),\n",
    "        \"scale_pos_weight\": scale_pos_weight\n",
    "    }\n",
    "\n",
    "    # Add a callback for pruning.\n",
    "    pruning_callback = opt.integration.XGBoostPruningCallback(trial, \"validation-auc\")\n",
    "\n",
    "    # Best Model\n",
    "    bst = xgb.train(param, train, evals=[(test, \"validation\")])\n",
    "    trial.set_user_attr(\"model\", bst)\n",
    "    preds = bst.predict(test)\n",
    "    pred_labels = np.rint(preds)\n",
    "    auc = roc_auc_score(Y_test, pred_labels)\n",
    "    return auc"
   ]
  },
  {
   "cell_type": "code",
   "execution_count": 19,
   "metadata": {},
   "outputs": [
    {
     "name": "stderr",
     "output_type": "stream",
     "text": [
      "[I 2024-12-23 17:29:58,532] A new study created in memory with name: no-name-537f5cd4-c376-48f1-81b3-5744750c6bf3\n"
     ]
    },
    {
     "name": "stdout",
     "output_type": "stream",
     "text": [
      "[0]\tvalidation-auc:0.90681\n",
      "[1]\tvalidation-auc:0.90923\n",
      "[2]\tvalidation-auc:0.91129\n",
      "[3]\tvalidation-auc:0.91235\n",
      "[4]\tvalidation-auc:0.91333\n",
      "[5]\tvalidation-auc:0.91359\n",
      "[6]\tvalidation-auc:0.91347\n",
      "[7]\tvalidation-auc:0.91371\n",
      "[8]\tvalidation-auc:0.91376\n",
      "[9]\tvalidation-auc:0.91380\n"
     ]
    },
    {
     "name": "stderr",
     "output_type": "stream",
     "text": [
      "[I 2024-12-23 17:29:58,604] Trial 0 finished with value: 0.8768698989989763 and parameters: {'lambda': 0.2373818537686297, 'alpha': 0.49181403698672216, 'max_depth': 5, 'eta': 0.4781020680623642, 'gamma': 0.30790529526956883, 'grow_policy': 'depthwise'}. Best is trial 0 with value: 0.8768698989989763.\n"
     ]
    },
    {
     "name": "stdout",
     "output_type": "stream",
     "text": [
      "[0]\tvalidation-auc:0.90972\n",
      "[1]\tvalidation-auc:0.91342\n",
      "[2]\tvalidation-auc:0.91330\n",
      "[3]\tvalidation-auc:0.91423\n",
      "[4]\tvalidation-auc:0.91359\n",
      "[5]\tvalidation-auc:0.91536\n",
      "[6]\tvalidation-auc:0.91521\n",
      "[7]\tvalidation-auc:0.91549\n",
      "[8]\tvalidation-auc:0.91568\n",
      "[9]\tvalidation-auc:0.91599\n"
     ]
    },
    {
     "name": "stderr",
     "output_type": "stream",
     "text": [
      "[I 2024-12-23 17:29:58,682] Trial 1 finished with value: 0.8670302960278922 and parameters: {'lambda': 0.9408310624283058, 'alpha': 0.3338754750373723, 'max_depth': 7, 'eta': 0.928753711422304, 'gamma': 0.16268113449578084, 'grow_policy': 'depthwise'}. Best is trial 0 with value: 0.8768698989989763.\n"
     ]
    },
    {
     "name": "stdout",
     "output_type": "stream",
     "text": [
      "[0]\tvalidation-auc:0.90957\n",
      "[1]\tvalidation-auc:0.91142\n",
      "[2]\tvalidation-auc:0.91228\n",
      "[3]\tvalidation-auc:0.91225\n",
      "[4]\tvalidation-auc:0.91229\n",
      "[5]\tvalidation-auc:0.91307\n",
      "[6]\tvalidation-auc:0.91334\n",
      "[7]\tvalidation-auc:0.91323\n",
      "[8]\tvalidation-auc:0.91336\n",
      "[9]\tvalidation-auc:0.91347\n"
     ]
    },
    {
     "name": "stderr",
     "output_type": "stream",
     "text": [
      "[I 2024-12-23 17:29:58,771] Trial 2 finished with value: 0.8785676918682461 and parameters: {'lambda': 0.1848966563357165, 'alpha': 0.82342853495166, 'max_depth': 7, 'eta': 0.19617700455656567, 'gamma': 0.41252532107904727, 'grow_policy': 'depthwise'}. Best is trial 2 with value: 0.8785676918682461.\n"
     ]
    },
    {
     "name": "stdout",
     "output_type": "stream",
     "text": [
      "[0]\tvalidation-auc:0.91059\n",
      "[1]\tvalidation-auc:0.91242\n",
      "[2]\tvalidation-auc:0.91326\n",
      "[3]\tvalidation-auc:0.91379\n",
      "[4]\tvalidation-auc:0.91478\n",
      "[5]\tvalidation-auc:0.91508\n",
      "[6]\tvalidation-auc:0.91666\n",
      "[7]\tvalidation-auc:0.91681\n",
      "[8]\tvalidation-auc:0.91706\n",
      "[9]\tvalidation-auc:0.91691\n"
     ]
    },
    {
     "name": "stderr",
     "output_type": "stream",
     "text": [
      "[I 2024-12-23 17:29:58,982] Trial 3 finished with value: 0.8770795823023013 and parameters: {'lambda': 0.9020224813138443, 'alpha': 0.2676796537318828, 'max_depth': 9, 'eta': 0.169061140000827, 'gamma': 0.833644004598488, 'grow_policy': 'lossguide'}. Best is trial 2 with value: 0.8785676918682461.\n"
     ]
    },
    {
     "name": "stdout",
     "output_type": "stream",
     "text": [
      "[0]\tvalidation-auc:0.91071\n",
      "[1]\tvalidation-auc:0.91319\n",
      "[2]\tvalidation-auc:0.91347\n",
      "[3]\tvalidation-auc:0.91522\n",
      "[4]\tvalidation-auc:0.91423\n",
      "[5]\tvalidation-auc:0.91495\n",
      "[6]\tvalidation-auc:0.91572\n",
      "[7]\tvalidation-auc:0.91563\n",
      "[8]\tvalidation-auc:0.91508\n",
      "[9]\tvalidation-auc:0.91495\n"
     ]
    },
    {
     "name": "stderr",
     "output_type": "stream",
     "text": [
      "[I 2024-12-23 17:29:59,193] Trial 4 finished with value: 0.8649650224714173 and parameters: {'lambda': 0.30630270114914854, 'alpha': 0.8877656505337467, 'max_depth': 9, 'eta': 0.657738692481443, 'gamma': 0.09215831472452032, 'grow_policy': 'lossguide'}. Best is trial 2 with value: 0.8785676918682461.\n"
     ]
    },
    {
     "name": "stdout",
     "output_type": "stream",
     "text": [
      "[0]\tvalidation-auc:0.89979\n",
      "[1]\tvalidation-auc:0.90512\n",
      "[2]\tvalidation-auc:0.90538\n",
      "[3]\tvalidation-auc:0.90810\n",
      "[4]\tvalidation-auc:0.90916\n",
      "[5]\tvalidation-auc:0.91035\n",
      "[6]\tvalidation-auc:0.91139\n",
      "[7]\tvalidation-auc:0.91152\n",
      "[8]\tvalidation-auc:0.91197\n",
      "[9]\tvalidation-auc:0.91232\n"
     ]
    },
    {
     "name": "stderr",
     "output_type": "stream",
     "text": [
      "[I 2024-12-23 17:29:59,282] Trial 5 finished with value: 0.877490925313161 and parameters: {'lambda': 0.9186615843184367, 'alpha': 0.2452626773006238, 'max_depth': 3, 'eta': 0.41201352287942195, 'gamma': 0.6705494971516875, 'grow_policy': 'lossguide'}. Best is trial 2 with value: 0.8785676918682461.\n"
     ]
    },
    {
     "name": "stdout",
     "output_type": "stream",
     "text": [
      "[0]\tvalidation-auc:0.87094\n",
      "[1]\tvalidation-auc:0.87238\n",
      "[2]\tvalidation-auc:0.87238\n",
      "[3]\tvalidation-auc:0.87361\n",
      "[4]\tvalidation-auc:0.87485\n",
      "[5]\tvalidation-auc:0.87485\n",
      "[6]\tvalidation-auc:0.88298\n",
      "[7]\tvalidation-auc:0.90076\n",
      "[8]\tvalidation-auc:0.90076\n",
      "[9]\tvalidation-auc:0.90148\n"
     ]
    },
    {
     "name": "stderr",
     "output_type": "stream",
     "text": [
      "[I 2024-12-23 17:29:59,361] Trial 6 finished with value: 0.871000371225032 and parameters: {'lambda': 0.119024804428991, 'alpha': 0.5132256470907529, 'max_depth': 1, 'eta': 0.48735858547459854, 'gamma': 0.3126459232375938, 'grow_policy': 'depthwise'}. Best is trial 2 with value: 0.8785676918682461.\n"
     ]
    },
    {
     "name": "stdout",
     "output_type": "stream",
     "text": [
      "[0]\tvalidation-auc:0.91062\n",
      "[1]\tvalidation-auc:0.91259\n",
      "[2]\tvalidation-auc:0.91343\n",
      "[3]\tvalidation-auc:0.91485\n",
      "[4]\tvalidation-auc:0.91649\n",
      "[5]\tvalidation-auc:0.91603\n",
      "[6]\tvalidation-auc:0.91531\n",
      "[7]\tvalidation-auc:0.91502\n",
      "[8]\tvalidation-auc:0.91486\n",
      "[9]\tvalidation-auc:0.91401\n"
     ]
    },
    {
     "name": "stderr",
     "output_type": "stream",
     "text": [
      "[I 2024-12-23 17:29:59,470] Trial 7 finished with value: 0.8550109495337221 and parameters: {'lambda': 0.6728150692602847, 'alpha': 0.04066799321887085, 'max_depth': 9, 'eta': 0.7717486207998973, 'gamma': 0.687295707601418, 'grow_policy': 'depthwise'}. Best is trial 2 with value: 0.8785676918682461.\n"
     ]
    },
    {
     "name": "stdout",
     "output_type": "stream",
     "text": [
      "[0]\tvalidation-auc:0.87094\n",
      "[1]\tvalidation-auc:0.87238\n",
      "[2]\tvalidation-auc:0.87360\n",
      "[3]\tvalidation-auc:0.88179\n",
      "[4]\tvalidation-auc:0.89992\n",
      "[5]\tvalidation-auc:0.89993\n",
      "[6]\tvalidation-auc:0.90018\n",
      "[7]\tvalidation-auc:0.90081\n",
      "[8]\tvalidation-auc:0.90091\n",
      "[9]\tvalidation-auc:0.90483\n"
     ]
    },
    {
     "name": "stderr",
     "output_type": "stream",
     "text": [
      "[I 2024-12-23 17:29:59,549] Trial 8 finished with value: 0.8755978916129887 and parameters: {'lambda': 0.0817071203071147, 'alpha': 0.23394678675973654, 'max_depth': 1, 'eta': 0.8709481872814789, 'gamma': 0.5605809831233436, 'grow_policy': 'lossguide'}. Best is trial 2 with value: 0.8785676918682461.\n"
     ]
    },
    {
     "name": "stdout",
     "output_type": "stream",
     "text": [
      "[0]\tvalidation-auc:0.89248\n",
      "[1]\tvalidation-auc:0.89915\n",
      "[2]\tvalidation-auc:0.90070\n",
      "[3]\tvalidation-auc:0.90091\n",
      "[4]\tvalidation-auc:0.90249\n",
      "[5]\tvalidation-auc:0.90800\n",
      "[6]\tvalidation-auc:0.91062\n",
      "[7]\tvalidation-auc:0.91063\n",
      "[8]\tvalidation-auc:0.91064\n",
      "[9]\tvalidation-auc:0.91115\n"
     ]
    },
    {
     "name": "stderr",
     "output_type": "stream",
     "text": [
      "[I 2024-12-23 17:29:59,640] Trial 9 finished with value: 0.8766200977166987 and parameters: {'lambda': 0.955741888885313, 'alpha': 0.42807711267642706, 'max_depth': 2, 'eta': 0.7025676671463816, 'gamma': 0.9804293520956441, 'grow_policy': 'lossguide'}. Best is trial 2 with value: 0.8785676918682461.\n"
     ]
    },
    {
     "name": "stdout",
     "output_type": "stream",
     "text": [
      "[0]\tvalidation-auc:0.90760\n",
      "[1]\tvalidation-auc:0.90761\n",
      "[2]\tvalidation-auc:0.90761\n",
      "[3]\tvalidation-auc:0.90760\n",
      "[4]\tvalidation-auc:0.90763\n",
      "[5]\tvalidation-auc:0.90763\n",
      "[6]\tvalidation-auc:0.90761\n",
      "[7]\tvalidation-auc:0.90763\n",
      "[8]\tvalidation-auc:0.90763\n",
      "[9]\tvalidation-auc:0.90763\n"
     ]
    },
    {
     "name": "stderr",
     "output_type": "stream",
     "text": [
      "[I 2024-12-23 17:29:59,749] Trial 10 finished with value: 0.8780359949205291 and parameters: {'lambda': 0.5110472384879792, 'alpha': 0.9754323982225701, 'max_depth': 6, 'eta': 0.011140472591226663, 'gamma': 0.37089495199008016, 'grow_policy': 'depthwise'}. Best is trial 2 with value: 0.8785676918682461.\n"
     ]
    },
    {
     "name": "stdout",
     "output_type": "stream",
     "text": [
      "[0]\tvalidation-auc:0.90760\n",
      "[1]\tvalidation-auc:0.90761\n",
      "[2]\tvalidation-auc:0.90761\n",
      "[3]\tvalidation-auc:0.90761\n",
      "[4]\tvalidation-auc:0.90761\n",
      "[5]\tvalidation-auc:0.90761\n",
      "[6]\tvalidation-auc:0.90761\n",
      "[7]\tvalidation-auc:0.90760\n",
      "[8]\tvalidation-auc:0.90761\n",
      "[9]\tvalidation-auc:0.90761\n"
     ]
    },
    {
     "name": "stderr",
     "output_type": "stream",
     "text": [
      "[I 2024-12-23 17:29:59,873] Trial 11 finished with value: 0.8780359949205291 and parameters: {'lambda': 0.5015662994103021, 'alpha': 0.970856435193924, 'max_depth': 6, 'eta': 0.006458537837862155, 'gamma': 0.36854853480402233, 'grow_policy': 'depthwise'}. Best is trial 2 with value: 0.8785676918682461.\n"
     ]
    },
    {
     "name": "stdout",
     "output_type": "stream",
     "text": [
      "[0]\tvalidation-auc:0.90960\n",
      "[1]\tvalidation-auc:0.91143\n",
      "[2]\tvalidation-auc:0.91231\n",
      "[3]\tvalidation-auc:0.91223\n",
      "[4]\tvalidation-auc:0.91329\n",
      "[5]\tvalidation-auc:0.91330\n",
      "[6]\tvalidation-auc:0.91347\n",
      "[7]\tvalidation-auc:0.91347\n",
      "[8]\tvalidation-auc:0.91346\n",
      "[9]\tvalidation-auc:0.91361\n"
     ]
    },
    {
     "name": "stderr",
     "output_type": "stream",
     "text": [
      "[I 2024-12-23 17:29:59,999] Trial 12 finished with value: 0.8780541817376541 and parameters: {'lambda': 0.46826074472230794, 'alpha': 0.7660570912917484, 'max_depth': 7, 'eta': 0.22248425716057976, 'gamma': 0.45050034811479683, 'grow_policy': 'depthwise'}. Best is trial 2 with value: 0.8785676918682461.\n"
     ]
    },
    {
     "name": "stdout",
     "output_type": "stream",
     "text": [
      "[0]\tvalidation-auc:0.90972\n",
      "[1]\tvalidation-auc:0.91142\n",
      "[2]\tvalidation-auc:0.91367\n",
      "[3]\tvalidation-auc:0.91387\n",
      "[4]\tvalidation-auc:0.91478\n",
      "[5]\tvalidation-auc:0.91413\n",
      "[6]\tvalidation-auc:0.91466\n",
      "[7]\tvalidation-auc:0.91572\n",
      "[8]\tvalidation-auc:0.91585\n",
      "[9]\tvalidation-auc:0.91598\n"
     ]
    },
    {
     "name": "stderr",
     "output_type": "stream",
     "text": [
      "[I 2024-12-23 17:30:00,115] Trial 13 finished with value: 0.8776578161056033 and parameters: {'lambda': 0.6758618200931674, 'alpha': 0.7285791552529256, 'max_depth': 7, 'eta': 0.2798951775194397, 'gamma': 0.5118923378225635, 'grow_policy': 'depthwise'}. Best is trial 2 with value: 0.8785676918682461.\n"
     ]
    },
    {
     "name": "stdout",
     "output_type": "stream",
     "text": [
      "[0]\tvalidation-auc:0.90967\n",
      "[1]\tvalidation-auc:0.91127\n",
      "[2]\tvalidation-auc:0.91345\n",
      "[3]\tvalidation-auc:0.91364\n",
      "[4]\tvalidation-auc:0.91464\n",
      "[5]\tvalidation-auc:0.91446\n",
      "[6]\tvalidation-auc:0.91475\n",
      "[7]\tvalidation-auc:0.91519\n",
      "[8]\tvalidation-auc:0.91557\n",
      "[9]\tvalidation-auc:0.91555\n"
     ]
    },
    {
     "name": "stderr",
     "output_type": "stream",
     "text": [
      "[I 2024-12-23 17:30:00,226] Trial 14 finished with value: 0.8781237195678385 and parameters: {'lambda': 0.32681083149233836, 'alpha': 0.7041190112294325, 'max_depth': 7, 'eta': 0.26210567774019905, 'gamma': 0.19055473950177337, 'grow_policy': 'depthwise'}. Best is trial 2 with value: 0.8785676918682461.\n"
     ]
    },
    {
     "name": "stdout",
     "output_type": "stream",
     "text": [
      "[0]\tvalidation-auc:0.90378\n",
      "[1]\tvalidation-auc:0.90808\n",
      "[2]\tvalidation-auc:0.90969\n",
      "[3]\tvalidation-auc:0.91068\n",
      "[4]\tvalidation-auc:0.91088\n",
      "[5]\tvalidation-auc:0.91335\n",
      "[6]\tvalidation-auc:0.91364\n",
      "[7]\tvalidation-auc:0.91472\n",
      "[8]\tvalidation-auc:0.91460\n",
      "[9]\tvalidation-auc:0.91443\n"
     ]
    },
    {
     "name": "stderr",
     "output_type": "stream",
     "text": [
      "[I 2024-12-23 17:30:00,340] Trial 15 finished with value: 0.8784361048972819 and parameters: {'lambda': 0.26543765559723165, 'alpha': 0.6338523381234962, 'max_depth': 4, 'eta': 0.33834056885416997, 'gamma': 0.19038070026173837, 'grow_policy': 'depthwise'}. Best is trial 2 with value: 0.8785676918682461.\n"
     ]
    },
    {
     "name": "stdout",
     "output_type": "stream",
     "text": [
      "[0]\tvalidation-auc:0.90376\n",
      "[1]\tvalidation-auc:0.90803\n",
      "[2]\tvalidation-auc:0.90969\n",
      "[3]\tvalidation-auc:0.91068\n",
      "[4]\tvalidation-auc:0.91338\n",
      "[5]\tvalidation-auc:0.91412\n",
      "[6]\tvalidation-auc:0.91490\n",
      "[7]\tvalidation-auc:0.91485\n",
      "[8]\tvalidation-auc:0.91480\n",
      "[9]\tvalidation-auc:0.91478\n"
     ]
    },
    {
     "name": "stderr",
     "output_type": "stream",
     "text": [
      "[I 2024-12-23 17:30:00,449] Trial 16 finished with value: 0.8779702014350469 and parameters: {'lambda': 0.1729131094296414, 'alpha': 0.6128419999219217, 'max_depth': 4, 'eta': 0.3655796153437785, 'gamma': 0.02933128626244605, 'grow_policy': 'depthwise'}. Best is trial 2 with value: 0.8785676918682461.\n"
     ]
    },
    {
     "name": "stdout",
     "output_type": "stream",
     "text": [
      "[0]\tvalidation-auc:0.90378\n",
      "[1]\tvalidation-auc:0.90950\n",
      "[2]\tvalidation-auc:0.90909\n",
      "[3]\tvalidation-auc:0.91040\n",
      "[4]\tvalidation-auc:0.91058\n",
      "[5]\tvalidation-auc:0.91063\n",
      "[6]\tvalidation-auc:0.91050\n",
      "[7]\tvalidation-auc:0.91053\n",
      "[8]\tvalidation-auc:0.91057\n",
      "[9]\tvalidation-auc:0.91087\n"
     ]
    },
    {
     "name": "stderr",
     "output_type": "stream",
     "text": [
      "[I 2024-12-23 17:30:00,560] Trial 17 finished with value: 0.8768725735309063 and parameters: {'lambda': 0.3895557809558361, 'alpha': 0.8506296074616609, 'max_depth': 4, 'eta': 0.14741710428319, 'gamma': 0.22716740230597648, 'grow_policy': 'depthwise'}. Best is trial 2 with value: 0.8785676918682461.\n"
     ]
    },
    {
     "name": "stdout",
     "output_type": "stream",
     "text": [
      "[0]\tvalidation-auc:0.90681\n",
      "[1]\tvalidation-auc:0.90924\n",
      "[2]\tvalidation-auc:0.91229\n",
      "[3]\tvalidation-auc:0.91311\n",
      "[4]\tvalidation-auc:0.91389\n",
      "[5]\tvalidation-auc:0.91371\n",
      "[6]\tvalidation-auc:0.91357\n",
      "[7]\tvalidation-auc:0.91359\n",
      "[8]\tvalidation-auc:0.91592\n",
      "[9]\tvalidation-auc:0.91730\n"
     ]
    },
    {
     "name": "stderr",
     "output_type": "stream",
     "text": [
      "[I 2024-12-23 17:30:00,671] Trial 18 finished with value: 0.8788945196701126 and parameters: {'lambda': 0.20948498849843292, 'alpha': 0.6084125517168173, 'max_depth': 5, 'eta': 0.594818774960048, 'gamma': 0.5822676860981685, 'grow_policy': 'depthwise'}. Best is trial 18 with value: 0.8788945196701126.\n"
     ]
    },
    {
     "name": "stdout",
     "output_type": "stream",
     "text": [
      "[0]\tvalidation-auc:0.90955\n",
      "[1]\tvalidation-auc:0.91169\n",
      "[2]\tvalidation-auc:0.91419\n",
      "[3]\tvalidation-auc:0.91512\n",
      "[4]\tvalidation-auc:0.91521\n",
      "[5]\tvalidation-auc:0.91601\n",
      "[6]\tvalidation-auc:0.91686\n",
      "[7]\tvalidation-auc:0.91667\n",
      "[8]\tvalidation-auc:0.91753\n",
      "[9]\tvalidation-auc:0.91745\n"
     ]
    },
    {
     "name": "stderr",
     "output_type": "stream",
     "text": [
      "[I 2024-12-23 17:30:00,815] Trial 19 finished with value: 0.8738091646580932 and parameters: {'lambda': 0.005352631614533365, 'alpha': 0.8534088383529711, 'max_depth': 8, 'eta': 0.6400503092882364, 'gamma': 0.6251750838539641, 'grow_policy': 'depthwise'}. Best is trial 18 with value: 0.8788945196701126.\n"
     ]
    },
    {
     "name": "stdout",
     "output_type": "stream",
     "text": [
      "[0]\tvalidation-auc:0.90681\n",
      "[1]\tvalidation-auc:0.90924\n",
      "[2]\tvalidation-auc:0.91232\n",
      "[3]\tvalidation-auc:0.91258\n",
      "[4]\tvalidation-auc:0.91365\n",
      "[5]\tvalidation-auc:0.91451\n",
      "[6]\tvalidation-auc:0.91443\n",
      "[7]\tvalidation-auc:0.91364\n",
      "[8]\tvalidation-auc:0.91317\n",
      "[9]\tvalidation-auc:0.91601\n"
     ]
    },
    {
     "name": "stderr",
     "output_type": "stream",
     "text": [
      "[I 2024-12-23 17:30:00,942] Trial 20 finished with value: 0.8777883332637956 and parameters: {'lambda': 0.033772100083607204, 'alpha': 0.585152656668007, 'max_depth': 5, 'eta': 0.5627279409105148, 'gamma': 0.7907309495414173, 'grow_policy': 'depthwise'}. Best is trial 18 with value: 0.8788945196701126.\n"
     ]
    },
    {
     "name": "stdout",
     "output_type": "stream",
     "text": [
      "[0]\tvalidation-auc:0.90378\n",
      "[1]\tvalidation-auc:0.90803\n",
      "[2]\tvalidation-auc:0.90967\n",
      "[3]\tvalidation-auc:0.91068\n",
      "[4]\tvalidation-auc:0.91340\n",
      "[5]\tvalidation-auc:0.91413\n",
      "[6]\tvalidation-auc:0.91489\n",
      "[7]\tvalidation-auc:0.91463\n",
      "[8]\tvalidation-auc:0.91460\n",
      "[9]\tvalidation-auc:0.91443\n"
     ]
    },
    {
     "name": "stderr",
     "output_type": "stream",
     "text": [
      "[I 2024-12-23 17:30:01,064] Trial 21 finished with value: 0.877909222107039 and parameters: {'lambda': 0.19742365394855316, 'alpha': 0.6426860561031899, 'max_depth': 4, 'eta': 0.3785332085370937, 'gamma': 0.4337175246261922, 'grow_policy': 'depthwise'}. Best is trial 18 with value: 0.8788945196701126.\n"
     ]
    },
    {
     "name": "stdout",
     "output_type": "stream",
     "text": [
      "[0]\tvalidation-auc:0.89979\n",
      "[1]\tvalidation-auc:0.90493\n",
      "[2]\tvalidation-auc:0.90514\n",
      "[3]\tvalidation-auc:0.90890\n",
      "[4]\tvalidation-auc:0.90896\n",
      "[5]\tvalidation-auc:0.91034\n",
      "[6]\tvalidation-auc:0.91041\n",
      "[7]\tvalidation-auc:0.91080\n",
      "[8]\tvalidation-auc:0.91089\n",
      "[9]\tvalidation-auc:0.91083\n"
     ]
    },
    {
     "name": "stderr",
     "output_type": "stream",
     "text": [
      "[I 2024-12-23 17:30:01,181] Trial 22 finished with value: 0.8770860011789336 and parameters: {'lambda': 0.28505592154590675, 'alpha': 0.7720886510523148, 'max_depth': 3, 'eta': 0.3242348886567734, 'gamma': 0.5339261144414112, 'grow_policy': 'depthwise'}. Best is trial 18 with value: 0.8788945196701126.\n"
     ]
    },
    {
     "name": "stdout",
     "output_type": "stream",
     "text": [
      "[0]\tvalidation-auc:0.90775\n",
      "[1]\tvalidation-auc:0.91186\n",
      "[2]\tvalidation-auc:0.91182\n",
      "[3]\tvalidation-auc:0.91234\n",
      "[4]\tvalidation-auc:0.91229\n",
      "[5]\tvalidation-auc:0.91383\n",
      "[6]\tvalidation-auc:0.91391\n",
      "[7]\tvalidation-auc:0.91389\n",
      "[8]\tvalidation-auc:0.91393\n",
      "[9]\tvalidation-auc:0.91392\n"
     ]
    },
    {
     "name": "stderr",
     "output_type": "stream",
     "text": [
      "[I 2024-12-23 17:30:01,304] Trial 23 finished with value: 0.8784799672209366 and parameters: {'lambda': 0.41936557902282706, 'alpha': 0.6632307739404897, 'max_depth': 6, 'eta': 0.1148723548554908, 'gamma': 0.23498940687867592, 'grow_policy': 'depthwise'}. Best is trial 18 with value: 0.8788945196701126.\n"
     ]
    },
    {
     "name": "stdout",
     "output_type": "stream",
     "text": [
      "[0]\tvalidation-auc:0.90775\n",
      "[1]\tvalidation-auc:0.91191\n",
      "[2]\tvalidation-auc:0.91179\n",
      "[3]\tvalidation-auc:0.91235\n",
      "[4]\tvalidation-auc:0.91203\n",
      "[5]\tvalidation-auc:0.91182\n",
      "[6]\tvalidation-auc:0.91238\n",
      "[7]\tvalidation-auc:0.91252\n",
      "[8]\tvalidation-auc:0.91271\n",
      "[9]\tvalidation-auc:0.91342\n"
     ]
    },
    {
     "name": "stderr",
     "output_type": "stream",
     "text": [
      "[I 2024-12-23 17:30:01,427] Trial 24 finished with value: 0.8783323330583914 and parameters: {'lambda': 0.3998460423813882, 'alpha': 0.5076717212553555, 'max_depth': 6, 'eta': 0.10158265772456311, 'gamma': 0.2662277209553201, 'grow_policy': 'depthwise'}. Best is trial 18 with value: 0.8788945196701126.\n"
     ]
    },
    {
     "name": "stdout",
     "output_type": "stream",
     "text": [
      "[0]\tvalidation-auc:0.90958\n",
      "[1]\tvalidation-auc:0.90962\n",
      "[2]\tvalidation-auc:0.91180\n",
      "[3]\tvalidation-auc:0.91227\n",
      "[4]\tvalidation-auc:0.91282\n",
      "[5]\tvalidation-auc:0.91297\n",
      "[6]\tvalidation-auc:0.91296\n",
      "[7]\tvalidation-auc:0.91320\n",
      "[8]\tvalidation-auc:0.91327\n",
      "[9]\tvalidation-auc:0.91428\n"
     ]
    },
    {
     "name": "stderr",
     "output_type": "stream",
     "text": [
      "[I 2024-12-23 17:30:01,548] Trial 25 finished with value: 0.8783066575518619 and parameters: {'lambda': 0.13539696658468142, 'alpha': 0.8253008250006235, 'max_depth': 8, 'eta': 0.07045631205651859, 'gamma': 0.41862977862186207, 'grow_policy': 'depthwise'}. Best is trial 18 with value: 0.8788945196701126.\n"
     ]
    },
    {
     "name": "stdout",
     "output_type": "stream",
     "text": [
      "[0]\tvalidation-auc:0.90763\n",
      "[1]\tvalidation-auc:0.91199\n",
      "[2]\tvalidation-auc:0.91230\n",
      "[3]\tvalidation-auc:0.91242\n",
      "[4]\tvalidation-auc:0.91241\n",
      "[5]\tvalidation-auc:0.91313\n",
      "[6]\tvalidation-auc:0.91316\n",
      "[7]\tvalidation-auc:0.91385\n",
      "[8]\tvalidation-auc:0.91429\n",
      "[9]\tvalidation-auc:0.91437\n"
     ]
    },
    {
     "name": "stderr",
     "output_type": "stream",
     "text": [
      "[I 2024-12-23 17:30:01,693] Trial 26 finished with value: 0.8777749606041446 and parameters: {'lambda': 0.586220065522998, 'alpha': 0.6807797261272799, 'max_depth': 6, 'eta': 0.19864455418475324, 'gamma': 0.5957045656286247, 'grow_policy': 'lossguide'}. Best is trial 18 with value: 0.8788945196701126.\n"
     ]
    },
    {
     "name": "stdout",
     "output_type": "stream",
     "text": [
      "[0]\tvalidation-auc:0.90681\n",
      "[1]\tvalidation-auc:0.90965\n",
      "[2]\tvalidation-auc:0.91235\n",
      "[3]\tvalidation-auc:0.91259\n",
      "[4]\tvalidation-auc:0.91367\n",
      "[5]\tvalidation-auc:0.91448\n",
      "[6]\tvalidation-auc:0.91453\n",
      "[7]\tvalidation-auc:0.91547\n",
      "[8]\tvalidation-auc:0.91569\n",
      "[9]\tvalidation-auc:0.91568\n"
     ]
    },
    {
     "name": "stderr",
     "output_type": "stream",
     "text": [
      "[I 2024-12-23 17:30:01,819] Trial 27 finished with value: 0.8775626027688894 and parameters: {'lambda': 0.40728145894696205, 'alpha': 0.4001273446047816, 'max_depth': 5, 'eta': 0.5730856423620789, 'gamma': 0.78563868300312, 'grow_policy': 'depthwise'}. Best is trial 18 with value: 0.8788945196701126.\n"
     ]
    },
    {
     "name": "stdout",
     "output_type": "stream",
     "text": [
      "[0]\tvalidation-auc:0.90977\n",
      "[1]\tvalidation-auc:0.91229\n",
      "[2]\tvalidation-auc:0.91426\n",
      "[3]\tvalidation-auc:0.91434\n",
      "[4]\tvalidation-auc:0.91577\n",
      "[5]\tvalidation-auc:0.91561\n",
      "[6]\tvalidation-auc:0.91651\n",
      "[7]\tvalidation-auc:0.91721\n",
      "[8]\tvalidation-auc:0.91632\n",
      "[9]\tvalidation-auc:0.91537\n"
     ]
    },
    {
     "name": "stderr",
     "output_type": "stream",
     "text": [
      "[I 2024-12-23 17:30:01,953] Trial 28 finished with value: 0.8669789450148329 and parameters: {'lambda': 0.3428881959794441, 'alpha': 0.9193416683542676, 'max_depth': 8, 'eta': 0.7888820127795553, 'gamma': 0.4777646243751319, 'grow_policy': 'depthwise'}. Best is trial 18 with value: 0.8788945196701126.\n"
     ]
    },
    {
     "name": "stdout",
     "output_type": "stream",
     "text": [
      "[0]\tvalidation-auc:0.90681\n",
      "[1]\tvalidation-auc:0.91189\n",
      "[2]\tvalidation-auc:0.91216\n",
      "[3]\tvalidation-auc:0.91195\n",
      "[4]\tvalidation-auc:0.91383\n",
      "[5]\tvalidation-auc:0.91448\n",
      "[6]\tvalidation-auc:0.91496\n",
      "[7]\tvalidation-auc:0.91491\n",
      "[8]\tvalidation-auc:0.91439\n",
      "[9]\tvalidation-auc:0.91454\n"
     ]
    },
    {
     "name": "stderr",
     "output_type": "stream",
     "text": [
      "[I 2024-12-23 17:30:02,083] Trial 29 finished with value: 0.8778359399321525 and parameters: {'lambda': 0.19072480693768834, 'alpha': 0.5670889072740541, 'max_depth': 5, 'eta': 0.44588292248669315, 'gamma': 0.32450145970521627, 'grow_policy': 'depthwise'}. Best is trial 18 with value: 0.8788945196701126.\n"
     ]
    },
    {
     "name": "stdout",
     "output_type": "stream",
     "text": [
      "[0]\tvalidation-auc:0.90681\n",
      "[1]\tvalidation-auc:0.90964\n",
      "[2]\tvalidation-auc:0.91134\n",
      "[3]\tvalidation-auc:0.91342\n",
      "[4]\tvalidation-auc:0.91389\n",
      "[5]\tvalidation-auc:0.91417\n",
      "[6]\tvalidation-auc:0.91446\n",
      "[7]\tvalidation-auc:0.91445\n",
      "[8]\tvalidation-auc:0.91635\n",
      "[9]\tvalidation-auc:0.91649\n"
     ]
    },
    {
     "name": "stderr",
     "output_type": "stream",
     "text": [
      "[I 2024-12-23 17:30:02,204] Trial 30 finished with value: 0.8786677193624344 and parameters: {'lambda': 0.23860251190328693, 'alpha': 0.7864667155462969, 'max_depth': 5, 'eta': 0.5131478104958018, 'gamma': 0.0022018952545778403, 'grow_policy': 'depthwise'}. Best is trial 18 with value: 0.8788945196701126.\n"
     ]
    },
    {
     "name": "stdout",
     "output_type": "stream",
     "text": [
      "[0]\tvalidation-auc:0.90681\n",
      "[1]\tvalidation-auc:0.90965\n",
      "[2]\tvalidation-auc:0.91235\n",
      "[3]\tvalidation-auc:0.91258\n",
      "[4]\tvalidation-auc:0.91365\n",
      "[5]\tvalidation-auc:0.91445\n",
      "[6]\tvalidation-auc:0.91456\n",
      "[7]\tvalidation-auc:0.91464\n",
      "[8]\tvalidation-auc:0.91433\n",
      "[9]\tvalidation-auc:0.91701\n"
     ]
    },
    {
     "name": "stderr",
     "output_type": "stream",
     "text": [
      "[I 2024-12-23 17:30:02,330] Trial 31 finished with value: 0.8775101819430582 and parameters: {'lambda': 0.2255227780045563, 'alpha': 0.7761473581068966, 'max_depth': 5, 'eta': 0.5868786434092613, 'gamma': 0.04639050461406091, 'grow_policy': 'depthwise'}. Best is trial 18 with value: 0.8788945196701126.\n"
     ]
    },
    {
     "name": "stdout",
     "output_type": "stream",
     "text": [
      "[0]\tvalidation-auc:0.90771\n",
      "[1]\tvalidation-auc:0.91098\n",
      "[2]\tvalidation-auc:0.91209\n",
      "[3]\tvalidation-auc:0.91304\n",
      "[4]\tvalidation-auc:0.91343\n",
      "[5]\tvalidation-auc:0.91355\n",
      "[6]\tvalidation-auc:0.91343\n",
      "[7]\tvalidation-auc:0.91355\n",
      "[8]\tvalidation-auc:0.91311\n",
      "[9]\tvalidation-auc:0.91435\n"
     ]
    },
    {
     "name": "stderr",
     "output_type": "stream",
     "text": [
      "[I 2024-12-23 17:30:02,453] Trial 32 finished with value: 0.8782237470620267 and parameters: {'lambda': 0.08607394063376017, 'alpha': 0.6903534062421296, 'max_depth': 6, 'eta': 0.5048239272715243, 'gamma': 0.1183918968779906, 'grow_policy': 'depthwise'}. Best is trial 18 with value: 0.8788945196701126.\n"
     ]
    },
    {
     "name": "stdout",
     "output_type": "stream",
     "text": [
      "[0]\tvalidation-auc:0.90775\n",
      "[1]\tvalidation-auc:0.91136\n",
      "[2]\tvalidation-auc:0.91174\n",
      "[3]\tvalidation-auc:0.91316\n",
      "[4]\tvalidation-auc:0.91359\n",
      "[5]\tvalidation-auc:0.91374\n",
      "[6]\tvalidation-auc:0.91396\n",
      "[7]\tvalidation-auc:0.91387\n",
      "[8]\tvalidation-auc:0.91427\n",
      "[9]\tvalidation-auc:0.91522\n"
     ]
    },
    {
     "name": "stderr",
     "output_type": "stream",
     "text": [
      "[I 2024-12-23 17:30:02,582] Trial 33 finished with value: 0.877427271453223 and parameters: {'lambda': 0.2197400131421991, 'alpha': 0.799466049800148, 'max_depth': 6, 'eta': 0.500093096120672, 'gamma': 0.1208233412670625, 'grow_policy': 'depthwise'}. Best is trial 18 with value: 0.8788945196701126.\n"
     ]
    },
    {
     "name": "stdout",
     "output_type": "stream",
     "text": [
      "[0]\tvalidation-auc:0.90960\n",
      "[1]\tvalidation-auc:0.91321\n",
      "[2]\tvalidation-auc:0.91221\n",
      "[3]\tvalidation-auc:0.91379\n",
      "[4]\tvalidation-auc:0.91505\n",
      "[5]\tvalidation-auc:0.91635\n",
      "[6]\tvalidation-auc:0.91709\n",
      "[7]\tvalidation-auc:0.91750\n",
      "[8]\tvalidation-auc:0.91832\n",
      "[9]\tvalidation-auc:0.91844\n"
     ]
    },
    {
     "name": "stderr",
     "output_type": "stream",
     "text": [
      "[I 2024-12-23 17:30:02,715] Trial 34 finished with value: 0.8637625529156141 and parameters: {'lambda': 0.2595690689477665, 'alpha': 0.8893967899137356, 'max_depth': 7, 'eta': 0.9935523854684574, 'gamma': 0.2425775073192909, 'grow_policy': 'depthwise'}. Best is trial 18 with value: 0.8788945196701126.\n"
     ]
    },
    {
     "name": "stdout",
     "output_type": "stream",
     "text": [
      "[0]\tvalidation-auc:0.89979\n",
      "[1]\tvalidation-auc:0.90497\n",
      "[2]\tvalidation-auc:0.90762\n",
      "[3]\tvalidation-auc:0.91037\n",
      "[4]\tvalidation-auc:0.91114\n",
      "[5]\tvalidation-auc:0.91249\n",
      "[6]\tvalidation-auc:0.91279\n",
      "[7]\tvalidation-auc:0.91298\n",
      "[8]\tvalidation-auc:0.91305\n",
      "[9]\tvalidation-auc:0.91376\n"
     ]
    },
    {
     "name": "stderr",
     "output_type": "stream",
     "text": [
      "[I 2024-12-23 17:30:02,842] Trial 35 finished with value: 0.8772689391629571 and parameters: {'lambda': 0.8056260836646656, 'alpha': 0.5474023743892587, 'max_depth': 3, 'eta': 0.7195492669367695, 'gamma': 0.012446804165538315, 'grow_policy': 'lossguide'}. Best is trial 18 with value: 0.8788945196701126.\n"
     ]
    },
    {
     "name": "stdout",
     "output_type": "stream",
     "text": [
      "[0]\tvalidation-auc:0.90681\n",
      "[1]\tvalidation-auc:0.90890\n",
      "[2]\tvalidation-auc:0.90935\n",
      "[3]\tvalidation-auc:0.91049\n",
      "[4]\tvalidation-auc:0.91134\n",
      "[5]\tvalidation-auc:0.91138\n",
      "[6]\tvalidation-auc:0.91074\n",
      "[7]\tvalidation-auc:0.91149\n",
      "[8]\tvalidation-auc:0.91213\n",
      "[9]\tvalidation-auc:0.91206\n"
     ]
    },
    {
     "name": "stderr",
     "output_type": "stream",
     "text": [
      "[I 2024-12-23 17:30:02,970] Trial 36 finished with value: 0.878053111924882 and parameters: {'lambda': 0.3390678271294958, 'alpha': 0.42209563993622334, 'max_depth': 5, 'eta': 0.12379494038290233, 'gamma': 0.7057531503257074, 'grow_policy': 'depthwise'}. Best is trial 18 with value: 0.8788945196701126.\n"
     ]
    },
    {
     "name": "stdout",
     "output_type": "stream",
     "text": [
      "[0]\tvalidation-auc:0.90972\n",
      "[1]\tvalidation-auc:0.91157\n",
      "[2]\tvalidation-auc:0.91237\n",
      "[3]\tvalidation-auc:0.91238\n",
      "[4]\tvalidation-auc:0.91702\n",
      "[5]\tvalidation-auc:0.91622\n",
      "[6]\tvalidation-auc:0.91615\n",
      "[7]\tvalidation-auc:0.91590\n",
      "[8]\tvalidation-auc:0.91545\n",
      "[9]\tvalidation-auc:0.91575\n"
     ]
    },
    {
     "name": "stderr",
     "output_type": "stream",
     "text": [
      "[I 2024-12-23 17:30:03,126] Trial 37 finished with value: 0.8683889582484169 and parameters: {'lambda': 0.15403378472291399, 'alpha': 0.6590306982732576, 'max_depth': 8, 'eta': 0.6283078077420776, 'gamma': 0.36669640571632156, 'grow_policy': 'lossguide'}. Best is trial 18 with value: 0.8788945196701126.\n"
     ]
    },
    {
     "name": "stdout",
     "output_type": "stream",
     "text": [
      "[0]\tvalidation-auc:0.90378\n",
      "[1]\tvalidation-auc:0.90802\n",
      "[2]\tvalidation-auc:0.90969\n",
      "[3]\tvalidation-auc:0.91334\n",
      "[4]\tvalidation-auc:0.91407\n",
      "[5]\tvalidation-auc:0.91434\n",
      "[6]\tvalidation-auc:0.91465\n",
      "[7]\tvalidation-auc:0.91459\n",
      "[8]\tvalidation-auc:0.91468\n",
      "[9]\tvalidation-auc:0.91506\n"
     ]
    },
    {
     "name": "stderr",
     "output_type": "stream",
     "text": [
      "[I 2024-12-23 17:30:03,248] Trial 38 finished with value: 0.8784580360591093 and parameters: {'lambda': 0.5716859438961965, 'alpha': 0.7358690545347165, 'max_depth': 4, 'eta': 0.42583441816576384, 'gamma': 0.26098279631177373, 'grow_policy': 'depthwise'}. Best is trial 18 with value: 0.8788945196701126.\n"
     ]
    },
    {
     "name": "stdout",
     "output_type": "stream",
     "text": [
      "[0]\tvalidation-auc:0.90766\n",
      "[1]\tvalidation-auc:0.90760\n",
      "[2]\tvalidation-auc:0.91194\n",
      "[3]\tvalidation-auc:0.91173\n",
      "[4]\tvalidation-auc:0.91191\n",
      "[5]\tvalidation-auc:0.91206\n",
      "[6]\tvalidation-auc:0.91398\n",
      "[7]\tvalidation-auc:0.91399\n",
      "[8]\tvalidation-auc:0.91403\n",
      "[9]\tvalidation-auc:0.91409\n"
     ]
    },
    {
     "name": "stderr",
     "output_type": "stream",
     "text": [
      "[I 2024-12-23 17:30:03,370] Trial 39 finished with value: 0.8782103744023758 and parameters: {'lambda': 0.09137675373849852, 'alpha': 0.05024960455821453, 'max_depth': 6, 'eta': 0.0763160614391224, 'gamma': 0.16737951219693034, 'grow_policy': 'depthwise'}. Best is trial 18 with value: 0.8788945196701126.\n"
     ]
    },
    {
     "name": "stdout",
     "output_type": "stream",
     "text": [
      "[0]\tvalidation-auc:0.90956\n",
      "[1]\tvalidation-auc:0.91101\n",
      "[2]\tvalidation-auc:0.91317\n",
      "[3]\tvalidation-auc:0.91385\n",
      "[4]\tvalidation-auc:0.91367\n",
      "[5]\tvalidation-auc:0.91546\n",
      "[6]\tvalidation-auc:0.91561\n",
      "[7]\tvalidation-auc:0.91623\n",
      "[8]\tvalidation-auc:0.91594\n",
      "[9]\tvalidation-auc:0.91709\n"
     ]
    },
    {
     "name": "stderr",
     "output_type": "stream",
     "text": [
      "[I 2024-12-23 17:30:03,515] Trial 40 finished with value: 0.8758915552189211 and parameters: {'lambda': 0.4466978179840708, 'alpha': 0.5436372551908262, 'max_depth': 7, 'eta': 0.5321911951277682, 'gamma': 0.07755710872459554, 'grow_policy': 'lossguide'}. Best is trial 18 with value: 0.8788945196701126.\n"
     ]
    },
    {
     "name": "stdout",
     "output_type": "stream",
     "text": [
      "[0]\tvalidation-auc:0.90378\n",
      "[1]\tvalidation-auc:0.90803\n",
      "[2]\tvalidation-auc:0.90969\n",
      "[3]\tvalidation-auc:0.91333\n",
      "[4]\tvalidation-auc:0.91402\n",
      "[5]\tvalidation-auc:0.91426\n",
      "[6]\tvalidation-auc:0.91444\n",
      "[7]\tvalidation-auc:0.91447\n",
      "[8]\tvalidation-auc:0.91465\n",
      "[9]\tvalidation-auc:0.91459\n"
     ]
    },
    {
     "name": "stderr",
     "output_type": "stream",
     "text": [
      "[I 2024-12-23 17:30:03,641] Trial 41 finished with value: 0.8772298909967766 and parameters: {'lambda': 0.5609279437540131, 'alpha': 0.7356305394689409, 'max_depth': 4, 'eta': 0.44142036879395763, 'gamma': 0.29143015628897334, 'grow_policy': 'depthwise'}. Best is trial 18 with value: 0.8788945196701126.\n"
     ]
    },
    {
     "name": "stdout",
     "output_type": "stream",
     "text": [
      "[0]\tvalidation-auc:0.89248\n",
      "[1]\tvalidation-auc:0.89874\n",
      "[2]\tvalidation-auc:0.90058\n",
      "[3]\tvalidation-auc:0.90364\n",
      "[4]\tvalidation-auc:0.90524\n",
      "[5]\tvalidation-auc:0.90543\n",
      "[6]\tvalidation-auc:0.90544\n",
      "[7]\tvalidation-auc:0.90666\n",
      "[8]\tvalidation-auc:0.90689\n",
      "[9]\tvalidation-auc:0.90671\n"
     ]
    },
    {
     "name": "stderr",
     "output_type": "stream",
     "text": [
      "[I 2024-12-23 17:30:03,759] Trial 42 finished with value: 0.8761750556035188 and parameters: {'lambda': 0.6579453271410254, 'alpha': 0.9286288838508275, 'max_depth': 2, 'eta': 0.28557589088275415, 'gamma': 0.392624079999196, 'grow_policy': 'depthwise'}. Best is trial 18 with value: 0.8788945196701126.\n"
     ]
    },
    {
     "name": "stdout",
     "output_type": "stream",
     "text": [
      "[0]\tvalidation-auc:0.90682\n",
      "[1]\tvalidation-auc:0.91162\n",
      "[2]\tvalidation-auc:0.91209\n",
      "[3]\tvalidation-auc:0.91204\n",
      "[4]\tvalidation-auc:0.91410\n",
      "[5]\tvalidation-auc:0.91436\n",
      "[6]\tvalidation-auc:0.91496\n",
      "[7]\tvalidation-auc:0.91480\n",
      "[8]\tvalidation-auc:0.91437\n",
      "[9]\tvalidation-auc:0.91445\n"
     ]
    },
    {
     "name": "stderr",
     "output_type": "stream",
     "text": [
      "[I 2024-12-23 17:30:03,882] Trial 43 finished with value: 0.8779750155925212 and parameters: {'lambda': 0.576602561433695, 'alpha': 0.7377463995466161, 'max_depth': 5, 'eta': 0.41377518329586777, 'gamma': 0.33827408097222894, 'grow_policy': 'depthwise'}. Best is trial 18 with value: 0.8788945196701126.\n"
     ]
    },
    {
     "name": "stdout",
     "output_type": "stream",
     "text": [
      "[0]\tvalidation-auc:0.90378\n",
      "[1]\tvalidation-auc:0.90955\n",
      "[2]\tvalidation-auc:0.90910\n",
      "[3]\tvalidation-auc:0.91039\n",
      "[4]\tvalidation-auc:0.91065\n",
      "[5]\tvalidation-auc:0.91060\n",
      "[6]\tvalidation-auc:0.91315\n",
      "[7]\tvalidation-auc:0.91346\n",
      "[8]\tvalidation-auc:0.91348\n",
      "[9]\tvalidation-auc:0.91371\n"
     ]
    },
    {
     "name": "stderr",
     "output_type": "stream",
     "text": [
      "[I 2024-12-23 17:30:04,011] Trial 44 finished with value: 0.8771774701709454 and parameters: {'lambda': 0.5298161688859306, 'alpha': 0.8145613751853885, 'max_depth': 4, 'eta': 0.20090370571975194, 'gamma': 0.5679770080867382, 'grow_policy': 'depthwise'}. Best is trial 18 with value: 0.8788945196701126.\n"
     ]
    },
    {
     "name": "stdout",
     "output_type": "stream",
     "text": [
      "[0]\tvalidation-auc:0.89979\n",
      "[1]\tvalidation-auc:0.90497\n",
      "[2]\tvalidation-auc:0.90762\n",
      "[3]\tvalidation-auc:0.91037\n",
      "[4]\tvalidation-auc:0.91113\n",
      "[5]\tvalidation-auc:0.91251\n",
      "[6]\tvalidation-auc:0.91280\n",
      "[7]\tvalidation-auc:0.91297\n",
      "[8]\tvalidation-auc:0.91369\n",
      "[9]\tvalidation-auc:0.91376\n"
     ]
    },
    {
     "name": "stderr",
     "output_type": "stream",
     "text": [
      "[I 2024-12-23 17:30:04,126] Trial 45 finished with value: 0.8772689391629571 and parameters: {'lambda': 0.756885714239832, 'alpha': 0.998934327100416, 'max_depth': 3, 'eta': 0.7298817166291118, 'gamma': 0.48562707185197523, 'grow_policy': 'depthwise'}. Best is trial 18 with value: 0.8788945196701126.\n"
     ]
    },
    {
     "name": "stdout",
     "output_type": "stream",
     "text": [
      "[0]\tvalidation-auc:0.90681\n",
      "[1]\tvalidation-auc:0.90683\n",
      "[2]\tvalidation-auc:0.90890\n",
      "[3]\tvalidation-auc:0.90902\n",
      "[4]\tvalidation-auc:0.90902\n",
      "[5]\tvalidation-auc:0.90903\n",
      "[6]\tvalidation-auc:0.90926\n",
      "[7]\tvalidation-auc:0.90965\n",
      "[8]\tvalidation-auc:0.91056\n",
      "[9]\tvalidation-auc:0.90958\n"
     ]
    },
    {
     "name": "stderr",
     "output_type": "stream",
     "text": [
      "[I 2024-12-23 17:30:04,241] Trial 46 finished with value: 0.8775652773008196 and parameters: {'lambda': 0.4439177350991056, 'alpha': 0.4650972565608078, 'max_depth': 5, 'eta': 0.04451497198582907, 'gamma': 0.9316237533927283, 'grow_policy': 'depthwise'}. Best is trial 18 with value: 0.8788945196701126.\n"
     ]
    },
    {
     "name": "stdout",
     "output_type": "stream",
     "text": [
      "[0]\tvalidation-auc:0.90956\n",
      "[1]\tvalidation-auc:0.91135\n",
      "[2]\tvalidation-auc:0.91243\n",
      "[3]\tvalidation-auc:0.91235\n",
      "[4]\tvalidation-auc:0.91328\n",
      "[5]\tvalidation-auc:0.91319\n",
      "[6]\tvalidation-auc:0.91357\n",
      "[7]\tvalidation-auc:0.91398\n",
      "[8]\tvalidation-auc:0.91408\n",
      "[9]\tvalidation-auc:0.91486\n"
     ]
    },
    {
     "name": "stderr",
     "output_type": "stream",
     "text": [
      "[I 2024-12-23 17:30:04,357] Trial 47 finished with value: 0.877588278275419 and parameters: {'lambda': 0.30775725504124146, 'alpha': 0.6091112253547779, 'max_depth': 7, 'eta': 0.23473483749361124, 'gamma': 0.21496450728067845, 'grow_policy': 'depthwise'}. Best is trial 18 with value: 0.8788945196701126.\n"
     ]
    },
    {
     "name": "stdout",
     "output_type": "stream",
     "text": [
      "[0]\tvalidation-auc:0.89248\n",
      "[1]\tvalidation-auc:0.89874\n",
      "[2]\tvalidation-auc:0.90069\n",
      "[3]\tvalidation-auc:0.90406\n",
      "[4]\tvalidation-auc:0.90528\n",
      "[5]\tvalidation-auc:0.90672\n",
      "[6]\tvalidation-auc:0.91050\n",
      "[7]\tvalidation-auc:0.91051\n",
      "[8]\tvalidation-auc:0.91286\n",
      "[9]\tvalidation-auc:0.91288\n"
     ]
    },
    {
     "name": "stderr",
     "output_type": "stream",
     "text": [
      "[I 2024-12-23 17:30:04,492] Trial 48 finished with value: 0.8770774426767571 and parameters: {'lambda': 0.6280145292553605, 'alpha': 0.3448072194658254, 'max_depth': 2, 'eta': 0.6734222808941618, 'gamma': 0.27112785635368597, 'grow_policy': 'lossguide'}. Best is trial 18 with value: 0.8788945196701126.\n"
     ]
    },
    {
     "name": "stdout",
     "output_type": "stream",
     "text": [
      "[0]\tvalidation-auc:0.90763\n",
      "[1]\tvalidation-auc:0.91233\n",
      "[2]\tvalidation-auc:0.91393\n",
      "[3]\tvalidation-auc:0.91371\n",
      "[4]\tvalidation-auc:0.91343\n",
      "[5]\tvalidation-auc:0.91434\n",
      "[6]\tvalidation-auc:0.91845\n",
      "[7]\tvalidation-auc:0.91882\n",
      "[8]\tvalidation-auc:0.91918\n",
      "[9]\tvalidation-auc:0.91997\n"
     ]
    },
    {
     "name": "stderr",
     "output_type": "stream",
     "text": [
      "[I 2024-12-23 17:30:04,626] Trial 49 finished with value: 0.8749923775839991 and parameters: {'lambda': 0.3812303516146338, 'alpha': 0.8574521135017934, 'max_depth': 6, 'eta': 0.8183915756323401, 'gamma': 0.15072885956649837, 'grow_policy': 'depthwise'}. Best is trial 18 with value: 0.8788945196701126.\n"
     ]
    },
    {
     "name": "stdout",
     "output_type": "stream",
     "text": [
      "[0]\tvalidation-auc:0.89979\n",
      "[1]\tvalidation-auc:0.90336\n",
      "[2]\tvalidation-auc:0.90426\n",
      "[3]\tvalidation-auc:0.90529\n",
      "[4]\tvalidation-auc:0.90541\n",
      "[5]\tvalidation-auc:0.90546\n",
      "[6]\tvalidation-auc:0.90634\n",
      "[7]\tvalidation-auc:0.90642\n",
      "[8]\tvalidation-auc:0.91015\n",
      "[9]\tvalidation-auc:0.91054\n"
     ]
    },
    {
     "name": "stderr",
     "output_type": "stream",
     "text": [
      "[I 2024-12-23 17:30:04,749] Trial 50 finished with value: 0.8765066975628595 and parameters: {'lambda': 0.04664473726903792, 'alpha': 0.7197323684560942, 'max_depth': 3, 'eta': 0.16457977652754047, 'gamma': 0.678148249985728, 'grow_policy': 'depthwise'}. Best is trial 18 with value: 0.8788945196701126.\n"
     ]
    },
    {
     "name": "stdout",
     "output_type": "stream",
     "text": [
      "[0]\tvalidation-auc:0.90378\n",
      "[1]\tvalidation-auc:0.90796\n",
      "[2]\tvalidation-auc:0.90954\n",
      "[3]\tvalidation-auc:0.91068\n",
      "[4]\tvalidation-auc:0.91088\n",
      "[5]\tvalidation-auc:0.91338\n",
      "[6]\tvalidation-auc:0.91375\n",
      "[7]\tvalidation-auc:0.91437\n",
      "[8]\tvalidation-auc:0.91466\n",
      "[9]\tvalidation-auc:0.91451\n"
     ]
    },
    {
     "name": "stderr",
     "output_type": "stream",
     "text": [
      "[I 2024-12-23 17:30:04,883] Trial 51 finished with value: 0.8779787599372234 and parameters: {'lambda': 0.24884316221238884, 'alpha': 0.6283437860176324, 'max_depth': 4, 'eta': 0.3175694864539519, 'gamma': 0.18662202923563953, 'grow_policy': 'depthwise'}. Best is trial 18 with value: 0.8788945196701126.\n"
     ]
    },
    {
     "name": "stdout",
     "output_type": "stream",
     "text": [
      "[0]\tvalidation-auc:0.90378\n",
      "[1]\tvalidation-auc:0.90803\n",
      "[2]\tvalidation-auc:0.90969\n",
      "[3]\tvalidation-auc:0.91068\n",
      "[4]\tvalidation-auc:0.91340\n",
      "[5]\tvalidation-auc:0.91412\n",
      "[6]\tvalidation-auc:0.91490\n",
      "[7]\tvalidation-auc:0.91485\n",
      "[8]\tvalidation-auc:0.91480\n",
      "[9]\tvalidation-auc:0.91453\n"
     ]
    },
    {
     "name": "stderr",
     "output_type": "stream",
     "text": [
      "[I 2024-12-23 17:30:05,016] Trial 52 finished with value: 0.8780006910990508 and parameters: {'lambda': 0.28334505752610256, 'alpha': 0.6608938397012606, 'max_depth': 4, 'eta': 0.3629827820928531, 'gamma': 0.14349800579469488, 'grow_policy': 'depthwise'}. Best is trial 18 with value: 0.8788945196701126.\n"
     ]
    },
    {
     "name": "stdout",
     "output_type": "stream",
     "text": [
      "[0]\tvalidation-auc:0.90681\n",
      "[1]\tvalidation-auc:0.91189\n",
      "[2]\tvalidation-auc:0.91216\n",
      "[3]\tvalidation-auc:0.91306\n",
      "[4]\tvalidation-auc:0.91343\n",
      "[5]\tvalidation-auc:0.91407\n",
      "[6]\tvalidation-auc:0.91401\n",
      "[7]\tvalidation-auc:0.91475\n",
      "[8]\tvalidation-auc:0.91589\n",
      "[9]\tvalidation-auc:0.91688\n"
     ]
    },
    {
     "name": "stderr",
     "output_type": "stream",
     "text": [
      "[I 2024-12-23 17:30:05,141] Trial 53 finished with value: 0.878437174710054 and parameters: {'lambda': 0.14434819127324527, 'alpha': 0.5933754010454655, 'max_depth': 5, 'eta': 0.45077329950312683, 'gamma': 0.08970007184643047, 'grow_policy': 'depthwise'}. Best is trial 18 with value: 0.8788945196701126.\n"
     ]
    },
    {
     "name": "stdout",
     "output_type": "stream",
     "text": [
      "[0]\tvalidation-auc:0.90681\n",
      "[1]\tvalidation-auc:0.90922\n",
      "[2]\tvalidation-auc:0.91187\n",
      "[3]\tvalidation-auc:0.91267\n",
      "[4]\tvalidation-auc:0.91295\n",
      "[5]\tvalidation-auc:0.91329\n",
      "[6]\tvalidation-auc:0.91403\n",
      "[7]\tvalidation-auc:0.91453\n",
      "[8]\tvalidation-auc:0.91423\n",
      "[9]\tvalidation-auc:0.91359\n"
     ]
    },
    {
     "name": "stderr",
     "output_type": "stream",
     "text": [
      "[I 2024-12-23 17:30:05,271] Trial 54 finished with value: 0.8766564713509489 and parameters: {'lambda': 0.1165560556591112, 'alpha': 0.5919423780401963, 'max_depth': 5, 'eta': 0.6006435250217577, 'gamma': 0.05658588892941306, 'grow_policy': 'depthwise'}. Best is trial 18 with value: 0.8788945196701126.\n"
     ]
    },
    {
     "name": "stdout",
     "output_type": "stream",
     "text": [
      "[0]\tvalidation-auc:0.90681\n",
      "[1]\tvalidation-auc:0.91187\n",
      "[2]\tvalidation-auc:0.91215\n",
      "[3]\tvalidation-auc:0.91306\n",
      "[4]\tvalidation-auc:0.91345\n",
      "[5]\tvalidation-auc:0.91409\n",
      "[6]\tvalidation-auc:0.91399\n",
      "[7]\tvalidation-auc:0.91471\n",
      "[8]\tvalidation-auc:0.91633\n",
      "[9]\tvalidation-auc:0.91673\n"
     ]
    },
    {
     "name": "stderr",
     "output_type": "stream",
     "text": [
      "[I 2024-12-23 17:30:05,407] Trial 55 finished with value: 0.8782542367260305 and parameters: {'lambda': 0.14995793745937802, 'alpha': 0.7655059476749844, 'max_depth': 5, 'eta': 0.46162492590884396, 'gamma': 0.09388610701772515, 'grow_policy': 'depthwise'}. Best is trial 18 with value: 0.8788945196701126.\n"
     ]
    },
    {
     "name": "stdout",
     "output_type": "stream",
     "text": [
      "[0]\tvalidation-auc:0.90768\n",
      "[1]\tvalidation-auc:0.91136\n",
      "[2]\tvalidation-auc:0.91203\n",
      "[3]\tvalidation-auc:0.91297\n",
      "[4]\tvalidation-auc:0.91302\n",
      "[5]\tvalidation-auc:0.91409\n",
      "[6]\tvalidation-auc:0.91483\n",
      "[7]\tvalidation-auc:0.91614\n",
      "[8]\tvalidation-auc:0.91591\n",
      "[9]\tvalidation-auc:0.91686\n"
     ]
    },
    {
     "name": "stderr",
     "output_type": "stream",
     "text": [
      "[I 2024-12-23 17:30:05,526] Trial 56 finished with value: 0.8766136788400661 and parameters: {'lambda': 0.7261710894092895, 'alpha': 0.698758282820017, 'max_depth': 6, 'eta': 0.5371594034817089, 'gamma': 0.0018413501965257734, 'grow_policy': 'depthwise'}. Best is trial 18 with value: 0.8788945196701126.\n"
     ]
    },
    {
     "name": "stdout",
     "output_type": "stream",
     "text": [
      "[0]\tvalidation-auc:0.90761\n",
      "[1]\tvalidation-auc:0.91206\n",
      "[2]\tvalidation-auc:0.91286\n",
      "[3]\tvalidation-auc:0.91262\n",
      "[4]\tvalidation-auc:0.91388\n",
      "[5]\tvalidation-auc:0.91455\n",
      "[6]\tvalidation-auc:0.91447\n",
      "[7]\tvalidation-auc:0.91617\n",
      "[8]\tvalidation-auc:0.91595\n",
      "[9]\tvalidation-auc:0.91640\n"
     ]
    },
    {
     "name": "stderr",
     "output_type": "stream",
     "text": [
      "[I 2024-12-23 17:30:05,649] Trial 57 finished with value: 0.8787944921759243 and parameters: {'lambda': 0.18075396027417426, 'alpha': 0.7443962523241314, 'max_depth': 6, 'eta': 0.3974574689381045, 'gamma': 0.6181589621212014, 'grow_policy': 'depthwise'}. Best is trial 18 with value: 0.8788945196701126.\n"
     ]
    },
    {
     "name": "stdout",
     "output_type": "stream",
     "text": [
      "[0]\tvalidation-auc:0.90957\n",
      "[1]\tvalidation-auc:0.91219\n",
      "[2]\tvalidation-auc:0.91426\n",
      "[3]\tvalidation-auc:0.91460\n",
      "[4]\tvalidation-auc:0.91471\n",
      "[5]\tvalidation-auc:0.91505\n",
      "[6]\tvalidation-auc:0.91656\n",
      "[7]\tvalidation-auc:0.91720\n",
      "[8]\tvalidation-auc:0.91702\n",
      "[9]\tvalidation-auc:0.91716\n"
     ]
    },
    {
     "name": "stderr",
     "output_type": "stream",
     "text": [
      "[I 2024-12-23 17:30:05,786] Trial 58 finished with value: 0.8770795823023013 and parameters: {'lambda': 0.20485789730491494, 'alpha': 0.8315519524738789, 'max_depth': 7, 'eta': 0.4154474030005626, 'gamma': 0.6180721041304167, 'grow_policy': 'depthwise'}. Best is trial 18 with value: 0.8788945196701126.\n"
     ]
    },
    {
     "name": "stdout",
     "output_type": "stream",
     "text": [
      "[0]\tvalidation-auc:0.90760\n",
      "[1]\tvalidation-auc:0.91179\n",
      "[2]\tvalidation-auc:0.91382\n",
      "[3]\tvalidation-auc:0.91414\n",
      "[4]\tvalidation-auc:0.91492\n",
      "[5]\tvalidation-auc:0.91474\n",
      "[6]\tvalidation-auc:0.91490\n",
      "[7]\tvalidation-auc:0.91497\n",
      "[8]\tvalidation-auc:0.91456\n",
      "[9]\tvalidation-auc:0.91441\n"
     ]
    },
    {
     "name": "stderr",
     "output_type": "stream",
     "text": [
      "[I 2024-12-23 17:30:05,908] Trial 59 finished with value: 0.8783933123863993 and parameters: {'lambda': 0.4858586037435107, 'alpha': 0.891659672698374, 'max_depth': 6, 'eta': 0.26144053011759405, 'gamma': 0.549424962767422, 'grow_policy': 'depthwise'}. Best is trial 18 with value: 0.8788945196701126.\n"
     ]
    },
    {
     "name": "stdout",
     "output_type": "stream",
     "text": [
      "[0]\tvalidation-auc:0.90960\n",
      "[1]\tvalidation-auc:0.91222\n",
      "[2]\tvalidation-auc:0.91442\n",
      "[3]\tvalidation-auc:0.91467\n",
      "[4]\tvalidation-auc:0.91509\n",
      "[5]\tvalidation-auc:0.91507\n",
      "[6]\tvalidation-auc:0.91557\n",
      "[7]\tvalidation-auc:0.91591\n",
      "[8]\tvalidation-auc:0.91675\n",
      "[9]\tvalidation-auc:0.91682\n"
     ]
    },
    {
     "name": "stderr",
     "output_type": "stream",
     "text": [
      "[I 2024-12-23 17:30:06,041] Trial 60 finished with value: 0.8777064925867323 and parameters: {'lambda': 0.36383567973801123, 'alpha': 0.7744757162332757, 'max_depth': 7, 'eta': 0.39008330948158854, 'gamma': 0.5104427192960928, 'grow_policy': 'lossguide'}. Best is trial 18 with value: 0.8788945196701126.\n"
     ]
    },
    {
     "name": "stdout",
     "output_type": "stream",
     "text": [
      "[0]\tvalidation-auc:0.90759\n",
      "[1]\tvalidation-auc:0.91191\n",
      "[2]\tvalidation-auc:0.91225\n",
      "[3]\tvalidation-auc:0.91320\n",
      "[4]\tvalidation-auc:0.91342\n",
      "[5]\tvalidation-auc:0.91326\n",
      "[6]\tvalidation-auc:0.91329\n",
      "[7]\tvalidation-auc:0.91480\n",
      "[8]\tvalidation-auc:0.91483\n",
      "[9]\tvalidation-auc:0.91690\n"
     ]
    },
    {
     "name": "stderr",
     "output_type": "stream",
     "text": [
      "[I 2024-12-23 17:30:06,168] Trial 61 finished with value: 0.877362547780513 and parameters: {'lambda': 0.17969017427295048, 'alpha': 0.6563701858093931, 'max_depth': 6, 'eta': 0.46816194692292507, 'gamma': 0.7446386447213934, 'grow_policy': 'depthwise'}. Best is trial 18 with value: 0.8788945196701126.\n"
     ]
    },
    {
     "name": "stdout",
     "output_type": "stream",
     "text": [
      "[0]\tvalidation-auc:0.90376\n",
      "[1]\tvalidation-auc:0.90808\n",
      "[2]\tvalidation-auc:0.90946\n",
      "[3]\tvalidation-auc:0.91130\n",
      "[4]\tvalidation-auc:0.91143\n",
      "[5]\tvalidation-auc:0.91238\n",
      "[6]\tvalidation-auc:0.91339\n",
      "[7]\tvalidation-auc:0.91404\n",
      "[8]\tvalidation-auc:0.91440\n",
      "[9]\tvalidation-auc:0.91428\n"
     ]
    },
    {
     "name": "stderr",
     "output_type": "stream",
     "text": [
      "[I 2024-12-23 17:30:06,294] Trial 62 finished with value: 0.8782665395729093 and parameters: {'lambda': 0.05330182881191804, 'alpha': 0.7430361777353867, 'max_depth': 4, 'eta': 0.5049220261566105, 'gamma': 0.6276387384307144, 'grow_policy': 'depthwise'}. Best is trial 18 with value: 0.8788945196701126.\n"
     ]
    },
    {
     "name": "stdout",
     "output_type": "stream",
     "text": [
      "[0]\tvalidation-auc:0.90682\n",
      "[1]\tvalidation-auc:0.90965\n",
      "[2]\tvalidation-auc:0.91240\n",
      "[3]\tvalidation-auc:0.91226\n",
      "[4]\tvalidation-auc:0.91361\n",
      "[5]\tvalidation-auc:0.91438\n",
      "[6]\tvalidation-auc:0.91436\n",
      "[7]\tvalidation-auc:0.91415\n",
      "[8]\tvalidation-auc:0.91441\n",
      "[9]\tvalidation-auc:0.91529\n"
     ]
    },
    {
     "name": "stderr",
     "output_type": "stream",
     "text": [
      "[I 2024-12-23 17:30:06,404] Trial 63 finished with value: 0.8781761403936698 and parameters: {'lambda': 0.9974524489183423, 'alpha': 0.49422612005510735, 'max_depth': 5, 'eta': 0.5511575367211512, 'gamma': 0.6484985530706837, 'grow_policy': 'depthwise'}. Best is trial 18 with value: 0.8788945196701126.\n"
     ]
    },
    {
     "name": "stdout",
     "output_type": "stream",
     "text": [
      "[0]\tvalidation-auc:0.90681\n",
      "[1]\tvalidation-auc:0.90897\n",
      "[2]\tvalidation-auc:0.91075\n",
      "[3]\tvalidation-auc:0.91083\n",
      "[4]\tvalidation-auc:0.91076\n",
      "[5]\tvalidation-auc:0.91214\n",
      "[6]\tvalidation-auc:0.91320\n",
      "[7]\tvalidation-auc:0.91399\n",
      "[8]\tvalidation-auc:0.91437\n",
      "[9]\tvalidation-auc:0.91427\n"
     ]
    },
    {
     "name": "stderr",
     "output_type": "stream",
     "text": [
      "[I 2024-12-23 17:30:06,529] Trial 64 finished with value: 0.8781140912528898 and parameters: {'lambda': 0.12265298256735442, 'alpha': 0.6944652484684048, 'max_depth': 5, 'eta': 0.3087203288073706, 'gamma': 0.4664036515469454, 'grow_policy': 'depthwise'}. Best is trial 18 with value: 0.8788945196701126.\n"
     ]
    },
    {
     "name": "stdout",
     "output_type": "stream",
     "text": [
      "[0]\tvalidation-auc:0.90775\n",
      "[1]\tvalidation-auc:0.91192\n",
      "[2]\tvalidation-auc:0.91183\n",
      "[3]\tvalidation-auc:0.91234\n",
      "[4]\tvalidation-auc:0.91242\n",
      "[5]\tvalidation-auc:0.91250\n",
      "[6]\tvalidation-auc:0.91249\n",
      "[7]\tvalidation-auc:0.91310\n",
      "[8]\tvalidation-auc:0.91314\n",
      "[9]\tvalidation-auc:0.91333\n"
     ]
    },
    {
     "name": "stderr",
     "output_type": "stream",
     "text": [
      "[I 2024-12-23 17:30:06,663] Trial 65 finished with value: 0.8785323880467679 and parameters: {'lambda': 0.30190392597151827, 'alpha': 0.8007945343582682, 'max_depth': 6, 'eta': 0.13251933149152245, 'gamma': 0.09210278778873454, 'grow_policy': 'depthwise'}. Best is trial 18 with value: 0.8788945196701126.\n"
     ]
    },
    {
     "name": "stdout",
     "output_type": "stream",
     "text": [
      "[0]\tvalidation-auc:0.90977\n",
      "[1]\tvalidation-auc:0.91249\n",
      "[2]\tvalidation-auc:0.91251\n",
      "[3]\tvalidation-auc:0.91286\n",
      "[4]\tvalidation-auc:0.91437\n",
      "[5]\tvalidation-auc:0.91427\n",
      "[6]\tvalidation-auc:0.91435\n",
      "[7]\tvalidation-auc:0.91578\n",
      "[8]\tvalidation-auc:0.91557\n",
      "[9]\tvalidation-auc:0.91619\n"
     ]
    },
    {
     "name": "stderr",
     "output_type": "stream",
     "text": [
      "[I 2024-12-23 17:30:06,797] Trial 66 finished with value: 0.8773186854568581 and parameters: {'lambda': 0.3020390572857606, 'alpha': 0.953607380277102, 'max_depth': 8, 'eta': 0.14270057528667182, 'gamma': 0.4245716928444139, 'grow_policy': 'depthwise'}. Best is trial 18 with value: 0.8788945196701126.\n"
     ]
    },
    {
     "name": "stdout",
     "output_type": "stream",
     "text": [
      "[0]\tvalidation-auc:0.90775\n",
      "[1]\tvalidation-auc:0.90774\n",
      "[2]\tvalidation-auc:0.90773\n",
      "[3]\tvalidation-auc:0.91183\n",
      "[4]\tvalidation-auc:0.91085\n",
      "[5]\tvalidation-auc:0.91179\n",
      "[6]\tvalidation-auc:0.91154\n",
      "[7]\tvalidation-auc:0.91197\n",
      "[8]\tvalidation-auc:0.91172\n",
      "[9]\tvalidation-auc:0.91188\n"
     ]
    },
    {
     "name": "stderr",
     "output_type": "stream",
     "text": [
      "[I 2024-12-23 17:30:06,930] Trial 67 finished with value: 0.8780884157463602 and parameters: {'lambda': 0.23824794061546073, 'alpha': 0.8075532836595413, 'max_depth': 6, 'eta': 0.03699811052813903, 'gamma': 0.03403851881532592, 'grow_policy': 'depthwise'}. Best is trial 18 with value: 0.8788945196701126.\n"
     ]
    },
    {
     "name": "stdout",
     "output_type": "stream",
     "text": [
      "[0]\tvalidation-auc:0.90960\n",
      "[1]\tvalidation-auc:0.90970\n",
      "[2]\tvalidation-auc:0.91119\n",
      "[3]\tvalidation-auc:0.91182\n",
      "[4]\tvalidation-auc:0.91243\n",
      "[5]\tvalidation-auc:0.91255\n",
      "[6]\tvalidation-auc:0.91275\n",
      "[7]\tvalidation-auc:0.91272\n",
      "[8]\tvalidation-auc:0.91286\n",
      "[9]\tvalidation-auc:0.91332\n"
     ]
    },
    {
     "name": "stderr",
     "output_type": "stream",
     "text": [
      "[I 2024-12-23 17:30:07,064] Trial 68 finished with value: 0.878101788406011 and parameters: {'lambda': 0.3259192294170517, 'alpha': 0.8540913712518431, 'max_depth': 7, 'eta': 0.10490754708743791, 'gamma': 0.2505893354523475, 'grow_policy': 'depthwise'}. Best is trial 18 with value: 0.8788945196701126.\n"
     ]
    },
    {
     "name": "stdout",
     "output_type": "stream",
     "text": [
      "[0]\tvalidation-auc:0.91067\n",
      "[1]\tvalidation-auc:0.91274\n",
      "[2]\tvalidation-auc:0.91378\n",
      "[3]\tvalidation-auc:0.91409\n",
      "[4]\tvalidation-auc:0.91466\n",
      "[5]\tvalidation-auc:0.91525\n",
      "[6]\tvalidation-auc:0.91701\n",
      "[7]\tvalidation-auc:0.91698\n",
      "[8]\tvalidation-auc:0.91682\n",
      "[9]\tvalidation-auc:0.91746\n"
     ]
    },
    {
     "name": "stderr",
     "output_type": "stream",
     "text": [
      "[I 2024-12-23 17:30:07,215] Trial 69 finished with value: 0.8776931199270817 and parameters: {'lambda': 0.43274523907602547, 'alpha': 0.8003508556860798, 'max_depth': 9, 'eta': 0.19900956666675004, 'gamma': 0.5906811004402407, 'grow_policy': 'depthwise'}. Best is trial 18 with value: 0.8788945196701126.\n"
     ]
    },
    {
     "name": "stdout",
     "output_type": "stream",
     "text": [
      "[0]\tvalidation-auc:0.90763\n",
      "[1]\tvalidation-auc:0.91183\n",
      "[2]\tvalidation-auc:0.91385\n",
      "[3]\tvalidation-auc:0.91411\n",
      "[4]\tvalidation-auc:0.91399\n",
      "[5]\tvalidation-auc:0.91475\n",
      "[6]\tvalidation-auc:0.91493\n",
      "[7]\tvalidation-auc:0.91480\n",
      "[8]\tvalidation-auc:0.91502\n",
      "[9]\tvalidation-auc:0.91524\n"
     ]
    },
    {
     "name": "stderr",
     "output_type": "stream",
     "text": [
      "[I 2024-12-23 17:30:07,343] Trial 70 finished with value: 0.8790507123348342 and parameters: {'lambda': 0.21239420108210125, 'alpha': 0.8737161740782626, 'max_depth': 6, 'eta': 0.2426863600954678, 'gamma': 0.7165500892176775, 'grow_policy': 'depthwise'}. Best is trial 70 with value: 0.8790507123348342.\n"
     ]
    },
    {
     "name": "stdout",
     "output_type": "stream",
     "text": [
      "[0]\tvalidation-auc:0.90760\n",
      "[1]\tvalidation-auc:0.91181\n",
      "[2]\tvalidation-auc:0.91383\n",
      "[3]\tvalidation-auc:0.91413\n",
      "[4]\tvalidation-auc:0.91492\n",
      "[5]\tvalidation-auc:0.91471\n",
      "[6]\tvalidation-auc:0.91497\n",
      "[7]\tvalidation-auc:0.91503\n",
      "[8]\tvalidation-auc:0.91475\n",
      "[9]\tvalidation-auc:0.91474\n"
     ]
    },
    {
     "name": "stderr",
     "output_type": "stream",
     "text": [
      "[I 2024-12-23 17:30:07,474] Trial 71 finished with value: 0.8787067675286149 and parameters: {'lambda': 0.20864601309902037, 'alpha': 0.8986701363317051, 'max_depth': 6, 'eta': 0.2549758660420989, 'gamma': 0.7165263971383232, 'grow_policy': 'depthwise'}. Best is trial 70 with value: 0.8790507123348342.\n"
     ]
    },
    {
     "name": "stdout",
     "output_type": "stream",
     "text": [
      "[0]\tvalidation-auc:0.90760\n",
      "[1]\tvalidation-auc:0.91182\n",
      "[2]\tvalidation-auc:0.91255\n",
      "[3]\tvalidation-auc:0.91254\n",
      "[4]\tvalidation-auc:0.91330\n",
      "[5]\tvalidation-auc:0.91325\n",
      "[6]\tvalidation-auc:0.91378\n",
      "[7]\tvalidation-auc:0.91482\n",
      "[8]\tvalidation-auc:0.91480\n",
      "[9]\tvalidation-auc:0.91481\n"
     ]
    },
    {
     "name": "stderr",
     "output_type": "stream",
     "text": [
      "[I 2024-12-23 17:30:07,597] Trial 72 finished with value: 0.877300498639733 and parameters: {'lambda': 0.26534754478136713, 'alpha': 0.9195848643319691, 'max_depth': 6, 'eta': 0.22818144951788233, 'gamma': 0.7254523589500924, 'grow_policy': 'depthwise'}. Best is trial 70 with value: 0.8790507123348342.\n"
     ]
    },
    {
     "name": "stdout",
     "output_type": "stream",
     "text": [
      "[0]\tvalidation-auc:0.90760\n",
      "[1]\tvalidation-auc:0.91198\n",
      "[2]\tvalidation-auc:0.91225\n",
      "[3]\tvalidation-auc:0.91237\n",
      "[4]\tvalidation-auc:0.91271\n",
      "[5]\tvalidation-auc:0.91263\n",
      "[6]\tvalidation-auc:0.91284\n",
      "[7]\tvalidation-auc:0.91354\n",
      "[8]\tvalidation-auc:0.91399\n",
      "[9]\tvalidation-auc:0.91469\n"
     ]
    },
    {
     "name": "stderr",
     "output_type": "stream",
     "text": [
      "[I 2024-12-23 17:30:07,715] Trial 73 finished with value: 0.8787677468566226 and parameters: {'lambda': 0.2256476998992737, 'alpha': 0.8762860703895434, 'max_depth': 6, 'eta': 0.17490745959856768, 'gamma': 0.8240973486665293, 'grow_policy': 'depthwise'}. Best is trial 70 with value: 0.8790507123348342.\n"
     ]
    },
    {
     "name": "stdout",
     "output_type": "stream",
     "text": [
      "[0]\tvalidation-auc:0.90760\n",
      "[1]\tvalidation-auc:0.91197\n",
      "[2]\tvalidation-auc:0.91225\n",
      "[3]\tvalidation-auc:0.91213\n",
      "[4]\tvalidation-auc:0.91244\n",
      "[5]\tvalidation-auc:0.91362\n",
      "[6]\tvalidation-auc:0.91352\n",
      "[7]\tvalidation-auc:0.91417\n",
      "[8]\tvalidation-auc:0.91489\n",
      "[9]\tvalidation-auc:0.91514\n"
     ]
    },
    {
     "name": "stderr",
     "output_type": "stream",
     "text": [
      "[I 2024-12-23 17:30:07,842] Trial 74 finished with value: 0.8784323605525797 and parameters: {'lambda': 0.17302538165806708, 'alpha': 0.8676249642078151, 'max_depth': 6, 'eta': 0.17031429507996376, 'gamma': 0.8658745283391603, 'grow_policy': 'depthwise'}. Best is trial 70 with value: 0.8790507123348342.\n"
     ]
    },
    {
     "name": "stdout",
     "output_type": "stream",
     "text": [
      "[0]\tvalidation-auc:0.90969\n",
      "[1]\tvalidation-auc:0.91145\n",
      "[2]\tvalidation-auc:0.91338\n",
      "[3]\tvalidation-auc:0.91364\n",
      "[4]\tvalidation-auc:0.91456\n",
      "[5]\tvalidation-auc:0.91416\n",
      "[6]\tvalidation-auc:0.91454\n",
      "[7]\tvalidation-auc:0.91458\n",
      "[8]\tvalidation-auc:0.91444\n",
      "[9]\tvalidation-auc:0.91471\n"
     ]
    },
    {
     "name": "stderr",
     "output_type": "stream",
     "text": [
      "[I 2024-12-23 17:30:07,975] Trial 75 finished with value: 0.8785286437020657 and parameters: {'lambda': 0.20347852344674924, 'alpha': 0.8933040917846342, 'max_depth': 7, 'eta': 0.25033068316692375, 'gamma': 0.8131885886425406, 'grow_policy': 'depthwise'}. Best is trial 70 with value: 0.8790507123348342.\n"
     ]
    },
    {
     "name": "stdout",
     "output_type": "stream",
     "text": [
      "[0]\tvalidation-auc:0.90760\n",
      "[1]\tvalidation-auc:0.91179\n",
      "[2]\tvalidation-auc:0.91216\n",
      "[3]\tvalidation-auc:0.91226\n",
      "[4]\tvalidation-auc:0.91303\n",
      "[5]\tvalidation-auc:0.91435\n",
      "[6]\tvalidation-auc:0.91471\n",
      "[7]\tvalidation-auc:0.91518\n",
      "[8]\tvalidation-auc:0.91558\n",
      "[9]\tvalidation-auc:0.91541\n"
     ]
    },
    {
     "name": "stderr",
     "output_type": "stream",
     "text": [
      "[I 2024-12-23 17:30:08,117] Trial 76 finished with value: 0.8779712712478188 and parameters: {'lambda': 0.22742261890106905, 'alpha': 0.932521052107882, 'max_depth': 6, 'eta': 0.2828142681147312, 'gamma': 0.7384856313759233, 'grow_policy': 'depthwise'}. Best is trial 70 with value: 0.8790507123348342.\n"
     ]
    },
    {
     "name": "stdout",
     "output_type": "stream",
     "text": [
      "[0]\tvalidation-auc:0.90970\n",
      "[1]\tvalidation-auc:0.91146\n",
      "[2]\tvalidation-auc:0.91237\n",
      "[3]\tvalidation-auc:0.91233\n",
      "[4]\tvalidation-auc:0.91229\n",
      "[5]\tvalidation-auc:0.91284\n",
      "[6]\tvalidation-auc:0.91378\n",
      "[7]\tvalidation-auc:0.91362\n",
      "[8]\tvalidation-auc:0.91395\n",
      "[9]\tvalidation-auc:0.91408\n"
     ]
    },
    {
     "name": "stderr",
     "output_type": "stream",
     "text": [
      "[I 2024-12-23 17:30:08,243] Trial 77 finished with value: 0.8787115816860891 and parameters: {'lambda': 0.09701514096000086, 'alpha': 0.9609037630546456, 'max_depth': 7, 'eta': 0.18731870367087633, 'gamma': 0.762471446601234, 'grow_policy': 'depthwise'}. Best is trial 70 with value: 0.8790507123348342.\n"
     ]
    },
    {
     "name": "stdout",
     "output_type": "stream",
     "text": [
      "[0]\tvalidation-auc:0.90968\n",
      "[1]\tvalidation-auc:0.91199\n",
      "[2]\tvalidation-auc:0.91247\n",
      "[3]\tvalidation-auc:0.91285\n",
      "[4]\tvalidation-auc:0.91400\n",
      "[5]\tvalidation-auc:0.91413\n",
      "[6]\tvalidation-auc:0.91590\n",
      "[7]\tvalidation-auc:0.91577\n",
      "[8]\tvalidation-auc:0.91644\n",
      "[9]\tvalidation-auc:0.91654\n"
     ]
    },
    {
     "name": "stderr",
     "output_type": "stream",
     "text": [
      "[I 2024-12-23 17:30:08,409] Trial 78 finished with value: 0.8773491751208621 and parameters: {'lambda': 0.08755274067696883, 'alpha': 0.9775222674587047, 'max_depth': 8, 'eta': 0.1726683909770672, 'gamma': 0.860948749250147, 'grow_policy': 'lossguide'}. Best is trial 70 with value: 0.8790507123348342.\n"
     ]
    },
    {
     "name": "stdout",
     "output_type": "stream",
     "text": [
      "[0]\tvalidation-auc:0.90957\n",
      "[1]\tvalidation-auc:0.91226\n",
      "[2]\tvalidation-auc:0.91236\n",
      "[3]\tvalidation-auc:0.91340\n",
      "[4]\tvalidation-auc:0.91355\n",
      "[5]\tvalidation-auc:0.91402\n",
      "[6]\tvalidation-auc:0.91457\n",
      "[7]\tvalidation-auc:0.91483\n",
      "[8]\tvalidation-auc:0.91543\n",
      "[9]\tvalidation-auc:0.91537\n"
     ]
    },
    {
     "name": "stderr",
     "output_type": "stream",
     "text": [
      "[I 2024-12-23 17:30:08,543] Trial 79 finished with value: 0.8784810370337087 and parameters: {'lambda': 0.11663818982907108, 'alpha': 0.8789773135457916, 'max_depth': 7, 'eta': 0.3492054108402338, 'gamma': 0.7871405740840215, 'grow_policy': 'depthwise'}. Best is trial 70 with value: 0.8790507123348342.\n"
     ]
    },
    {
     "name": "stdout",
     "output_type": "stream",
     "text": [
      "[0]\tvalidation-auc:0.90957\n",
      "[1]\tvalidation-auc:0.91133\n",
      "[2]\tvalidation-auc:0.91230\n",
      "[3]\tvalidation-auc:0.91222\n",
      "[4]\tvalidation-auc:0.91325\n",
      "[5]\tvalidation-auc:0.91405\n",
      "[6]\tvalidation-auc:0.91401\n",
      "[7]\tvalidation-auc:0.91373\n",
      "[8]\tvalidation-auc:0.91491\n",
      "[9]\tvalidation-auc:0.91493\n"
     ]
    },
    {
     "name": "stderr",
     "output_type": "stream",
     "text": [
      "[I 2024-12-23 17:30:08,674] Trial 80 finished with value: 0.8779322230816384 and parameters: {'lambda': 0.024476669427348233, 'alpha': 0.9457328862360885, 'max_depth': 7, 'eta': 0.20884185062244293, 'gamma': 0.7622827640269738, 'grow_policy': 'depthwise'}. Best is trial 70 with value: 0.8790507123348342.\n"
     ]
    },
    {
     "name": "stdout",
     "output_type": "stream",
     "text": [
      "[0]\tvalidation-auc:0.90763\n",
      "[1]\tvalidation-auc:0.91183\n",
      "[2]\tvalidation-auc:0.91175\n",
      "[3]\tvalidation-auc:0.91225\n",
      "[4]\tvalidation-auc:0.91226\n",
      "[5]\tvalidation-auc:0.91246\n",
      "[6]\tvalidation-auc:0.91248\n",
      "[7]\tvalidation-auc:0.91309\n",
      "[8]\tvalidation-auc:0.91362\n",
      "[9]\tvalidation-auc:0.91365\n"
     ]
    },
    {
     "name": "stderr",
     "output_type": "stream",
     "text": [
      "[I 2024-12-23 17:30:08,803] Trial 81 finished with value: 0.8785628777107719 and parameters: {'lambda': 0.17133158499857648, 'alpha': 0.8334382871113409, 'max_depth': 6, 'eta': 0.1344984607991591, 'gamma': 0.7009093479143405, 'grow_policy': 'depthwise'}. Best is trial 70 with value: 0.8790507123348342.\n"
     ]
    },
    {
     "name": "stdout",
     "output_type": "stream",
     "text": [
      "[0]\tvalidation-auc:0.90763\n",
      "[1]\tvalidation-auc:0.91199\n",
      "[2]\tvalidation-auc:0.91225\n",
      "[3]\tvalidation-auc:0.91212\n",
      "[4]\tvalidation-auc:0.91245\n",
      "[5]\tvalidation-auc:0.91359\n",
      "[6]\tvalidation-auc:0.91361\n",
      "[7]\tvalidation-auc:0.91427\n",
      "[8]\tvalidation-auc:0.91500\n",
      "[9]\tvalidation-auc:0.91520\n"
     ]
    },
    {
     "name": "stderr",
     "output_type": "stream",
     "text": [
      "[I 2024-12-23 17:30:08,930] Trial 82 finished with value: 0.8784323605525797 and parameters: {'lambda': 0.17022190880154142, 'alpha': 0.8359366631044266, 'max_depth': 6, 'eta': 0.1721694789605716, 'gamma': 0.7004735262705838, 'grow_policy': 'depthwise'}. Best is trial 70 with value: 0.8790507123348342.\n"
     ]
    },
    {
     "name": "stdout",
     "output_type": "stream",
     "text": [
      "[0]\tvalidation-auc:0.90957\n",
      "[1]\tvalidation-auc:0.90961\n",
      "[2]\tvalidation-auc:0.91107\n",
      "[3]\tvalidation-auc:0.91101\n",
      "[4]\tvalidation-auc:0.91131\n",
      "[5]\tvalidation-auc:0.91200\n",
      "[6]\tvalidation-auc:0.91211\n",
      "[7]\tvalidation-auc:0.91235\n",
      "[8]\tvalidation-auc:0.91239\n",
      "[9]\tvalidation-auc:0.91255\n"
     ]
    },
    {
     "name": "stderr",
     "output_type": "stream",
     "text": [
      "[I 2024-12-23 17:30:09,072] Trial 83 finished with value: 0.8789421263384695 and parameters: {'lambda': 0.06613542731478875, 'alpha': 0.9153786685935572, 'max_depth': 7, 'eta': 0.06923573581266773, 'gamma': 0.8325451193769466, 'grow_policy': 'depthwise'}. Best is trial 70 with value: 0.8790507123348342.\n"
     ]
    },
    {
     "name": "stdout",
     "output_type": "stream",
     "text": [
      "[0]\tvalidation-auc:0.90968\n",
      "[1]\tvalidation-auc:0.91227\n",
      "[2]\tvalidation-auc:0.91388\n",
      "[3]\tvalidation-auc:0.91500\n",
      "[4]\tvalidation-auc:0.91530\n",
      "[5]\tvalidation-auc:0.91527\n",
      "[6]\tvalidation-auc:0.91485\n",
      "[7]\tvalidation-auc:0.91519\n",
      "[8]\tvalidation-auc:0.91858\n",
      "[9]\tvalidation-auc:0.91885\n"
     ]
    },
    {
     "name": "stderr",
     "output_type": "stream",
     "text": [
      "[I 2024-12-23 17:30:09,212] Trial 84 finished with value: 0.8720017159796865 and parameters: {'lambda': 0.054083053703832894, 'alpha': 0.9991976470788214, 'max_depth': 8, 'eta': 0.6159211078704392, 'gamma': 0.9099193600070308, 'grow_policy': 'depthwise'}. Best is trial 70 with value: 0.8790507123348342.\n"
     ]
    },
    {
     "name": "stdout",
     "output_type": "stream",
     "text": [
      "[0]\tvalidation-auc:0.90956\n",
      "[1]\tvalidation-auc:0.90961\n",
      "[2]\tvalidation-auc:0.90961\n",
      "[3]\tvalidation-auc:0.91101\n",
      "[4]\tvalidation-auc:0.91086\n",
      "[5]\tvalidation-auc:0.91105\n",
      "[6]\tvalidation-auc:0.91183\n",
      "[7]\tvalidation-auc:0.91193\n",
      "[8]\tvalidation-auc:0.91232\n",
      "[9]\tvalidation-auc:0.91248\n"
     ]
    },
    {
     "name": "stderr",
     "output_type": "stream",
     "text": [
      "[I 2024-12-23 17:30:09,346] Trial 85 finished with value: 0.877988388252172 and parameters: {'lambda': 0.002584599499492024, 'alpha': 0.8979831912552513, 'max_depth': 7, 'eta': 0.04986969079359162, 'gamma': 0.8313850634455353, 'grow_policy': 'depthwise'}. Best is trial 70 with value: 0.8790507123348342.\n"
     ]
    },
    {
     "name": "stdout",
     "output_type": "stream",
     "text": [
      "[0]\tvalidation-auc:0.90957\n",
      "[1]\tvalidation-auc:0.90961\n",
      "[2]\tvalidation-auc:0.90962\n",
      "[3]\tvalidation-auc:0.90964\n",
      "[4]\tvalidation-auc:0.90966\n",
      "[5]\tvalidation-auc:0.90969\n",
      "[6]\tvalidation-auc:0.90967\n",
      "[7]\tvalidation-auc:0.90973\n",
      "[8]\tvalidation-auc:0.90973\n",
      "[9]\tvalidation-auc:0.90973\n"
     ]
    },
    {
     "name": "stderr",
     "output_type": "stream",
     "text": [
      "[I 2024-12-23 17:30:09,480] Trial 86 finished with value: 0.8780055052565251 and parameters: {'lambda': 0.07661390473670299, 'alpha': 0.9687910296767982, 'max_depth': 7, 'eta': 0.0066011919411436415, 'gamma': 0.6644863037098585, 'grow_policy': 'depthwise'}. Best is trial 70 with value: 0.8790507123348342.\n"
     ]
    },
    {
     "name": "stdout",
     "output_type": "stream",
     "text": [
      "[0]\tvalidation-auc:0.90973\n",
      "[1]\tvalidation-auc:0.90979\n",
      "[2]\tvalidation-auc:0.91149\n",
      "[3]\tvalidation-auc:0.91216\n",
      "[4]\tvalidation-auc:0.91222\n",
      "[5]\tvalidation-auc:0.91252\n",
      "[6]\tvalidation-auc:0.91277\n",
      "[7]\tvalidation-auc:0.91452\n",
      "[8]\tvalidation-auc:0.91456\n",
      "[9]\tvalidation-auc:0.91439\n"
     ]
    },
    {
     "name": "stderr",
     "output_type": "stream",
     "text": [
      "[I 2024-12-23 17:30:09,794] Trial 87 finished with value: 0.8778626852514541 and parameters: {'lambda': 0.21215834747809326, 'alpha': 0.9022657878432012, 'max_depth': 8, 'eta': 0.08811386987240964, 'gamma': 0.7666338313620895, 'grow_policy': 'depthwise'}. Best is trial 70 with value: 0.8790507123348342.\n"
     ]
    },
    {
     "name": "stdout",
     "output_type": "stream",
     "text": [
      "[0]\tvalidation-auc:0.90681\n",
      "[1]\tvalidation-auc:0.90897\n",
      "[2]\tvalidation-auc:0.91075\n",
      "[3]\tvalidation-auc:0.91082\n",
      "[4]\tvalidation-auc:0.91079\n",
      "[5]\tvalidation-auc:0.91230\n",
      "[6]\tvalidation-auc:0.91281\n",
      "[7]\tvalidation-auc:0.91347\n",
      "[8]\tvalidation-auc:0.91426\n",
      "[9]\tvalidation-auc:0.91427\n"
     ]
    },
    {
     "name": "stderr",
     "output_type": "stream",
     "text": [
      "[I 2024-12-23 17:30:09,915] Trial 88 finished with value: 0.8787105118733171 and parameters: {'lambda': 0.10250717377434809, 'alpha': 0.9120286960655185, 'max_depth': 5, 'eta': 0.29304693307614543, 'gamma': 0.9707639294777141, 'grow_policy': 'depthwise'}. Best is trial 70 with value: 0.8790507123348342.\n"
     ]
    },
    {
     "name": "stdout",
     "output_type": "stream",
     "text": [
      "[0]\tvalidation-auc:0.90681\n",
      "[1]\tvalidation-auc:0.90897\n",
      "[2]\tvalidation-auc:0.91075\n",
      "[3]\tvalidation-auc:0.91083\n",
      "[4]\tvalidation-auc:0.91078\n",
      "[5]\tvalidation-auc:0.91231\n",
      "[6]\tvalidation-auc:0.91338\n",
      "[7]\tvalidation-auc:0.91419\n",
      "[8]\tvalidation-auc:0.91415\n",
      "[9]\tvalidation-auc:0.91418\n"
     ]
    },
    {
     "name": "stderr",
     "output_type": "stream",
     "text": [
      "[I 2024-12-23 17:30:10,053] Trial 89 finished with value: 0.8778701739408585 and parameters: {'lambda': 0.09807373542017192, 'alpha': 0.9491482529469736, 'max_depth': 5, 'eta': 0.3039523107560701, 'gamma': 0.9769422153913688, 'grow_policy': 'depthwise'}. Best is trial 70 with value: 0.8790507123348342.\n"
     ]
    },
    {
     "name": "stdout",
     "output_type": "stream",
     "text": [
      "[0]\tvalidation-auc:0.90681\n",
      "[1]\tvalidation-auc:0.90903\n",
      "[2]\tvalidation-auc:0.91077\n",
      "[3]\tvalidation-auc:0.91084\n",
      "[4]\tvalidation-auc:0.91096\n",
      "[5]\tvalidation-auc:0.91078\n",
      "[6]\tvalidation-auc:0.91273\n",
      "[7]\tvalidation-auc:0.91316\n",
      "[8]\tvalidation-auc:0.91396\n",
      "[9]\tvalidation-auc:0.91443\n"
     ]
    },
    {
     "name": "stderr",
     "output_type": "stream",
     "text": [
      "[I 2024-12-23 17:30:10,194] Trial 90 finished with value: 0.877992132596874 and parameters: {'lambda': 0.07546916044531386, 'alpha': 0.9723107057919543, 'max_depth': 5, 'eta': 0.23741385873187848, 'gamma': 0.9179890886712994, 'grow_policy': 'depthwise'}. Best is trial 70 with value: 0.8790507123348342.\n"
     ]
    },
    {
     "name": "stdout",
     "output_type": "stream",
     "text": [
      "[0]\tvalidation-auc:0.90681\n",
      "[1]\tvalidation-auc:0.90917\n",
      "[2]\tvalidation-auc:0.91076\n",
      "[3]\tvalidation-auc:0.91160\n",
      "[4]\tvalidation-auc:0.91123\n",
      "[5]\tvalidation-auc:0.91303\n",
      "[6]\tvalidation-auc:0.91374\n",
      "[7]\tvalidation-auc:0.91395\n",
      "[8]\tvalidation-auc:0.91436\n",
      "[9]\tvalidation-auc:0.91423\n"
     ]
    },
    {
     "name": "stderr",
     "output_type": "stream",
     "text": [
      "[I 2024-12-23 17:30:10,315] Trial 91 finished with value: 0.8771432361622392 and parameters: {'lambda': 0.13976598833705164, 'alpha': 0.9167177635371384, 'max_depth': 5, 'eta': 0.2654164293118055, 'gamma': 0.8247925378666972, 'grow_policy': 'depthwise'}. Best is trial 70 with value: 0.8790507123348342.\n"
     ]
    },
    {
     "name": "stdout",
     "output_type": "stream",
     "text": [
      "[0]\tvalidation-auc:0.90970\n",
      "[1]\tvalidation-auc:0.91146\n",
      "[2]\tvalidation-auc:0.91242\n",
      "[3]\tvalidation-auc:0.91224\n",
      "[4]\tvalidation-auc:0.91327\n",
      "[5]\tvalidation-auc:0.91406\n",
      "[6]\tvalidation-auc:0.91386\n",
      "[7]\tvalidation-auc:0.91473\n",
      "[8]\tvalidation-auc:0.91454\n",
      "[9]\tvalidation-auc:0.91509\n"
     ]
    },
    {
     "name": "stderr",
     "output_type": "stream",
     "text": [
      "[I 2024-12-23 17:30:10,456] Trial 92 finished with value: 0.877557788611415 and parameters: {'lambda': 0.23970789617225982, 'alpha': 0.8656439146008978, 'max_depth': 7, 'eta': 0.21752114590059912, 'gamma': 0.858644567282929, 'grow_policy': 'depthwise'}. Best is trial 70 with value: 0.8790507123348342.\n"
     ]
    },
    {
     "name": "stdout",
     "output_type": "stream",
     "text": [
      "[0]\tvalidation-auc:0.90767\n",
      "[1]\tvalidation-auc:0.91210\n",
      "[2]\tvalidation-auc:0.91281\n",
      "[3]\tvalidation-auc:0.91268\n",
      "[4]\tvalidation-auc:0.91241\n",
      "[5]\tvalidation-auc:0.91332\n",
      "[6]\tvalidation-auc:0.91464\n",
      "[7]\tvalidation-auc:0.91513\n",
      "[8]\tvalidation-auc:0.91620\n",
      "[9]\tvalidation-auc:0.91603\n"
     ]
    },
    {
     "name": "stderr",
     "output_type": "stream",
     "text": [
      "[I 2024-12-23 17:30:10,581] Trial 93 finished with value: 0.8777236095910855 and parameters: {'lambda': 0.2756801423414248, 'alpha': 0.10215687329199408, 'max_depth': 6, 'eta': 0.3842330514262258, 'gamma': 0.8920663323331148, 'grow_policy': 'depthwise'}. Best is trial 70 with value: 0.8790507123348342.\n"
     ]
    },
    {
     "name": "stdout",
     "output_type": "stream",
     "text": [
      "[0]\tvalidation-auc:0.90681\n",
      "[1]\tvalidation-auc:0.90931\n",
      "[2]\tvalidation-auc:0.91234\n",
      "[3]\tvalidation-auc:0.91270\n",
      "[4]\tvalidation-auc:0.91259\n",
      "[5]\tvalidation-auc:0.91325\n",
      "[6]\tvalidation-auc:0.91317\n",
      "[7]\tvalidation-auc:0.91340\n",
      "[8]\tvalidation-auc:0.91430\n",
      "[9]\tvalidation-auc:0.91426\n"
     ]
    },
    {
     "name": "stderr",
     "output_type": "stream",
     "text": [
      "[I 2024-12-23 17:30:10,722] Trial 94 finished with value: 0.8776578161056033 and parameters: {'lambda': 0.19280462174589635, 'alpha': 0.7603568638515433, 'max_depth': 5, 'eta': 0.6612621207367928, 'gamma': 0.9680106595258591, 'grow_policy': 'lossguide'}. Best is trial 70 with value: 0.8790507123348342.\n"
     ]
    },
    {
     "name": "stdout",
     "output_type": "stream",
     "text": [
      "[0]\tvalidation-auc:0.90761\n",
      "[1]\tvalidation-auc:0.91163\n",
      "[2]\tvalidation-auc:0.91203\n",
      "[3]\tvalidation-auc:0.91320\n",
      "[4]\tvalidation-auc:0.91456\n",
      "[5]\tvalidation-auc:0.91444\n",
      "[6]\tvalidation-auc:0.91494\n",
      "[7]\tvalidation-auc:0.91497\n",
      "[8]\tvalidation-auc:0.91617\n",
      "[9]\tvalidation-auc:0.91648\n"
     ]
    },
    {
     "name": "stderr",
     "output_type": "stream",
     "text": [
      "[I 2024-12-23 17:30:10,848] Trial 95 finished with value: 0.878742071350093 and parameters: {'lambda': 0.11006878864243502, 'alpha': 0.7859555257669305, 'max_depth': 6, 'eta': 0.34266272860153335, 'gamma': 0.7977209907107815, 'grow_policy': 'depthwise'}. Best is trial 70 with value: 0.8790507123348342.\n"
     ]
    },
    {
     "name": "stdout",
     "output_type": "stream",
     "text": [
      "[0]\tvalidation-auc:0.90761\n",
      "[1]\tvalidation-auc:0.91163\n",
      "[2]\tvalidation-auc:0.91202\n",
      "[3]\tvalidation-auc:0.91297\n",
      "[4]\tvalidation-auc:0.91419\n",
      "[5]\tvalidation-auc:0.91443\n",
      "[6]\tvalidation-auc:0.91403\n",
      "[7]\tvalidation-auc:0.91504\n",
      "[8]\tvalidation-auc:0.91502\n",
      "[9]\tvalidation-auc:0.91581\n"
     ]
    },
    {
     "name": "stderr",
     "output_type": "stream",
     "text": [
      "[I 2024-12-23 17:30:10,974] Trial 96 finished with value: 0.8776273264415995 and parameters: {'lambda': 0.10961084451503109, 'alpha': 0.784719152966311, 'max_depth': 6, 'eta': 0.33180435127865643, 'gamma': 0.8008409052029143, 'grow_policy': 'depthwise'}. Best is trial 70 with value: 0.8790507123348342.\n"
     ]
    },
    {
     "name": "stdout",
     "output_type": "stream",
     "text": [
      "[0]\tvalidation-auc:0.90681\n",
      "[1]\tvalidation-auc:0.91106\n",
      "[2]\tvalidation-auc:0.91228\n",
      "[3]\tvalidation-auc:0.91259\n",
      "[4]\tvalidation-auc:0.91401\n",
      "[5]\tvalidation-auc:0.91455\n",
      "[6]\tvalidation-auc:0.91500\n",
      "[7]\tvalidation-auc:0.91492\n",
      "[8]\tvalidation-auc:0.91496\n",
      "[9]\tvalidation-auc:0.91486\n"
     ]
    },
    {
     "name": "stderr",
     "output_type": "stream",
     "text": [
      "[I 2024-12-23 17:30:11,102] Trial 97 finished with value: 0.8776091396244744 and parameters: {'lambda': 0.03359404216999769, 'alpha': 0.8458932324472658, 'max_depth': 5, 'eta': 0.3546191176675463, 'gamma': 0.726681206359798, 'grow_policy': 'depthwise'}. Best is trial 70 with value: 0.8790507123348342.\n"
     ]
    },
    {
     "name": "stdout",
     "output_type": "stream",
     "text": [
      "[0]\tvalidation-auc:0.90763\n",
      "[1]\tvalidation-auc:0.91183\n",
      "[2]\tvalidation-auc:0.91217\n",
      "[3]\tvalidation-auc:0.91221\n",
      "[4]\tvalidation-auc:0.91305\n",
      "[5]\tvalidation-auc:0.91331\n",
      "[6]\tvalidation-auc:0.91395\n",
      "[7]\tvalidation-auc:0.91466\n",
      "[8]\tvalidation-auc:0.91446\n",
      "[9]\tvalidation-auc:0.91451\n"
     ]
    },
    {
     "name": "stderr",
     "output_type": "stream",
     "text": [
      "[I 2024-12-23 17:30:11,241] Trial 98 finished with value: 0.8781322780700149 and parameters: {'lambda': 0.15426689917937794, 'alpha': 0.8798248395865955, 'max_depth': 6, 'eta': 0.2802831482783096, 'gamma': 0.7613718723786336, 'grow_policy': 'depthwise'}. Best is trial 70 with value: 0.8790507123348342.\n"
     ]
    },
    {
     "name": "stdout",
     "output_type": "stream",
     "text": [
      "[0]\tvalidation-auc:0.90681\n",
      "[1]\tvalidation-auc:0.90915\n",
      "[2]\tvalidation-auc:0.91075\n",
      "[3]\tvalidation-auc:0.91078\n",
      "[4]\tvalidation-auc:0.91081\n",
      "[5]\tvalidation-auc:0.91069\n",
      "[6]\tvalidation-auc:0.91333\n",
      "[7]\tvalidation-auc:0.91330\n",
      "[8]\tvalidation-auc:0.91365\n",
      "[9]\tvalidation-auc:0.91363\n"
     ]
    },
    {
     "name": "stderr",
     "output_type": "stream",
     "text": [
      "[I 2024-12-23 17:30:11,383] Trial 99 finished with value: 0.8771346776600626 and parameters: {'lambda': 0.06118768804217448, 'alpha': 0.9198062258466886, 'max_depth': 5, 'eta': 0.25472036321751623, 'gamma': 0.9563120771069596, 'grow_policy': 'depthwise'}. Best is trial 70 with value: 0.8790507123348342.\n"
     ]
    },
    {
     "name": "stdout",
     "output_type": "stream",
     "text": [
      "Best trial:\n",
      "AUC: 0.8790507123348342\n",
      "Best parameters:  {'lambda': 0.21239420108210125, 'alpha': 0.8737161740782626, 'max_depth': 6, 'eta': 0.2426863600954678, 'gamma': 0.7165500892176775, 'grow_policy': 'depthwise'}\n"
     ]
    }
   ],
   "source": [
    "storage = opt.storages.InMemoryStorage()\n",
    "\n",
    "study = opt.create_study(direction=\"maximize\", storage= storage);  # Maximize AUC\n",
    "\n",
    "study.optimize(objective, n_trials=100)\n",
    "\n",
    "print(\"Best trial:\")\n",
    "print(f\"AUC: {study.best_trial.value}\")\n",
    "print(\"Best parameters: \", study.best_trial.params)\n"
   ]
  },
  {
   "cell_type": "code",
   "execution_count": 26,
   "metadata": {},
   "outputs": [
    {
     "data": {
      "application/vnd.plotly.v1+json": {
       "config": {
        "plotlyServerURL": "https://plot.ly"
       },
       "data": [
        {
         "mode": "markers",
         "name": "Objective Value",
         "type": "scatter",
         "x": [
          0,
          1,
          2,
          3,
          4,
          5,
          6,
          7,
          8,
          9,
          10,
          11,
          12,
          13,
          14,
          15,
          16,
          17,
          18,
          19,
          20,
          21,
          22,
          23,
          24,
          25,
          26,
          27,
          28,
          29,
          30,
          31,
          32,
          33,
          34,
          35,
          36,
          37,
          38,
          39,
          40,
          41,
          42,
          43,
          44,
          45,
          46,
          47,
          48,
          49,
          50,
          51,
          52,
          53,
          54,
          55,
          56,
          57,
          58,
          59,
          60,
          61,
          62,
          63,
          64,
          65,
          66,
          67,
          68,
          69,
          70,
          71,
          72,
          73,
          74,
          75,
          76,
          77,
          78,
          79,
          80,
          81,
          82,
          83,
          84,
          85,
          86,
          87,
          88,
          89,
          90,
          91,
          92,
          93,
          94,
          95,
          96,
          97,
          98,
          99
         ],
         "y": [
          0.8768698989989763,
          0.8670302960278922,
          0.8785676918682461,
          0.8770795823023013,
          0.8649650224714173,
          0.877490925313161,
          0.871000371225032,
          0.8550109495337221,
          0.8755978916129887,
          0.8766200977166987,
          0.8780359949205291,
          0.8780359949205291,
          0.8780541817376541,
          0.8776578161056033,
          0.8781237195678385,
          0.8784361048972819,
          0.8779702014350469,
          0.8768725735309063,
          0.8788945196701126,
          0.8738091646580932,
          0.8777883332637956,
          0.877909222107039,
          0.8770860011789336,
          0.8784799672209366,
          0.8783323330583914,
          0.8783066575518619,
          0.8777749606041446,
          0.8775626027688894,
          0.8669789450148329,
          0.8778359399321525,
          0.8786677193624344,
          0.8775101819430582,
          0.8782237470620267,
          0.877427271453223,
          0.8637625529156141,
          0.8772689391629571,
          0.878053111924882,
          0.8683889582484169,
          0.8784580360591093,
          0.8782103744023758,
          0.8758915552189211,
          0.8772298909967766,
          0.8761750556035188,
          0.8779750155925212,
          0.8771774701709454,
          0.8772689391629571,
          0.8775652773008196,
          0.877588278275419,
          0.8770774426767571,
          0.8749923775839991,
          0.8765066975628595,
          0.8779787599372234,
          0.8780006910990508,
          0.878437174710054,
          0.8766564713509489,
          0.8782542367260305,
          0.8766136788400661,
          0.8787944921759243,
          0.8770795823023013,
          0.8783933123863993,
          0.8777064925867323,
          0.877362547780513,
          0.8782665395729093,
          0.8781761403936698,
          0.8781140912528898,
          0.8785323880467679,
          0.8773186854568581,
          0.8780884157463602,
          0.878101788406011,
          0.8776931199270817,
          0.8790507123348342,
          0.8787067675286149,
          0.877300498639733,
          0.8787677468566226,
          0.8784323605525797,
          0.8785286437020657,
          0.8779712712478188,
          0.8787115816860891,
          0.8773491751208621,
          0.8784810370337087,
          0.8779322230816384,
          0.8785628777107719,
          0.8784323605525797,
          0.8789421263384695,
          0.8720017159796865,
          0.877988388252172,
          0.8780055052565251,
          0.8778626852514541,
          0.8787105118733171,
          0.8778701739408585,
          0.877992132596874,
          0.8771432361622392,
          0.877557788611415,
          0.8777236095910855,
          0.8776578161056033,
          0.878742071350093,
          0.8776273264415995,
          0.8776091396244744,
          0.8781322780700149,
          0.8771346776600626
         ]
        },
        {
         "mode": "lines",
         "name": "Best Value",
         "type": "scatter",
         "x": [
          0,
          1,
          2,
          3,
          4,
          5,
          6,
          7,
          8,
          9,
          10,
          11,
          12,
          13,
          14,
          15,
          16,
          17,
          18,
          19,
          20,
          21,
          22,
          23,
          24,
          25,
          26,
          27,
          28,
          29,
          30,
          31,
          32,
          33,
          34,
          35,
          36,
          37,
          38,
          39,
          40,
          41,
          42,
          43,
          44,
          45,
          46,
          47,
          48,
          49,
          50,
          51,
          52,
          53,
          54,
          55,
          56,
          57,
          58,
          59,
          60,
          61,
          62,
          63,
          64,
          65,
          66,
          67,
          68,
          69,
          70,
          71,
          72,
          73,
          74,
          75,
          76,
          77,
          78,
          79,
          80,
          81,
          82,
          83,
          84,
          85,
          86,
          87,
          88,
          89,
          90,
          91,
          92,
          93,
          94,
          95,
          96,
          97,
          98,
          99
         ],
         "y": [
          0.8768698989989763,
          0.8768698989989763,
          0.8785676918682461,
          0.8785676918682461,
          0.8785676918682461,
          0.8785676918682461,
          0.8785676918682461,
          0.8785676918682461,
          0.8785676918682461,
          0.8785676918682461,
          0.8785676918682461,
          0.8785676918682461,
          0.8785676918682461,
          0.8785676918682461,
          0.8785676918682461,
          0.8785676918682461,
          0.8785676918682461,
          0.8785676918682461,
          0.8788945196701126,
          0.8788945196701126,
          0.8788945196701126,
          0.8788945196701126,
          0.8788945196701126,
          0.8788945196701126,
          0.8788945196701126,
          0.8788945196701126,
          0.8788945196701126,
          0.8788945196701126,
          0.8788945196701126,
          0.8788945196701126,
          0.8788945196701126,
          0.8788945196701126,
          0.8788945196701126,
          0.8788945196701126,
          0.8788945196701126,
          0.8788945196701126,
          0.8788945196701126,
          0.8788945196701126,
          0.8788945196701126,
          0.8788945196701126,
          0.8788945196701126,
          0.8788945196701126,
          0.8788945196701126,
          0.8788945196701126,
          0.8788945196701126,
          0.8788945196701126,
          0.8788945196701126,
          0.8788945196701126,
          0.8788945196701126,
          0.8788945196701126,
          0.8788945196701126,
          0.8788945196701126,
          0.8788945196701126,
          0.8788945196701126,
          0.8788945196701126,
          0.8788945196701126,
          0.8788945196701126,
          0.8788945196701126,
          0.8788945196701126,
          0.8788945196701126,
          0.8788945196701126,
          0.8788945196701126,
          0.8788945196701126,
          0.8788945196701126,
          0.8788945196701126,
          0.8788945196701126,
          0.8788945196701126,
          0.8788945196701126,
          0.8788945196701126,
          0.8788945196701126,
          0.8790507123348342,
          0.8790507123348342,
          0.8790507123348342,
          0.8790507123348342,
          0.8790507123348342,
          0.8790507123348342,
          0.8790507123348342,
          0.8790507123348342,
          0.8790507123348342,
          0.8790507123348342,
          0.8790507123348342,
          0.8790507123348342,
          0.8790507123348342,
          0.8790507123348342,
          0.8790507123348342,
          0.8790507123348342,
          0.8790507123348342,
          0.8790507123348342,
          0.8790507123348342,
          0.8790507123348342,
          0.8790507123348342,
          0.8790507123348342,
          0.8790507123348342,
          0.8790507123348342,
          0.8790507123348342,
          0.8790507123348342,
          0.8790507123348342,
          0.8790507123348342,
          0.8790507123348342,
          0.8790507123348342
         ]
        },
        {
         "marker": {
          "color": "#cccccc"
         },
         "mode": "markers",
         "name": "Infeasible Trial",
         "showlegend": false,
         "type": "scatter",
         "x": [],
         "y": []
        }
       ],
       "layout": {
        "template": {
         "data": {
          "bar": [
           {
            "error_x": {
             "color": "#2a3f5f"
            },
            "error_y": {
             "color": "#2a3f5f"
            },
            "marker": {
             "line": {
              "color": "#E5ECF6",
              "width": 0.5
             },
             "pattern": {
              "fillmode": "overlay",
              "size": 10,
              "solidity": 0.2
             }
            },
            "type": "bar"
           }
          ],
          "barpolar": [
           {
            "marker": {
             "line": {
              "color": "#E5ECF6",
              "width": 0.5
             },
             "pattern": {
              "fillmode": "overlay",
              "size": 10,
              "solidity": 0.2
             }
            },
            "type": "barpolar"
           }
          ],
          "carpet": [
           {
            "aaxis": {
             "endlinecolor": "#2a3f5f",
             "gridcolor": "white",
             "linecolor": "white",
             "minorgridcolor": "white",
             "startlinecolor": "#2a3f5f"
            },
            "baxis": {
             "endlinecolor": "#2a3f5f",
             "gridcolor": "white",
             "linecolor": "white",
             "minorgridcolor": "white",
             "startlinecolor": "#2a3f5f"
            },
            "type": "carpet"
           }
          ],
          "choropleth": [
           {
            "colorbar": {
             "outlinewidth": 0,
             "ticks": ""
            },
            "type": "choropleth"
           }
          ],
          "contour": [
           {
            "colorbar": {
             "outlinewidth": 0,
             "ticks": ""
            },
            "colorscale": [
             [
              0,
              "#0d0887"
             ],
             [
              0.1111111111111111,
              "#46039f"
             ],
             [
              0.2222222222222222,
              "#7201a8"
             ],
             [
              0.3333333333333333,
              "#9c179e"
             ],
             [
              0.4444444444444444,
              "#bd3786"
             ],
             [
              0.5555555555555556,
              "#d8576b"
             ],
             [
              0.6666666666666666,
              "#ed7953"
             ],
             [
              0.7777777777777778,
              "#fb9f3a"
             ],
             [
              0.8888888888888888,
              "#fdca26"
             ],
             [
              1,
              "#f0f921"
             ]
            ],
            "type": "contour"
           }
          ],
          "contourcarpet": [
           {
            "colorbar": {
             "outlinewidth": 0,
             "ticks": ""
            },
            "type": "contourcarpet"
           }
          ],
          "heatmap": [
           {
            "colorbar": {
             "outlinewidth": 0,
             "ticks": ""
            },
            "colorscale": [
             [
              0,
              "#0d0887"
             ],
             [
              0.1111111111111111,
              "#46039f"
             ],
             [
              0.2222222222222222,
              "#7201a8"
             ],
             [
              0.3333333333333333,
              "#9c179e"
             ],
             [
              0.4444444444444444,
              "#bd3786"
             ],
             [
              0.5555555555555556,
              "#d8576b"
             ],
             [
              0.6666666666666666,
              "#ed7953"
             ],
             [
              0.7777777777777778,
              "#fb9f3a"
             ],
             [
              0.8888888888888888,
              "#fdca26"
             ],
             [
              1,
              "#f0f921"
             ]
            ],
            "type": "heatmap"
           }
          ],
          "heatmapgl": [
           {
            "colorbar": {
             "outlinewidth": 0,
             "ticks": ""
            },
            "colorscale": [
             [
              0,
              "#0d0887"
             ],
             [
              0.1111111111111111,
              "#46039f"
             ],
             [
              0.2222222222222222,
              "#7201a8"
             ],
             [
              0.3333333333333333,
              "#9c179e"
             ],
             [
              0.4444444444444444,
              "#bd3786"
             ],
             [
              0.5555555555555556,
              "#d8576b"
             ],
             [
              0.6666666666666666,
              "#ed7953"
             ],
             [
              0.7777777777777778,
              "#fb9f3a"
             ],
             [
              0.8888888888888888,
              "#fdca26"
             ],
             [
              1,
              "#f0f921"
             ]
            ],
            "type": "heatmapgl"
           }
          ],
          "histogram": [
           {
            "marker": {
             "pattern": {
              "fillmode": "overlay",
              "size": 10,
              "solidity": 0.2
             }
            },
            "type": "histogram"
           }
          ],
          "histogram2d": [
           {
            "colorbar": {
             "outlinewidth": 0,
             "ticks": ""
            },
            "colorscale": [
             [
              0,
              "#0d0887"
             ],
             [
              0.1111111111111111,
              "#46039f"
             ],
             [
              0.2222222222222222,
              "#7201a8"
             ],
             [
              0.3333333333333333,
              "#9c179e"
             ],
             [
              0.4444444444444444,
              "#bd3786"
             ],
             [
              0.5555555555555556,
              "#d8576b"
             ],
             [
              0.6666666666666666,
              "#ed7953"
             ],
             [
              0.7777777777777778,
              "#fb9f3a"
             ],
             [
              0.8888888888888888,
              "#fdca26"
             ],
             [
              1,
              "#f0f921"
             ]
            ],
            "type": "histogram2d"
           }
          ],
          "histogram2dcontour": [
           {
            "colorbar": {
             "outlinewidth": 0,
             "ticks": ""
            },
            "colorscale": [
             [
              0,
              "#0d0887"
             ],
             [
              0.1111111111111111,
              "#46039f"
             ],
             [
              0.2222222222222222,
              "#7201a8"
             ],
             [
              0.3333333333333333,
              "#9c179e"
             ],
             [
              0.4444444444444444,
              "#bd3786"
             ],
             [
              0.5555555555555556,
              "#d8576b"
             ],
             [
              0.6666666666666666,
              "#ed7953"
             ],
             [
              0.7777777777777778,
              "#fb9f3a"
             ],
             [
              0.8888888888888888,
              "#fdca26"
             ],
             [
              1,
              "#f0f921"
             ]
            ],
            "type": "histogram2dcontour"
           }
          ],
          "mesh3d": [
           {
            "colorbar": {
             "outlinewidth": 0,
             "ticks": ""
            },
            "type": "mesh3d"
           }
          ],
          "parcoords": [
           {
            "line": {
             "colorbar": {
              "outlinewidth": 0,
              "ticks": ""
             }
            },
            "type": "parcoords"
           }
          ],
          "pie": [
           {
            "automargin": true,
            "type": "pie"
           }
          ],
          "scatter": [
           {
            "fillpattern": {
             "fillmode": "overlay",
             "size": 10,
             "solidity": 0.2
            },
            "type": "scatter"
           }
          ],
          "scatter3d": [
           {
            "line": {
             "colorbar": {
              "outlinewidth": 0,
              "ticks": ""
             }
            },
            "marker": {
             "colorbar": {
              "outlinewidth": 0,
              "ticks": ""
             }
            },
            "type": "scatter3d"
           }
          ],
          "scattercarpet": [
           {
            "marker": {
             "colorbar": {
              "outlinewidth": 0,
              "ticks": ""
             }
            },
            "type": "scattercarpet"
           }
          ],
          "scattergeo": [
           {
            "marker": {
             "colorbar": {
              "outlinewidth": 0,
              "ticks": ""
             }
            },
            "type": "scattergeo"
           }
          ],
          "scattergl": [
           {
            "marker": {
             "colorbar": {
              "outlinewidth": 0,
              "ticks": ""
             }
            },
            "type": "scattergl"
           }
          ],
          "scattermapbox": [
           {
            "marker": {
             "colorbar": {
              "outlinewidth": 0,
              "ticks": ""
             }
            },
            "type": "scattermapbox"
           }
          ],
          "scatterpolar": [
           {
            "marker": {
             "colorbar": {
              "outlinewidth": 0,
              "ticks": ""
             }
            },
            "type": "scatterpolar"
           }
          ],
          "scatterpolargl": [
           {
            "marker": {
             "colorbar": {
              "outlinewidth": 0,
              "ticks": ""
             }
            },
            "type": "scatterpolargl"
           }
          ],
          "scatterternary": [
           {
            "marker": {
             "colorbar": {
              "outlinewidth": 0,
              "ticks": ""
             }
            },
            "type": "scatterternary"
           }
          ],
          "surface": [
           {
            "colorbar": {
             "outlinewidth": 0,
             "ticks": ""
            },
            "colorscale": [
             [
              0,
              "#0d0887"
             ],
             [
              0.1111111111111111,
              "#46039f"
             ],
             [
              0.2222222222222222,
              "#7201a8"
             ],
             [
              0.3333333333333333,
              "#9c179e"
             ],
             [
              0.4444444444444444,
              "#bd3786"
             ],
             [
              0.5555555555555556,
              "#d8576b"
             ],
             [
              0.6666666666666666,
              "#ed7953"
             ],
             [
              0.7777777777777778,
              "#fb9f3a"
             ],
             [
              0.8888888888888888,
              "#fdca26"
             ],
             [
              1,
              "#f0f921"
             ]
            ],
            "type": "surface"
           }
          ],
          "table": [
           {
            "cells": {
             "fill": {
              "color": "#EBF0F8"
             },
             "line": {
              "color": "white"
             }
            },
            "header": {
             "fill": {
              "color": "#C8D4E3"
             },
             "line": {
              "color": "white"
             }
            },
            "type": "table"
           }
          ]
         },
         "layout": {
          "annotationdefaults": {
           "arrowcolor": "#2a3f5f",
           "arrowhead": 0,
           "arrowwidth": 1
          },
          "autotypenumbers": "strict",
          "coloraxis": {
           "colorbar": {
            "outlinewidth": 0,
            "ticks": ""
           }
          },
          "colorscale": {
           "diverging": [
            [
             0,
             "#8e0152"
            ],
            [
             0.1,
             "#c51b7d"
            ],
            [
             0.2,
             "#de77ae"
            ],
            [
             0.3,
             "#f1b6da"
            ],
            [
             0.4,
             "#fde0ef"
            ],
            [
             0.5,
             "#f7f7f7"
            ],
            [
             0.6,
             "#e6f5d0"
            ],
            [
             0.7,
             "#b8e186"
            ],
            [
             0.8,
             "#7fbc41"
            ],
            [
             0.9,
             "#4d9221"
            ],
            [
             1,
             "#276419"
            ]
           ],
           "sequential": [
            [
             0,
             "#0d0887"
            ],
            [
             0.1111111111111111,
             "#46039f"
            ],
            [
             0.2222222222222222,
             "#7201a8"
            ],
            [
             0.3333333333333333,
             "#9c179e"
            ],
            [
             0.4444444444444444,
             "#bd3786"
            ],
            [
             0.5555555555555556,
             "#d8576b"
            ],
            [
             0.6666666666666666,
             "#ed7953"
            ],
            [
             0.7777777777777778,
             "#fb9f3a"
            ],
            [
             0.8888888888888888,
             "#fdca26"
            ],
            [
             1,
             "#f0f921"
            ]
           ],
           "sequentialminus": [
            [
             0,
             "#0d0887"
            ],
            [
             0.1111111111111111,
             "#46039f"
            ],
            [
             0.2222222222222222,
             "#7201a8"
            ],
            [
             0.3333333333333333,
             "#9c179e"
            ],
            [
             0.4444444444444444,
             "#bd3786"
            ],
            [
             0.5555555555555556,
             "#d8576b"
            ],
            [
             0.6666666666666666,
             "#ed7953"
            ],
            [
             0.7777777777777778,
             "#fb9f3a"
            ],
            [
             0.8888888888888888,
             "#fdca26"
            ],
            [
             1,
             "#f0f921"
            ]
           ]
          },
          "colorway": [
           "#636efa",
           "#EF553B",
           "#00cc96",
           "#ab63fa",
           "#FFA15A",
           "#19d3f3",
           "#FF6692",
           "#B6E880",
           "#FF97FF",
           "#FECB52"
          ],
          "font": {
           "color": "#2a3f5f"
          },
          "geo": {
           "bgcolor": "white",
           "lakecolor": "white",
           "landcolor": "#E5ECF6",
           "showlakes": true,
           "showland": true,
           "subunitcolor": "white"
          },
          "hoverlabel": {
           "align": "left"
          },
          "hovermode": "closest",
          "mapbox": {
           "style": "light"
          },
          "paper_bgcolor": "white",
          "plot_bgcolor": "#E5ECF6",
          "polar": {
           "angularaxis": {
            "gridcolor": "white",
            "linecolor": "white",
            "ticks": ""
           },
           "bgcolor": "#E5ECF6",
           "radialaxis": {
            "gridcolor": "white",
            "linecolor": "white",
            "ticks": ""
           }
          },
          "scene": {
           "xaxis": {
            "backgroundcolor": "#E5ECF6",
            "gridcolor": "white",
            "gridwidth": 2,
            "linecolor": "white",
            "showbackground": true,
            "ticks": "",
            "zerolinecolor": "white"
           },
           "yaxis": {
            "backgroundcolor": "#E5ECF6",
            "gridcolor": "white",
            "gridwidth": 2,
            "linecolor": "white",
            "showbackground": true,
            "ticks": "",
            "zerolinecolor": "white"
           },
           "zaxis": {
            "backgroundcolor": "#E5ECF6",
            "gridcolor": "white",
            "gridwidth": 2,
            "linecolor": "white",
            "showbackground": true,
            "ticks": "",
            "zerolinecolor": "white"
           }
          },
          "shapedefaults": {
           "line": {
            "color": "#2a3f5f"
           }
          },
          "ternary": {
           "aaxis": {
            "gridcolor": "white",
            "linecolor": "white",
            "ticks": ""
           },
           "baxis": {
            "gridcolor": "white",
            "linecolor": "white",
            "ticks": ""
           },
           "bgcolor": "#E5ECF6",
           "caxis": {
            "gridcolor": "white",
            "linecolor": "white",
            "ticks": ""
           }
          },
          "title": {
           "x": 0.05
          },
          "xaxis": {
           "automargin": true,
           "gridcolor": "white",
           "linecolor": "white",
           "ticks": "",
           "title": {
            "standoff": 15
           },
           "zerolinecolor": "white",
           "zerolinewidth": 2
          },
          "yaxis": {
           "automargin": true,
           "gridcolor": "white",
           "linecolor": "white",
           "ticks": "",
           "title": {
            "standoff": 15
           },
           "zerolinecolor": "white",
           "zerolinewidth": 2
          }
         }
        },
        "title": {
         "text": "Optimization History Plot"
        },
        "xaxis": {
         "title": {
          "text": "Trial"
         }
        },
        "yaxis": {
         "title": {
          "text": "Objective Value"
         }
        }
       }
      }
     },
     "metadata": {},
     "output_type": "display_data"
    }
   ],
   "source": [
    "vis.plot_optimization_history(study)"
   ]
  },
  {
   "cell_type": "code",
   "execution_count": 21,
   "metadata": {},
   "outputs": [
    {
     "data": {
      "application/vnd.plotly.v1+json": {
       "config": {
        "plotlyServerURL": "https://plot.ly"
       },
       "data": [
        {
         "cliponaxis": false,
         "hovertemplate": [
          "grow_policy (CategoricalDistribution): 0.002849496854447287<extra></extra>",
          "lambda (FloatDistribution): 0.004182110982071066<extra></extra>",
          "gamma (FloatDistribution): 0.010118672307640277<extra></extra>",
          "max_depth (IntDistribution): 0.15543380199620022<extra></extra>",
          "alpha (FloatDistribution): 0.291554596658697<extra></extra>",
          "eta (FloatDistribution): 0.5358613212009444<extra></extra>"
         ],
         "name": "Objective Value",
         "orientation": "h",
         "text": [
          "<0.01",
          "<0.01",
          "0.01",
          "0.16",
          "0.29",
          "0.54"
         ],
         "textposition": "outside",
         "type": "bar",
         "x": [
          0.002849496854447287,
          0.004182110982071066,
          0.010118672307640277,
          0.15543380199620022,
          0.291554596658697,
          0.5358613212009444
         ],
         "y": [
          "grow_policy",
          "lambda",
          "gamma",
          "max_depth",
          "alpha",
          "eta"
         ]
        }
       ],
       "layout": {
        "template": {
         "data": {
          "bar": [
           {
            "error_x": {
             "color": "#2a3f5f"
            },
            "error_y": {
             "color": "#2a3f5f"
            },
            "marker": {
             "line": {
              "color": "#E5ECF6",
              "width": 0.5
             },
             "pattern": {
              "fillmode": "overlay",
              "size": 10,
              "solidity": 0.2
             }
            },
            "type": "bar"
           }
          ],
          "barpolar": [
           {
            "marker": {
             "line": {
              "color": "#E5ECF6",
              "width": 0.5
             },
             "pattern": {
              "fillmode": "overlay",
              "size": 10,
              "solidity": 0.2
             }
            },
            "type": "barpolar"
           }
          ],
          "carpet": [
           {
            "aaxis": {
             "endlinecolor": "#2a3f5f",
             "gridcolor": "white",
             "linecolor": "white",
             "minorgridcolor": "white",
             "startlinecolor": "#2a3f5f"
            },
            "baxis": {
             "endlinecolor": "#2a3f5f",
             "gridcolor": "white",
             "linecolor": "white",
             "minorgridcolor": "white",
             "startlinecolor": "#2a3f5f"
            },
            "type": "carpet"
           }
          ],
          "choropleth": [
           {
            "colorbar": {
             "outlinewidth": 0,
             "ticks": ""
            },
            "type": "choropleth"
           }
          ],
          "contour": [
           {
            "colorbar": {
             "outlinewidth": 0,
             "ticks": ""
            },
            "colorscale": [
             [
              0,
              "#0d0887"
             ],
             [
              0.1111111111111111,
              "#46039f"
             ],
             [
              0.2222222222222222,
              "#7201a8"
             ],
             [
              0.3333333333333333,
              "#9c179e"
             ],
             [
              0.4444444444444444,
              "#bd3786"
             ],
             [
              0.5555555555555556,
              "#d8576b"
             ],
             [
              0.6666666666666666,
              "#ed7953"
             ],
             [
              0.7777777777777778,
              "#fb9f3a"
             ],
             [
              0.8888888888888888,
              "#fdca26"
             ],
             [
              1,
              "#f0f921"
             ]
            ],
            "type": "contour"
           }
          ],
          "contourcarpet": [
           {
            "colorbar": {
             "outlinewidth": 0,
             "ticks": ""
            },
            "type": "contourcarpet"
           }
          ],
          "heatmap": [
           {
            "colorbar": {
             "outlinewidth": 0,
             "ticks": ""
            },
            "colorscale": [
             [
              0,
              "#0d0887"
             ],
             [
              0.1111111111111111,
              "#46039f"
             ],
             [
              0.2222222222222222,
              "#7201a8"
             ],
             [
              0.3333333333333333,
              "#9c179e"
             ],
             [
              0.4444444444444444,
              "#bd3786"
             ],
             [
              0.5555555555555556,
              "#d8576b"
             ],
             [
              0.6666666666666666,
              "#ed7953"
             ],
             [
              0.7777777777777778,
              "#fb9f3a"
             ],
             [
              0.8888888888888888,
              "#fdca26"
             ],
             [
              1,
              "#f0f921"
             ]
            ],
            "type": "heatmap"
           }
          ],
          "heatmapgl": [
           {
            "colorbar": {
             "outlinewidth": 0,
             "ticks": ""
            },
            "colorscale": [
             [
              0,
              "#0d0887"
             ],
             [
              0.1111111111111111,
              "#46039f"
             ],
             [
              0.2222222222222222,
              "#7201a8"
             ],
             [
              0.3333333333333333,
              "#9c179e"
             ],
             [
              0.4444444444444444,
              "#bd3786"
             ],
             [
              0.5555555555555556,
              "#d8576b"
             ],
             [
              0.6666666666666666,
              "#ed7953"
             ],
             [
              0.7777777777777778,
              "#fb9f3a"
             ],
             [
              0.8888888888888888,
              "#fdca26"
             ],
             [
              1,
              "#f0f921"
             ]
            ],
            "type": "heatmapgl"
           }
          ],
          "histogram": [
           {
            "marker": {
             "pattern": {
              "fillmode": "overlay",
              "size": 10,
              "solidity": 0.2
             }
            },
            "type": "histogram"
           }
          ],
          "histogram2d": [
           {
            "colorbar": {
             "outlinewidth": 0,
             "ticks": ""
            },
            "colorscale": [
             [
              0,
              "#0d0887"
             ],
             [
              0.1111111111111111,
              "#46039f"
             ],
             [
              0.2222222222222222,
              "#7201a8"
             ],
             [
              0.3333333333333333,
              "#9c179e"
             ],
             [
              0.4444444444444444,
              "#bd3786"
             ],
             [
              0.5555555555555556,
              "#d8576b"
             ],
             [
              0.6666666666666666,
              "#ed7953"
             ],
             [
              0.7777777777777778,
              "#fb9f3a"
             ],
             [
              0.8888888888888888,
              "#fdca26"
             ],
             [
              1,
              "#f0f921"
             ]
            ],
            "type": "histogram2d"
           }
          ],
          "histogram2dcontour": [
           {
            "colorbar": {
             "outlinewidth": 0,
             "ticks": ""
            },
            "colorscale": [
             [
              0,
              "#0d0887"
             ],
             [
              0.1111111111111111,
              "#46039f"
             ],
             [
              0.2222222222222222,
              "#7201a8"
             ],
             [
              0.3333333333333333,
              "#9c179e"
             ],
             [
              0.4444444444444444,
              "#bd3786"
             ],
             [
              0.5555555555555556,
              "#d8576b"
             ],
             [
              0.6666666666666666,
              "#ed7953"
             ],
             [
              0.7777777777777778,
              "#fb9f3a"
             ],
             [
              0.8888888888888888,
              "#fdca26"
             ],
             [
              1,
              "#f0f921"
             ]
            ],
            "type": "histogram2dcontour"
           }
          ],
          "mesh3d": [
           {
            "colorbar": {
             "outlinewidth": 0,
             "ticks": ""
            },
            "type": "mesh3d"
           }
          ],
          "parcoords": [
           {
            "line": {
             "colorbar": {
              "outlinewidth": 0,
              "ticks": ""
             }
            },
            "type": "parcoords"
           }
          ],
          "pie": [
           {
            "automargin": true,
            "type": "pie"
           }
          ],
          "scatter": [
           {
            "fillpattern": {
             "fillmode": "overlay",
             "size": 10,
             "solidity": 0.2
            },
            "type": "scatter"
           }
          ],
          "scatter3d": [
           {
            "line": {
             "colorbar": {
              "outlinewidth": 0,
              "ticks": ""
             }
            },
            "marker": {
             "colorbar": {
              "outlinewidth": 0,
              "ticks": ""
             }
            },
            "type": "scatter3d"
           }
          ],
          "scattercarpet": [
           {
            "marker": {
             "colorbar": {
              "outlinewidth": 0,
              "ticks": ""
             }
            },
            "type": "scattercarpet"
           }
          ],
          "scattergeo": [
           {
            "marker": {
             "colorbar": {
              "outlinewidth": 0,
              "ticks": ""
             }
            },
            "type": "scattergeo"
           }
          ],
          "scattergl": [
           {
            "marker": {
             "colorbar": {
              "outlinewidth": 0,
              "ticks": ""
             }
            },
            "type": "scattergl"
           }
          ],
          "scattermapbox": [
           {
            "marker": {
             "colorbar": {
              "outlinewidth": 0,
              "ticks": ""
             }
            },
            "type": "scattermapbox"
           }
          ],
          "scatterpolar": [
           {
            "marker": {
             "colorbar": {
              "outlinewidth": 0,
              "ticks": ""
             }
            },
            "type": "scatterpolar"
           }
          ],
          "scatterpolargl": [
           {
            "marker": {
             "colorbar": {
              "outlinewidth": 0,
              "ticks": ""
             }
            },
            "type": "scatterpolargl"
           }
          ],
          "scatterternary": [
           {
            "marker": {
             "colorbar": {
              "outlinewidth": 0,
              "ticks": ""
             }
            },
            "type": "scatterternary"
           }
          ],
          "surface": [
           {
            "colorbar": {
             "outlinewidth": 0,
             "ticks": ""
            },
            "colorscale": [
             [
              0,
              "#0d0887"
             ],
             [
              0.1111111111111111,
              "#46039f"
             ],
             [
              0.2222222222222222,
              "#7201a8"
             ],
             [
              0.3333333333333333,
              "#9c179e"
             ],
             [
              0.4444444444444444,
              "#bd3786"
             ],
             [
              0.5555555555555556,
              "#d8576b"
             ],
             [
              0.6666666666666666,
              "#ed7953"
             ],
             [
              0.7777777777777778,
              "#fb9f3a"
             ],
             [
              0.8888888888888888,
              "#fdca26"
             ],
             [
              1,
              "#f0f921"
             ]
            ],
            "type": "surface"
           }
          ],
          "table": [
           {
            "cells": {
             "fill": {
              "color": "#EBF0F8"
             },
             "line": {
              "color": "white"
             }
            },
            "header": {
             "fill": {
              "color": "#C8D4E3"
             },
             "line": {
              "color": "white"
             }
            },
            "type": "table"
           }
          ]
         },
         "layout": {
          "annotationdefaults": {
           "arrowcolor": "#2a3f5f",
           "arrowhead": 0,
           "arrowwidth": 1
          },
          "autotypenumbers": "strict",
          "coloraxis": {
           "colorbar": {
            "outlinewidth": 0,
            "ticks": ""
           }
          },
          "colorscale": {
           "diverging": [
            [
             0,
             "#8e0152"
            ],
            [
             0.1,
             "#c51b7d"
            ],
            [
             0.2,
             "#de77ae"
            ],
            [
             0.3,
             "#f1b6da"
            ],
            [
             0.4,
             "#fde0ef"
            ],
            [
             0.5,
             "#f7f7f7"
            ],
            [
             0.6,
             "#e6f5d0"
            ],
            [
             0.7,
             "#b8e186"
            ],
            [
             0.8,
             "#7fbc41"
            ],
            [
             0.9,
             "#4d9221"
            ],
            [
             1,
             "#276419"
            ]
           ],
           "sequential": [
            [
             0,
             "#0d0887"
            ],
            [
             0.1111111111111111,
             "#46039f"
            ],
            [
             0.2222222222222222,
             "#7201a8"
            ],
            [
             0.3333333333333333,
             "#9c179e"
            ],
            [
             0.4444444444444444,
             "#bd3786"
            ],
            [
             0.5555555555555556,
             "#d8576b"
            ],
            [
             0.6666666666666666,
             "#ed7953"
            ],
            [
             0.7777777777777778,
             "#fb9f3a"
            ],
            [
             0.8888888888888888,
             "#fdca26"
            ],
            [
             1,
             "#f0f921"
            ]
           ],
           "sequentialminus": [
            [
             0,
             "#0d0887"
            ],
            [
             0.1111111111111111,
             "#46039f"
            ],
            [
             0.2222222222222222,
             "#7201a8"
            ],
            [
             0.3333333333333333,
             "#9c179e"
            ],
            [
             0.4444444444444444,
             "#bd3786"
            ],
            [
             0.5555555555555556,
             "#d8576b"
            ],
            [
             0.6666666666666666,
             "#ed7953"
            ],
            [
             0.7777777777777778,
             "#fb9f3a"
            ],
            [
             0.8888888888888888,
             "#fdca26"
            ],
            [
             1,
             "#f0f921"
            ]
           ]
          },
          "colorway": [
           "#636efa",
           "#EF553B",
           "#00cc96",
           "#ab63fa",
           "#FFA15A",
           "#19d3f3",
           "#FF6692",
           "#B6E880",
           "#FF97FF",
           "#FECB52"
          ],
          "font": {
           "color": "#2a3f5f"
          },
          "geo": {
           "bgcolor": "white",
           "lakecolor": "white",
           "landcolor": "#E5ECF6",
           "showlakes": true,
           "showland": true,
           "subunitcolor": "white"
          },
          "hoverlabel": {
           "align": "left"
          },
          "hovermode": "closest",
          "mapbox": {
           "style": "light"
          },
          "paper_bgcolor": "white",
          "plot_bgcolor": "#E5ECF6",
          "polar": {
           "angularaxis": {
            "gridcolor": "white",
            "linecolor": "white",
            "ticks": ""
           },
           "bgcolor": "#E5ECF6",
           "radialaxis": {
            "gridcolor": "white",
            "linecolor": "white",
            "ticks": ""
           }
          },
          "scene": {
           "xaxis": {
            "backgroundcolor": "#E5ECF6",
            "gridcolor": "white",
            "gridwidth": 2,
            "linecolor": "white",
            "showbackground": true,
            "ticks": "",
            "zerolinecolor": "white"
           },
           "yaxis": {
            "backgroundcolor": "#E5ECF6",
            "gridcolor": "white",
            "gridwidth": 2,
            "linecolor": "white",
            "showbackground": true,
            "ticks": "",
            "zerolinecolor": "white"
           },
           "zaxis": {
            "backgroundcolor": "#E5ECF6",
            "gridcolor": "white",
            "gridwidth": 2,
            "linecolor": "white",
            "showbackground": true,
            "ticks": "",
            "zerolinecolor": "white"
           }
          },
          "shapedefaults": {
           "line": {
            "color": "#2a3f5f"
           }
          },
          "ternary": {
           "aaxis": {
            "gridcolor": "white",
            "linecolor": "white",
            "ticks": ""
           },
           "baxis": {
            "gridcolor": "white",
            "linecolor": "white",
            "ticks": ""
           },
           "bgcolor": "#E5ECF6",
           "caxis": {
            "gridcolor": "white",
            "linecolor": "white",
            "ticks": ""
           }
          },
          "title": {
           "x": 0.05
          },
          "xaxis": {
           "automargin": true,
           "gridcolor": "white",
           "linecolor": "white",
           "ticks": "",
           "title": {
            "standoff": 15
           },
           "zerolinecolor": "white",
           "zerolinewidth": 2
          },
          "yaxis": {
           "automargin": true,
           "gridcolor": "white",
           "linecolor": "white",
           "ticks": "",
           "title": {
            "standoff": 15
           },
           "zerolinecolor": "white",
           "zerolinewidth": 2
          }
         }
        },
        "title": {
         "text": "Hyperparameter Importances"
        },
        "xaxis": {
         "title": {
          "text": "Hyperparameter Importance"
         }
        },
        "yaxis": {
         "title": {
          "text": "Hyperparameter"
         }
        }
       }
      }
     },
     "metadata": {},
     "output_type": "display_data"
    }
   ],
   "source": [
    "vis.plot_param_importances(study)"
   ]
  },
  {
   "cell_type": "code",
   "execution_count": 27,
   "metadata": {},
   "outputs": [
    {
     "data": {
      "application/vnd.plotly.v1+json": {
       "config": {
        "plotlyServerURL": "https://plot.ly"
       },
       "data": [
        {
         "dimensions": [
          {
           "label": "Objective Value",
           "range": [
            0.8550109495337221,
            0.8790507123348342
           ],
           "values": [
            0.8768698989989763,
            0.8670302960278922,
            0.8785676918682461,
            0.8770795823023013,
            0.8649650224714173,
            0.877490925313161,
            0.871000371225032,
            0.8550109495337221,
            0.8755978916129887,
            0.8766200977166987,
            0.8780359949205291,
            0.8780359949205291,
            0.8780541817376541,
            0.8776578161056033,
            0.8781237195678385,
            0.8784361048972819,
            0.8779702014350469,
            0.8768725735309063,
            0.8788945196701126,
            0.8738091646580932,
            0.8777883332637956,
            0.877909222107039,
            0.8770860011789336,
            0.8784799672209366,
            0.8783323330583914,
            0.8783066575518619,
            0.8777749606041446,
            0.8775626027688894,
            0.8669789450148329,
            0.8778359399321525,
            0.8786677193624344,
            0.8775101819430582,
            0.8782237470620267,
            0.877427271453223,
            0.8637625529156141,
            0.8772689391629571,
            0.878053111924882,
            0.8683889582484169,
            0.8784580360591093,
            0.8782103744023758,
            0.8758915552189211,
            0.8772298909967766,
            0.8761750556035188,
            0.8779750155925212,
            0.8771774701709454,
            0.8772689391629571,
            0.8775652773008196,
            0.877588278275419,
            0.8770774426767571,
            0.8749923775839991,
            0.8765066975628595,
            0.8779787599372234,
            0.8780006910990508,
            0.878437174710054,
            0.8766564713509489,
            0.8782542367260305,
            0.8766136788400661,
            0.8787944921759243,
            0.8770795823023013,
            0.8783933123863993,
            0.8777064925867323,
            0.877362547780513,
            0.8782665395729093,
            0.8781761403936698,
            0.8781140912528898,
            0.8785323880467679,
            0.8773186854568581,
            0.8780884157463602,
            0.878101788406011,
            0.8776931199270817,
            0.8790507123348342,
            0.8787067675286149,
            0.877300498639733,
            0.8787677468566226,
            0.8784323605525797,
            0.8785286437020657,
            0.8779712712478188,
            0.8787115816860891,
            0.8773491751208621,
            0.8784810370337087,
            0.8779322230816384,
            0.8785628777107719,
            0.8784323605525797,
            0.8789421263384695,
            0.8720017159796865,
            0.877988388252172,
            0.8780055052565251,
            0.8778626852514541,
            0.8787105118733171,
            0.8778701739408585,
            0.877992132596874,
            0.8771432361622392,
            0.877557788611415,
            0.8777236095910855,
            0.8776578161056033,
            0.878742071350093,
            0.8776273264415995,
            0.8776091396244744,
            0.8781322780700149,
            0.8771346776600626
           ]
          },
          {
           "label": "alpha",
           "range": [
            0.04066799321887085,
            0.9991976470788214
           ],
           "values": [
            0.49181403698672216,
            0.3338754750373723,
            0.82342853495166,
            0.2676796537318828,
            0.8877656505337467,
            0.2452626773006238,
            0.5132256470907529,
            0.04066799321887085,
            0.23394678675973654,
            0.42807711267642706,
            0.9754323982225701,
            0.970856435193924,
            0.7660570912917484,
            0.7285791552529256,
            0.7041190112294325,
            0.6338523381234962,
            0.6128419999219217,
            0.8506296074616609,
            0.6084125517168173,
            0.8534088383529711,
            0.585152656668007,
            0.6426860561031899,
            0.7720886510523148,
            0.6632307739404897,
            0.5076717212553555,
            0.8253008250006235,
            0.6807797261272799,
            0.4001273446047816,
            0.9193416683542676,
            0.5670889072740541,
            0.7864667155462969,
            0.7761473581068966,
            0.6903534062421296,
            0.799466049800148,
            0.8893967899137356,
            0.5474023743892587,
            0.42209563993622334,
            0.6590306982732576,
            0.7358690545347165,
            0.05024960455821453,
            0.5436372551908262,
            0.7356305394689409,
            0.9286288838508275,
            0.7377463995466161,
            0.8145613751853885,
            0.998934327100416,
            0.4650972565608078,
            0.6091112253547779,
            0.3448072194658254,
            0.8574521135017934,
            0.7197323684560942,
            0.6283437860176324,
            0.6608938397012606,
            0.5933754010454655,
            0.5919423780401963,
            0.7655059476749844,
            0.698758282820017,
            0.7443962523241314,
            0.8315519524738789,
            0.891659672698374,
            0.7744757162332757,
            0.6563701858093931,
            0.7430361777353867,
            0.49422612005510735,
            0.6944652484684048,
            0.8007945343582682,
            0.953607380277102,
            0.8075532836595413,
            0.8540913712518431,
            0.8003508556860798,
            0.8737161740782626,
            0.8986701363317051,
            0.9195848643319691,
            0.8762860703895434,
            0.8676249642078151,
            0.8933040917846342,
            0.932521052107882,
            0.9609037630546456,
            0.9775222674587047,
            0.8789773135457916,
            0.9457328862360885,
            0.8334382871113409,
            0.8359366631044266,
            0.9153786685935572,
            0.9991976470788214,
            0.8979831912552513,
            0.9687910296767982,
            0.9022657878432012,
            0.9120286960655185,
            0.9491482529469736,
            0.9723107057919543,
            0.9167177635371384,
            0.8656439146008978,
            0.10215687329199408,
            0.7603568638515433,
            0.7859555257669305,
            0.784719152966311,
            0.8458932324472658,
            0.8798248395865955,
            0.9198062258466886
           ]
          },
          {
           "label": "eta",
           "range": [
            0.006458537837862155,
            0.9935523854684574
           ],
           "values": [
            0.4781020680623642,
            0.928753711422304,
            0.19617700455656567,
            0.169061140000827,
            0.657738692481443,
            0.41201352287942195,
            0.48735858547459854,
            0.7717486207998973,
            0.8709481872814789,
            0.7025676671463816,
            0.011140472591226663,
            0.006458537837862155,
            0.22248425716057976,
            0.2798951775194397,
            0.26210567774019905,
            0.33834056885416997,
            0.3655796153437785,
            0.14741710428319,
            0.594818774960048,
            0.6400503092882364,
            0.5627279409105148,
            0.3785332085370937,
            0.3242348886567734,
            0.1148723548554908,
            0.10158265772456311,
            0.07045631205651859,
            0.19864455418475324,
            0.5730856423620789,
            0.7888820127795553,
            0.44588292248669315,
            0.5131478104958018,
            0.5868786434092613,
            0.5048239272715243,
            0.500093096120672,
            0.9935523854684574,
            0.7195492669367695,
            0.12379494038290233,
            0.6283078077420776,
            0.42583441816576384,
            0.0763160614391224,
            0.5321911951277682,
            0.44142036879395763,
            0.28557589088275415,
            0.41377518329586777,
            0.20090370571975194,
            0.7298817166291118,
            0.04451497198582907,
            0.23473483749361124,
            0.6734222808941618,
            0.8183915756323401,
            0.16457977652754047,
            0.3175694864539519,
            0.3629827820928531,
            0.45077329950312683,
            0.6006435250217577,
            0.46162492590884396,
            0.5371594034817089,
            0.3974574689381045,
            0.4154474030005626,
            0.26144053011759405,
            0.39008330948158854,
            0.46816194692292507,
            0.5049220261566105,
            0.5511575367211512,
            0.3087203288073706,
            0.13251933149152245,
            0.14270057528667182,
            0.03699811052813903,
            0.10490754708743791,
            0.19900956666675004,
            0.2426863600954678,
            0.2549758660420989,
            0.22818144951788233,
            0.17490745959856768,
            0.17031429507996376,
            0.25033068316692375,
            0.2828142681147312,
            0.18731870367087633,
            0.1726683909770672,
            0.3492054108402338,
            0.20884185062244293,
            0.1344984607991591,
            0.1721694789605716,
            0.06923573581266773,
            0.6159211078704392,
            0.04986969079359162,
            0.0066011919411436415,
            0.08811386987240964,
            0.29304693307614543,
            0.3039523107560701,
            0.23741385873187848,
            0.2654164293118055,
            0.21752114590059912,
            0.3842330514262258,
            0.6612621207367928,
            0.34266272860153335,
            0.33180435127865643,
            0.3546191176675463,
            0.2802831482783096,
            0.25472036321751623
           ]
          },
          {
           "label": "gamma",
           "range": [
            0.0018413501965257734,
            0.9804293520956441
           ],
           "values": [
            0.30790529526956883,
            0.16268113449578084,
            0.41252532107904727,
            0.833644004598488,
            0.09215831472452032,
            0.6705494971516875,
            0.3126459232375938,
            0.687295707601418,
            0.5605809831233436,
            0.9804293520956441,
            0.37089495199008016,
            0.36854853480402233,
            0.45050034811479683,
            0.5118923378225635,
            0.19055473950177337,
            0.19038070026173837,
            0.02933128626244605,
            0.22716740230597648,
            0.5822676860981685,
            0.6251750838539641,
            0.7907309495414173,
            0.4337175246261922,
            0.5339261144414112,
            0.23498940687867592,
            0.2662277209553201,
            0.41862977862186207,
            0.5957045656286247,
            0.78563868300312,
            0.4777646243751319,
            0.32450145970521627,
            0.0022018952545778403,
            0.04639050461406091,
            0.1183918968779906,
            0.1208233412670625,
            0.2425775073192909,
            0.012446804165538315,
            0.7057531503257074,
            0.36669640571632156,
            0.26098279631177373,
            0.16737951219693034,
            0.07755710872459554,
            0.29143015628897334,
            0.392624079999196,
            0.33827408097222894,
            0.5679770080867382,
            0.48562707185197523,
            0.9316237533927283,
            0.21496450728067845,
            0.27112785635368597,
            0.15072885956649837,
            0.678148249985728,
            0.18662202923563953,
            0.14349800579469488,
            0.08970007184643047,
            0.05658588892941306,
            0.09388610701772515,
            0.0018413501965257734,
            0.6181589621212014,
            0.6180721041304167,
            0.549424962767422,
            0.5104427192960928,
            0.7446386447213934,
            0.6276387384307144,
            0.6484985530706837,
            0.4664036515469454,
            0.09210278778873454,
            0.4245716928444139,
            0.03403851881532592,
            0.2505893354523475,
            0.5906811004402407,
            0.7165500892176775,
            0.7165263971383232,
            0.7254523589500924,
            0.8240973486665293,
            0.8658745283391603,
            0.8131885886425406,
            0.7384856313759233,
            0.762471446601234,
            0.860948749250147,
            0.7871405740840215,
            0.7622827640269738,
            0.7009093479143405,
            0.7004735262705838,
            0.8325451193769466,
            0.9099193600070308,
            0.8313850634455353,
            0.6644863037098585,
            0.7666338313620895,
            0.9707639294777141,
            0.9769422153913688,
            0.9179890886712994,
            0.8247925378666972,
            0.858644567282929,
            0.8920663323331148,
            0.9680106595258591,
            0.7977209907107815,
            0.8008409052029143,
            0.726681206359798,
            0.7613718723786336,
            0.9563120771069596
           ]
          },
          {
           "label": "grow_policy",
           "range": [
            0,
            1
           ],
           "ticktext": [
            "depthwise",
            "lossguide"
           ],
           "tickvals": [
            0,
            1
           ],
           "values": [
            0,
            0,
            0,
            1,
            1,
            1,
            0,
            0,
            1,
            1,
            0,
            0,
            0,
            0,
            0,
            0,
            0,
            0,
            0,
            0,
            0,
            0,
            0,
            0,
            0,
            0,
            1,
            0,
            0,
            0,
            0,
            0,
            0,
            0,
            0,
            1,
            0,
            1,
            0,
            0,
            1,
            0,
            0,
            0,
            0,
            0,
            0,
            0,
            1,
            0,
            0,
            0,
            0,
            0,
            0,
            0,
            0,
            0,
            0,
            0,
            1,
            0,
            0,
            0,
            0,
            0,
            0,
            0,
            0,
            0,
            0,
            0,
            0,
            0,
            0,
            0,
            0,
            0,
            1,
            0,
            0,
            0,
            0,
            0,
            0,
            0,
            0,
            0,
            0,
            0,
            0,
            0,
            0,
            0,
            1,
            0,
            0,
            0,
            0,
            0
           ]
          },
          {
           "label": "lambda",
           "range": [
            0.002584599499492024,
            0.9974524489183423
           ],
           "values": [
            0.2373818537686297,
            0.9408310624283058,
            0.1848966563357165,
            0.9020224813138443,
            0.30630270114914854,
            0.9186615843184367,
            0.119024804428991,
            0.6728150692602847,
            0.0817071203071147,
            0.955741888885313,
            0.5110472384879792,
            0.5015662994103021,
            0.46826074472230794,
            0.6758618200931674,
            0.32681083149233836,
            0.26543765559723165,
            0.1729131094296414,
            0.3895557809558361,
            0.20948498849843292,
            0.005352631614533365,
            0.033772100083607204,
            0.19742365394855316,
            0.28505592154590675,
            0.41936557902282706,
            0.3998460423813882,
            0.13539696658468142,
            0.586220065522998,
            0.40728145894696205,
            0.3428881959794441,
            0.19072480693768834,
            0.23860251190328693,
            0.2255227780045563,
            0.08607394063376017,
            0.2197400131421991,
            0.2595690689477665,
            0.8056260836646656,
            0.3390678271294958,
            0.15403378472291399,
            0.5716859438961965,
            0.09137675373849852,
            0.4466978179840708,
            0.5609279437540131,
            0.6579453271410254,
            0.576602561433695,
            0.5298161688859306,
            0.756885714239832,
            0.4439177350991056,
            0.30775725504124146,
            0.6280145292553605,
            0.3812303516146338,
            0.04664473726903792,
            0.24884316221238884,
            0.28334505752610256,
            0.14434819127324527,
            0.1165560556591112,
            0.14995793745937802,
            0.7261710894092895,
            0.18075396027417426,
            0.20485789730491494,
            0.4858586037435107,
            0.36383567973801123,
            0.17969017427295048,
            0.05330182881191804,
            0.9974524489183423,
            0.12265298256735442,
            0.30190392597151827,
            0.3020390572857606,
            0.23824794061546073,
            0.3259192294170517,
            0.43274523907602547,
            0.21239420108210125,
            0.20864601309902037,
            0.26534754478136713,
            0.2256476998992737,
            0.17302538165806708,
            0.20347852344674924,
            0.22742261890106905,
            0.09701514096000086,
            0.08755274067696883,
            0.11663818982907108,
            0.024476669427348233,
            0.17133158499857648,
            0.17022190880154142,
            0.06613542731478875,
            0.054083053703832894,
            0.002584599499492024,
            0.07661390473670299,
            0.21215834747809326,
            0.10250717377434809,
            0.09807373542017192,
            0.07546916044531386,
            0.13976598833705164,
            0.23970789617225982,
            0.2756801423414248,
            0.19280462174589635,
            0.11006878864243502,
            0.10961084451503109,
            0.03359404216999769,
            0.15426689917937794,
            0.06118768804217448
           ]
          },
          {
           "label": "max_depth",
           "range": [
            1,
            9
           ],
           "values": [
            5,
            7,
            7,
            9,
            9,
            3,
            1,
            9,
            1,
            2,
            6,
            6,
            7,
            7,
            7,
            4,
            4,
            4,
            5,
            8,
            5,
            4,
            3,
            6,
            6,
            8,
            6,
            5,
            8,
            5,
            5,
            5,
            6,
            6,
            7,
            3,
            5,
            8,
            4,
            6,
            7,
            4,
            2,
            5,
            4,
            3,
            5,
            7,
            2,
            6,
            3,
            4,
            4,
            5,
            5,
            5,
            6,
            6,
            7,
            6,
            7,
            6,
            4,
            5,
            5,
            6,
            8,
            6,
            7,
            9,
            6,
            6,
            6,
            6,
            6,
            7,
            6,
            7,
            8,
            7,
            7,
            6,
            6,
            7,
            8,
            7,
            7,
            8,
            5,
            5,
            5,
            5,
            7,
            6,
            5,
            6,
            6,
            5,
            6,
            5
           ]
          }
         ],
         "labelangle": 30,
         "labelside": "bottom",
         "line": {
          "color": [
           0.8768698989989763,
           0.8670302960278922,
           0.8785676918682461,
           0.8770795823023013,
           0.8649650224714173,
           0.877490925313161,
           0.871000371225032,
           0.8550109495337221,
           0.8755978916129887,
           0.8766200977166987,
           0.8780359949205291,
           0.8780359949205291,
           0.8780541817376541,
           0.8776578161056033,
           0.8781237195678385,
           0.8784361048972819,
           0.8779702014350469,
           0.8768725735309063,
           0.8788945196701126,
           0.8738091646580932,
           0.8777883332637956,
           0.877909222107039,
           0.8770860011789336,
           0.8784799672209366,
           0.8783323330583914,
           0.8783066575518619,
           0.8777749606041446,
           0.8775626027688894,
           0.8669789450148329,
           0.8778359399321525,
           0.8786677193624344,
           0.8775101819430582,
           0.8782237470620267,
           0.877427271453223,
           0.8637625529156141,
           0.8772689391629571,
           0.878053111924882,
           0.8683889582484169,
           0.8784580360591093,
           0.8782103744023758,
           0.8758915552189211,
           0.8772298909967766,
           0.8761750556035188,
           0.8779750155925212,
           0.8771774701709454,
           0.8772689391629571,
           0.8775652773008196,
           0.877588278275419,
           0.8770774426767571,
           0.8749923775839991,
           0.8765066975628595,
           0.8779787599372234,
           0.8780006910990508,
           0.878437174710054,
           0.8766564713509489,
           0.8782542367260305,
           0.8766136788400661,
           0.8787944921759243,
           0.8770795823023013,
           0.8783933123863993,
           0.8777064925867323,
           0.877362547780513,
           0.8782665395729093,
           0.8781761403936698,
           0.8781140912528898,
           0.8785323880467679,
           0.8773186854568581,
           0.8780884157463602,
           0.878101788406011,
           0.8776931199270817,
           0.8790507123348342,
           0.8787067675286149,
           0.877300498639733,
           0.8787677468566226,
           0.8784323605525797,
           0.8785286437020657,
           0.8779712712478188,
           0.8787115816860891,
           0.8773491751208621,
           0.8784810370337087,
           0.8779322230816384,
           0.8785628777107719,
           0.8784323605525797,
           0.8789421263384695,
           0.8720017159796865,
           0.877988388252172,
           0.8780055052565251,
           0.8778626852514541,
           0.8787105118733171,
           0.8778701739408585,
           0.877992132596874,
           0.8771432361622392,
           0.877557788611415,
           0.8777236095910855,
           0.8776578161056033,
           0.878742071350093,
           0.8776273264415995,
           0.8776091396244744,
           0.8781322780700149,
           0.8771346776600626
          ],
          "colorbar": {
           "title": {
            "text": "Objective Value"
           }
          },
          "colorscale": [
           [
            0,
            "rgb(247,251,255)"
           ],
           [
            0.125,
            "rgb(222,235,247)"
           ],
           [
            0.25,
            "rgb(198,219,239)"
           ],
           [
            0.375,
            "rgb(158,202,225)"
           ],
           [
            0.5,
            "rgb(107,174,214)"
           ],
           [
            0.625,
            "rgb(66,146,198)"
           ],
           [
            0.75,
            "rgb(33,113,181)"
           ],
           [
            0.875,
            "rgb(8,81,156)"
           ],
           [
            1,
            "rgb(8,48,107)"
           ]
          ],
          "reversescale": false,
          "showscale": true
         },
         "type": "parcoords"
        }
       ],
       "layout": {
        "template": {
         "data": {
          "bar": [
           {
            "error_x": {
             "color": "#2a3f5f"
            },
            "error_y": {
             "color": "#2a3f5f"
            },
            "marker": {
             "line": {
              "color": "#E5ECF6",
              "width": 0.5
             },
             "pattern": {
              "fillmode": "overlay",
              "size": 10,
              "solidity": 0.2
             }
            },
            "type": "bar"
           }
          ],
          "barpolar": [
           {
            "marker": {
             "line": {
              "color": "#E5ECF6",
              "width": 0.5
             },
             "pattern": {
              "fillmode": "overlay",
              "size": 10,
              "solidity": 0.2
             }
            },
            "type": "barpolar"
           }
          ],
          "carpet": [
           {
            "aaxis": {
             "endlinecolor": "#2a3f5f",
             "gridcolor": "white",
             "linecolor": "white",
             "minorgridcolor": "white",
             "startlinecolor": "#2a3f5f"
            },
            "baxis": {
             "endlinecolor": "#2a3f5f",
             "gridcolor": "white",
             "linecolor": "white",
             "minorgridcolor": "white",
             "startlinecolor": "#2a3f5f"
            },
            "type": "carpet"
           }
          ],
          "choropleth": [
           {
            "colorbar": {
             "outlinewidth": 0,
             "ticks": ""
            },
            "type": "choropleth"
           }
          ],
          "contour": [
           {
            "colorbar": {
             "outlinewidth": 0,
             "ticks": ""
            },
            "colorscale": [
             [
              0,
              "#0d0887"
             ],
             [
              0.1111111111111111,
              "#46039f"
             ],
             [
              0.2222222222222222,
              "#7201a8"
             ],
             [
              0.3333333333333333,
              "#9c179e"
             ],
             [
              0.4444444444444444,
              "#bd3786"
             ],
             [
              0.5555555555555556,
              "#d8576b"
             ],
             [
              0.6666666666666666,
              "#ed7953"
             ],
             [
              0.7777777777777778,
              "#fb9f3a"
             ],
             [
              0.8888888888888888,
              "#fdca26"
             ],
             [
              1,
              "#f0f921"
             ]
            ],
            "type": "contour"
           }
          ],
          "contourcarpet": [
           {
            "colorbar": {
             "outlinewidth": 0,
             "ticks": ""
            },
            "type": "contourcarpet"
           }
          ],
          "heatmap": [
           {
            "colorbar": {
             "outlinewidth": 0,
             "ticks": ""
            },
            "colorscale": [
             [
              0,
              "#0d0887"
             ],
             [
              0.1111111111111111,
              "#46039f"
             ],
             [
              0.2222222222222222,
              "#7201a8"
             ],
             [
              0.3333333333333333,
              "#9c179e"
             ],
             [
              0.4444444444444444,
              "#bd3786"
             ],
             [
              0.5555555555555556,
              "#d8576b"
             ],
             [
              0.6666666666666666,
              "#ed7953"
             ],
             [
              0.7777777777777778,
              "#fb9f3a"
             ],
             [
              0.8888888888888888,
              "#fdca26"
             ],
             [
              1,
              "#f0f921"
             ]
            ],
            "type": "heatmap"
           }
          ],
          "heatmapgl": [
           {
            "colorbar": {
             "outlinewidth": 0,
             "ticks": ""
            },
            "colorscale": [
             [
              0,
              "#0d0887"
             ],
             [
              0.1111111111111111,
              "#46039f"
             ],
             [
              0.2222222222222222,
              "#7201a8"
             ],
             [
              0.3333333333333333,
              "#9c179e"
             ],
             [
              0.4444444444444444,
              "#bd3786"
             ],
             [
              0.5555555555555556,
              "#d8576b"
             ],
             [
              0.6666666666666666,
              "#ed7953"
             ],
             [
              0.7777777777777778,
              "#fb9f3a"
             ],
             [
              0.8888888888888888,
              "#fdca26"
             ],
             [
              1,
              "#f0f921"
             ]
            ],
            "type": "heatmapgl"
           }
          ],
          "histogram": [
           {
            "marker": {
             "pattern": {
              "fillmode": "overlay",
              "size": 10,
              "solidity": 0.2
             }
            },
            "type": "histogram"
           }
          ],
          "histogram2d": [
           {
            "colorbar": {
             "outlinewidth": 0,
             "ticks": ""
            },
            "colorscale": [
             [
              0,
              "#0d0887"
             ],
             [
              0.1111111111111111,
              "#46039f"
             ],
             [
              0.2222222222222222,
              "#7201a8"
             ],
             [
              0.3333333333333333,
              "#9c179e"
             ],
             [
              0.4444444444444444,
              "#bd3786"
             ],
             [
              0.5555555555555556,
              "#d8576b"
             ],
             [
              0.6666666666666666,
              "#ed7953"
             ],
             [
              0.7777777777777778,
              "#fb9f3a"
             ],
             [
              0.8888888888888888,
              "#fdca26"
             ],
             [
              1,
              "#f0f921"
             ]
            ],
            "type": "histogram2d"
           }
          ],
          "histogram2dcontour": [
           {
            "colorbar": {
             "outlinewidth": 0,
             "ticks": ""
            },
            "colorscale": [
             [
              0,
              "#0d0887"
             ],
             [
              0.1111111111111111,
              "#46039f"
             ],
             [
              0.2222222222222222,
              "#7201a8"
             ],
             [
              0.3333333333333333,
              "#9c179e"
             ],
             [
              0.4444444444444444,
              "#bd3786"
             ],
             [
              0.5555555555555556,
              "#d8576b"
             ],
             [
              0.6666666666666666,
              "#ed7953"
             ],
             [
              0.7777777777777778,
              "#fb9f3a"
             ],
             [
              0.8888888888888888,
              "#fdca26"
             ],
             [
              1,
              "#f0f921"
             ]
            ],
            "type": "histogram2dcontour"
           }
          ],
          "mesh3d": [
           {
            "colorbar": {
             "outlinewidth": 0,
             "ticks": ""
            },
            "type": "mesh3d"
           }
          ],
          "parcoords": [
           {
            "line": {
             "colorbar": {
              "outlinewidth": 0,
              "ticks": ""
             }
            },
            "type": "parcoords"
           }
          ],
          "pie": [
           {
            "automargin": true,
            "type": "pie"
           }
          ],
          "scatter": [
           {
            "fillpattern": {
             "fillmode": "overlay",
             "size": 10,
             "solidity": 0.2
            },
            "type": "scatter"
           }
          ],
          "scatter3d": [
           {
            "line": {
             "colorbar": {
              "outlinewidth": 0,
              "ticks": ""
             }
            },
            "marker": {
             "colorbar": {
              "outlinewidth": 0,
              "ticks": ""
             }
            },
            "type": "scatter3d"
           }
          ],
          "scattercarpet": [
           {
            "marker": {
             "colorbar": {
              "outlinewidth": 0,
              "ticks": ""
             }
            },
            "type": "scattercarpet"
           }
          ],
          "scattergeo": [
           {
            "marker": {
             "colorbar": {
              "outlinewidth": 0,
              "ticks": ""
             }
            },
            "type": "scattergeo"
           }
          ],
          "scattergl": [
           {
            "marker": {
             "colorbar": {
              "outlinewidth": 0,
              "ticks": ""
             }
            },
            "type": "scattergl"
           }
          ],
          "scattermapbox": [
           {
            "marker": {
             "colorbar": {
              "outlinewidth": 0,
              "ticks": ""
             }
            },
            "type": "scattermapbox"
           }
          ],
          "scatterpolar": [
           {
            "marker": {
             "colorbar": {
              "outlinewidth": 0,
              "ticks": ""
             }
            },
            "type": "scatterpolar"
           }
          ],
          "scatterpolargl": [
           {
            "marker": {
             "colorbar": {
              "outlinewidth": 0,
              "ticks": ""
             }
            },
            "type": "scatterpolargl"
           }
          ],
          "scatterternary": [
           {
            "marker": {
             "colorbar": {
              "outlinewidth": 0,
              "ticks": ""
             }
            },
            "type": "scatterternary"
           }
          ],
          "surface": [
           {
            "colorbar": {
             "outlinewidth": 0,
             "ticks": ""
            },
            "colorscale": [
             [
              0,
              "#0d0887"
             ],
             [
              0.1111111111111111,
              "#46039f"
             ],
             [
              0.2222222222222222,
              "#7201a8"
             ],
             [
              0.3333333333333333,
              "#9c179e"
             ],
             [
              0.4444444444444444,
              "#bd3786"
             ],
             [
              0.5555555555555556,
              "#d8576b"
             ],
             [
              0.6666666666666666,
              "#ed7953"
             ],
             [
              0.7777777777777778,
              "#fb9f3a"
             ],
             [
              0.8888888888888888,
              "#fdca26"
             ],
             [
              1,
              "#f0f921"
             ]
            ],
            "type": "surface"
           }
          ],
          "table": [
           {
            "cells": {
             "fill": {
              "color": "#EBF0F8"
             },
             "line": {
              "color": "white"
             }
            },
            "header": {
             "fill": {
              "color": "#C8D4E3"
             },
             "line": {
              "color": "white"
             }
            },
            "type": "table"
           }
          ]
         },
         "layout": {
          "annotationdefaults": {
           "arrowcolor": "#2a3f5f",
           "arrowhead": 0,
           "arrowwidth": 1
          },
          "autotypenumbers": "strict",
          "coloraxis": {
           "colorbar": {
            "outlinewidth": 0,
            "ticks": ""
           }
          },
          "colorscale": {
           "diverging": [
            [
             0,
             "#8e0152"
            ],
            [
             0.1,
             "#c51b7d"
            ],
            [
             0.2,
             "#de77ae"
            ],
            [
             0.3,
             "#f1b6da"
            ],
            [
             0.4,
             "#fde0ef"
            ],
            [
             0.5,
             "#f7f7f7"
            ],
            [
             0.6,
             "#e6f5d0"
            ],
            [
             0.7,
             "#b8e186"
            ],
            [
             0.8,
             "#7fbc41"
            ],
            [
             0.9,
             "#4d9221"
            ],
            [
             1,
             "#276419"
            ]
           ],
           "sequential": [
            [
             0,
             "#0d0887"
            ],
            [
             0.1111111111111111,
             "#46039f"
            ],
            [
             0.2222222222222222,
             "#7201a8"
            ],
            [
             0.3333333333333333,
             "#9c179e"
            ],
            [
             0.4444444444444444,
             "#bd3786"
            ],
            [
             0.5555555555555556,
             "#d8576b"
            ],
            [
             0.6666666666666666,
             "#ed7953"
            ],
            [
             0.7777777777777778,
             "#fb9f3a"
            ],
            [
             0.8888888888888888,
             "#fdca26"
            ],
            [
             1,
             "#f0f921"
            ]
           ],
           "sequentialminus": [
            [
             0,
             "#0d0887"
            ],
            [
             0.1111111111111111,
             "#46039f"
            ],
            [
             0.2222222222222222,
             "#7201a8"
            ],
            [
             0.3333333333333333,
             "#9c179e"
            ],
            [
             0.4444444444444444,
             "#bd3786"
            ],
            [
             0.5555555555555556,
             "#d8576b"
            ],
            [
             0.6666666666666666,
             "#ed7953"
            ],
            [
             0.7777777777777778,
             "#fb9f3a"
            ],
            [
             0.8888888888888888,
             "#fdca26"
            ],
            [
             1,
             "#f0f921"
            ]
           ]
          },
          "colorway": [
           "#636efa",
           "#EF553B",
           "#00cc96",
           "#ab63fa",
           "#FFA15A",
           "#19d3f3",
           "#FF6692",
           "#B6E880",
           "#FF97FF",
           "#FECB52"
          ],
          "font": {
           "color": "#2a3f5f"
          },
          "geo": {
           "bgcolor": "white",
           "lakecolor": "white",
           "landcolor": "#E5ECF6",
           "showlakes": true,
           "showland": true,
           "subunitcolor": "white"
          },
          "hoverlabel": {
           "align": "left"
          },
          "hovermode": "closest",
          "mapbox": {
           "style": "light"
          },
          "paper_bgcolor": "white",
          "plot_bgcolor": "#E5ECF6",
          "polar": {
           "angularaxis": {
            "gridcolor": "white",
            "linecolor": "white",
            "ticks": ""
           },
           "bgcolor": "#E5ECF6",
           "radialaxis": {
            "gridcolor": "white",
            "linecolor": "white",
            "ticks": ""
           }
          },
          "scene": {
           "xaxis": {
            "backgroundcolor": "#E5ECF6",
            "gridcolor": "white",
            "gridwidth": 2,
            "linecolor": "white",
            "showbackground": true,
            "ticks": "",
            "zerolinecolor": "white"
           },
           "yaxis": {
            "backgroundcolor": "#E5ECF6",
            "gridcolor": "white",
            "gridwidth": 2,
            "linecolor": "white",
            "showbackground": true,
            "ticks": "",
            "zerolinecolor": "white"
           },
           "zaxis": {
            "backgroundcolor": "#E5ECF6",
            "gridcolor": "white",
            "gridwidth": 2,
            "linecolor": "white",
            "showbackground": true,
            "ticks": "",
            "zerolinecolor": "white"
           }
          },
          "shapedefaults": {
           "line": {
            "color": "#2a3f5f"
           }
          },
          "ternary": {
           "aaxis": {
            "gridcolor": "white",
            "linecolor": "white",
            "ticks": ""
           },
           "baxis": {
            "gridcolor": "white",
            "linecolor": "white",
            "ticks": ""
           },
           "bgcolor": "#E5ECF6",
           "caxis": {
            "gridcolor": "white",
            "linecolor": "white",
            "ticks": ""
           }
          },
          "title": {
           "x": 0.05
          },
          "xaxis": {
           "automargin": true,
           "gridcolor": "white",
           "linecolor": "white",
           "ticks": "",
           "title": {
            "standoff": 15
           },
           "zerolinecolor": "white",
           "zerolinewidth": 2
          },
          "yaxis": {
           "automargin": true,
           "gridcolor": "white",
           "linecolor": "white",
           "ticks": "",
           "title": {
            "standoff": 15
           },
           "zerolinecolor": "white",
           "zerolinewidth": 2
          }
         }
        },
        "title": {
         "text": "Parallel Coordinate Plot"
        }
       }
      }
     },
     "metadata": {},
     "output_type": "display_data"
    }
   ],
   "source": [
    "opt.visualization.plot_parallel_coordinate(study)"
   ]
  },
  {
   "cell_type": "code",
   "execution_count": 22,
   "metadata": {},
   "outputs": [],
   "source": [
    "best_model = study.best_trial.user_attrs['model']\n",
    "explainer = shap.TreeExplainer(best_model)"
   ]
  },
  {
   "cell_type": "code",
   "execution_count": 23,
   "metadata": {},
   "outputs": [
    {
     "data": {
      "image/png": "[encoded data removed]",
      "text/plain": [
       "<Figure size 800x350 with 2 Axes>"
      ]
     },
     "metadata": {},
     "output_type": "display_data"
    }
   ],
   "source": [
    "X_train_best = study.best_trial.user_attrs['X_train']\n",
    "X_test_best = study.best_trial.user_attrs['X_test']\n",
    "Y_train_best = study.best_trial.user_attrs['Y_train']\n",
    "Y_test_best = study.best_trial.user_attrs['Y_test']\n",
    "\n",
    "explanation = explainer(X_test_best)\n",
    "shap.plots.beeswarm(explanation)"
   ]
  },
  {
   "cell_type": "code",
   "execution_count": 24,
   "metadata": {},
   "outputs": [
    {
     "name": "stderr",
     "output_type": "stream",
     "text": [
      "Bottle v0.13.2 server starting up (using WSGIRefServer())...\n",
      "Listening on http://localhost:8080/\n",
      "Hit Ctrl-C to quit.\n",
      "\n",
      "127.0.0.1 - - [23/Dec/2024 17:31:09] \"GET / HTTP/1.1\" 302 0\n",
      "127.0.0.1 - - [23/Dec/2024 17:31:09] \"GET /dashboard HTTP/1.1\" 304 0\n",
      "127.0.0.1 - - [23/Dec/2024 17:31:09] \"GET /static/bundle.js HTTP/1.1\" 304 0\n",
      "127.0.0.1 - - [23/Dec/2024 17:31:10] \"GET /api/studies HTTP/1.1\" 200 172\n",
      "127.0.0.1 - - [23/Dec/2024 17:31:11] \"GET /favicon.ico HTTP/1.1\" 304 0\n",
      "c:\\Users\\samud\\Documents\\Python_Learning\\Asteroids\\venv\\Lib\\site-packages\\optuna_dashboard\\_importance.py:75: ExperimentalWarning:\n",
      "\n",
      "PedAnovaImportanceEvaluator is experimental (supported from v3.6.0). The interface can change in the future.\n",
      "\n",
      "c:\\Users\\samud\\Documents\\Python_Learning\\Asteroids\\venv\\Lib\\site-packages\\optuna\\importance\\_ped_anova\\evaluator.py:150: UserWarning:\n",
      "\n",
      "PedAnovaImportanceEvaluator computes the importances of params to achieve low `target` values. If this is not what you want, please modify target, e.g., by multiplying the output by -1.\n",
      "\n",
      "127.0.0.1 - - [23/Dec/2024 17:31:11] \"GET /api/studies/0/param_importances HTTP/1.1\" 200 585\n",
      "Exception: Object of type DataFrame is not JSON serializable\n",
      "  File \"c:\\Users\\samud\\Documents\\Python_Learning\\Asteroids\\venv\\Lib\\site-packages\\optuna_dashboard\\_bottle_util.py\", line 31, in decorated\n",
      "    response_body = view(*args, **kwargs)\n",
      "                    ^^^^^^^^^^^^^^^^^^^^^\n",
      "\n",
      "  File \"c:\\Users\\samud\\Documents\\Python_Learning\\Asteroids\\venv\\Lib\\site-packages\\optuna_dashboard\\_app.py\", line 243, in get_study_detail\n",
      "    return serialize_study_detail(\n",
      "           ^^^^^^^^^^^^^^^^^^^^^^^\n",
      "\n",
      "  File \"c:\\Users\\samud\\Documents\\Python_Learning\\Asteroids\\venv\\Lib\\site-packages\\optuna_dashboard\\_serializer.py\", line 151, in serialize_study_detail\n",
      "    serialize_frozen_trial(study._study_id, trial, system_attrs) for trial in trials\n",
      "    ^^^^^^^^^^^^^^^^^^^^^^^^^^^^^^^^^^^^^^^^^^^^^^^^^^^^^^^^^^^^\n",
      "\n",
      "  File \"c:\\Users\\samud\\Documents\\Python_Learning\\Asteroids\\venv\\Lib\\site-packages\\optuna_dashboard\\_serializer.py\", line 242, in serialize_frozen_trial\n",
      "    \"user_attrs\": serialize_attrs(trial.user_attrs),\n",
      "                  ^^^^^^^^^^^^^^^^^^^^^^^^^^^^^^^^^\n",
      "\n",
      "  File \"c:\\Users\\samud\\Documents\\Python_Learning\\Asteroids\\venv\\Lib\\site-packages\\optuna_dashboard\\_serializer.py\", line 113, in serialize_attrs\n",
      "    value = json.dumps(v)\n",
      "            ^^^^^^^^^^^^^\n",
      "\n",
      "  File \"C:\\Users\\samud\\.pyenv\\pyenv-win\\versions\\3.12.1\\Lib\\json\\__init__.py\", line 231, in dumps\n",
      "    return _default_encoder.encode(obj)\n",
      "           ^^^^^^^^^^^^^^^^^^^^^^^^^^^^\n",
      "\n",
      "  File \"C:\\Users\\samud\\.pyenv\\pyenv-win\\versions\\3.12.1\\Lib\\json\\encoder.py\", line 200, in encode\n",
      "    chunks = self.iterencode(o, _one_shot=True)\n",
      "             ^^^^^^^^^^^^^^^^^^^^^^^^^^^^^^^^^^\n",
      "\n",
      "  File \"C:\\Users\\samud\\.pyenv\\pyenv-win\\versions\\3.12.1\\Lib\\json\\encoder.py\", line 258, in iterencode\n",
      "    return _iterencode(o, 0)\n",
      "           ^^^^^^^^^^^^^^^^^\n",
      "\n",
      "  File \"C:\\Users\\samud\\.pyenv\\pyenv-win\\versions\\3.12.1\\Lib\\json\\encoder.py\", line 180, in default\n",
      "    raise TypeError(f'Object of type {o.__class__.__name__} '\n",
      "\n",
      "127.0.0.1 - - [23/Dec/2024 17:31:12] \"GET /api/studies/0?after=0 HTTP/1.1\" 500 35\n",
      "127.0.0.1 - - [23/Dec/2024 17:31:12] \"GET /api/meta HTTP/1.1\" 200 63\n",
      "Exception: Object of type DataFrame is not JSON serializable\n",
      "  File \"c:\\Users\\samud\\Documents\\Python_Learning\\Asteroids\\venv\\Lib\\site-packages\\optuna_dashboard\\_bottle_util.py\", line 31, in decorated\n",
      "    response_body = view(*args, **kwargs)\n",
      "                    ^^^^^^^^^^^^^^^^^^^^^\n",
      "\n",
      "  File \"c:\\Users\\samud\\Documents\\Python_Learning\\Asteroids\\venv\\Lib\\site-packages\\optuna_dashboard\\_app.py\", line 243, in get_study_detail\n",
      "    return serialize_study_detail(\n",
      "           ^^^^^^^^^^^^^^^^^^^^^^^\n",
      "\n",
      "  File \"c:\\Users\\samud\\Documents\\Python_Learning\\Asteroids\\venv\\Lib\\site-packages\\optuna_dashboard\\_serializer.py\", line 151, in serialize_study_detail\n",
      "    serialize_frozen_trial(study._study_id, trial, system_attrs) for trial in trials\n",
      "    ^^^^^^^^^^^^^^^^^^^^^^^^^^^^^^^^^^^^^^^^^^^^^^^^^^^^^^^^^^^^\n",
      "\n",
      "  File \"c:\\Users\\samud\\Documents\\Python_Learning\\Asteroids\\venv\\Lib\\site-packages\\optuna_dashboard\\_serializer.py\", line 242, in serialize_frozen_trial\n",
      "    \"user_attrs\": serialize_attrs(trial.user_attrs),\n",
      "                  ^^^^^^^^^^^^^^^^^^^^^^^^^^^^^^^^^\n",
      "\n",
      "  File \"c:\\Users\\samud\\Documents\\Python_Learning\\Asteroids\\venv\\Lib\\site-packages\\optuna_dashboard\\_serializer.py\", line 113, in serialize_attrs\n",
      "    value = json.dumps(v)\n",
      "            ^^^^^^^^^^^^^\n",
      "\n",
      "  File \"C:\\Users\\samud\\.pyenv\\pyenv-win\\versions\\3.12.1\\Lib\\json\\__init__.py\", line 231, in dumps\n",
      "    return _default_encoder.encode(obj)\n",
      "           ^^^^^^^^^^^^^^^^^^^^^^^^^^^^\n",
      "\n",
      "  File \"C:\\Users\\samud\\.pyenv\\pyenv-win\\versions\\3.12.1\\Lib\\json\\encoder.py\", line 200, in encode\n",
      "    chunks = self.iterencode(o, _one_shot=True)\n",
      "             ^^^^^^^^^^^^^^^^^^^^^^^^^^^^^^^^^^\n",
      "\n",
      "  File \"C:\\Users\\samud\\.pyenv\\pyenv-win\\versions\\3.12.1\\Lib\\json\\encoder.py\", line 258, in iterencode\n",
      "    return _iterencode(o, 0)\n",
      "           ^^^^^^^^^^^^^^^^^\n",
      "\n",
      "  File \"C:\\Users\\samud\\.pyenv\\pyenv-win\\versions\\3.12.1\\Lib\\json\\encoder.py\", line 180, in default\n",
      "    raise TypeError(f'Object of type {o.__class__.__name__} '\n",
      "\n",
      "127.0.0.1 - - [23/Dec/2024 17:31:22] \"GET /api/studies/0?after=0 HTTP/1.1\" 500 35\n",
      "Exception: Object of type DataFrame is not JSON serializable\n",
      "  File \"c:\\Users\\samud\\Documents\\Python_Learning\\Asteroids\\venv\\Lib\\site-packages\\optuna_dashboard\\_bottle_util.py\", line 31, in decorated\n",
      "    response_body = view(*args, **kwargs)\n",
      "                    ^^^^^^^^^^^^^^^^^^^^^\n",
      "\n",
      "  File \"c:\\Users\\samud\\Documents\\Python_Learning\\Asteroids\\venv\\Lib\\site-packages\\optuna_dashboard\\_app.py\", line 243, in get_study_detail\n",
      "    return serialize_study_detail(\n",
      "           ^^^^^^^^^^^^^^^^^^^^^^^\n",
      "\n",
      "  File \"c:\\Users\\samud\\Documents\\Python_Learning\\Asteroids\\venv\\Lib\\site-packages\\optuna_dashboard\\_serializer.py\", line 151, in serialize_study_detail\n",
      "    serialize_frozen_trial(study._study_id, trial, system_attrs) for trial in trials\n",
      "    ^^^^^^^^^^^^^^^^^^^^^^^^^^^^^^^^^^^^^^^^^^^^^^^^^^^^^^^^^^^^\n",
      "\n",
      "  File \"c:\\Users\\samud\\Documents\\Python_Learning\\Asteroids\\venv\\Lib\\site-packages\\optuna_dashboard\\_serializer.py\", line 242, in serialize_frozen_trial\n",
      "    \"user_attrs\": serialize_attrs(trial.user_attrs),\n",
      "                  ^^^^^^^^^^^^^^^^^^^^^^^^^^^^^^^^^\n",
      "\n",
      "  File \"c:\\Users\\samud\\Documents\\Python_Learning\\Asteroids\\venv\\Lib\\site-packages\\optuna_dashboard\\_serializer.py\", line 113, in serialize_attrs\n",
      "    value = json.dumps(v)\n",
      "            ^^^^^^^^^^^^^\n",
      "\n",
      "  File \"C:\\Users\\samud\\.pyenv\\pyenv-win\\versions\\3.12.1\\Lib\\json\\__init__.py\", line 231, in dumps\n",
      "    return _default_encoder.encode(obj)\n",
      "           ^^^^^^^^^^^^^^^^^^^^^^^^^^^^\n",
      "\n",
      "  File \"C:\\Users\\samud\\.pyenv\\pyenv-win\\versions\\3.12.1\\Lib\\json\\encoder.py\", line 200, in encode\n",
      "    chunks = self.iterencode(o, _one_shot=True)\n",
      "             ^^^^^^^^^^^^^^^^^^^^^^^^^^^^^^^^^^\n",
      "\n",
      "  File \"C:\\Users\\samud\\.pyenv\\pyenv-win\\versions\\3.12.1\\Lib\\json\\encoder.py\", line 258, in iterencode\n",
      "    return _iterencode(o, 0)\n",
      "           ^^^^^^^^^^^^^^^^^\n",
      "\n",
      "  File \"C:\\Users\\samud\\.pyenv\\pyenv-win\\versions\\3.12.1\\Lib\\json\\encoder.py\", line 180, in default\n",
      "    raise TypeError(f'Object of type {o.__class__.__name__} '\n",
      "\n",
      "127.0.0.1 - - [23/Dec/2024 17:31:32] \"GET /api/studies/0?after=0 HTTP/1.1\" 500 35\n",
      "Exception: Object of type DataFrame is not JSON serializable\n",
      "  File \"c:\\Users\\samud\\Documents\\Python_Learning\\Asteroids\\venv\\Lib\\site-packages\\optuna_dashboard\\_bottle_util.py\", line 31, in decorated\n",
      "    response_body = view(*args, **kwargs)\n",
      "                    ^^^^^^^^^^^^^^^^^^^^^\n",
      "\n",
      "  File \"c:\\Users\\samud\\Documents\\Python_Learning\\Asteroids\\venv\\Lib\\site-packages\\optuna_dashboard\\_app.py\", line 243, in get_study_detail\n",
      "    return serialize_study_detail(\n",
      "           ^^^^^^^^^^^^^^^^^^^^^^^\n",
      "\n",
      "  File \"c:\\Users\\samud\\Documents\\Python_Learning\\Asteroids\\venv\\Lib\\site-packages\\optuna_dashboard\\_serializer.py\", line 151, in serialize_study_detail\n",
      "    serialize_frozen_trial(study._study_id, trial, system_attrs) for trial in trials\n",
      "    ^^^^^^^^^^^^^^^^^^^^^^^^^^^^^^^^^^^^^^^^^^^^^^^^^^^^^^^^^^^^\n",
      "\n",
      "  File \"c:\\Users\\samud\\Documents\\Python_Learning\\Asteroids\\venv\\Lib\\site-packages\\optuna_dashboard\\_serializer.py\", line 242, in serialize_frozen_trial\n",
      "    \"user_attrs\": serialize_attrs(trial.user_attrs),\n",
      "                  ^^^^^^^^^^^^^^^^^^^^^^^^^^^^^^^^^\n",
      "\n",
      "  File \"c:\\Users\\samud\\Documents\\Python_Learning\\Asteroids\\venv\\Lib\\site-packages\\optuna_dashboard\\_serializer.py\", line 113, in serialize_attrs\n",
      "    value = json.dumps(v)\n",
      "            ^^^^^^^^^^^^^\n",
      "\n",
      "  File \"C:\\Users\\samud\\.pyenv\\pyenv-win\\versions\\3.12.1\\Lib\\json\\__init__.py\", line 231, in dumps\n",
      "    return _default_encoder.encode(obj)\n",
      "           ^^^^^^^^^^^^^^^^^^^^^^^^^^^^\n",
      "\n",
      "  File \"C:\\Users\\samud\\.pyenv\\pyenv-win\\versions\\3.12.1\\Lib\\json\\encoder.py\", line 200, in encode\n",
      "    chunks = self.iterencode(o, _one_shot=True)\n",
      "             ^^^^^^^^^^^^^^^^^^^^^^^^^^^^^^^^^^\n",
      "\n",
      "  File \"C:\\Users\\samud\\.pyenv\\pyenv-win\\versions\\3.12.1\\Lib\\json\\encoder.py\", line 258, in iterencode\n",
      "    return _iterencode(o, 0)\n",
      "           ^^^^^^^^^^^^^^^^^\n",
      "\n",
      "  File \"C:\\Users\\samud\\.pyenv\\pyenv-win\\versions\\3.12.1\\Lib\\json\\encoder.py\", line 180, in default\n",
      "    raise TypeError(f'Object of type {o.__class__.__name__} '\n",
      "\n",
      "127.0.0.1 - - [23/Dec/2024 17:31:42] \"GET /api/studies/0?after=0 HTTP/1.1\" 500 35\n",
      "Exception: Object of type DataFrame is not JSON serializable\n",
      "  File \"c:\\Users\\samud\\Documents\\Python_Learning\\Asteroids\\venv\\Lib\\site-packages\\optuna_dashboard\\_bottle_util.py\", line 31, in decorated\n",
      "    response_body = view(*args, **kwargs)\n",
      "                    ^^^^^^^^^^^^^^^^^^^^^\n",
      "\n",
      "  File \"c:\\Users\\samud\\Documents\\Python_Learning\\Asteroids\\venv\\Lib\\site-packages\\optuna_dashboard\\_app.py\", line 243, in get_study_detail\n",
      "    return serialize_study_detail(\n",
      "           ^^^^^^^^^^^^^^^^^^^^^^^\n",
      "\n",
      "  File \"c:\\Users\\samud\\Documents\\Python_Learning\\Asteroids\\venv\\Lib\\site-packages\\optuna_dashboard\\_serializer.py\", line 151, in serialize_study_detail\n",
      "    serialize_frozen_trial(study._study_id, trial, system_attrs) for trial in trials\n",
      "    ^^^^^^^^^^^^^^^^^^^^^^^^^^^^^^^^^^^^^^^^^^^^^^^^^^^^^^^^^^^^\n",
      "\n",
      "  File \"c:\\Users\\samud\\Documents\\Python_Learning\\Asteroids\\venv\\Lib\\site-packages\\optuna_dashboard\\_serializer.py\", line 242, in serialize_frozen_trial\n",
      "    \"user_attrs\": serialize_attrs(trial.user_attrs),\n",
      "                  ^^^^^^^^^^^^^^^^^^^^^^^^^^^^^^^^^\n",
      "\n",
      "  File \"c:\\Users\\samud\\Documents\\Python_Learning\\Asteroids\\venv\\Lib\\site-packages\\optuna_dashboard\\_serializer.py\", line 113, in serialize_attrs\n",
      "    value = json.dumps(v)\n",
      "            ^^^^^^^^^^^^^\n",
      "\n",
      "  File \"C:\\Users\\samud\\.pyenv\\pyenv-win\\versions\\3.12.1\\Lib\\json\\__init__.py\", line 231, in dumps\n",
      "    return _default_encoder.encode(obj)\n",
      "           ^^^^^^^^^^^^^^^^^^^^^^^^^^^^\n",
      "\n",
      "  File \"C:\\Users\\samud\\.pyenv\\pyenv-win\\versions\\3.12.1\\Lib\\json\\encoder.py\", line 200, in encode\n",
      "    chunks = self.iterencode(o, _one_shot=True)\n",
      "             ^^^^^^^^^^^^^^^^^^^^^^^^^^^^^^^^^^\n",
      "\n",
      "  File \"C:\\Users\\samud\\.pyenv\\pyenv-win\\versions\\3.12.1\\Lib\\json\\encoder.py\", line 258, in iterencode\n",
      "    return _iterencode(o, 0)\n",
      "           ^^^^^^^^^^^^^^^^^\n",
      "\n",
      "  File \"C:\\Users\\samud\\.pyenv\\pyenv-win\\versions\\3.12.1\\Lib\\json\\encoder.py\", line 180, in default\n",
      "    raise TypeError(f'Object of type {o.__class__.__name__} '\n",
      "\n",
      "127.0.0.1 - - [23/Dec/2024 17:31:52] \"GET /api/studies/0?after=0 HTTP/1.1\" 500 35\n",
      "Exception: Object of type DataFrame is not JSON serializable\n",
      "  File \"c:\\Users\\samud\\Documents\\Python_Learning\\Asteroids\\venv\\Lib\\site-packages\\optuna_dashboard\\_bottle_util.py\", line 31, in decorated\n",
      "    response_body = view(*args, **kwargs)\n",
      "                    ^^^^^^^^^^^^^^^^^^^^^\n",
      "\n",
      "  File \"c:\\Users\\samud\\Documents\\Python_Learning\\Asteroids\\venv\\Lib\\site-packages\\optuna_dashboard\\_app.py\", line 243, in get_study_detail\n",
      "    return serialize_study_detail(\n",
      "           ^^^^^^^^^^^^^^^^^^^^^^^\n",
      "\n",
      "  File \"c:\\Users\\samud\\Documents\\Python_Learning\\Asteroids\\venv\\Lib\\site-packages\\optuna_dashboard\\_serializer.py\", line 151, in serialize_study_detail\n",
      "    serialize_frozen_trial(study._study_id, trial, system_attrs) for trial in trials\n",
      "    ^^^^^^^^^^^^^^^^^^^^^^^^^^^^^^^^^^^^^^^^^^^^^^^^^^^^^^^^^^^^\n",
      "\n",
      "  File \"c:\\Users\\samud\\Documents\\Python_Learning\\Asteroids\\venv\\Lib\\site-packages\\optuna_dashboard\\_serializer.py\", line 242, in serialize_frozen_trial\n",
      "    \"user_attrs\": serialize_attrs(trial.user_attrs),\n",
      "                  ^^^^^^^^^^^^^^^^^^^^^^^^^^^^^^^^^\n",
      "\n",
      "  File \"c:\\Users\\samud\\Documents\\Python_Learning\\Asteroids\\venv\\Lib\\site-packages\\optuna_dashboard\\_serializer.py\", line 113, in serialize_attrs\n",
      "    value = json.dumps(v)\n",
      "            ^^^^^^^^^^^^^\n",
      "\n",
      "  File \"C:\\Users\\samud\\.pyenv\\pyenv-win\\versions\\3.12.1\\Lib\\json\\__init__.py\", line 231, in dumps\n",
      "    return _default_encoder.encode(obj)\n",
      "           ^^^^^^^^^^^^^^^^^^^^^^^^^^^^\n",
      "\n",
      "  File \"C:\\Users\\samud\\.pyenv\\pyenv-win\\versions\\3.12.1\\Lib\\json\\encoder.py\", line 200, in encode\n",
      "    chunks = self.iterencode(o, _one_shot=True)\n",
      "             ^^^^^^^^^^^^^^^^^^^^^^^^^^^^^^^^^^\n",
      "\n",
      "  File \"C:\\Users\\samud\\.pyenv\\pyenv-win\\versions\\3.12.1\\Lib\\json\\encoder.py\", line 258, in iterencode\n",
      "    return _iterencode(o, 0)\n",
      "           ^^^^^^^^^^^^^^^^^\n",
      "\n",
      "  File \"C:\\Users\\samud\\.pyenv\\pyenv-win\\versions\\3.12.1\\Lib\\json\\encoder.py\", line 180, in default\n",
      "    raise TypeError(f'Object of type {o.__class__.__name__} '\n",
      "\n",
      "127.0.0.1 - - [23/Dec/2024 17:32:02] \"GET /api/studies/0?after=0 HTTP/1.1\" 500 35\n",
      "Exception: Object of type DataFrame is not JSON serializable\n",
      "  File \"c:\\Users\\samud\\Documents\\Python_Learning\\Asteroids\\venv\\Lib\\site-packages\\optuna_dashboard\\_bottle_util.py\", line 31, in decorated\n",
      "    response_body = view(*args, **kwargs)\n",
      "                    ^^^^^^^^^^^^^^^^^^^^^\n",
      "\n",
      "  File \"c:\\Users\\samud\\Documents\\Python_Learning\\Asteroids\\venv\\Lib\\site-packages\\optuna_dashboard\\_app.py\", line 243, in get_study_detail\n",
      "    return serialize_study_detail(\n",
      "           ^^^^^^^^^^^^^^^^^^^^^^^\n",
      "\n",
      "  File \"c:\\Users\\samud\\Documents\\Python_Learning\\Asteroids\\venv\\Lib\\site-packages\\optuna_dashboard\\_serializer.py\", line 151, in serialize_study_detail\n",
      "    serialize_frozen_trial(study._study_id, trial, system_attrs) for trial in trials\n",
      "    ^^^^^^^^^^^^^^^^^^^^^^^^^^^^^^^^^^^^^^^^^^^^^^^^^^^^^^^^^^^^\n",
      "\n",
      "  File \"c:\\Users\\samud\\Documents\\Python_Learning\\Asteroids\\venv\\Lib\\site-packages\\optuna_dashboard\\_serializer.py\", line 242, in serialize_frozen_trial\n",
      "    \"user_attrs\": serialize_attrs(trial.user_attrs),\n",
      "                  ^^^^^^^^^^^^^^^^^^^^^^^^^^^^^^^^^\n",
      "\n",
      "  File \"c:\\Users\\samud\\Documents\\Python_Learning\\Asteroids\\venv\\Lib\\site-packages\\optuna_dashboard\\_serializer.py\", line 113, in serialize_attrs\n",
      "    value = json.dumps(v)\n",
      "            ^^^^^^^^^^^^^\n",
      "\n",
      "  File \"C:\\Users\\samud\\.pyenv\\pyenv-win\\versions\\3.12.1\\Lib\\json\\__init__.py\", line 231, in dumps\n",
      "    return _default_encoder.encode(obj)\n",
      "           ^^^^^^^^^^^^^^^^^^^^^^^^^^^^\n",
      "\n",
      "  File \"C:\\Users\\samud\\.pyenv\\pyenv-win\\versions\\3.12.1\\Lib\\json\\encoder.py\", line 200, in encode\n",
      "    chunks = self.iterencode(o, _one_shot=True)\n",
      "             ^^^^^^^^^^^^^^^^^^^^^^^^^^^^^^^^^^\n",
      "\n",
      "  File \"C:\\Users\\samud\\.pyenv\\pyenv-win\\versions\\3.12.1\\Lib\\json\\encoder.py\", line 258, in iterencode\n",
      "    return _iterencode(o, 0)\n",
      "           ^^^^^^^^^^^^^^^^^\n",
      "\n",
      "  File \"C:\\Users\\samud\\.pyenv\\pyenv-win\\versions\\3.12.1\\Lib\\json\\encoder.py\", line 180, in default\n",
      "    raise TypeError(f'Object of type {o.__class__.__name__} '\n",
      "\n",
      "127.0.0.1 - - [23/Dec/2024 17:32:12] \"GET /api/studies/0?after=0 HTTP/1.1\" 500 35\n",
      "Exception: Object of type DataFrame is not JSON serializable\n",
      "  File \"c:\\Users\\samud\\Documents\\Python_Learning\\Asteroids\\venv\\Lib\\site-packages\\optuna_dashboard\\_bottle_util.py\", line 31, in decorated\n",
      "    response_body = view(*args, **kwargs)\n",
      "                    ^^^^^^^^^^^^^^^^^^^^^\n",
      "\n",
      "  File \"c:\\Users\\samud\\Documents\\Python_Learning\\Asteroids\\venv\\Lib\\site-packages\\optuna_dashboard\\_app.py\", line 243, in get_study_detail\n",
      "    return serialize_study_detail(\n",
      "           ^^^^^^^^^^^^^^^^^^^^^^^\n",
      "\n",
      "  File \"c:\\Users\\samud\\Documents\\Python_Learning\\Asteroids\\venv\\Lib\\site-packages\\optuna_dashboard\\_serializer.py\", line 151, in serialize_study_detail\n",
      "    serialize_frozen_trial(study._study_id, trial, system_attrs) for trial in trials\n",
      "    ^^^^^^^^^^^^^^^^^^^^^^^^^^^^^^^^^^^^^^^^^^^^^^^^^^^^^^^^^^^^\n",
      "\n",
      "  File \"c:\\Users\\samud\\Documents\\Python_Learning\\Asteroids\\venv\\Lib\\site-packages\\optuna_dashboard\\_serializer.py\", line 242, in serialize_frozen_trial\n",
      "    \"user_attrs\": serialize_attrs(trial.user_attrs),\n",
      "                  ^^^^^^^^^^^^^^^^^^^^^^^^^^^^^^^^^\n",
      "\n",
      "  File \"c:\\Users\\samud\\Documents\\Python_Learning\\Asteroids\\venv\\Lib\\site-packages\\optuna_dashboard\\_serializer.py\", line 113, in serialize_attrs\n",
      "    value = json.dumps(v)\n",
      "            ^^^^^^^^^^^^^\n",
      "\n",
      "  File \"C:\\Users\\samud\\.pyenv\\pyenv-win\\versions\\3.12.1\\Lib\\json\\__init__.py\", line 231, in dumps\n",
      "    return _default_encoder.encode(obj)\n",
      "           ^^^^^^^^^^^^^^^^^^^^^^^^^^^^\n",
      "\n",
      "  File \"C:\\Users\\samud\\.pyenv\\pyenv-win\\versions\\3.12.1\\Lib\\json\\encoder.py\", line 200, in encode\n",
      "    chunks = self.iterencode(o, _one_shot=True)\n",
      "             ^^^^^^^^^^^^^^^^^^^^^^^^^^^^^^^^^^\n",
      "\n",
      "  File \"C:\\Users\\samud\\.pyenv\\pyenv-win\\versions\\3.12.1\\Lib\\json\\encoder.py\", line 258, in iterencode\n",
      "    return _iterencode(o, 0)\n",
      "           ^^^^^^^^^^^^^^^^^\n",
      "\n",
      "  File \"C:\\Users\\samud\\.pyenv\\pyenv-win\\versions\\3.12.1\\Lib\\json\\encoder.py\", line 180, in default\n",
      "    raise TypeError(f'Object of type {o.__class__.__name__} '\n",
      "\n",
      "127.0.0.1 - - [23/Dec/2024 17:32:22] \"GET /api/studies/0?after=0 HTTP/1.1\" 500 35\n",
      "Exception: Object of type DataFrame is not JSON serializable\n",
      "  File \"c:\\Users\\samud\\Documents\\Python_Learning\\Asteroids\\venv\\Lib\\site-packages\\optuna_dashboard\\_bottle_util.py\", line 31, in decorated\n",
      "    response_body = view(*args, **kwargs)\n",
      "                    ^^^^^^^^^^^^^^^^^^^^^\n",
      "\n",
      "  File \"c:\\Users\\samud\\Documents\\Python_Learning\\Asteroids\\venv\\Lib\\site-packages\\optuna_dashboard\\_app.py\", line 243, in get_study_detail\n",
      "    return serialize_study_detail(\n",
      "           ^^^^^^^^^^^^^^^^^^^^^^^\n",
      "\n",
      "  File \"c:\\Users\\samud\\Documents\\Python_Learning\\Asteroids\\venv\\Lib\\site-packages\\optuna_dashboard\\_serializer.py\", line 151, in serialize_study_detail\n",
      "    serialize_frozen_trial(study._study_id, trial, system_attrs) for trial in trials\n",
      "    ^^^^^^^^^^^^^^^^^^^^^^^^^^^^^^^^^^^^^^^^^^^^^^^^^^^^^^^^^^^^\n",
      "\n",
      "  File \"c:\\Users\\samud\\Documents\\Python_Learning\\Asteroids\\venv\\Lib\\site-packages\\optuna_dashboard\\_serializer.py\", line 242, in serialize_frozen_trial\n",
      "    \"user_attrs\": serialize_attrs(trial.user_attrs),\n",
      "                  ^^^^^^^^^^^^^^^^^^^^^^^^^^^^^^^^^\n",
      "\n",
      "  File \"c:\\Users\\samud\\Documents\\Python_Learning\\Asteroids\\venv\\Lib\\site-packages\\optuna_dashboard\\_serializer.py\", line 113, in serialize_attrs\n",
      "    value = json.dumps(v)\n",
      "            ^^^^^^^^^^^^^\n",
      "\n",
      "  File \"C:\\Users\\samud\\.pyenv\\pyenv-win\\versions\\3.12.1\\Lib\\json\\__init__.py\", line 231, in dumps\n",
      "    return _default_encoder.encode(obj)\n",
      "           ^^^^^^^^^^^^^^^^^^^^^^^^^^^^\n",
      "\n",
      "  File \"C:\\Users\\samud\\.pyenv\\pyenv-win\\versions\\3.12.1\\Lib\\json\\encoder.py\", line 200, in encode\n",
      "    chunks = self.iterencode(o, _one_shot=True)\n",
      "             ^^^^^^^^^^^^^^^^^^^^^^^^^^^^^^^^^^\n",
      "\n",
      "  File \"C:\\Users\\samud\\.pyenv\\pyenv-win\\versions\\3.12.1\\Lib\\json\\encoder.py\", line 258, in iterencode\n",
      "    return _iterencode(o, 0)\n",
      "           ^^^^^^^^^^^^^^^^^\n",
      "\n",
      "  File \"C:\\Users\\samud\\.pyenv\\pyenv-win\\versions\\3.12.1\\Lib\\json\\encoder.py\", line 180, in default\n",
      "    raise TypeError(f'Object of type {o.__class__.__name__} '\n",
      "\n",
      "127.0.0.1 - - [23/Dec/2024 17:32:32] \"GET /api/studies/0?after=0 HTTP/1.1\" 500 35\n",
      "Exception: Object of type DataFrame is not JSON serializable\n",
      "  File \"c:\\Users\\samud\\Documents\\Python_Learning\\Asteroids\\venv\\Lib\\site-packages\\optuna_dashboard\\_bottle_util.py\", line 31, in decorated\n",
      "    response_body = view(*args, **kwargs)\n",
      "                    ^^^^^^^^^^^^^^^^^^^^^\n",
      "\n",
      "  File \"c:\\Users\\samud\\Documents\\Python_Learning\\Asteroids\\venv\\Lib\\site-packages\\optuna_dashboard\\_app.py\", line 243, in get_study_detail\n",
      "    return serialize_study_detail(\n",
      "           ^^^^^^^^^^^^^^^^^^^^^^^\n",
      "\n",
      "  File \"c:\\Users\\samud\\Documents\\Python_Learning\\Asteroids\\venv\\Lib\\site-packages\\optuna_dashboard\\_serializer.py\", line 151, in serialize_study_detail\n",
      "    serialize_frozen_trial(study._study_id, trial, system_attrs) for trial in trials\n",
      "    ^^^^^^^^^^^^^^^^^^^^^^^^^^^^^^^^^^^^^^^^^^^^^^^^^^^^^^^^^^^^\n",
      "\n",
      "  File \"c:\\Users\\samud\\Documents\\Python_Learning\\Asteroids\\venv\\Lib\\site-packages\\optuna_dashboard\\_serializer.py\", line 242, in serialize_frozen_trial\n",
      "    \"user_attrs\": serialize_attrs(trial.user_attrs),\n",
      "                  ^^^^^^^^^^^^^^^^^^^^^^^^^^^^^^^^^\n",
      "\n",
      "  File \"c:\\Users\\samud\\Documents\\Python_Learning\\Asteroids\\venv\\Lib\\site-packages\\optuna_dashboard\\_serializer.py\", line 113, in serialize_attrs\n",
      "    value = json.dumps(v)\n",
      "            ^^^^^^^^^^^^^\n",
      "\n",
      "  File \"C:\\Users\\samud\\.pyenv\\pyenv-win\\versions\\3.12.1\\Lib\\json\\__init__.py\", line 231, in dumps\n",
      "    return _default_encoder.encode(obj)\n",
      "           ^^^^^^^^^^^^^^^^^^^^^^^^^^^^\n",
      "\n",
      "  File \"C:\\Users\\samud\\.pyenv\\pyenv-win\\versions\\3.12.1\\Lib\\json\\encoder.py\", line 200, in encode\n",
      "    chunks = self.iterencode(o, _one_shot=True)\n",
      "             ^^^^^^^^^^^^^^^^^^^^^^^^^^^^^^^^^^\n",
      "\n",
      "  File \"C:\\Users\\samud\\.pyenv\\pyenv-win\\versions\\3.12.1\\Lib\\json\\encoder.py\", line 258, in iterencode\n",
      "    return _iterencode(o, 0)\n",
      "           ^^^^^^^^^^^^^^^^^\n",
      "\n",
      "  File \"C:\\Users\\samud\\.pyenv\\pyenv-win\\versions\\3.12.1\\Lib\\json\\encoder.py\", line 180, in default\n",
      "    raise TypeError(f'Object of type {o.__class__.__name__} '\n",
      "\n",
      "127.0.0.1 - - [23/Dec/2024 17:32:42] \"GET /api/studies/0?after=0 HTTP/1.1\" 500 35\n",
      "Exception: Object of type DataFrame is not JSON serializable\n",
      "  File \"c:\\Users\\samud\\Documents\\Python_Learning\\Asteroids\\venv\\Lib\\site-packages\\optuna_dashboard\\_bottle_util.py\", line 31, in decorated\n",
      "    response_body = view(*args, **kwargs)\n",
      "                    ^^^^^^^^^^^^^^^^^^^^^\n",
      "\n",
      "  File \"c:\\Users\\samud\\Documents\\Python_Learning\\Asteroids\\venv\\Lib\\site-packages\\optuna_dashboard\\_app.py\", line 243, in get_study_detail\n",
      "    return serialize_study_detail(\n",
      "           ^^^^^^^^^^^^^^^^^^^^^^^\n",
      "\n",
      "  File \"c:\\Users\\samud\\Documents\\Python_Learning\\Asteroids\\venv\\Lib\\site-packages\\optuna_dashboard\\_serializer.py\", line 151, in serialize_study_detail\n",
      "    serialize_frozen_trial(study._study_id, trial, system_attrs) for trial in trials\n",
      "    ^^^^^^^^^^^^^^^^^^^^^^^^^^^^^^^^^^^^^^^^^^^^^^^^^^^^^^^^^^^^\n",
      "\n",
      "  File \"c:\\Users\\samud\\Documents\\Python_Learning\\Asteroids\\venv\\Lib\\site-packages\\optuna_dashboard\\_serializer.py\", line 242, in serialize_frozen_trial\n",
      "    \"user_attrs\": serialize_attrs(trial.user_attrs),\n",
      "                  ^^^^^^^^^^^^^^^^^^^^^^^^^^^^^^^^^\n",
      "\n",
      "  File \"c:\\Users\\samud\\Documents\\Python_Learning\\Asteroids\\venv\\Lib\\site-packages\\optuna_dashboard\\_serializer.py\", line 113, in serialize_attrs\n",
      "    value = json.dumps(v)\n",
      "            ^^^^^^^^^^^^^\n",
      "\n",
      "  File \"C:\\Users\\samud\\.pyenv\\pyenv-win\\versions\\3.12.1\\Lib\\json\\__init__.py\", line 231, in dumps\n",
      "    return _default_encoder.encode(obj)\n",
      "           ^^^^^^^^^^^^^^^^^^^^^^^^^^^^\n",
      "\n",
      "  File \"C:\\Users\\samud\\.pyenv\\pyenv-win\\versions\\3.12.1\\Lib\\json\\encoder.py\", line 200, in encode\n",
      "    chunks = self.iterencode(o, _one_shot=True)\n",
      "             ^^^^^^^^^^^^^^^^^^^^^^^^^^^^^^^^^^\n",
      "\n",
      "  File \"C:\\Users\\samud\\.pyenv\\pyenv-win\\versions\\3.12.1\\Lib\\json\\encoder.py\", line 258, in iterencode\n",
      "    return _iterencode(o, 0)\n",
      "           ^^^^^^^^^^^^^^^^^\n",
      "\n",
      "  File \"C:\\Users\\samud\\.pyenv\\pyenv-win\\versions\\3.12.1\\Lib\\json\\encoder.py\", line 180, in default\n",
      "    raise TypeError(f'Object of type {o.__class__.__name__} '\n",
      "\n",
      "127.0.0.1 - - [23/Dec/2024 17:32:52] \"GET /api/studies/0?after=0 HTTP/1.1\" 500 35\n"
     ]
    }
   ],
   "source": [
    "run_server(storage)"
   ]
  }
 ],
 "metadata": {
  "kernelspec": {
   "display_name": "venv",
   "language": "python",
   "name": "python3"
  },
  "language_info": {
   "codemirror_mode": {
    "name": "ipython",
    "version": 3
   },
   "file_extension": ".py",
   "mimetype": "text/x-python",
   "name": "python",
   "nbconvert_exporter": "python",
   "pygments_lexer": "ipython3",
   "version": "3.12.1"
  }
 },
 "nbformat": 4,
 "nbformat_minor": 2
}
