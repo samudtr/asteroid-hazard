{
 "cells": [
  {
   "cell_type": "code",
   "execution_count": 42,
   "metadata": {},
   "outputs": [],
   "source": [
    "import pandas as pd\n",
    "import seaborn as sns\n",
    "import xgboost as xgb\n",
    "import optuna as opt\n",
    "import numpy as np\n",
    "import os\n",
    "import plotly\n",
    "from sklearn.model_selection import train_test_split\n",
    "from sklearn.metrics import roc_auc_score\n",
    "from optuna.integration import XGBoostPruningCallback\n",
    "import optuna.visualization as vis\n",
    "import shap\n"
   ]
  },
  {
   "cell_type": "code",
   "execution_count": 29,
   "metadata": {},
   "outputs": [
    {
     "data": {
      "text/plain": [
       "id                      int64\n",
       "name                   object\n",
       "est_diameter_min      float64\n",
       "est_diameter_max      float64\n",
       "relative_velocity     float64\n",
       "miss_distance         float64\n",
       "orbiting_body          object\n",
       "sentry_object            bool\n",
       "absolute_magnitude    float64\n",
       "hazardous                bool\n",
       "dtype: object"
      ]
     },
     "execution_count": 29,
     "metadata": {},
     "output_type": "execute_result"
    }
   ],
   "source": [
    "df = pd.read_csv(\"c:/Users/samud/Documents/Python_Learning/Asteroids/neo.csv/neo.csv\")\n",
    "df.dtypes"
   ]
  },
  {
   "cell_type": "code",
   "execution_count": 30,
   "metadata": {},
   "outputs": [
    {
     "data": {
      "text/html": [
       "<div>\n",
       "<style scoped>\n",
       "    .dataframe tbody tr th:only-of-type {\n",
       "        vertical-align: middle;\n",
       "    }\n",
       "\n",
       "    .dataframe tbody tr th {\n",
       "        vertical-align: top;\n",
       "    }\n",
       "\n",
       "    .dataframe thead th {\n",
       "        text-align: right;\n",
       "    }\n",
       "</style>\n",
       "<table border=\"1\" class=\"dataframe\">\n",
       "  <thead>\n",
       "    <tr style=\"text-align: right;\">\n",
       "      <th></th>\n",
       "      <th>id</th>\n",
       "      <th>est_diameter_min</th>\n",
       "      <th>est_diameter_max</th>\n",
       "      <th>relative_velocity</th>\n",
       "      <th>miss_distance</th>\n",
       "      <th>sentry_object</th>\n",
       "      <th>absolute_magnitude</th>\n",
       "      <th>hazardous</th>\n",
       "    </tr>\n",
       "  </thead>\n",
       "  <tbody>\n",
       "    <tr>\n",
       "      <th>0</th>\n",
       "      <td>2162635</td>\n",
       "      <td>1.198271</td>\n",
       "      <td>2.679415</td>\n",
       "      <td>13569.249224</td>\n",
       "      <td>5.483974e+07</td>\n",
       "      <td>False</td>\n",
       "      <td>16.73</td>\n",
       "      <td>False</td>\n",
       "    </tr>\n",
       "    <tr>\n",
       "      <th>1</th>\n",
       "      <td>2277475</td>\n",
       "      <td>0.265800</td>\n",
       "      <td>0.594347</td>\n",
       "      <td>73588.726663</td>\n",
       "      <td>6.143813e+07</td>\n",
       "      <td>False</td>\n",
       "      <td>20.00</td>\n",
       "      <td>True</td>\n",
       "    </tr>\n",
       "    <tr>\n",
       "      <th>2</th>\n",
       "      <td>2512244</td>\n",
       "      <td>0.722030</td>\n",
       "      <td>1.614507</td>\n",
       "      <td>114258.692129</td>\n",
       "      <td>4.979872e+07</td>\n",
       "      <td>False</td>\n",
       "      <td>17.83</td>\n",
       "      <td>False</td>\n",
       "    </tr>\n",
       "    <tr>\n",
       "      <th>3</th>\n",
       "      <td>3596030</td>\n",
       "      <td>0.096506</td>\n",
       "      <td>0.215794</td>\n",
       "      <td>24764.303138</td>\n",
       "      <td>2.543497e+07</td>\n",
       "      <td>False</td>\n",
       "      <td>22.20</td>\n",
       "      <td>False</td>\n",
       "    </tr>\n",
       "    <tr>\n",
       "      <th>4</th>\n",
       "      <td>3667127</td>\n",
       "      <td>0.255009</td>\n",
       "      <td>0.570217</td>\n",
       "      <td>42737.733765</td>\n",
       "      <td>4.627557e+07</td>\n",
       "      <td>False</td>\n",
       "      <td>20.09</td>\n",
       "      <td>True</td>\n",
       "    </tr>\n",
       "    <tr>\n",
       "      <th>...</th>\n",
       "      <td>...</td>\n",
       "      <td>...</td>\n",
       "      <td>...</td>\n",
       "      <td>...</td>\n",
       "      <td>...</td>\n",
       "      <td>...</td>\n",
       "      <td>...</td>\n",
       "      <td>...</td>\n",
       "    </tr>\n",
       "    <tr>\n",
       "      <th>90831</th>\n",
       "      <td>3763337</td>\n",
       "      <td>0.026580</td>\n",
       "      <td>0.059435</td>\n",
       "      <td>52078.886692</td>\n",
       "      <td>1.230039e+07</td>\n",
       "      <td>False</td>\n",
       "      <td>25.00</td>\n",
       "      <td>False</td>\n",
       "    </tr>\n",
       "    <tr>\n",
       "      <th>90832</th>\n",
       "      <td>3837603</td>\n",
       "      <td>0.016771</td>\n",
       "      <td>0.037501</td>\n",
       "      <td>46114.605073</td>\n",
       "      <td>5.432121e+07</td>\n",
       "      <td>False</td>\n",
       "      <td>26.00</td>\n",
       "      <td>False</td>\n",
       "    </tr>\n",
       "    <tr>\n",
       "      <th>90833</th>\n",
       "      <td>54017201</td>\n",
       "      <td>0.031956</td>\n",
       "      <td>0.071456</td>\n",
       "      <td>7566.807732</td>\n",
       "      <td>2.840077e+07</td>\n",
       "      <td>False</td>\n",
       "      <td>24.60</td>\n",
       "      <td>False</td>\n",
       "    </tr>\n",
       "    <tr>\n",
       "      <th>90834</th>\n",
       "      <td>54115824</td>\n",
       "      <td>0.007321</td>\n",
       "      <td>0.016370</td>\n",
       "      <td>69199.154484</td>\n",
       "      <td>6.869206e+07</td>\n",
       "      <td>False</td>\n",
       "      <td>27.80</td>\n",
       "      <td>False</td>\n",
       "    </tr>\n",
       "    <tr>\n",
       "      <th>90835</th>\n",
       "      <td>54205447</td>\n",
       "      <td>0.039862</td>\n",
       "      <td>0.089133</td>\n",
       "      <td>27024.455553</td>\n",
       "      <td>5.977213e+07</td>\n",
       "      <td>False</td>\n",
       "      <td>24.12</td>\n",
       "      <td>False</td>\n",
       "    </tr>\n",
       "  </tbody>\n",
       "</table>\n",
       "<p>90836 rows × 8 columns</p>\n",
       "</div>"
      ],
      "text/plain": [
       "             id  est_diameter_min  est_diameter_max  relative_velocity  \\\n",
       "0       2162635          1.198271          2.679415       13569.249224   \n",
       "1       2277475          0.265800          0.594347       73588.726663   \n",
       "2       2512244          0.722030          1.614507      114258.692129   \n",
       "3       3596030          0.096506          0.215794       24764.303138   \n",
       "4       3667127          0.255009          0.570217       42737.733765   \n",
       "...         ...               ...               ...                ...   \n",
       "90831   3763337          0.026580          0.059435       52078.886692   \n",
       "90832   3837603          0.016771          0.037501       46114.605073   \n",
       "90833  54017201          0.031956          0.071456        7566.807732   \n",
       "90834  54115824          0.007321          0.016370       69199.154484   \n",
       "90835  54205447          0.039862          0.089133       27024.455553   \n",
       "\n",
       "       miss_distance  sentry_object  absolute_magnitude  hazardous  \n",
       "0       5.483974e+07          False               16.73      False  \n",
       "1       6.143813e+07          False               20.00       True  \n",
       "2       4.979872e+07          False               17.83      False  \n",
       "3       2.543497e+07          False               22.20      False  \n",
       "4       4.627557e+07          False               20.09       True  \n",
       "...              ...            ...                 ...        ...  \n",
       "90831   1.230039e+07          False               25.00      False  \n",
       "90832   5.432121e+07          False               26.00      False  \n",
       "90833   2.840077e+07          False               24.60      False  \n",
       "90834   6.869206e+07          False               27.80      False  \n",
       "90835   5.977213e+07          False               24.12      False  \n",
       "\n",
       "[90836 rows x 8 columns]"
      ]
     },
     "execution_count": 30,
     "metadata": {},
     "output_type": "execute_result"
    }
   ],
   "source": [
    "df.select_dtypes(include =[\"float\", \"int\", \"bool\"])"
   ]
  },
  {
   "cell_type": "code",
   "execution_count": 31,
   "metadata": {},
   "outputs": [],
   "source": [
    "#for cl in df.select_dtypes(include =[\"float\", \"int\"]).columns:\n",
    " #   df.hist(column= cl)"
   ]
  },
  {
   "cell_type": "code",
   "execution_count": 32,
   "metadata": {},
   "outputs": [],
   "source": [
    "## These two columns are equal along all dataset -> They are not reliable features as predictors\n",
    "df = df.drop(columns=['sentry_object','orbiting_body','name','id'])\n",
    "df = df.drop_duplicates()\n",
    "df['hazardous'] = df['hazardous'].astype(int)"
   ]
  },
  {
   "cell_type": "code",
   "execution_count": 33,
   "metadata": {},
   "outputs": [
    {
     "data": {
      "text/plain": [
       "hazardous\n",
       "0    81996\n",
       "1     8833\n",
       "Name: count, dtype: int64"
      ]
     },
     "execution_count": 33,
     "metadata": {},
     "output_type": "execute_result"
    }
   ],
   "source": [
    "# Detected Imbalanced dataset\n",
    "df['hazardous'].value_counts()"
   ]
  },
  {
   "cell_type": "code",
   "execution_count": 34,
   "metadata": {},
   "outputs": [],
   "source": [
    "X = df.drop(columns='hazardous')\n",
    "Y = df['hazardous']\n"
   ]
  },
  {
   "cell_type": "code",
   "execution_count": 53,
   "metadata": {},
   "outputs": [],
   "source": [
    "def objective(trial):\n",
    "    X_train, X_test, Y_train, Y_test = train_test_split(X, Y, test_size=0.20, stratify = Y, random_state = 42)\n",
    "    train = xgb.DMatrix(X_train, Y_train)\n",
    "    test = xgb.DMatrix(X_test, Y_test)\n",
    "    trial.set_user_attr('X_train', X_train)\n",
    "    trial.set_user_attr('X_test', X_test)\n",
    "    trial.set_user_attr('Y_train', Y_train)\n",
    "    trial.set_user_attr('Y_test', Y_test)\n",
    "\n",
    "\n",
    "    param = {\n",
    "        \"verbosity\": 0,\n",
    "        \"objective\": \"binary:logistic\",\n",
    "        \"eval_metric\": \"auc\",\n",
    "        \"booster\": \"gbtree\",\n",
    "        \"lambda\": trial.suggest_float(\"lambda\", 1e-8, 1.0),\n",
    "        \"alpha\": trial.suggest_float(\"alpha\", 1e-8, 1.0),\n",
    "        \"max_depth\": trial.suggest_int(\"max_depth\", 1, 9),\n",
    "        \"eta\": trial.suggest_float(\"eta\", 1e-8, 1.0),\n",
    "        \"gamma\": trial.suggest_float(\"gamma\", 1e-8, 1.0),\n",
    "        \"grow_policy\": trial.suggest_categorical(\"grow_policy\", [\"depthwise\", \"lossguide\"])\n",
    "    }\n",
    "\n",
    "    # Add a callback for pruning.\n",
    "    pruning_callback = opt.integration.XGBoostPruningCallback(trial, \"validation-auc\")\n",
    "\n",
    "    # Best Model\n",
    "    bst = xgb.train(param, train, evals=[(test, \"validation\")])\n",
    "    trial.set_user_attr(\"model\", bst)\n",
    "    preds = bst.predict(test)\n",
    "    pred_labels = np.rint(preds)\n",
    "    auc = roc_auc_score(Y_test, pred_labels)\n",
    "    return auc"
   ]
  },
  {
   "cell_type": "code",
   "execution_count": 54,
   "metadata": {},
   "outputs": [
    {
     "name": "stderr",
     "output_type": "stream",
     "text": [
      "[I 2024-12-23 12:25:55,210] A new study created in memory with name: no-name-3c8f099b-54de-4e50-90d8-bae647f99a56\n"
     ]
    },
    {
     "name": "stdout",
     "output_type": "stream",
     "text": [
      "[0]\tvalidation-auc:0.90955\n",
      "[1]\tvalidation-auc:0.91593\n",
      "[2]\tvalidation-auc:0.91679\n",
      "[3]\tvalidation-auc:0.91672\n",
      "[4]\tvalidation-auc:0.91688\n",
      "[5]\tvalidation-auc:0.91731\n",
      "[6]\tvalidation-auc:0.91829\n",
      "[7]\tvalidation-auc:0.91842\n",
      "[8]\tvalidation-auc:0.91845\n",
      "[9]\tvalidation-auc:0.91951\n"
     ]
    },
    {
     "name": "stderr",
     "output_type": "stream",
     "text": [
      "[I 2024-12-23 12:25:55,530] Trial 0 finished with value: 0.5758898435184858 and parameters: {'lambda': 0.5234079215137057, 'alpha': 0.6296013336476731, 'max_depth': 8, 'eta': 0.35345414999382113, 'gamma': 0.1132327975057465, 'grow_policy': 'depthwise'}. Best is trial 0 with value: 0.5758898435184858.\n"
     ]
    },
    {
     "name": "stdout",
     "output_type": "stream",
     "text": [
      "[0]\tvalidation-auc:0.89705\n",
      "[1]\tvalidation-auc:0.90771\n",
      "[2]\tvalidation-auc:0.90803\n",
      "[3]\tvalidation-auc:0.90900\n",
      "[4]\tvalidation-auc:0.91299\n",
      "[5]\tvalidation-auc:0.91427\n",
      "[6]\tvalidation-auc:0.91455\n",
      "[7]\tvalidation-auc:0.91445\n",
      "[8]\tvalidation-auc:0.91437\n",
      "[9]\tvalidation-auc:0.91458\n"
     ]
    },
    {
     "name": "stderr",
     "output_type": "stream",
     "text": [
      "[I 2024-12-23 12:25:55,813] Trial 1 finished with value: 0.5679630657838571 and parameters: {'lambda': 0.10656648142196377, 'alpha': 0.18745102385525525, 'max_depth': 3, 'eta': 0.5122896157766605, 'gamma': 0.8341984506412143, 'grow_policy': 'depthwise'}. Best is trial 0 with value: 0.5758898435184858.\n"
     ]
    },
    {
     "name": "stdout",
     "output_type": "stream",
     "text": [
      "[0]\tvalidation-auc:0.89705\n",
      "[1]\tvalidation-auc:0.90140\n",
      "[2]\tvalidation-auc:0.90414\n",
      "[3]\tvalidation-auc:0.90777\n",
      "[4]\tvalidation-auc:0.90769\n",
      "[5]\tvalidation-auc:0.90887\n",
      "[6]\tvalidation-auc:0.90874\n",
      "[7]\tvalidation-auc:0.90874\n",
      "[8]\tvalidation-auc:0.90976\n",
      "[9]\tvalidation-auc:0.91001\n"
     ]
    },
    {
     "name": "stderr",
     "output_type": "stream",
     "text": [
      "[I 2024-12-23 12:25:56,098] Trial 2 finished with value: 0.5667006867128185 and parameters: {'lambda': 0.5538830546560355, 'alpha': 0.8205657926187048, 'max_depth': 3, 'eta': 0.20627583054045817, 'gamma': 0.2597042930500345, 'grow_policy': 'lossguide'}. Best is trial 0 with value: 0.5758898435184858.\n"
     ]
    },
    {
     "name": "stdout",
     "output_type": "stream",
     "text": [
      "[0]\tvalidation-auc:0.91031\n",
      "[1]\tvalidation-auc:0.91378\n",
      "[2]\tvalidation-auc:0.91357\n",
      "[3]\tvalidation-auc:0.91388\n",
      "[4]\tvalidation-auc:0.91480\n",
      "[5]\tvalidation-auc:0.91610\n",
      "[6]\tvalidation-auc:0.91712\n",
      "[7]\tvalidation-auc:0.91749\n",
      "[8]\tvalidation-auc:0.91763\n",
      "[9]\tvalidation-auc:0.91780\n"
     ]
    },
    {
     "name": "stderr",
     "output_type": "stream",
     "text": [
      "[I 2024-12-23 12:25:56,535] Trial 3 finished with value: 0.5733565268742318 and parameters: {'lambda': 0.8628271684050582, 'alpha': 0.46690379755482986, 'max_depth': 9, 'eta': 0.22784584694161178, 'gamma': 0.8190124337117629, 'grow_policy': 'lossguide'}. Best is trial 0 with value: 0.5758898435184858.\n"
     ]
    },
    {
     "name": "stdout",
     "output_type": "stream",
     "text": [
      "[0]\tvalidation-auc:0.90408\n",
      "[1]\tvalidation-auc:0.90891\n",
      "[2]\tvalidation-auc:0.91301\n",
      "[3]\tvalidation-auc:0.91382\n",
      "[4]\tvalidation-auc:0.91414\n",
      "[5]\tvalidation-auc:0.91530\n",
      "[6]\tvalidation-auc:0.91588\n",
      "[7]\tvalidation-auc:0.91553\n",
      "[8]\tvalidation-auc:0.91606\n",
      "[9]\tvalidation-auc:0.91868\n"
     ]
    },
    {
     "name": "stderr",
     "output_type": "stream",
     "text": [
      "[I 2024-12-23 12:25:56,796] Trial 4 finished with value: 0.5860584139169804 and parameters: {'lambda': 0.3104662721756135, 'alpha': 0.4811872734596847, 'max_depth': 4, 'eta': 0.9353732848270632, 'gamma': 0.09699354471047465, 'grow_policy': 'depthwise'}. Best is trial 4 with value: 0.5860584139169804.\n"
     ]
    },
    {
     "name": "stdout",
     "output_type": "stream",
     "text": [
      "[0]\tvalidation-auc:0.91005\n",
      "[1]\tvalidation-auc:0.91242\n",
      "[2]\tvalidation-auc:0.91367\n",
      "[3]\tvalidation-auc:0.91430\n",
      "[4]\tvalidation-auc:0.91529\n",
      "[5]\tvalidation-auc:0.91726\n",
      "[6]\tvalidation-auc:0.91728\n",
      "[7]\tvalidation-auc:0.91744\n",
      "[8]\tvalidation-auc:0.91773\n",
      "[9]\tvalidation-auc:0.91878\n"
     ]
    },
    {
     "name": "stderr",
     "output_type": "stream",
     "text": [
      "[I 2024-12-23 12:25:57,245] Trial 5 finished with value: 0.5686985620646531 and parameters: {'lambda': 0.800734623756232, 'alpha': 0.2544439610083114, 'max_depth': 9, 'eta': 0.20328766410335877, 'gamma': 0.2902477583632217, 'grow_policy': 'lossguide'}. Best is trial 4 with value: 0.5860584139169804.\n"
     ]
    },
    {
     "name": "stdout",
     "output_type": "stream",
     "text": [
      "[0]\tvalidation-auc:0.87133\n",
      "[1]\tvalidation-auc:0.87361\n",
      "[2]\tvalidation-auc:0.87361\n",
      "[3]\tvalidation-auc:0.89090\n",
      "[4]\tvalidation-auc:0.89177\n",
      "[5]\tvalidation-auc:0.89948\n",
      "[6]\tvalidation-auc:0.90007\n",
      "[7]\tvalidation-auc:0.90513\n",
      "[8]\tvalidation-auc:0.90529\n",
      "[9]\tvalidation-auc:0.90533\n"
     ]
    },
    {
     "name": "stderr",
     "output_type": "stream",
     "text": [
      "[I 2024-12-23 12:25:57,482] Trial 6 finished with value: 0.5805173186640605 and parameters: {'lambda': 0.9300662724782796, 'alpha': 0.9977560338835869, 'max_depth': 1, 'eta': 0.9644128490818932, 'gamma': 0.7721716733093076, 'grow_policy': 'lossguide'}. Best is trial 4 with value: 0.5860584139169804.\n"
     ]
    },
    {
     "name": "stdout",
     "output_type": "stream",
     "text": [
      "[0]\tvalidation-auc:0.90851\n",
      "[1]\tvalidation-auc:0.91205\n",
      "[2]\tvalidation-auc:0.91290\n",
      "[3]\tvalidation-auc:0.91487\n",
      "[4]\tvalidation-auc:0.91564\n",
      "[5]\tvalidation-auc:0.91538\n",
      "[6]\tvalidation-auc:0.91588\n",
      "[7]\tvalidation-auc:0.91567\n",
      "[8]\tvalidation-auc:0.91739\n",
      "[9]\tvalidation-auc:0.91816\n"
     ]
    },
    {
     "name": "stderr",
     "output_type": "stream",
     "text": [
      "[I 2024-12-23 12:25:57,729] Trial 7 finished with value: 0.6022350528434018 and parameters: {'lambda': 0.8577331698197359, 'alpha': 0.15256455236637667, 'max_depth': 6, 'eta': 0.7419005338823139, 'gamma': 0.14111618246263596, 'grow_policy': 'depthwise'}. Best is trial 7 with value: 0.6022350528434018.\n"
     ]
    },
    {
     "name": "stdout",
     "output_type": "stream",
     "text": [
      "[0]\tvalidation-auc:0.90408\n",
      "[1]\tvalidation-auc:0.90898\n",
      "[2]\tvalidation-auc:0.91011\n",
      "[3]\tvalidation-auc:0.91169\n",
      "[4]\tvalidation-auc:0.91387\n",
      "[5]\tvalidation-auc:0.91398\n",
      "[6]\tvalidation-auc:0.91530\n",
      "[7]\tvalidation-auc:0.91575\n",
      "[8]\tvalidation-auc:0.91601\n",
      "[9]\tvalidation-auc:0.91636\n"
     ]
    },
    {
     "name": "stderr",
     "output_type": "stream",
     "text": [
      "[I 2024-12-23 12:25:57,971] Trial 8 finished with value: 0.5676801003056455 and parameters: {'lambda': 0.5497308157773164, 'alpha': 0.14697597356137454, 'max_depth': 4, 'eta': 0.5145374669931873, 'gamma': 0.6557858193507905, 'grow_policy': 'depthwise'}. Best is trial 7 with value: 0.6022350528434018.\n"
     ]
    },
    {
     "name": "stdout",
     "output_type": "stream",
     "text": [
      "[0]\tvalidation-auc:0.90408\n",
      "[1]\tvalidation-auc:0.90426\n",
      "[2]\tvalidation-auc:0.90411\n",
      "[3]\tvalidation-auc:0.90781\n",
      "[4]\tvalidation-auc:0.90793\n",
      "[5]\tvalidation-auc:0.90792\n",
      "[6]\tvalidation-auc:0.90795\n",
      "[7]\tvalidation-auc:0.90818\n",
      "[8]\tvalidation-auc:0.90818\n",
      "[9]\tvalidation-auc:0.90809\n"
     ]
    },
    {
     "name": "stderr",
     "output_type": "stream",
     "text": [
      "[I 2024-12-23 12:25:58,199] Trial 9 finished with value: 0.5439596766169952 and parameters: {'lambda': 0.518964230766399, 'alpha': 0.9746117014733371, 'max_depth': 4, 'eta': 0.08068419544904348, 'gamma': 0.6083589603471239, 'grow_policy': 'depthwise'}. Best is trial 7 with value: 0.6022350528434018.\n"
     ]
    },
    {
     "name": "stdout",
     "output_type": "stream",
     "text": [
      "[0]\tvalidation-auc:0.90870\n",
      "[1]\tvalidation-auc:0.91099\n",
      "[2]\tvalidation-auc:0.91175\n",
      "[3]\tvalidation-auc:0.91417\n",
      "[4]\tvalidation-auc:0.91355\n",
      "[5]\tvalidation-auc:0.91419\n",
      "[6]\tvalidation-auc:0.91534\n",
      "[7]\tvalidation-auc:0.91813\n",
      "[8]\tvalidation-auc:0.91799\n",
      "[9]\tvalidation-auc:0.91882\n"
     ]
    },
    {
     "name": "stderr",
     "output_type": "stream",
     "text": [
      "[I 2024-12-23 12:25:58,501] Trial 10 finished with value: 0.5996664323776696 and parameters: {'lambda': 0.7137121097276284, 'alpha': 0.00809794687839907, 'max_depth': 7, 'eta': 0.7230466772579922, 'gamma': 0.3970130941020609, 'grow_policy': 'depthwise'}. Best is trial 7 with value: 0.6022350528434018.\n"
     ]
    },
    {
     "name": "stdout",
     "output_type": "stream",
     "text": [
      "[0]\tvalidation-auc:0.90847\n",
      "[1]\tvalidation-auc:0.91064\n",
      "[2]\tvalidation-auc:0.91232\n",
      "[3]\tvalidation-auc:0.91340\n",
      "[4]\tvalidation-auc:0.91382\n",
      "[5]\tvalidation-auc:0.91463\n",
      "[6]\tvalidation-auc:0.91667\n",
      "[7]\tvalidation-auc:0.91716\n",
      "[8]\tvalidation-auc:0.91867\n",
      "[9]\tvalidation-auc:0.92019\n"
     ]
    },
    {
     "name": "stderr",
     "output_type": "stream",
     "text": [
      "[I 2024-12-23 12:25:58,793] Trial 11 finished with value: 0.609287258636866 and parameters: {'lambda': 0.7371218032838497, 'alpha': 0.009434277865427904, 'max_depth': 7, 'eta': 0.7377687651776326, 'gamma': 0.34417520540434077, 'grow_policy': 'depthwise'}. Best is trial 11 with value: 0.609287258636866.\n"
     ]
    },
    {
     "name": "stdout",
     "output_type": "stream",
     "text": [
      "[0]\tvalidation-auc:0.90854\n",
      "[1]\tvalidation-auc:0.91102\n",
      "[2]\tvalidation-auc:0.91228\n",
      "[3]\tvalidation-auc:0.91448\n",
      "[4]\tvalidation-auc:0.91509\n",
      "[5]\tvalidation-auc:0.91420\n",
      "[6]\tvalidation-auc:0.91471\n",
      "[7]\tvalidation-auc:0.91543\n",
      "[8]\tvalidation-auc:0.91684\n",
      "[9]\tvalidation-auc:0.91755\n"
     ]
    },
    {
     "name": "stderr",
     "output_type": "stream",
     "text": [
      "[I 2024-12-23 12:25:59,083] Trial 12 finished with value: 0.6010373974450731 and parameters: {'lambda': 0.7168243938943212, 'alpha': 0.0060503162060951965, 'max_depth': 6, 'eta': 0.7331940466609033, 'gamma': 0.44773547202734665, 'grow_policy': 'depthwise'}. Best is trial 11 with value: 0.609287258636866.\n"
     ]
    },
    {
     "name": "stdout",
     "output_type": "stream",
     "text": [
      "[0]\tvalidation-auc:0.90836\n",
      "[1]\tvalidation-auc:0.91227\n",
      "[2]\tvalidation-auc:0.91286\n",
      "[3]\tvalidation-auc:0.91480\n",
      "[4]\tvalidation-auc:0.91490\n",
      "[5]\tvalidation-auc:0.91520\n",
      "[6]\tvalidation-auc:0.91587\n",
      "[7]\tvalidation-auc:0.91632\n",
      "[8]\tvalidation-auc:0.91807\n",
      "[9]\tvalidation-auc:0.91930\n"
     ]
    },
    {
     "name": "stderr",
     "output_type": "stream",
     "text": [
      "[I 2024-12-23 12:25:59,376] Trial 13 finished with value: 0.5982820946506152 and parameters: {'lambda': 0.9632375397298005, 'alpha': 0.3301138243709125, 'max_depth': 6, 'eta': 0.7440592472288624, 'gamma': 0.041903133436818854, 'grow_policy': 'depthwise'}. Best is trial 11 with value: 0.609287258636866.\n"
     ]
    },
    {
     "name": "stdout",
     "output_type": "stream",
     "text": [
      "[0]\tvalidation-auc:0.90837\n",
      "[1]\tvalidation-auc:0.91155\n",
      "[2]\tvalidation-auc:0.91347\n",
      "[3]\tvalidation-auc:0.91347\n",
      "[4]\tvalidation-auc:0.91506\n",
      "[5]\tvalidation-auc:0.91683\n",
      "[6]\tvalidation-auc:0.91715\n",
      "[7]\tvalidation-auc:0.92038\n",
      "[8]\tvalidation-auc:0.92072\n",
      "[9]\tvalidation-auc:0.92089\n"
     ]
    },
    {
     "name": "stderr",
     "output_type": "stream",
     "text": [
      "[I 2024-12-23 12:25:59,668] Trial 14 finished with value: 0.6142404917715351 and parameters: {'lambda': 0.700310760474521, 'alpha': 0.08298968894259248, 'max_depth': 7, 'eta': 0.8336657433824793, 'gamma': 0.23634781387739, 'grow_policy': 'depthwise'}. Best is trial 14 with value: 0.6142404917715351.\n"
     ]
    },
    {
     "name": "stdout",
     "output_type": "stream",
     "text": [
      "[0]\tvalidation-auc:0.90849\n",
      "[1]\tvalidation-auc:0.91161\n",
      "[2]\tvalidation-auc:0.91294\n",
      "[3]\tvalidation-auc:0.91561\n",
      "[4]\tvalidation-auc:0.91984\n",
      "[5]\tvalidation-auc:0.92043\n",
      "[6]\tvalidation-auc:0.92047\n",
      "[7]\tvalidation-auc:0.92026\n",
      "[8]\tvalidation-auc:0.92017\n",
      "[9]\tvalidation-auc:0.92036\n"
     ]
    },
    {
     "name": "stderr",
     "output_type": "stream",
     "text": [
      "[I 2024-12-23 12:25:59,967] Trial 15 finished with value: 0.6108839541991756 and parameters: {'lambda': 0.6843916849880752, 'alpha': 0.34768262023870244, 'max_depth': 7, 'eta': 0.8669083644086256, 'gamma': 0.2956126019397145, 'grow_policy': 'depthwise'}. Best is trial 14 with value: 0.6142404917715351.\n"
     ]
    },
    {
     "name": "stdout",
     "output_type": "stream",
     "text": [
      "[0]\tvalidation-auc:0.90968\n",
      "[1]\tvalidation-auc:0.90985\n",
      "[2]\tvalidation-auc:0.91241\n",
      "[3]\tvalidation-auc:0.91903\n",
      "[4]\tvalidation-auc:0.91949\n",
      "[5]\tvalidation-auc:0.91959\n",
      "[6]\tvalidation-auc:0.91997\n",
      "[7]\tvalidation-auc:0.91982\n",
      "[8]\tvalidation-auc:0.91989\n",
      "[9]\tvalidation-auc:0.91975\n"
     ]
    },
    {
     "name": "stderr",
     "output_type": "stream",
     "text": [
      "[I 2024-12-23 12:26:00,268] Trial 16 finished with value: 0.6247139588100687 and parameters: {'lambda': 0.32708830682345696, 'alpha': 0.3770592693185774, 'max_depth': 8, 'eta': 0.8755248677515917, 'gamma': 0.9887699377384187, 'grow_policy': 'depthwise'}. Best is trial 16 with value: 0.6247139588100687.\n"
     ]
    },
    {
     "name": "stdout",
     "output_type": "stream",
     "text": [
      "[0]\tvalidation-auc:0.91044\n",
      "[1]\tvalidation-auc:0.91165\n",
      "[2]\tvalidation-auc:0.91468\n",
      "[3]\tvalidation-auc:0.91685\n",
      "[4]\tvalidation-auc:0.91898\n",
      "[5]\tvalidation-auc:0.92014\n",
      "[6]\tvalidation-auc:0.91936\n",
      "[7]\tvalidation-auc:0.91991\n",
      "[8]\tvalidation-auc:0.91988\n",
      "[9]\tvalidation-auc:0.91965\n"
     ]
    },
    {
     "name": "stderr",
     "output_type": "stream",
     "text": [
      "[I 2024-12-23 12:26:00,579] Trial 17 finished with value: 0.6196366273938398 and parameters: {'lambda': 0.31696115706923944, 'alpha': 0.7220942439196338, 'max_depth': 9, 'eta': 0.855491048654996, 'gamma': 0.5645154458953369, 'grow_policy': 'depthwise'}. Best is trial 16 with value: 0.6247139588100687.\n"
     ]
    },
    {
     "name": "stdout",
     "output_type": "stream",
     "text": [
      "[0]\tvalidation-auc:0.91014\n",
      "[1]\tvalidation-auc:0.91219\n",
      "[2]\tvalidation-auc:0.91291\n",
      "[3]\tvalidation-auc:0.91313\n",
      "[4]\tvalidation-auc:0.91615\n",
      "[5]\tvalidation-auc:0.91916\n",
      "[6]\tvalidation-auc:0.91890\n",
      "[7]\tvalidation-auc:0.92020\n",
      "[8]\tvalidation-auc:0.91999\n",
      "[9]\tvalidation-auc:0.92039\n"
     ]
    },
    {
     "name": "stderr",
     "output_type": "stream",
     "text": [
      "[I 2024-12-23 12:26:00,949] Trial 18 finished with value: 0.6144844090835663 and parameters: {'lambda': 0.30893441936570704, 'alpha': 0.6522389404221521, 'max_depth': 9, 'eta': 0.6038978343602733, 'gamma': 0.910575197819546, 'grow_policy': 'lossguide'}. Best is trial 16 with value: 0.6247139588100687.\n"
     ]
    },
    {
     "name": "stdout",
     "output_type": "stream",
     "text": [
      "[0]\tvalidation-auc:0.90977\n",
      "[1]\tvalidation-auc:0.90860\n",
      "[2]\tvalidation-auc:0.91106\n",
      "[3]\tvalidation-auc:0.91282\n",
      "[4]\tvalidation-auc:0.91875\n",
      "[5]\tvalidation-auc:0.92040\n",
      "[6]\tvalidation-auc:0.92047\n",
      "[7]\tvalidation-auc:0.92124\n",
      "[8]\tvalidation-auc:0.92136\n",
      "[9]\tvalidation-auc:0.92076\n"
     ]
    },
    {
     "name": "stderr",
     "output_type": "stream",
     "text": [
      "[I 2024-12-23 12:26:01,246] Trial 19 finished with value: 0.6387868109202209 and parameters: {'lambda': 0.2929596364046604, 'alpha': 0.6374626891373627, 'max_depth': 8, 'eta': 0.9759616817846894, 'gamma': 0.561685204249543, 'grow_policy': 'depthwise'}. Best is trial 19 with value: 0.6387868109202209.\n"
     ]
    },
    {
     "name": "stdout",
     "output_type": "stream",
     "text": [
      "[0]\tvalidation-auc:0.91004\n",
      "[1]\tvalidation-auc:0.90990\n",
      "[2]\tvalidation-auc:0.91285\n",
      "[3]\tvalidation-auc:0.91515\n",
      "[4]\tvalidation-auc:0.91687\n",
      "[5]\tvalidation-auc:0.91788\n",
      "[6]\tvalidation-auc:0.91724\n",
      "[7]\tvalidation-auc:0.91769\n",
      "[8]\tvalidation-auc:0.91943\n",
      "[9]\tvalidation-auc:0.91945\n"
     ]
    },
    {
     "name": "stderr",
     "output_type": "stream",
     "text": [
      "[I 2024-12-23 12:26:01,708] Trial 20 finished with value: 0.6274510747874015 and parameters: {'lambda': 0.15059847699908663, 'alpha': 0.5767010551473443, 'max_depth': 8, 'eta': 0.9946927609442008, 'gamma': 0.9585986124634154, 'grow_policy': 'depthwise'}. Best is trial 19 with value: 0.6387868109202209.\n"
     ]
    },
    {
     "name": "stdout",
     "output_type": "stream",
     "text": [
      "[0]\tvalidation-auc:0.91000\n",
      "[1]\tvalidation-auc:0.91013\n",
      "[2]\tvalidation-auc:0.91301\n",
      "[3]\tvalidation-auc:0.91525\n",
      "[4]\tvalidation-auc:0.91736\n",
      "[5]\tvalidation-auc:0.91853\n",
      "[6]\tvalidation-auc:0.91872\n",
      "[7]\tvalidation-auc:0.91856\n",
      "[8]\tvalidation-auc:0.91858\n",
      "[9]\tvalidation-auc:0.91885\n"
     ]
    },
    {
     "name": "stderr",
     "output_type": "stream",
     "text": [
      "[I 2024-12-23 12:26:02,165] Trial 21 finished with value: 0.6192012135956086 and parameters: {'lambda': 0.13402059579682968, 'alpha': 0.5537889894740772, 'max_depth': 8, 'eta': 0.9922908208744007, 'gamma': 0.9697953717629837, 'grow_policy': 'depthwise'}. Best is trial 19 with value: 0.6387868109202209.\n"
     ]
    },
    {
     "name": "stdout",
     "output_type": "stream",
     "text": [
      "[0]\tvalidation-auc:0.90944\n",
      "[1]\tvalidation-auc:0.90955\n",
      "[2]\tvalidation-auc:0.91092\n",
      "[3]\tvalidation-auc:0.91284\n",
      "[4]\tvalidation-auc:0.91525\n",
      "[5]\tvalidation-auc:0.91524\n",
      "[6]\tvalidation-auc:0.91663\n",
      "[7]\tvalidation-auc:0.92011\n",
      "[8]\tvalidation-auc:0.91927\n",
      "[9]\tvalidation-auc:0.91931\n"
     ]
    },
    {
     "name": "stderr",
     "output_type": "stream",
     "text": [
      "[I 2024-12-23 12:26:02,891] Trial 22 finished with value: 0.6194938073887688 and parameters: {'lambda': 0.2077575038575475, 'alpha': 0.8018673121501257, 'max_depth': 8, 'eta': 0.8963017367207335, 'gamma': 0.7079331926505155, 'grow_policy': 'depthwise'}. Best is trial 19 with value: 0.6387868109202209.\n"
     ]
    },
    {
     "name": "stdout",
     "output_type": "stream",
     "text": [
      "[0]\tvalidation-auc:0.90981\n",
      "[1]\tvalidation-auc:0.90853\n",
      "[2]\tvalidation-auc:0.91306\n",
      "[3]\tvalidation-auc:0.91482\n",
      "[4]\tvalidation-auc:0.91671\n",
      "[5]\tvalidation-auc:0.91737\n",
      "[6]\tvalidation-auc:0.91757\n",
      "[7]\tvalidation-auc:0.91712\n",
      "[8]\tvalidation-auc:0.91676\n",
      "[9]\tvalidation-auc:0.91724\n"
     ]
    },
    {
     "name": "stderr",
     "output_type": "stream",
     "text": [
      "[I 2024-12-23 12:26:03,412] Trial 23 finished with value: 0.6302416814033376 and parameters: {'lambda': 0.399875193887712, 'alpha': 0.4056370311167888, 'max_depth': 8, 'eta': 0.9933407854093702, 'gamma': 0.9938639220707756, 'grow_policy': 'depthwise'}. Best is trial 19 with value: 0.6387868109202209.\n"
     ]
    },
    {
     "name": "stdout",
     "output_type": "stream",
     "text": [
      "[0]\tvalidation-auc:0.90780\n",
      "[1]\tvalidation-auc:0.91109\n",
      "[2]\tvalidation-auc:0.91212\n",
      "[3]\tvalidation-auc:0.91240\n",
      "[4]\tvalidation-auc:0.91662\n",
      "[5]\tvalidation-auc:0.91732\n",
      "[6]\tvalidation-auc:0.91733\n",
      "[7]\tvalidation-auc:0.91894\n",
      "[8]\tvalidation-auc:0.91872\n",
      "[9]\tvalidation-auc:0.91874\n"
     ]
    },
    {
     "name": "stderr",
     "output_type": "stream",
     "text": [
      "[I 2024-12-23 12:26:03,822] Trial 24 finished with value: 0.5887709242005557 and parameters: {'lambda': 0.3908224318566383, 'alpha': 0.5731448787132031, 'max_depth': 5, 'eta': 0.6339806515560914, 'gamma': 0.8869065464666456, 'grow_policy': 'depthwise'}. Best is trial 19 with value: 0.6387868109202209.\n"
     ]
    },
    {
     "name": "stdout",
     "output_type": "stream",
     "text": [
      "[0]\tvalidation-auc:0.90956\n",
      "[1]\tvalidation-auc:0.90816\n",
      "[2]\tvalidation-auc:0.91398\n",
      "[3]\tvalidation-auc:0.91439\n",
      "[4]\tvalidation-auc:0.91552\n",
      "[5]\tvalidation-auc:0.91909\n",
      "[6]\tvalidation-auc:0.91864\n",
      "[7]\tvalidation-auc:0.91786\n",
      "[8]\tvalidation-auc:0.91806\n",
      "[9]\tvalidation-auc:0.91672\n"
     ]
    },
    {
     "name": "stderr",
     "output_type": "stream",
     "text": [
      "[I 2024-12-23 12:26:04,443] Trial 25 finished with value: 0.6308113567044632 and parameters: {'lambda': 0.014201631471387977, 'alpha': 0.42581738597327795, 'max_depth': 8, 'eta': 0.982936790794522, 'gamma': 0.5340929025451181, 'grow_policy': 'depthwise'}. Best is trial 19 with value: 0.6387868109202209.\n"
     ]
    },
    {
     "name": "stdout",
     "output_type": "stream",
     "text": [
      "[0]\tvalidation-auc:0.90827\n",
      "[1]\tvalidation-auc:0.91047\n",
      "[2]\tvalidation-auc:0.91124\n",
      "[3]\tvalidation-auc:0.91333\n",
      "[4]\tvalidation-auc:0.91413\n",
      "[5]\tvalidation-auc:0.91446\n",
      "[6]\tvalidation-auc:0.91742\n",
      "[7]\tvalidation-auc:0.91744\n",
      "[8]\tvalidation-auc:0.91787\n",
      "[9]\tvalidation-auc:0.91850\n"
     ]
    },
    {
     "name": "stderr",
     "output_type": "stream",
     "text": [
      "[I 2024-12-23 12:26:04,927] Trial 26 finished with value: 0.6009325557934105 and parameters: {'lambda': 0.0068504817151767705, 'alpha': 0.40783823902049826, 'max_depth': 6, 'eta': 0.790736101035002, 'gamma': 0.499046376641809, 'grow_policy': 'lossguide'}. Best is trial 19 with value: 0.6387868109202209.\n"
     ]
    },
    {
     "name": "stdout",
     "output_type": "stream",
     "text": [
      "[0]\tvalidation-auc:0.90843\n",
      "[1]\tvalidation-auc:0.91217\n",
      "[2]\tvalidation-auc:0.91358\n",
      "[3]\tvalidation-auc:0.91461\n",
      "[4]\tvalidation-auc:0.91729\n",
      "[5]\tvalidation-auc:0.91750\n",
      "[6]\tvalidation-auc:0.91767\n",
      "[7]\tvalidation-auc:0.91884\n",
      "[8]\tvalidation-auc:0.91922\n",
      "[9]\tvalidation-auc:0.91923\n"
     ]
    },
    {
     "name": "stderr",
     "output_type": "stream",
     "text": [
      "[I 2024-12-23 12:26:05,479] Trial 27 finished with value: 0.5846264695215689 and parameters: {'lambda': 0.4327574503293968, 'alpha': 0.43557407044032104, 'max_depth': 7, 'eta': 0.6033139500263331, 'gamma': 0.5498893825593215, 'grow_policy': 'depthwise'}. Best is trial 19 with value: 0.6387868109202209.\n"
     ]
    },
    {
     "name": "stdout",
     "output_type": "stream",
     "text": [
      "[0]\tvalidation-auc:0.87133\n",
      "[1]\tvalidation-auc:0.87217\n",
      "[2]\tvalidation-auc:0.87361\n",
      "[3]\tvalidation-auc:0.87361\n",
      "[4]\tvalidation-auc:0.87361\n",
      "[5]\tvalidation-auc:0.87361\n",
      "[6]\tvalidation-auc:0.87361\n",
      "[7]\tvalidation-auc:0.89090\n",
      "[8]\tvalidation-auc:0.89177\n",
      "[9]\tvalidation-auc:0.89775\n"
     ]
    },
    {
     "name": "stderr",
     "output_type": "stream",
     "text": [
      "[I 2024-12-23 12:26:05,920] Trial 28 finished with value: 0.5 and parameters: {'lambda': 0.05464090149285948, 'alpha': 0.27810901428601587, 'max_depth': 1, 'eta': 0.40271652937893343, 'gamma': 0.6898364645440613, 'grow_policy': 'depthwise'}. Best is trial 19 with value: 0.6387868109202209.\n"
     ]
    },
    {
     "name": "stdout",
     "output_type": "stream",
     "text": [
      "[0]\tvalidation-auc:0.90969\n",
      "[1]\tvalidation-auc:0.91085\n",
      "[2]\tvalidation-auc:0.91161\n",
      "[3]\tvalidation-auc:0.91458\n",
      "[4]\tvalidation-auc:0.91694\n",
      "[5]\tvalidation-auc:0.91800\n",
      "[6]\tvalidation-auc:0.91909\n",
      "[7]\tvalidation-auc:0.91863\n",
      "[8]\tvalidation-auc:0.91880\n",
      "[9]\tvalidation-auc:0.91865\n"
     ]
    },
    {
     "name": "stderr",
     "output_type": "stream",
     "text": [
      "[I 2024-12-23 12:26:06,469] Trial 29 finished with value: 0.6198768003611688 and parameters: {'lambda': 0.2184148431631, 'alpha': 0.6529479940547793, 'max_depth': 8, 'eta': 0.9276372235442553, 'gamma': 0.42355450333347944, 'grow_policy': 'depthwise'}. Best is trial 19 with value: 0.6387868109202209.\n"
     ]
    },
    {
     "name": "stdout",
     "output_type": "stream",
     "text": [
      "[0]\tvalidation-auc:0.91033\n",
      "[1]\tvalidation-auc:0.91264\n",
      "[2]\tvalidation-auc:0.91341\n",
      "[3]\tvalidation-auc:0.91353\n",
      "[4]\tvalidation-auc:0.91664\n",
      "[5]\tvalidation-auc:0.91675\n",
      "[6]\tvalidation-auc:0.91710\n",
      "[7]\tvalidation-auc:0.91825\n",
      "[8]\tvalidation-auc:0.92008\n",
      "[9]\tvalidation-auc:0.92004\n"
     ]
    },
    {
     "name": "stderr",
     "output_type": "stream",
     "text": [
      "[I 2024-12-23 12:26:07,031] Trial 30 finished with value: 0.6213012560671757 and parameters: {'lambda': 0.43505457768382017, 'alpha': 0.5180309073561262, 'max_depth': 9, 'eta': 0.6633036902314964, 'gamma': 0.7380790045734248, 'grow_policy': 'depthwise'}. Best is trial 19 with value: 0.6387868109202209.\n"
     ]
    },
    {
     "name": "stdout",
     "output_type": "stream",
     "text": [
      "[0]\tvalidation-auc:0.90965\n",
      "[1]\tvalidation-auc:0.90999\n",
      "[2]\tvalidation-auc:0.91361\n",
      "[3]\tvalidation-auc:0.91497\n",
      "[4]\tvalidation-auc:0.91527\n",
      "[5]\tvalidation-auc:0.91807\n",
      "[6]\tvalidation-auc:0.91850\n",
      "[7]\tvalidation-auc:0.91851\n",
      "[8]\tvalidation-auc:0.91873\n",
      "[9]\tvalidation-auc:0.91951\n"
     ]
    },
    {
     "name": "stderr",
     "output_type": "stream",
     "text": [
      "[I 2024-12-23 12:26:07,536] Trial 31 finished with value: 0.6344021832739052 and parameters: {'lambda': 0.20954095332045303, 'alpha': 0.5807684844431193, 'max_depth': 8, 'eta': 0.9903256316753943, 'gamma': 0.928527364089519, 'grow_policy': 'depthwise'}. Best is trial 19 with value: 0.6387868109202209.\n"
     ]
    },
    {
     "name": "stdout",
     "output_type": "stream",
     "text": [
      "[0]\tvalidation-auc:0.90970\n",
      "[1]\tvalidation-auc:0.90936\n",
      "[2]\tvalidation-auc:0.91148\n",
      "[3]\tvalidation-auc:0.91437\n",
      "[4]\tvalidation-auc:0.91523\n",
      "[5]\tvalidation-auc:0.91701\n",
      "[6]\tvalidation-auc:0.91743\n",
      "[7]\tvalidation-auc:0.91977\n",
      "[8]\tvalidation-auc:0.92019\n",
      "[9]\tvalidation-auc:0.92000\n"
     ]
    },
    {
     "name": "stderr",
     "output_type": "stream",
     "text": [
      "[I 2024-12-23 12:26:08,029] Trial 32 finished with value: 0.6246738408311162 and parameters: {'lambda': 0.20391000869588521, 'alpha': 0.7211680056685315, 'max_depth': 8, 'eta': 0.9391696626064465, 'gamma': 0.8864451581662678, 'grow_policy': 'depthwise'}. Best is trial 19 with value: 0.6387868109202209.\n"
     ]
    },
    {
     "name": "stdout",
     "output_type": "stream",
     "text": [
      "[0]\tvalidation-auc:0.90872\n",
      "[1]\tvalidation-auc:0.91094\n",
      "[2]\tvalidation-auc:0.91124\n",
      "[3]\tvalidation-auc:0.91459\n",
      "[4]\tvalidation-auc:0.91682\n",
      "[5]\tvalidation-auc:0.91798\n",
      "[6]\tvalidation-auc:0.91822\n",
      "[7]\tvalidation-auc:0.91803\n",
      "[8]\tvalidation-auc:0.92117\n",
      "[9]\tvalidation-auc:0.92145\n"
     ]
    },
    {
     "name": "stderr",
     "output_type": "stream",
     "text": [
      "[I 2024-12-23 12:26:08,454] Trial 33 finished with value: 0.618663097771259 and parameters: {'lambda': 0.060332814280511626, 'alpha': 0.7203485584906457, 'max_depth': 7, 'eta': 0.8052604894405617, 'gamma': 0.8483281206232662, 'grow_policy': 'depthwise'}. Best is trial 19 with value: 0.6387868109202209.\n"
     ]
    },
    {
     "name": "stdout",
     "output_type": "stream",
     "text": [
      "[0]\tvalidation-auc:0.91088\n",
      "[1]\tvalidation-auc:0.90912\n",
      "[2]\tvalidation-auc:0.91228\n",
      "[3]\tvalidation-auc:0.91346\n",
      "[4]\tvalidation-auc:0.91587\n",
      "[5]\tvalidation-auc:0.91822\n",
      "[6]\tvalidation-auc:0.91855\n",
      "[7]\tvalidation-auc:0.91901\n",
      "[8]\tvalidation-auc:0.91913\n",
      "[9]\tvalidation-auc:0.91885\n"
     ]
    },
    {
     "name": "stderr",
     "output_type": "stream",
     "text": [
      "[I 2024-12-23 12:26:09,136] Trial 34 finished with value: 0.6235323506033208 and parameters: {'lambda': 0.2582687893114462, 'alpha': 0.6118522033800002, 'max_depth': 9, 'eta': 0.9891998328658663, 'gamma': 0.7913563012410034, 'grow_policy': 'depthwise'}. Best is trial 19 with value: 0.6387868109202209.\n"
     ]
    },
    {
     "name": "stdout",
     "output_type": "stream",
     "text": [
      "[0]\tvalidation-auc:0.88906\n",
      "[1]\tvalidation-auc:0.89696\n",
      "[2]\tvalidation-auc:0.89696\n",
      "[3]\tvalidation-auc:0.90523\n",
      "[4]\tvalidation-auc:0.91027\n",
      "[5]\tvalidation-auc:0.91035\n",
      "[6]\tvalidation-auc:0.91040\n",
      "[7]\tvalidation-auc:0.91295\n",
      "[8]\tvalidation-auc:0.91297\n",
      "[9]\tvalidation-auc:0.91377\n"
     ]
    },
    {
     "name": "stderr",
     "output_type": "stream",
     "text": [
      "[I 2024-12-23 12:26:09,605] Trial 35 finished with value: 0.5692254448548959 and parameters: {'lambda': 0.6170260757480197, 'alpha': 0.4950506424898666, 'max_depth': 2, 'eta': 0.9162612327371389, 'gamma': 0.6432845370963539, 'grow_policy': 'lossguide'}. Best is trial 19 with value: 0.6387868109202209.\n"
     ]
    },
    {
     "name": "stdout",
     "output_type": "stream",
     "text": [
      "[0]\tvalidation-auc:0.90780\n",
      "[1]\tvalidation-auc:0.91034\n",
      "[2]\tvalidation-auc:0.91103\n",
      "[3]\tvalidation-auc:0.91466\n",
      "[4]\tvalidation-auc:0.91544\n",
      "[5]\tvalidation-auc:0.91729\n",
      "[6]\tvalidation-auc:0.91771\n",
      "[7]\tvalidation-auc:0.91802\n",
      "[8]\tvalidation-auc:0.91848\n",
      "[9]\tvalidation-auc:0.91890\n"
     ]
    },
    {
     "name": "stderr",
     "output_type": "stream",
     "text": [
      "[I 2024-12-23 12:26:10,094] Trial 36 finished with value: 0.5906602135560256 and parameters: {'lambda': 0.3672515163451126, 'alpha': 0.8359749596156427, 'max_depth': 5, 'eta': 0.8081639036432435, 'gamma': 0.47642402530539774, 'grow_policy': 'depthwise'}. Best is trial 19 with value: 0.6387868109202209.\n"
     ]
    },
    {
     "name": "stdout",
     "output_type": "stream",
     "text": [
      "[0]\tvalidation-auc:0.90978\n",
      "[1]\tvalidation-auc:0.90995\n",
      "[2]\tvalidation-auc:0.91386\n",
      "[3]\tvalidation-auc:0.91603\n",
      "[4]\tvalidation-auc:0.91631\n",
      "[5]\tvalidation-auc:0.91618\n",
      "[6]\tvalidation-auc:0.91737\n",
      "[7]\tvalidation-auc:0.91825\n",
      "[8]\tvalidation-auc:0.91908\n",
      "[9]\tvalidation-auc:0.91933\n"
     ]
    },
    {
     "name": "stderr",
     "output_type": "stream",
     "text": [
      "[I 2024-12-23 12:26:11,153] Trial 37 finished with value: 0.6285658196958951 and parameters: {'lambda': 0.47092903554637777, 'alpha': 0.29217309087735754, 'max_depth': 8, 'eta': 0.9399659208054221, 'gamma': 0.5677714567989276, 'grow_policy': 'lossguide'}. Best is trial 19 with value: 0.6387868109202209.\n"
     ]
    },
    {
     "name": "stdout",
     "output_type": "stream",
     "text": [
      "[0]\tvalidation-auc:0.91076\n",
      "[1]\tvalidation-auc:0.91189\n",
      "[2]\tvalidation-auc:0.91512\n",
      "[3]\tvalidation-auc:0.91526\n",
      "[4]\tvalidation-auc:0.91547\n",
      "[5]\tvalidation-auc:0.91728\n",
      "[6]\tvalidation-auc:0.91917\n",
      "[7]\tvalidation-auc:0.91969\n",
      "[8]\tvalidation-auc:0.91983\n",
      "[9]\tvalidation-auc:0.91983\n"
     ]
    },
    {
     "name": "stderr",
     "output_type": "stream",
     "text": [
      "[I 2024-12-23 12:26:11,698] Trial 38 finished with value: 0.5913737786749941 and parameters: {'lambda': 0.09257070002017809, 'alpha': 0.45470251787912824, 'max_depth': 9, 'eta': 0.3855368730547889, 'gamma': 0.9231590813920045, 'grow_policy': 'depthwise'}. Best is trial 19 with value: 0.6387868109202209.\n"
     ]
    },
    {
     "name": "stdout",
     "output_type": "stream",
     "text": [
      "[0]\tvalidation-auc:0.91054\n",
      "[1]\tvalidation-auc:0.90729\n",
      "[2]\tvalidation-auc:0.91286\n",
      "[3]\tvalidation-auc:0.91679\n",
      "[4]\tvalidation-auc:0.91717\n",
      "[5]\tvalidation-auc:0.91846\n",
      "[6]\tvalidation-auc:0.91935\n",
      "[7]\tvalidation-auc:0.91958\n",
      "[8]\tvalidation-auc:0.91816\n",
      "[9]\tvalidation-auc:0.91803\n"
     ]
    },
    {
     "name": "stderr",
     "output_type": "stream",
     "text": [
      "[I 2024-12-23 12:26:12,281] Trial 39 finished with value: 0.6277549016146684 and parameters: {'lambda': 0.2593764411942964, 'alpha': 0.22464988950263987, 'max_depth': 8, 'eta': 0.9980166170017922, 'gamma': 0.8177464853987169, 'grow_policy': 'depthwise'}. Best is trial 19 with value: 0.6387868109202209.\n"
     ]
    },
    {
     "name": "stdout",
     "output_type": "stream",
     "text": [
      "[0]\tvalidation-auc:0.90859\n",
      "[1]\tvalidation-auc:0.91030\n",
      "[2]\tvalidation-auc:0.91237\n",
      "[3]\tvalidation-auc:0.91312\n",
      "[4]\tvalidation-auc:0.91388\n",
      "[5]\tvalidation-auc:0.91412\n",
      "[6]\tvalidation-auc:0.91367\n",
      "[7]\tvalidation-auc:0.91525\n",
      "[8]\tvalidation-auc:0.91535\n",
      "[9]\tvalidation-auc:0.91557\n"
     ]
    },
    {
     "name": "stderr",
     "output_type": "stream",
     "text": [
      "[I 2024-12-23 12:26:13,007] Trial 40 finished with value: 0.569930451471688 and parameters: {'lambda': 0.15557310537028107, 'alpha': 0.4071891716838315, 'max_depth': 6, 'eta': 0.311297128715191, 'gamma': 0.7658623059837456, 'grow_policy': 'lossguide'}. Best is trial 19 with value: 0.6387868109202209.\n"
     ]
    },
    {
     "name": "stdout",
     "output_type": "stream",
     "text": [
      "[0]\tvalidation-auc:0.90978\n",
      "[1]\tvalidation-auc:0.91088\n",
      "[2]\tvalidation-auc:0.91253\n",
      "[3]\tvalidation-auc:0.91478\n",
      "[4]\tvalidation-auc:0.91609\n",
      "[5]\tvalidation-auc:0.91750\n",
      "[6]\tvalidation-auc:0.91684\n",
      "[7]\tvalidation-auc:0.91819\n",
      "[8]\tvalidation-auc:0.91766\n",
      "[9]\tvalidation-auc:0.91817\n"
     ]
    },
    {
     "name": "stderr",
     "output_type": "stream",
     "text": [
      "[I 2024-12-23 12:26:13,942] Trial 41 finished with value: 0.6286744056922599 and parameters: {'lambda': 0.47295279999146145, 'alpha': 0.2885285453835525, 'max_depth': 8, 'eta': 0.9255343288591485, 'gamma': 0.5948810669378247, 'grow_policy': 'lossguide'}. Best is trial 19 with value: 0.6387868109202209.\n"
     ]
    },
    {
     "name": "stdout",
     "output_type": "stream",
     "text": [
      "[0]\tvalidation-auc:0.90847\n",
      "[1]\tvalidation-auc:0.90950\n",
      "[2]\tvalidation-auc:0.91092\n",
      "[3]\tvalidation-auc:0.91383\n",
      "[4]\tvalidation-auc:0.91482\n",
      "[5]\tvalidation-auc:0.91664\n",
      "[6]\tvalidation-auc:0.91892\n",
      "[7]\tvalidation-auc:0.91935\n",
      "[8]\tvalidation-auc:0.91961\n",
      "[9]\tvalidation-auc:0.91978\n"
     ]
    },
    {
     "name": "stderr",
     "output_type": "stream",
     "text": [
      "[I 2024-12-23 12:26:14,760] Trial 42 finished with value: 0.6156590635072957 and parameters: {'lambda': 0.5954691495898968, 'alpha': 0.5265680691645966, 'max_depth': 7, 'eta': 0.9039844890855877, 'gamma': 0.6031242904239758, 'grow_policy': 'lossguide'}. Best is trial 19 with value: 0.6387868109202209.\n"
     ]
    },
    {
     "name": "stdout",
     "output_type": "stream",
     "text": [
      "[0]\tvalidation-auc:0.91078\n",
      "[1]\tvalidation-auc:0.91035\n",
      "[2]\tvalidation-auc:0.91178\n",
      "[3]\tvalidation-auc:0.91409\n",
      "[4]\tvalidation-auc:0.91710\n",
      "[5]\tvalidation-auc:0.91742\n",
      "[6]\tvalidation-auc:0.91685\n",
      "[7]\tvalidation-auc:0.91644\n",
      "[8]\tvalidation-auc:0.91653\n",
      "[9]\tvalidation-auc:0.91833\n"
     ]
    },
    {
     "name": "stderr",
     "output_type": "stream",
     "text": [
      "[I 2024-12-23 12:26:15,823] Trial 43 finished with value: 0.6303845014084085 and parameters: {'lambda': 0.47391818167799515, 'alpha': 0.21355550461663803, 'max_depth': 9, 'eta': 0.9525475025601102, 'gamma': 0.3765571872205178, 'grow_policy': 'lossguide'}. Best is trial 19 with value: 0.6387868109202209.\n"
     ]
    },
    {
     "name": "stdout",
     "output_type": "stream",
     "text": [
      "[0]\tvalidation-auc:0.91113\n",
      "[1]\tvalidation-auc:0.91098\n",
      "[2]\tvalidation-auc:0.91106\n",
      "[3]\tvalidation-auc:0.91156\n",
      "[4]\tvalidation-auc:0.91155\n",
      "[5]\tvalidation-auc:0.91153\n",
      "[6]\tvalidation-auc:0.91204\n",
      "[7]\tvalidation-auc:0.91203\n",
      "[8]\tvalidation-auc:0.91216\n",
      "[9]\tvalidation-auc:0.91204\n"
     ]
    },
    {
     "name": "stderr",
     "output_type": "stream",
     "text": [
      "[I 2024-12-23 12:26:16,313] Trial 44 finished with value: 0.5 and parameters: {'lambda': 0.40001116777545964, 'alpha': 0.19467898280073254, 'max_depth': 9, 'eta': 0.023576017791532566, 'gamma': 0.36718298291527096, 'grow_policy': 'lossguide'}. Best is trial 19 with value: 0.6387868109202209.\n"
     ]
    },
    {
     "name": "stdout",
     "output_type": "stream",
     "text": [
      "[0]\tvalidation-auc:0.91086\n",
      "[1]\tvalidation-auc:0.91101\n",
      "[2]\tvalidation-auc:0.91311\n",
      "[3]\tvalidation-auc:0.91559\n",
      "[4]\tvalidation-auc:0.91520\n",
      "[5]\tvalidation-auc:0.91635\n",
      "[6]\tvalidation-auc:0.91594\n",
      "[7]\tvalidation-auc:0.91610\n",
      "[8]\tvalidation-auc:0.91623\n",
      "[9]\tvalidation-auc:0.91732\n"
     ]
    },
    {
     "name": "stderr",
     "output_type": "stream",
     "text": [
      "[I 2024-12-23 12:26:16,906] Trial 45 finished with value: 0.6404920924788953 and parameters: {'lambda': 0.26281927088064855, 'alpha': 0.6094217116962128, 'max_depth': 9, 'eta': 0.9511996358484851, 'gamma': 0.18227824520821614, 'grow_policy': 'lossguide'}. Best is trial 45 with value: 0.6404920924788953.\n"
     ]
    },
    {
     "name": "stdout",
     "output_type": "stream",
     "text": [
      "[0]\tvalidation-auc:0.91084\n",
      "[1]\tvalidation-auc:0.91256\n",
      "[2]\tvalidation-auc:0.91560\n",
      "[3]\tvalidation-auc:0.91738\n",
      "[4]\tvalidation-auc:0.91835\n",
      "[5]\tvalidation-auc:0.91885\n",
      "[6]\tvalidation-auc:0.91953\n",
      "[7]\tvalidation-auc:0.91950\n",
      "[8]\tvalidation-auc:0.92017\n",
      "[9]\tvalidation-auc:0.92021\n"
     ]
    },
    {
     "name": "stderr",
     "output_type": "stream",
     "text": [
      "[I 2024-12-23 12:26:17,452] Trial 46 finished with value: 0.6277912752489188 and parameters: {'lambda': 0.27114227512200445, 'alpha': 0.6131580043153979, 'max_depth': 9, 'eta': 0.8486915251995356, 'gamma': 0.1740402059498739, 'grow_policy': 'lossguide'}. Best is trial 45 with value: 0.6404920924788953.\n"
     ]
    },
    {
     "name": "stdout",
     "output_type": "stream",
     "text": [
      "[0]\tvalidation-auc:0.91082\n",
      "[1]\tvalidation-auc:0.91263\n",
      "[2]\tvalidation-auc:0.91418\n",
      "[3]\tvalidation-auc:0.91554\n",
      "[4]\tvalidation-auc:0.91691\n",
      "[5]\tvalidation-auc:0.91865\n",
      "[6]\tvalidation-auc:0.91947\n",
      "[7]\tvalidation-auc:0.92100\n",
      "[8]\tvalidation-auc:0.92136\n",
      "[9]\tvalidation-auc:0.92167\n"
     ]
    },
    {
     "name": "stderr",
     "output_type": "stream",
     "text": [
      "[I 2024-12-23 12:26:17,995] Trial 47 finished with value: 0.6305941847117337 and parameters: {'lambda': 0.020647989203078587, 'alpha': 0.6867907052186787, 'max_depth': 9, 'eta': 0.7758269265929115, 'gamma': 0.0640685213282144, 'grow_policy': 'lossguide'}. Best is trial 45 with value: 0.6404920924788953.\n"
     ]
    },
    {
     "name": "stdout",
     "output_type": "stream",
     "text": [
      "[0]\tvalidation-auc:0.91080\n",
      "[1]\tvalidation-auc:0.91265\n",
      "[2]\tvalidation-auc:0.91448\n",
      "[3]\tvalidation-auc:0.91564\n",
      "[4]\tvalidation-auc:0.91587\n",
      "[5]\tvalidation-auc:0.91687\n",
      "[6]\tvalidation-auc:0.91703\n",
      "[7]\tvalidation-auc:0.91771\n",
      "[8]\tvalidation-auc:0.91881\n",
      "[9]\tvalidation-auc:0.92004\n"
     ]
    },
    {
     "name": "stderr",
     "output_type": "stream",
     "text": [
      "[I 2024-12-23 12:26:18,634] Trial 48 finished with value: 0.6306027432139102 and parameters: {'lambda': 0.006024373595918231, 'alpha': 0.7560157356146068, 'max_depth': 9, 'eta': 0.7761901966470938, 'gamma': 0.008416853901517099, 'grow_policy': 'lossguide'}. Best is trial 45 with value: 0.6404920924788953.\n"
     ]
    },
    {
     "name": "stdout",
     "output_type": "stream",
     "text": [
      "[0]\tvalidation-auc:0.90844\n",
      "[1]\tvalidation-auc:0.91066\n",
      "[2]\tvalidation-auc:0.91287\n",
      "[3]\tvalidation-auc:0.91485\n",
      "[4]\tvalidation-auc:0.91487\n",
      "[5]\tvalidation-auc:0.91454\n",
      "[6]\tvalidation-auc:0.91571\n",
      "[7]\tvalidation-auc:0.91762\n",
      "[8]\tvalidation-auc:0.91967\n",
      "[9]\tvalidation-auc:0.91975\n"
     ]
    },
    {
     "name": "stderr",
     "output_type": "stream",
     "text": [
      "[I 2024-12-23 12:26:18,990] Trial 49 finished with value: 0.5953829020383142 and parameters: {'lambda': 0.10497772269191477, 'alpha': 0.7930694527575632, 'max_depth': 7, 'eta': 0.6803427827106582, 'gamma': 0.01940291427340954, 'grow_policy': 'lossguide'}. Best is trial 45 with value: 0.6404920924788953.\n"
     ]
    },
    {
     "name": "stdout",
     "output_type": "stream",
     "text": [
      "[0]\tvalidation-auc:0.90780\n",
      "[1]\tvalidation-auc:0.91045\n",
      "[2]\tvalidation-auc:0.91148\n",
      "[3]\tvalidation-auc:0.91230\n",
      "[4]\tvalidation-auc:0.91241\n",
      "[5]\tvalidation-auc:0.91464\n",
      "[6]\tvalidation-auc:0.91464\n",
      "[7]\tvalidation-auc:0.91643\n",
      "[8]\tvalidation-auc:0.91716\n",
      "[9]\tvalidation-auc:0.91758\n"
     ]
    },
    {
     "name": "stderr",
     "output_type": "stream",
     "text": [
      "[I 2024-12-23 12:26:19,307] Trial 50 finished with value: 0.5778401122019636 and parameters: {'lambda': 0.17325764260926602, 'alpha': 0.9324117984614266, 'max_depth': 5, 'eta': 0.5086737178363575, 'gamma': 0.18479183274198052, 'grow_policy': 'lossguide'}. Best is trial 45 with value: 0.6404920924788953.\n"
     ]
    },
    {
     "name": "stdout",
     "output_type": "stream",
     "text": [
      "[0]\tvalidation-auc:0.91079\n",
      "[1]\tvalidation-auc:0.91210\n",
      "[2]\tvalidation-auc:0.91429\n",
      "[3]\tvalidation-auc:0.91687\n",
      "[4]\tvalidation-auc:0.91694\n",
      "[5]\tvalidation-auc:0.91920\n",
      "[6]\tvalidation-auc:0.91858\n",
      "[7]\tvalidation-auc:0.91918\n",
      "[8]\tvalidation-auc:0.91890\n",
      "[9]\tvalidation-auc:0.91899\n"
     ]
    },
    {
     "name": "stderr",
     "output_type": "stream",
     "text": [
      "[I 2024-12-23 12:26:19,799] Trial 51 finished with value: 0.6276778750950796 and parameters: {'lambda': 0.004300090856876153, 'alpha': 0.6882488747355393, 'max_depth': 9, 'eta': 0.7722145089238541, 'gamma': 0.08186151487010714, 'grow_policy': 'lossguide'}. Best is trial 45 with value: 0.6404920924788953.\n"
     ]
    },
    {
     "name": "stdout",
     "output_type": "stream",
     "text": [
      "[0]\tvalidation-auc:0.91061\n",
      "[1]\tvalidation-auc:0.91226\n",
      "[2]\tvalidation-auc:0.91237\n",
      "[3]\tvalidation-auc:0.91509\n",
      "[4]\tvalidation-auc:0.91957\n",
      "[5]\tvalidation-auc:0.92135\n",
      "[6]\tvalidation-auc:0.92178\n",
      "[7]\tvalidation-auc:0.92204\n",
      "[8]\tvalidation-auc:0.92095\n",
      "[9]\tvalidation-auc:0.92064\n"
     ]
    },
    {
     "name": "stderr",
     "output_type": "stream",
     "text": [
      "[I 2024-12-23 12:26:20,395] Trial 52 finished with value: 0.6385075897867114 and parameters: {'lambda': 0.04883366087113861, 'alpha': 0.7647519637437018, 'max_depth': 9, 'eta': 0.8876194498069148, 'gamma': 0.05534061956346749, 'grow_policy': 'lossguide'}. Best is trial 45 with value: 0.6404920924788953.\n"
     ]
    },
    {
     "name": "stdout",
     "output_type": "stream",
     "text": [
      "[0]\tvalidation-auc:0.90959\n",
      "[1]\tvalidation-auc:0.91087\n",
      "[2]\tvalidation-auc:0.91322\n",
      "[3]\tvalidation-auc:0.91595\n",
      "[4]\tvalidation-auc:0.91704\n",
      "[5]\tvalidation-auc:0.91886\n",
      "[6]\tvalidation-auc:0.91919\n",
      "[7]\tvalidation-auc:0.91947\n",
      "[8]\tvalidation-auc:0.91949\n",
      "[9]\tvalidation-auc:0.91918\n"
     ]
    },
    {
     "name": "stderr",
     "output_type": "stream",
     "text": [
      "[I 2024-12-23 12:26:20,765] Trial 53 finished with value: 0.6259019858934487 and parameters: {'lambda': 0.05134258249576883, 'alpha': 0.878714920101332, 'max_depth': 8, 'eta': 0.885632668830374, 'gamma': 0.1385054825191847, 'grow_policy': 'lossguide'}. Best is trial 45 with value: 0.6404920924788953.\n"
     ]
    },
    {
     "name": "stdout",
     "output_type": "stream",
     "text": [
      "[0]\tvalidation-auc:0.91071\n",
      "[1]\tvalidation-auc:0.91261\n",
      "[2]\tvalidation-auc:0.91386\n",
      "[3]\tvalidation-auc:0.91564\n",
      "[4]\tvalidation-auc:0.91609\n",
      "[5]\tvalidation-auc:0.91653\n",
      "[6]\tvalidation-auc:0.91863\n",
      "[7]\tvalidation-auc:0.92025\n",
      "[8]\tvalidation-auc:0.92031\n",
      "[9]\tvalidation-auc:0.92107\n"
     ]
    },
    {
     "name": "stderr",
     "output_type": "stream",
     "text": [
      "[I 2024-12-23 12:26:21,326] Trial 54 finished with value: 0.6324005635773684 and parameters: {'lambda': 0.10699596525137496, 'alpha': 0.781657384436992, 'max_depth': 9, 'eta': 0.8251289020031305, 'gamma': 0.10240762633593861, 'grow_policy': 'lossguide'}. Best is trial 45 with value: 0.6404920924788953.\n"
     ]
    },
    {
     "name": "stdout",
     "output_type": "stream",
     "text": [
      "[0]\tvalidation-auc:0.90941\n",
      "[1]\tvalidation-auc:0.91093\n",
      "[2]\tvalidation-auc:0.91272\n",
      "[3]\tvalidation-auc:0.91615\n",
      "[4]\tvalidation-auc:0.91693\n",
      "[5]\tvalidation-auc:0.91707\n",
      "[6]\tvalidation-auc:0.91733\n",
      "[7]\tvalidation-auc:0.91743\n",
      "[8]\tvalidation-auc:0.91861\n",
      "[9]\tvalidation-auc:0.91884\n"
     ]
    },
    {
     "name": "stderr",
     "output_type": "stream",
     "text": [
      "[I 2024-12-23 12:26:21,721] Trial 55 finished with value: 0.618949807594173 and parameters: {'lambda': 0.11744763106710895, 'alpha': 0.8665683653892813, 'max_depth': 8, 'eta': 0.8449714201040268, 'gamma': 0.29786615581857434, 'grow_policy': 'lossguide'}. Best is trial 45 with value: 0.6404920924788953.\n"
     ]
    },
    {
     "name": "stdout",
     "output_type": "stream",
     "text": [
      "[0]\tvalidation-auc:0.89705\n",
      "[1]\tvalidation-auc:0.90369\n",
      "[2]\tvalidation-auc:0.91001\n",
      "[3]\tvalidation-auc:0.91140\n",
      "[4]\tvalidation-auc:0.91360\n",
      "[5]\tvalidation-auc:0.91409\n",
      "[6]\tvalidation-auc:0.91440\n",
      "[7]\tvalidation-auc:0.91464\n",
      "[8]\tvalidation-auc:0.91450\n",
      "[9]\tvalidation-auc:0.91441\n"
     ]
    },
    {
     "name": "stderr",
     "output_type": "stream",
     "text": [
      "[I 2024-12-23 12:26:22,019] Trial 56 finished with value: 0.5718978371595188 and parameters: {'lambda': 0.08214570125884331, 'alpha': 0.7615310812018193, 'max_depth': 3, 'eta': 0.9603365394852431, 'gamma': 0.1268179850951192, 'grow_policy': 'lossguide'}. Best is trial 45 with value: 0.6404920924788953.\n"
     ]
    },
    {
     "name": "stdout",
     "output_type": "stream",
     "text": [
      "[0]\tvalidation-auc:0.90842\n",
      "[1]\tvalidation-auc:0.91142\n",
      "[2]\tvalidation-auc:0.91326\n",
      "[3]\tvalidation-auc:0.91704\n",
      "[4]\tvalidation-auc:0.91724\n",
      "[5]\tvalidation-auc:0.91748\n",
      "[6]\tvalidation-auc:0.91758\n",
      "[7]\tvalidation-auc:0.91797\n",
      "[8]\tvalidation-auc:0.91774\n",
      "[9]\tvalidation-auc:0.91946\n"
     ]
    },
    {
     "name": "stderr",
     "output_type": "stream",
     "text": [
      "[I 2024-12-23 12:26:22,392] Trial 57 finished with value: 0.612429298748426 and parameters: {'lambda': 0.17999691183927538, 'alpha': 0.6001578491739917, 'max_depth': 7, 'eta': 0.887612216331181, 'gamma': 0.21691817548911335, 'grow_policy': 'lossguide'}. Best is trial 45 with value: 0.6404920924788953.\n"
     ]
    },
    {
     "name": "stdout",
     "output_type": "stream",
     "text": [
      "[0]\tvalidation-auc:0.91075\n",
      "[1]\tvalidation-auc:0.91269\n",
      "[2]\tvalidation-auc:0.91428\n",
      "[3]\tvalidation-auc:0.91560\n",
      "[4]\tvalidation-auc:0.91669\n",
      "[5]\tvalidation-auc:0.91816\n",
      "[6]\tvalidation-auc:0.92121\n",
      "[7]\tvalidation-auc:0.92117\n",
      "[8]\tvalidation-auc:0.92127\n",
      "[9]\tvalidation-auc:0.92127\n"
     ]
    },
    {
     "name": "stderr",
     "output_type": "stream",
     "text": [
      "[I 2024-12-23 12:26:22,851] Trial 58 finished with value: 0.6328530943799525 and parameters: {'lambda': 0.23790857476587057, 'alpha': 0.6653338288764453, 'max_depth': 9, 'eta': 0.8227470766864569, 'gamma': 0.04738898058705665, 'grow_policy': 'lossguide'}. Best is trial 45 with value: 0.6404920924788953.\n"
     ]
    },
    {
     "name": "stdout",
     "output_type": "stream",
     "text": [
      "[0]\tvalidation-auc:0.91082\n",
      "[1]\tvalidation-auc:0.91264\n",
      "[2]\tvalidation-auc:0.91399\n",
      "[3]\tvalidation-auc:0.91656\n",
      "[4]\tvalidation-auc:0.91648\n",
      "[5]\tvalidation-auc:0.91675\n",
      "[6]\tvalidation-auc:0.91713\n",
      "[7]\tvalidation-auc:0.91841\n",
      "[8]\tvalidation-auc:0.91996\n",
      "[9]\tvalidation-auc:0.91965\n"
     ]
    },
    {
     "name": "stderr",
     "output_type": "stream",
     "text": [
      "[I 2024-12-23 12:26:23,372] Trial 59 finished with value: 0.6259838265705119 and parameters: {'lambda': 0.22719435042328848, 'alpha': 0.6531405968884901, 'max_depth': 9, 'eta': 0.8391222193059411, 'gamma': 0.10859529835409656, 'grow_policy': 'lossguide'}. Best is trial 45 with value: 0.6404920924788953.\n"
     ]
    },
    {
     "name": "stdout",
     "output_type": "stream",
     "text": [
      "[0]\tvalidation-auc:0.91026\n",
      "[1]\tvalidation-auc:0.91363\n",
      "[2]\tvalidation-auc:0.91365\n",
      "[3]\tvalidation-auc:0.91739\n",
      "[4]\tvalidation-auc:0.91881\n",
      "[5]\tvalidation-auc:0.91906\n",
      "[6]\tvalidation-auc:0.92030\n",
      "[7]\tvalidation-auc:0.92075\n",
      "[8]\tvalidation-auc:0.92172\n",
      "[9]\tvalidation-auc:0.92125\n"
     ]
    },
    {
     "name": "stderr",
     "output_type": "stream",
     "text": [
      "[I 2024-12-23 12:26:23,770] Trial 60 finished with value: 0.6166614780747222 and parameters: {'lambda': 0.2907016805643341, 'alpha': 0.6903076740008718, 'max_depth': 9, 'eta': 0.5676809730092467, 'gamma': 0.0443467211042361, 'grow_policy': 'lossguide'}. Best is trial 45 with value: 0.6404920924788953.\n"
     ]
    },
    {
     "name": "stdout",
     "output_type": "stream",
     "text": [
      "[0]\tvalidation-auc:0.91097\n",
      "[1]\tvalidation-auc:0.91359\n",
      "[2]\tvalidation-auc:0.91386\n",
      "[3]\tvalidation-auc:0.91517\n",
      "[4]\tvalidation-auc:0.91667\n",
      "[5]\tvalidation-auc:0.91707\n",
      "[6]\tvalidation-auc:0.91859\n",
      "[7]\tvalidation-auc:0.92021\n",
      "[8]\tvalidation-auc:0.92057\n",
      "[9]\tvalidation-auc:0.92086\n"
     ]
    },
    {
     "name": "stderr",
     "output_type": "stream",
     "text": [
      "[I 2024-12-23 12:26:24,201] Trial 61 finished with value: 0.6190107869221807 and parameters: {'lambda': 0.3517404376652582, 'alpha': 0.5476673382143683, 'max_depth': 9, 'eta': 0.7053912403324586, 'gamma': 0.1742892510109045, 'grow_policy': 'lossguide'}. Best is trial 45 with value: 0.6404920924788953.\n"
     ]
    },
    {
     "name": "stdout",
     "output_type": "stream",
     "text": [
      "[0]\tvalidation-auc:0.90959\n",
      "[1]\tvalidation-auc:0.91056\n",
      "[2]\tvalidation-auc:0.91419\n",
      "[3]\tvalidation-auc:0.91523\n",
      "[4]\tvalidation-auc:0.91521\n",
      "[5]\tvalidation-auc:0.91815\n",
      "[6]\tvalidation-auc:0.91911\n",
      "[7]\tvalidation-auc:0.91964\n",
      "[8]\tvalidation-auc:0.91985\n",
      "[9]\tvalidation-auc:0.91908\n"
     ]
    },
    {
     "name": "stderr",
     "output_type": "stream",
     "text": [
      "[I 2024-12-23 12:26:24,619] Trial 62 finished with value: 0.6237725235706499 and parameters: {'lambda': 0.13410824650380776, 'alpha': 0.6510159850094572, 'max_depth': 8, 'eta': 0.9664386667235825, 'gamma': 0.08309743735859182, 'grow_policy': 'lossguide'}. Best is trial 45 with value: 0.6404920924788953.\n"
     ]
    },
    {
     "name": "stdout",
     "output_type": "stream",
     "text": [
      "[0]\tvalidation-auc:0.91063\n",
      "[1]\tvalidation-auc:0.91209\n",
      "[2]\tvalidation-auc:0.91407\n",
      "[3]\tvalidation-auc:0.91548\n",
      "[4]\tvalidation-auc:0.91765\n",
      "[5]\tvalidation-auc:0.91860\n",
      "[6]\tvalidation-auc:0.91939\n",
      "[7]\tvalidation-auc:0.92000\n",
      "[8]\tvalidation-auc:0.91985\n",
      "[9]\tvalidation-auc:0.91823\n"
     ]
    },
    {
     "name": "stderr",
     "output_type": "stream",
     "text": [
      "[I 2024-12-23 12:26:24,939] Trial 63 finished with value: 0.6387381344390918 and parameters: {'lambda': 0.24454297148512757, 'alpha': 0.7545878501896215, 'max_depth': 9, 'eta': 0.8814340232466487, 'gamma': 0.5257176104269862, 'grow_policy': 'depthwise'}. Best is trial 45 with value: 0.6404920924788953.\n"
     ]
    },
    {
     "name": "stdout",
     "output_type": "stream",
     "text": [
      "[0]\tvalidation-auc:0.91064\n",
      "[1]\tvalidation-auc:0.91250\n",
      "[2]\tvalidation-auc:0.91738\n",
      "[3]\tvalidation-auc:0.91924\n",
      "[4]\tvalidation-auc:0.91974\n",
      "[5]\tvalidation-auc:0.91972\n",
      "[6]\tvalidation-auc:0.92090\n",
      "[7]\tvalidation-auc:0.92233\n",
      "[8]\tvalidation-auc:0.92180\n",
      "[9]\tvalidation-auc:0.92189\n"
     ]
    },
    {
     "name": "stderr",
     "output_type": "stream",
     "text": [
      "[I 2024-12-23 12:26:25,251] Trial 64 finished with value: 0.6434886380534542 and parameters: {'lambda': 0.23667467831397243, 'alpha': 0.7707271897567716, 'max_depth': 9, 'eta': 0.8761237783832873, 'gamma': 0.24369884301991282, 'grow_policy': 'depthwise'}. Best is trial 64 with value: 0.6434886380534542.\n"
     ]
    },
    {
     "name": "stdout",
     "output_type": "stream",
     "text": [
      "[0]\tvalidation-auc:0.91064\n",
      "[1]\tvalidation-auc:0.91219\n",
      "[2]\tvalidation-auc:0.91439\n",
      "[3]\tvalidation-auc:0.91636\n",
      "[4]\tvalidation-auc:0.91914\n",
      "[5]\tvalidation-auc:0.91944\n",
      "[6]\tvalidation-auc:0.91973\n",
      "[7]\tvalidation-auc:0.91988\n",
      "[8]\tvalidation-auc:0.92035\n",
      "[9]\tvalidation-auc:0.92032\n"
     ]
    },
    {
     "name": "stderr",
     "output_type": "stream",
     "text": [
      "[I 2024-12-23 12:26:25,606] Trial 65 finished with value: 0.6367926799130883 and parameters: {'lambda': 0.236829815443297, 'alpha': 0.8286678021776264, 'max_depth': 9, 'eta': 0.8765500713018987, 'gamma': 0.24492182776392907, 'grow_policy': 'depthwise'}. Best is trial 64 with value: 0.6434886380534542.\n"
     ]
    },
    {
     "name": "stdout",
     "output_type": "stream",
     "text": [
      "[0]\tvalidation-auc:0.91052\n",
      "[1]\tvalidation-auc:0.91146\n",
      "[2]\tvalidation-auc:0.91081\n",
      "[3]\tvalidation-auc:0.91576\n",
      "[4]\tvalidation-auc:0.91732\n",
      "[5]\tvalidation-auc:0.91776\n",
      "[6]\tvalidation-auc:0.91924\n",
      "[7]\tvalidation-auc:0.92028\n",
      "[8]\tvalidation-auc:0.91962\n",
      "[9]\tvalidation-auc:0.92105\n"
     ]
    },
    {
     "name": "stderr",
     "output_type": "stream",
     "text": [
      "[I 2024-12-23 12:26:25,939] Trial 66 finished with value: 0.6382256941212718 and parameters: {'lambda': 0.3225737997310941, 'alpha': 0.8413612119912253, 'max_depth': 9, 'eta': 0.8711373041947835, 'gamma': 0.2634552439272081, 'grow_policy': 'depthwise'}. Best is trial 64 with value: 0.6434886380534542.\n"
     ]
    },
    {
     "name": "stdout",
     "output_type": "stream",
     "text": [
      "[0]\tvalidation-auc:0.91047\n",
      "[1]\tvalidation-auc:0.91104\n",
      "[2]\tvalidation-auc:0.91316\n",
      "[3]\tvalidation-auc:0.91552\n",
      "[4]\tvalidation-auc:0.91720\n",
      "[5]\tvalidation-auc:0.91825\n",
      "[6]\tvalidation-auc:0.91804\n",
      "[7]\tvalidation-auc:0.91819\n",
      "[8]\tvalidation-auc:0.91773\n",
      "[9]\tvalidation-auc:0.91796\n"
     ]
    },
    {
     "name": "stderr",
     "output_type": "stream",
     "text": [
      "[I 2024-12-23 12:26:26,259] Trial 67 finished with value: 0.6254836890995706 and parameters: {'lambda': 0.33769869833679234, 'alpha': 0.8751635169049262, 'max_depth': 9, 'eta': 0.8733064341834653, 'gamma': 0.26226188063234185, 'grow_policy': 'depthwise'}. Best is trial 64 with value: 0.6434886380534542.\n"
     ]
    },
    {
     "name": "stdout",
     "output_type": "stream",
     "text": [
      "[0]\tvalidation-auc:0.91044\n",
      "[1]\tvalidation-auc:0.91130\n",
      "[2]\tvalidation-auc:0.91396\n",
      "[3]\tvalidation-auc:0.91614\n",
      "[4]\tvalidation-auc:0.91671\n",
      "[5]\tvalidation-auc:0.91917\n",
      "[6]\tvalidation-auc:0.91906\n",
      "[7]\tvalidation-auc:0.91930\n",
      "[8]\tvalidation-auc:0.91927\n",
      "[9]\tvalidation-auc:0.91948\n"
     ]
    },
    {
     "name": "stderr",
     "output_type": "stream",
     "text": [
      "[I 2024-12-23 12:26:26,597] Trial 68 finished with value: 0.6265754330334649 and parameters: {'lambda': 0.3126531635905574, 'alpha': 0.9286893363053822, 'max_depth': 9, 'eta': 0.9087433379177825, 'gamma': 0.32407687820668984, 'grow_policy': 'depthwise'}. Best is trial 64 with value: 0.6434886380534542.\n"
     ]
    },
    {
     "name": "stdout",
     "output_type": "stream",
     "text": [
      "[0]\tvalidation-auc:0.91061\n",
      "[1]\tvalidation-auc:0.91173\n",
      "[2]\tvalidation-auc:0.91359\n",
      "[3]\tvalidation-auc:0.91393\n",
      "[4]\tvalidation-auc:0.91452\n",
      "[5]\tvalidation-auc:0.91484\n",
      "[6]\tvalidation-auc:0.91491\n",
      "[7]\tvalidation-auc:0.91560\n",
      "[8]\tvalidation-auc:0.91630\n",
      "[9]\tvalidation-auc:0.91646\n"
     ]
    },
    {
     "name": "stderr",
     "output_type": "stream",
     "text": [
      "[I 2024-12-23 12:26:26,917] Trial 69 finished with value: 0.5598009292393739 and parameters: {'lambda': 0.2873349357177855, 'alpha': 0.8247078860954943, 'max_depth': 9, 'eta': 0.13035104051691132, 'gamma': 0.22662362791562535, 'grow_policy': 'depthwise'}. Best is trial 64 with value: 0.6434886380534542.\n"
     ]
    },
    {
     "name": "stdout",
     "output_type": "stream",
     "text": [
      "[0]\tvalidation-auc:0.90968\n",
      "[1]\tvalidation-auc:0.91054\n",
      "[2]\tvalidation-auc:0.91178\n",
      "[3]\tvalidation-auc:0.91385\n",
      "[4]\tvalidation-auc:0.91593\n",
      "[5]\tvalidation-auc:0.91611\n",
      "[6]\tvalidation-auc:0.91744\n",
      "[7]\tvalidation-auc:0.91835\n",
      "[8]\tvalidation-auc:0.91890\n",
      "[9]\tvalidation-auc:0.91959\n"
     ]
    },
    {
     "name": "stderr",
     "output_type": "stream",
     "text": [
      "[I 2024-12-23 12:26:27,229] Trial 70 finished with value: 0.6091251820018979 and parameters: {'lambda': 0.18831644188489086, 'alpha': 0.7549495595495838, 'max_depth': 8, 'eta': 0.7545096754567229, 'gamma': 0.44577829040848527, 'grow_policy': 'depthwise'}. Best is trial 64 with value: 0.6434886380534542.\n"
     ]
    },
    {
     "name": "stdout",
     "output_type": "stream",
     "text": [
      "[0]\tvalidation-auc:0.90954\n",
      "[1]\tvalidation-auc:0.90922\n",
      "[2]\tvalidation-auc:0.91120\n",
      "[3]\tvalidation-auc:0.91314\n",
      "[4]\tvalidation-auc:0.91278\n",
      "[5]\tvalidation-auc:0.91510\n",
      "[6]\tvalidation-auc:0.91514\n",
      "[7]\tvalidation-auc:0.91460\n",
      "[8]\tvalidation-auc:0.91641\n",
      "[9]\tvalidation-auc:0.91691\n"
     ]
    },
    {
     "name": "stderr",
     "output_type": "stream",
     "text": [
      "[I 2024-12-23 12:26:27,563] Trial 71 finished with value: 0.6244176206722062 and parameters: {'lambda': 0.25992757005452133, 'alpha': 0.8375521062828162, 'max_depth': 8, 'eta': 0.9584919653974815, 'gamma': 0.26167852782408485, 'grow_policy': 'depthwise'}. Best is trial 64 with value: 0.6434886380534542.\n"
     ]
    },
    {
     "name": "stdout",
     "output_type": "stream",
     "text": [
      "[0]\tvalidation-auc:0.90408\n",
      "[1]\tvalidation-auc:0.90943\n",
      "[2]\tvalidation-auc:0.91052\n",
      "[3]\tvalidation-auc:0.91419\n",
      "[4]\tvalidation-auc:0.91551\n",
      "[5]\tvalidation-auc:0.91626\n",
      "[6]\tvalidation-auc:0.91644\n",
      "[7]\tvalidation-auc:0.91652\n",
      "[8]\tvalidation-auc:0.91686\n",
      "[9]\tvalidation-auc:0.91749\n"
     ]
    },
    {
     "name": "stderr",
     "output_type": "stream",
     "text": [
      "[I 2024-12-23 12:26:27,833] Trial 72 finished with value: 0.5929191232242446 and parameters: {'lambda': 0.23090321379244275, 'alpha': 0.7395922448875675, 'max_depth': 4, 'eta': 0.8663911622783206, 'gamma': 0.19714068304329768, 'grow_policy': 'depthwise'}. Best is trial 64 with value: 0.6434886380534542.\n"
     ]
    },
    {
     "name": "stdout",
     "output_type": "stream",
     "text": [
      "[0]\tvalidation-auc:0.91039\n",
      "[1]\tvalidation-auc:0.91132\n",
      "[2]\tvalidation-auc:0.91152\n",
      "[3]\tvalidation-auc:0.91918\n",
      "[4]\tvalidation-auc:0.91874\n",
      "[5]\tvalidation-auc:0.91976\n",
      "[6]\tvalidation-auc:0.92145\n",
      "[7]\tvalidation-auc:0.92170\n",
      "[8]\tvalidation-auc:0.92219\n",
      "[9]\tvalidation-auc:0.92146\n"
     ]
    },
    {
     "name": "stderr",
     "output_type": "stream",
     "text": [
      "[I 2024-12-23 12:26:28,161] Trial 73 finished with value: 0.633036032363976 and parameters: {'lambda': 0.3784972327896805, 'alpha': 0.8971454619145566, 'max_depth': 9, 'eta': 0.9208307371270114, 'gamma': 0.5067713548303642, 'grow_policy': 'depthwise'}. Best is trial 64 with value: 0.6434886380534542.\n"
     ]
    },
    {
     "name": "stdout",
     "output_type": "stream",
     "text": [
      "[0]\tvalidation-auc:0.90952\n",
      "[1]\tvalidation-auc:0.91013\n",
      "[2]\tvalidation-auc:0.91114\n",
      "[3]\tvalidation-auc:0.91567\n",
      "[4]\tvalidation-auc:0.91758\n",
      "[5]\tvalidation-auc:0.91903\n",
      "[6]\tvalidation-auc:0.91988\n",
      "[7]\tvalidation-auc:0.91980\n",
      "[8]\tvalidation-auc:0.92012\n",
      "[9]\tvalidation-auc:0.92046\n"
     ]
    },
    {
     "name": "stderr",
     "output_type": "stream",
     "text": [
      "[I 2024-12-23 12:26:28,484] Trial 74 finished with value: 0.6257532819181315 and parameters: {'lambda': 0.3010516762601187, 'alpha': 0.8081725036226344, 'max_depth': 8, 'eta': 0.8949814300765633, 'gamma': 0.3027791142813241, 'grow_policy': 'depthwise'}. Best is trial 64 with value: 0.6434886380534542.\n"
     ]
    },
    {
     "name": "stdout",
     "output_type": "stream",
     "text": [
      "[0]\tvalidation-auc:0.90939\n",
      "[1]\tvalidation-auc:0.90880\n",
      "[2]\tvalidation-auc:0.91096\n",
      "[3]\tvalidation-auc:0.91242\n",
      "[4]\tvalidation-auc:0.91543\n",
      "[5]\tvalidation-auc:0.91580\n",
      "[6]\tvalidation-auc:0.91710\n",
      "[7]\tvalidation-auc:0.91783\n",
      "[8]\tvalidation-auc:0.91805\n",
      "[9]\tvalidation-auc:0.91799\n"
     ]
    },
    {
     "name": "stderr",
     "output_type": "stream",
     "text": [
      "[I 2024-12-23 12:26:28,819] Trial 75 finished with value: 0.6165812421168171 and parameters: {'lambda': 0.20430823142523233, 'alpha': 0.965135092315133, 'max_depth': 8, 'eta': 0.9444944663569712, 'gamma': 0.33566059994571973, 'grow_policy': 'depthwise'}. Best is trial 64 with value: 0.6434886380534542.\n"
     ]
    },
    {
     "name": "stdout",
     "output_type": "stream",
     "text": [
      "[0]\tvalidation-auc:0.91092\n",
      "[1]\tvalidation-auc:0.91133\n",
      "[2]\tvalidation-auc:0.91324\n",
      "[3]\tvalidation-auc:0.91354\n",
      "[4]\tvalidation-auc:0.91306\n",
      "[5]\tvalidation-auc:0.91468\n",
      "[6]\tvalidation-auc:0.91560\n",
      "[7]\tvalidation-auc:0.91669\n",
      "[8]\tvalidation-auc:0.91679\n",
      "[9]\tvalidation-auc:0.91760\n"
     ]
    },
    {
     "name": "stderr",
     "output_type": "stream",
     "text": [
      "[I 2024-12-23 12:26:29,139] Trial 76 finished with value: 0.6311504873532083 and parameters: {'lambda': 0.15584770189406652, 'alpha': 0.5826747546965774, 'max_depth': 9, 'eta': 0.9708675026910611, 'gamma': 0.4124638004878214, 'grow_policy': 'depthwise'}. Best is trial 64 with value: 0.6434886380534542.\n"
     ]
    },
    {
     "name": "stdout",
     "output_type": "stream",
     "text": [
      "[0]\tvalidation-auc:0.91065\n",
      "[1]\tvalidation-auc:0.91384\n",
      "[2]\tvalidation-auc:0.91363\n",
      "[3]\tvalidation-auc:0.91501\n",
      "[4]\tvalidation-auc:0.91536\n",
      "[5]\tvalidation-auc:0.91717\n",
      "[6]\tvalidation-auc:0.91862\n",
      "[7]\tvalidation-auc:0.92189\n",
      "[8]\tvalidation-auc:0.92280\n",
      "[9]\tvalidation-auc:0.92314\n"
     ]
    },
    {
     "name": "stderr",
     "output_type": "stream",
     "text": [
      "[I 2024-12-23 12:26:29,454] Trial 77 finished with value: 0.6020740460212057 and parameters: {'lambda': 0.3286245232781979, 'alpha': 0.7192320493193424, 'max_depth': 9, 'eta': 0.4601247510636671, 'gamma': 0.1541414411303463, 'grow_policy': 'depthwise'}. Best is trial 64 with value: 0.6434886380534542.\n"
     ]
    },
    {
     "name": "stdout",
     "output_type": "stream",
     "text": [
      "[0]\tvalidation-auc:0.90953\n",
      "[1]\tvalidation-auc:0.91189\n",
      "[2]\tvalidation-auc:0.91397\n",
      "[3]\tvalidation-auc:0.91692\n",
      "[4]\tvalidation-auc:0.91717\n",
      "[5]\tvalidation-auc:0.92088\n",
      "[6]\tvalidation-auc:0.92277\n",
      "[7]\tvalidation-auc:0.92335\n",
      "[8]\tvalidation-auc:0.92403\n",
      "[9]\tvalidation-auc:0.92307\n"
     ]
    },
    {
     "name": "stderr",
     "output_type": "stream",
     "text": [
      "[I 2024-12-23 12:26:29,769] Trial 78 finished with value: 0.6317356749395288 and parameters: {'lambda': 0.2482853069242153, 'alpha': 0.8498032146297912, 'max_depth': 8, 'eta': 0.8668887433474418, 'gamma': 0.20901336977054633, 'grow_policy': 'depthwise'}. Best is trial 64 with value: 0.6434886380534542.\n"
     ]
    },
    {
     "name": "stdout",
     "output_type": "stream",
     "text": [
      "[0]\tvalidation-auc:0.91064\n",
      "[1]\tvalidation-auc:0.91318\n",
      "[2]\tvalidation-auc:0.91439\n",
      "[3]\tvalidation-auc:0.91581\n",
      "[4]\tvalidation-auc:0.91820\n",
      "[5]\tvalidation-auc:0.91932\n",
      "[6]\tvalidation-auc:0.92175\n",
      "[7]\tvalidation-auc:0.92120\n",
      "[8]\tvalidation-auc:0.92105\n",
      "[9]\tvalidation-auc:0.92164\n"
     ]
    },
    {
     "name": "stderr",
     "output_type": "stream",
     "text": [
      "[I 2024-12-23 12:26:30,103] Trial 79 finished with value: 0.6328627226949012 and parameters: {'lambda': 0.2833212711123376, 'alpha': 0.7721874357463142, 'max_depth': 9, 'eta': 0.7989853369345257, 'gamma': 0.24979770440123344, 'grow_policy': 'depthwise'}. Best is trial 64 with value: 0.6434886380534542.\n"
     ]
    },
    {
     "name": "stdout",
     "output_type": "stream",
     "text": [
      "[0]\tvalidation-auc:0.91050\n",
      "[1]\tvalidation-auc:0.91098\n",
      "[2]\tvalidation-auc:0.91175\n",
      "[3]\tvalidation-auc:0.91554\n",
      "[4]\tvalidation-auc:0.91658\n",
      "[5]\tvalidation-auc:0.91850\n",
      "[6]\tvalidation-auc:0.91951\n",
      "[7]\tvalidation-auc:0.92069\n",
      "[8]\tvalidation-auc:0.92008\n",
      "[9]\tvalidation-auc:0.92077\n"
     ]
    },
    {
     "name": "stderr",
     "output_type": "stream",
     "text": [
      "[I 2024-12-23 12:26:30,435] Trial 80 finished with value: 0.6356474453405909 and parameters: {'lambda': 0.20171156309716537, 'alpha': 0.9129289702762441, 'max_depth': 9, 'eta': 0.9197333735171381, 'gamma': 0.651018610500938, 'grow_policy': 'depthwise'}. Best is trial 64 with value: 0.6434886380534542.\n"
     ]
    },
    {
     "name": "stdout",
     "output_type": "stream",
     "text": [
      "[0]\tvalidation-auc:0.91050\n",
      "[1]\tvalidation-auc:0.91128\n",
      "[2]\tvalidation-auc:0.91216\n",
      "[3]\tvalidation-auc:0.91462\n",
      "[4]\tvalidation-auc:0.91582\n",
      "[5]\tvalidation-auc:0.91915\n",
      "[6]\tvalidation-auc:0.92034\n",
      "[7]\tvalidation-auc:0.92004\n",
      "[8]\tvalidation-auc:0.92105\n",
      "[9]\tvalidation-auc:0.92125\n"
     ]
    },
    {
     "name": "stderr",
     "output_type": "stream",
     "text": [
      "[I 2024-12-23 12:26:30,762] Trial 81 finished with value: 0.6370622727316493 and parameters: {'lambda': 0.1943215092089104, 'alpha': 0.9107670307736861, 'max_depth': 9, 'eta': 0.9205627047102461, 'gamma': 0.6594412665581247, 'grow_policy': 'depthwise'}. Best is trial 64 with value: 0.6434886380534542.\n"
     ]
    },
    {
     "name": "stdout",
     "output_type": "stream",
     "text": [
      "[0]\tvalidation-auc:0.91050\n",
      "[1]\tvalidation-auc:0.91162\n",
      "[2]\tvalidation-auc:0.91237\n",
      "[3]\tvalidation-auc:0.91380\n",
      "[4]\tvalidation-auc:0.91560\n",
      "[5]\tvalidation-auc:0.91784\n",
      "[6]\tvalidation-auc:0.91835\n",
      "[7]\tvalidation-auc:0.91868\n",
      "[8]\tvalidation-auc:0.91988\n",
      "[9]\tvalidation-auc:0.91998\n"
     ]
    },
    {
     "name": "stderr",
     "output_type": "stream",
     "text": [
      "[I 2024-12-23 12:26:31,083] Trial 82 finished with value: 0.6350387218732849 and parameters: {'lambda': 0.1739315415813641, 'alpha': 0.924472563535443, 'max_depth': 9, 'eta': 0.9187006692025702, 'gamma': 0.6575275332492905, 'grow_policy': 'depthwise'}. Best is trial 64 with value: 0.6434886380534542.\n"
     ]
    },
    {
     "name": "stdout",
     "output_type": "stream",
     "text": [
      "[0]\tvalidation-auc:0.91034\n",
      "[1]\tvalidation-auc:0.91184\n",
      "[2]\tvalidation-auc:0.91248\n",
      "[3]\tvalidation-auc:0.91634\n",
      "[4]\tvalidation-auc:0.91737\n",
      "[5]\tvalidation-auc:0.91806\n",
      "[6]\tvalidation-auc:0.91788\n",
      "[7]\tvalidation-auc:0.91787\n",
      "[8]\tvalidation-auc:0.91873\n",
      "[9]\tvalidation-auc:0.91786\n"
     ]
    },
    {
     "name": "stderr",
     "output_type": "stream",
     "text": [
      "[I 2024-12-23 12:26:31,417] Trial 83 finished with value: 0.6275548466262919 and parameters: {'lambda': 0.34767778094772467, 'alpha': 0.9991945966081515, 'max_depth': 9, 'eta': 0.8973510547421066, 'gamma': 0.6505947679190291, 'grow_policy': 'depthwise'}. Best is trial 64 with value: 0.6434886380534542.\n"
     ]
    },
    {
     "name": "stdout",
     "output_type": "stream",
     "text": [
      "[0]\tvalidation-auc:0.91054\n",
      "[1]\tvalidation-auc:0.91019\n",
      "[2]\tvalidation-auc:0.91207\n",
      "[3]\tvalidation-auc:0.91485\n",
      "[4]\tvalidation-auc:0.91495\n",
      "[5]\tvalidation-auc:0.91649\n",
      "[6]\tvalidation-auc:0.91856\n",
      "[7]\tvalidation-auc:0.91930\n",
      "[8]\tvalidation-auc:0.91912\n",
      "[9]\tvalidation-auc:0.91974\n"
     ]
    },
    {
     "name": "stderr",
     "output_type": "stream",
     "text": [
      "[I 2024-12-23 12:26:31,740] Trial 84 finished with value: 0.6386905277707349 and parameters: {'lambda': 0.14393397482731984, 'alpha': 0.8992396074707729, 'max_depth': 9, 'eta': 0.9354482453969031, 'gamma': 0.7006453691584182, 'grow_policy': 'depthwise'}. Best is trial 64 with value: 0.6434886380534542.\n"
     ]
    },
    {
     "name": "stdout",
     "output_type": "stream",
     "text": [
      "[0]\tvalidation-auc:0.91093\n",
      "[1]\tvalidation-auc:0.91162\n",
      "[2]\tvalidation-auc:0.91390\n",
      "[3]\tvalidation-auc:0.91615\n",
      "[4]\tvalidation-auc:0.92004\n",
      "[5]\tvalidation-auc:0.92019\n",
      "[6]\tvalidation-auc:0.91984\n",
      "[7]\tvalidation-auc:0.92056\n",
      "[8]\tvalidation-auc:0.92049\n",
      "[9]\tvalidation-auc:0.92077\n"
     ]
    },
    {
     "name": "stderr",
     "output_type": "stream",
     "text": [
      "[I 2024-12-23 12:26:32,061] Trial 85 finished with value: 0.6368279837345666 and parameters: {'lambda': 0.1536859200822872, 'alpha': 0.806854247727842, 'max_depth': 9, 'eta': 0.8547698849306145, 'gamma': 0.5250816886113611, 'grow_policy': 'depthwise'}. Best is trial 64 with value: 0.6434886380534542.\n"
     ]
    },
    {
     "name": "stdout",
     "output_type": "stream",
     "text": [
      "[0]\tvalidation-auc:0.91070\n",
      "[1]\tvalidation-auc:0.91214\n",
      "[2]\tvalidation-auc:0.91355\n",
      "[3]\tvalidation-auc:0.91505\n",
      "[4]\tvalidation-auc:0.91496\n",
      "[5]\tvalidation-auc:0.91542\n",
      "[6]\tvalidation-auc:0.91653\n",
      "[7]\tvalidation-auc:0.91882\n",
      "[8]\tvalidation-auc:0.91931\n",
      "[9]\tvalidation-auc:0.91971\n"
     ]
    },
    {
     "name": "stderr",
     "output_type": "stream",
     "text": [
      "[I 2024-12-23 12:26:32,396] Trial 86 finished with value: 0.635535114999524 and parameters: {'lambda': 0.07218407383389151, 'alpha': 0.799759338968641, 'max_depth': 9, 'eta': 0.8303089522962648, 'gamma': 0.5147897958209878, 'grow_policy': 'depthwise'}. Best is trial 64 with value: 0.6434886380534542.\n"
     ]
    },
    {
     "name": "stdout",
     "output_type": "stream",
     "text": [
      "[0]\tvalidation-auc:0.91037\n",
      "[1]\tvalidation-auc:0.91015\n",
      "[2]\tvalidation-auc:0.91330\n",
      "[3]\tvalidation-auc:0.91519\n",
      "[4]\tvalidation-auc:0.91594\n",
      "[5]\tvalidation-auc:0.91640\n",
      "[6]\tvalidation-auc:0.91644\n",
      "[7]\tvalidation-auc:0.91615\n",
      "[8]\tvalidation-auc:0.91733\n",
      "[9]\tvalidation-auc:0.91676\n"
     ]
    },
    {
     "name": "stderr",
     "output_type": "stream",
     "text": [
      "[I 2024-12-23 12:26:32,727] Trial 87 finished with value: 0.6330274738617995 and parameters: {'lambda': 0.039258376824751695, 'alpha': 0.9589072904676373, 'max_depth': 9, 'eta': 0.9370850483367394, 'gamma': 0.62433993716391, 'grow_policy': 'depthwise'}. Best is trial 64 with value: 0.6434886380534542.\n"
     ]
    },
    {
     "name": "stdout",
     "output_type": "stream",
     "text": [
      "[0]\tvalidation-auc:0.88906\n",
      "[1]\tvalidation-auc:0.89696\n",
      "[2]\tvalidation-auc:0.90291\n",
      "[3]\tvalidation-auc:0.90415\n",
      "[4]\tvalidation-auc:0.91008\n",
      "[5]\tvalidation-auc:0.91036\n",
      "[6]\tvalidation-auc:0.91042\n",
      "[7]\tvalidation-auc:0.91236\n",
      "[8]\tvalidation-auc:0.91323\n",
      "[9]\tvalidation-auc:0.91410\n"
     ]
    },
    {
     "name": "stderr",
     "output_type": "stream",
     "text": [
      "[I 2024-12-23 12:26:33,023] Trial 88 finished with value: 0.5667616660408262 and parameters: {'lambda': 0.14054902242101353, 'alpha': 0.8581432808371297, 'max_depth': 2, 'eta': 0.858382995277231, 'gamma': 0.7014396187436057, 'grow_policy': 'depthwise'}. Best is trial 64 with value: 0.6434886380534542.\n"
     ]
    },
    {
     "name": "stdout",
     "output_type": "stream",
     "text": [
      "[0]\tvalidation-auc:0.90946\n",
      "[1]\tvalidation-auc:0.90848\n",
      "[2]\tvalidation-auc:0.91033\n",
      "[3]\tvalidation-auc:0.91306\n",
      "[4]\tvalidation-auc:0.91450\n",
      "[5]\tvalidation-auc:0.91706\n",
      "[6]\tvalidation-auc:0.91643\n",
      "[7]\tvalidation-auc:0.91769\n",
      "[8]\tvalidation-auc:0.91881\n",
      "[9]\tvalidation-auc:0.91838\n"
     ]
    },
    {
     "name": "stderr",
     "output_type": "stream",
     "text": [
      "[I 2024-12-23 12:26:33,349] Trial 89 finished with value: 0.6247471230060028 and parameters: {'lambda': 0.16005729643139963, 'alpha': 0.8980608133646353, 'max_depth': 8, 'eta': 0.9683939948712874, 'gamma': 0.568162786915934, 'grow_policy': 'depthwise'}. Best is trial 64 with value: 0.6434886380534542.\n"
     ]
    },
    {
     "name": "stdout",
     "output_type": "stream",
     "text": [
      "[0]\tvalidation-auc:0.91045\n",
      "[1]\tvalidation-auc:0.91316\n",
      "[2]\tvalidation-auc:0.91389\n",
      "[3]\tvalidation-auc:0.91477\n",
      "[4]\tvalidation-auc:0.91580\n",
      "[5]\tvalidation-auc:0.91638\n",
      "[6]\tvalidation-auc:0.91804\n",
      "[7]\tvalidation-auc:0.91789\n",
      "[8]\tvalidation-auc:0.91827\n",
      "[9]\tvalidation-auc:0.91827\n"
     ]
    },
    {
     "name": "stderr",
     "output_type": "stream",
     "text": [
      "[I 2024-12-23 12:26:33,652] Trial 90 finished with value: 0.5746713267711018 and parameters: {'lambda': 0.8154464625822966, 'alpha': 0.7400957907834932, 'max_depth': 9, 'eta': 0.24663402876379054, 'gamma': 0.727576144420936, 'grow_policy': 'depthwise'}. Best is trial 64 with value: 0.6434886380534542.\n"
     ]
    },
    {
     "name": "stdout",
     "output_type": "stream",
     "text": [
      "[0]\tvalidation-auc:0.91044\n",
      "[1]\tvalidation-auc:0.91134\n",
      "[2]\tvalidation-auc:0.91208\n",
      "[3]\tvalidation-auc:0.91704\n",
      "[4]\tvalidation-auc:0.91776\n",
      "[5]\tvalidation-auc:0.91916\n",
      "[6]\tvalidation-auc:0.91986\n",
      "[7]\tvalidation-auc:0.92125\n",
      "[8]\tvalidation-auc:0.92121\n",
      "[9]\tvalidation-auc:0.92120\n"
     ]
    },
    {
     "name": "stderr",
     "output_type": "stream",
     "text": [
      "[I 2024-12-23 12:26:33,984] Trial 91 finished with value: 0.6335848463160462 and parameters: {'lambda': 0.23821740439946704, 'alpha': 0.8191543575662977, 'max_depth': 9, 'eta': 0.877203156211915, 'gamma': 0.5482272444101934, 'grow_policy': 'depthwise'}. Best is trial 64 with value: 0.6434886380534542.\n"
     ]
    },
    {
     "name": "stdout",
     "output_type": "stream",
     "text": [
      "[0]\tvalidation-auc:0.91046\n",
      "[1]\tvalidation-auc:0.90916\n",
      "[2]\tvalidation-auc:0.91114\n",
      "[3]\tvalidation-auc:0.91539\n",
      "[4]\tvalidation-auc:0.91767\n",
      "[5]\tvalidation-auc:0.91887\n",
      "[6]\tvalidation-auc:0.91964\n",
      "[7]\tvalidation-auc:0.92031\n",
      "[8]\tvalidation-auc:0.92003\n",
      "[9]\tvalidation-auc:0.91933\n"
     ]
    },
    {
     "name": "stderr",
     "output_type": "stream",
     "text": [
      "[I 2024-12-23 12:26:34,312] Trial 92 finished with value: 0.6415897203830357 and parameters: {'lambda': 0.1298938347091267, 'alpha': 0.946579211969547, 'max_depth': 9, 'eta': 0.9983957603789907, 'gamma': 0.4580465835454836, 'grow_policy': 'depthwise'}. Best is trial 64 with value: 0.6434886380534542.\n"
     ]
    },
    {
     "name": "stdout",
     "output_type": "stream",
     "text": [
      "[0]\tvalidation-auc:0.91046\n",
      "[1]\tvalidation-auc:0.90915\n",
      "[2]\tvalidation-auc:0.91113\n",
      "[3]\tvalidation-auc:0.91539\n",
      "[4]\tvalidation-auc:0.91764\n",
      "[5]\tvalidation-auc:0.91883\n",
      "[6]\tvalidation-auc:0.91916\n",
      "[7]\tvalidation-auc:0.91861\n",
      "[8]\tvalidation-auc:0.91936\n",
      "[9]\tvalidation-auc:0.91922\n"
     ]
    },
    {
     "name": "stderr",
     "output_type": "stream",
     "text": [
      "[I 2024-12-23 12:26:34,637] Trial 93 finished with value: 0.6450157957855797 and parameters: {'lambda': 0.12146056403875523, 'alpha': 0.9529423134935339, 'max_depth': 9, 'eta': 0.9992099738650444, 'gamma': 0.46926403115851456, 'grow_policy': 'depthwise'}. Best is trial 93 with value: 0.6450157957855797.\n"
     ]
    },
    {
     "name": "stdout",
     "output_type": "stream",
     "text": [
      "[0]\tvalidation-auc:0.90944\n",
      "[1]\tvalidation-auc:0.90809\n",
      "[2]\tvalidation-auc:0.91154\n",
      "[3]\tvalidation-auc:0.91425\n",
      "[4]\tvalidation-auc:0.91392\n",
      "[5]\tvalidation-auc:0.91884\n",
      "[6]\tvalidation-auc:0.91986\n",
      "[7]\tvalidation-auc:0.91859\n",
      "[8]\tvalidation-auc:0.91850\n",
      "[9]\tvalidation-auc:0.92013\n"
     ]
    },
    {
     "name": "stderr",
     "output_type": "stream",
     "text": [
      "[I 2024-12-23 12:26:34,951] Trial 94 finished with value: 0.6388344175885778 and parameters: {'lambda': 0.11818709754428729, 'alpha': 0.9620096632341434, 'max_depth': 8, 'eta': 0.9795555045112107, 'gamma': 0.4762695421208411, 'grow_policy': 'depthwise'}. Best is trial 93 with value: 0.6450157957855797.\n"
     ]
    },
    {
     "name": "stdout",
     "output_type": "stream",
     "text": [
      "[0]\tvalidation-auc:0.90932\n",
      "[1]\tvalidation-auc:0.90893\n",
      "[2]\tvalidation-auc:0.91183\n",
      "[3]\tvalidation-auc:0.91297\n",
      "[4]\tvalidation-auc:0.91346\n",
      "[5]\tvalidation-auc:0.91459\n",
      "[6]\tvalidation-auc:0.91785\n",
      "[7]\tvalidation-auc:0.91882\n",
      "[8]\tvalidation-auc:0.91888\n",
      "[9]\tvalidation-auc:0.92126\n"
     ]
    },
    {
     "name": "stderr",
     "output_type": "stream",
     "text": [
      "[I 2024-12-23 12:26:35,286] Trial 95 finished with value: 0.6299843914316555 and parameters: {'lambda': 0.11978286417078474, 'alpha': 0.9523352071458411, 'max_depth': 8, 'eta': 0.994398261046187, 'gamma': 0.47196130278042964, 'grow_policy': 'depthwise'}. Best is trial 93 with value: 0.6450157957855797.\n"
     ]
    },
    {
     "name": "stdout",
     "output_type": "stream",
     "text": [
      "[0]\tvalidation-auc:0.90931\n",
      "[1]\tvalidation-auc:0.91179\n",
      "[2]\tvalidation-auc:0.91358\n",
      "[3]\tvalidation-auc:0.91556\n",
      "[4]\tvalidation-auc:0.91578\n",
      "[5]\tvalidation-auc:0.91618\n",
      "[6]\tvalidation-auc:0.91896\n",
      "[7]\tvalidation-auc:0.92013\n",
      "[8]\tvalidation-auc:0.92068\n",
      "[9]\tvalidation-auc:0.92009\n"
     ]
    },
    {
     "name": "stderr",
     "output_type": "stream",
     "text": [
      "[I 2024-12-23 12:26:35,612] Trial 96 finished with value: 0.6213269315737052 and parameters: {'lambda': 0.09122884560067367, 'alpha': 0.9722050114030342, 'max_depth': 8, 'eta': 0.9565772164612578, 'gamma': 0.4798991750548127, 'grow_policy': 'depthwise'}. Best is trial 93 with value: 0.6450157957855797.\n"
     ]
    },
    {
     "name": "stdout",
     "output_type": "stream",
     "text": [
      "[0]\tvalidation-auc:0.90932\n",
      "[1]\tvalidation-auc:0.90979\n",
      "[2]\tvalidation-auc:0.91258\n",
      "[3]\tvalidation-auc:0.91388\n",
      "[4]\tvalidation-auc:0.91512\n",
      "[5]\tvalidation-auc:0.91395\n",
      "[6]\tvalidation-auc:0.91567\n",
      "[7]\tvalidation-auc:0.91727\n",
      "[8]\tvalidation-auc:0.91696\n",
      "[9]\tvalidation-auc:0.91812\n"
     ]
    },
    {
     "name": "stderr",
     "output_type": "stream",
     "text": [
      "[I 2024-12-23 12:26:35,949] Trial 97 finished with value: 0.6225320756614385 and parameters: {'lambda': 0.052637891170896386, 'alpha': 0.946182766881885, 'max_depth': 8, 'eta': 0.97922098045727, 'gamma': 0.4408448450324628, 'grow_policy': 'depthwise'}. Best is trial 93 with value: 0.6450157957855797.\n"
     ]
    },
    {
     "name": "stdout",
     "output_type": "stream",
     "text": [
      "[0]\tvalidation-auc:0.91037\n",
      "[1]\tvalidation-auc:0.91013\n",
      "[2]\tvalidation-auc:0.91130\n",
      "[3]\tvalidation-auc:0.91375\n",
      "[4]\tvalidation-auc:0.91591\n",
      "[5]\tvalidation-auc:0.91480\n",
      "[6]\tvalidation-auc:0.91554\n",
      "[7]\tvalidation-auc:0.91675\n",
      "[8]\tvalidation-auc:0.91897\n",
      "[9]\tvalidation-auc:0.91868\n"
     ]
    },
    {
     "name": "stderr",
     "output_type": "stream",
     "text": [
      "[I 2024-12-23 12:26:36,280] Trial 98 finished with value: 0.628581866887476 and parameters: {'lambda': 0.027657141077182604, 'alpha': 0.9897355701478026, 'max_depth': 9, 'eta': 0.9446589150731359, 'gamma': 0.3679979745222718, 'grow_policy': 'depthwise'}. Best is trial 93 with value: 0.6450157957855797.\n"
     ]
    },
    {
     "name": "stdout",
     "output_type": "stream",
     "text": [
      "[0]\tvalidation-auc:0.91038\n",
      "[1]\tvalidation-auc:0.90790\n",
      "[2]\tvalidation-auc:0.91162\n",
      "[3]\tvalidation-auc:0.91494\n",
      "[4]\tvalidation-auc:0.91673\n",
      "[5]\tvalidation-auc:0.91692\n",
      "[6]\tvalidation-auc:0.91905\n",
      "[7]\tvalidation-auc:0.91779\n",
      "[8]\tvalidation-auc:0.91763\n",
      "[9]\tvalidation-auc:0.91864\n"
     ]
    },
    {
     "name": "stderr",
     "output_type": "stream",
     "text": [
      "[I 2024-12-23 12:26:36,598] Trial 99 finished with value: 0.6314906878147256 and parameters: {'lambda': 0.12345795296566042, 'alpha': 0.8910456328154819, 'max_depth': 9, 'eta': 0.9967335065802603, 'gamma': 0.5896633677373289, 'grow_policy': 'depthwise'}. Best is trial 93 with value: 0.6450157957855797.\n"
     ]
    },
    {
     "name": "stdout",
     "output_type": "stream",
     "text": [
      "Best trial:\n",
      "AUC: 0.6450157957855797\n",
      "Best parameters:  {'lambda': 0.12146056403875523, 'alpha': 0.9529423134935339, 'max_depth': 9, 'eta': 0.9992099738650444, 'gamma': 0.46926403115851456, 'grow_policy': 'depthwise'}\n"
     ]
    }
   ],
   "source": [
    "# Step 10: Create the Optuna study to optimize the objective function\n",
    "study = opt.create_study(direction=\"maximize\")  # Maximize AUC\n",
    "\n",
    "# Step 11: Start the optimization process with a specified number of trials\n",
    "study.optimize(objective, n_trials=100)\n",
    "\n",
    "# Step 12: Print the best trial's parameters\n",
    "print(\"Best trial:\")\n",
    "print(f\"AUC: {study.best_trial.value}\")\n",
    "print(\"Best parameters: \", study.best_trial.params)"
   ]
  },
  {
   "cell_type": "code",
   "execution_count": 39,
   "metadata": {},
   "outputs": [
    {
     "data": {
      "application/vnd.plotly.v1+json": {
       "config": {
        "plotlyServerURL": "https://plot.ly"
       },
       "data": [
        {
         "mode": "markers",
         "name": "Objective Value",
         "type": "scatter",
         "x": [
          0,
          1,
          2,
          3,
          4,
          5,
          6,
          7,
          8,
          9,
          10,
          11,
          12,
          13,
          14,
          15,
          16,
          17,
          18,
          19,
          20,
          21,
          22,
          23,
          24,
          25,
          26,
          27,
          28,
          29,
          30,
          31,
          32,
          33,
          34,
          35,
          36,
          37,
          38,
          39,
          40,
          41,
          42,
          43,
          44,
          45,
          46,
          47,
          48,
          49,
          50,
          51,
          52,
          53,
          54,
          55,
          56,
          57,
          58,
          59,
          60,
          61,
          62,
          63,
          64,
          65,
          66,
          67,
          68,
          69,
          70,
          71,
          72,
          73,
          74,
          75,
          76,
          77,
          78,
          79,
          80,
          81,
          82,
          83,
          84,
          85,
          86,
          87,
          88,
          89,
          90,
          91,
          92,
          93,
          94,
          95,
          96,
          97,
          98,
          99
         ],
         "y": [
          0.5805173186640605,
          0.5673666451634299,
          0.6143661947722528,
          0.5775961948899324,
          0.5859717590824429,
          0.5935460335086757,
          0.5801295115341863,
          0.567014141855034,
          0.5573676400893081,
          0.5667006867128185,
          0.5925922954223781,
          0.6269338203121072,
          0.6161725736378876,
          0.592958171390425,
          0.6301892605775062,
          0.6120024434523714,
          0.6246738408311162,
          0.592222675109629,
          0.5,
          0.5861193932449883,
          0.6309210125135999,
          0.6364621077665198,
          0.6254312682737394,
          0.6374928723724061,
          0.6333104393400111,
          0.6308418463684671,
          0.6207390694554547,
          0.5967453086035412,
          0.6199720136978828,
          0.6192290287276824,
          0.5683070105900766,
          0.6310285286971927,
          0.6341497074596976,
          0.6200597383451922,
          0.636224609331121,
          0.6306856537037453,
          0.6373404240523866,
          0.6339239769647914,
          0.5841300763953301,
          0.6072749408126084,
          0.5330459816227562,
          0.6390430310791307,
          0.6268803296735038,
          0.6222806696600027,
          0.6212745107478741,
          0.6222758555025285,
          0.6220624278545012,
          0.6333874658595999,
          0.6326043629104471,
          0.5740700919932002,
          0.5721027063053694,
          0.6402224996603344,
          0.6340839139742154,
          0.6300549990746119,
          0.588487958722344,
          0.6227989939480691,
          0.6327835565497683,
          0.6235419789182696,
          0.6377063000204335,
          0.6267546266727861,
          0.6132867536852376,
          0.6332483901992313,
          0.6430216647784471,
          0.622493027495258,
          0.6313992188227139,
          0.6353083146918459,
          0.6262972817127276,
          0.5900723514377748,
          0.5869073103516154,
          0.6336591983037049,
          0.5635490182863097,
          0.6278158809426763,
          0.6323481427515371,
          0.6314591283379496,
          0.6197072350367961,
          0.6352205900445363,
          0.5900809099399515,
          0.6140736009790927,
          0.6267498125153117,
          0.5749885262580195,
          0.6214927525533757,
          0.6336533143334585,
          0.6356913076642458,
          0.6327616253879409,
          0.6366659070995986,
          0.6284123015631033,
          0.6373709137163905,
          0.6231771727629947,
          0.6184619729701105,
          0.5716892236689657,
          0.5841215178931536,
          0.6354169006882104,
          0.6425423886565612,
          0.627124246985535,
          0.6247337503463519,
          0.625200723621359,
          0.6321347151035097,
          0.6272376471393741,
          0.623372413593897,
          0.6376758103564295
         ]
        },
        {
         "mode": "lines",
         "name": "Best Value",
         "type": "scatter",
         "x": [
          0,
          1,
          2,
          3,
          4,
          5,
          6,
          7,
          8,
          9,
          10,
          11,
          12,
          13,
          14,
          15,
          16,
          17,
          18,
          19,
          20,
          21,
          22,
          23,
          24,
          25,
          26,
          27,
          28,
          29,
          30,
          31,
          32,
          33,
          34,
          35,
          36,
          37,
          38,
          39,
          40,
          41,
          42,
          43,
          44,
          45,
          46,
          47,
          48,
          49,
          50,
          51,
          52,
          53,
          54,
          55,
          56,
          57,
          58,
          59,
          60,
          61,
          62,
          63,
          64,
          65,
          66,
          67,
          68,
          69,
          70,
          71,
          72,
          73,
          74,
          75,
          76,
          77,
          78,
          79,
          80,
          81,
          82,
          83,
          84,
          85,
          86,
          87,
          88,
          89,
          90,
          91,
          92,
          93,
          94,
          95,
          96,
          97,
          98,
          99
         ],
         "y": [
          0.5805173186640605,
          0.5805173186640605,
          0.6143661947722528,
          0.6143661947722528,
          0.6143661947722528,
          0.6143661947722528,
          0.6143661947722528,
          0.6143661947722528,
          0.6143661947722528,
          0.6143661947722528,
          0.6143661947722528,
          0.6269338203121072,
          0.6269338203121072,
          0.6269338203121072,
          0.6301892605775062,
          0.6301892605775062,
          0.6301892605775062,
          0.6301892605775062,
          0.6301892605775062,
          0.6301892605775062,
          0.6309210125135999,
          0.6364621077665198,
          0.6364621077665198,
          0.6374928723724061,
          0.6374928723724061,
          0.6374928723724061,
          0.6374928723724061,
          0.6374928723724061,
          0.6374928723724061,
          0.6374928723724061,
          0.6374928723724061,
          0.6374928723724061,
          0.6374928723724061,
          0.6374928723724061,
          0.6374928723724061,
          0.6374928723724061,
          0.6374928723724061,
          0.6374928723724061,
          0.6374928723724061,
          0.6374928723724061,
          0.6374928723724061,
          0.6390430310791307,
          0.6390430310791307,
          0.6390430310791307,
          0.6390430310791307,
          0.6390430310791307,
          0.6390430310791307,
          0.6390430310791307,
          0.6390430310791307,
          0.6390430310791307,
          0.6390430310791307,
          0.6402224996603344,
          0.6402224996603344,
          0.6402224996603344,
          0.6402224996603344,
          0.6402224996603344,
          0.6402224996603344,
          0.6402224996603344,
          0.6402224996603344,
          0.6402224996603344,
          0.6402224996603344,
          0.6402224996603344,
          0.6430216647784471,
          0.6430216647784471,
          0.6430216647784471,
          0.6430216647784471,
          0.6430216647784471,
          0.6430216647784471,
          0.6430216647784471,
          0.6430216647784471,
          0.6430216647784471,
          0.6430216647784471,
          0.6430216647784471,
          0.6430216647784471,
          0.6430216647784471,
          0.6430216647784471,
          0.6430216647784471,
          0.6430216647784471,
          0.6430216647784471,
          0.6430216647784471,
          0.6430216647784471,
          0.6430216647784471,
          0.6430216647784471,
          0.6430216647784471,
          0.6430216647784471,
          0.6430216647784471,
          0.6430216647784471,
          0.6430216647784471,
          0.6430216647784471,
          0.6430216647784471,
          0.6430216647784471,
          0.6430216647784471,
          0.6430216647784471,
          0.6430216647784471,
          0.6430216647784471,
          0.6430216647784471,
          0.6430216647784471,
          0.6430216647784471,
          0.6430216647784471,
          0.6430216647784471
         ]
        },
        {
         "marker": {
          "color": "#cccccc"
         },
         "mode": "markers",
         "name": "Infeasible Trial",
         "showlegend": false,
         "type": "scatter",
         "x": [],
         "y": []
        }
       ],
       "layout": {
        "template": {
         "data": {
          "bar": [
           {
            "error_x": {
             "color": "#2a3f5f"
            },
            "error_y": {
             "color": "#2a3f5f"
            },
            "marker": {
             "line": {
              "color": "#E5ECF6",
              "width": 0.5
             },
             "pattern": {
              "fillmode": "overlay",
              "size": 10,
              "solidity": 0.2
             }
            },
            "type": "bar"
           }
          ],
          "barpolar": [
           {
            "marker": {
             "line": {
              "color": "#E5ECF6",
              "width": 0.5
             },
             "pattern": {
              "fillmode": "overlay",
              "size": 10,
              "solidity": 0.2
             }
            },
            "type": "barpolar"
           }
          ],
          "carpet": [
           {
            "aaxis": {
             "endlinecolor": "#2a3f5f",
             "gridcolor": "white",
             "linecolor": "white",
             "minorgridcolor": "white",
             "startlinecolor": "#2a3f5f"
            },
            "baxis": {
             "endlinecolor": "#2a3f5f",
             "gridcolor": "white",
             "linecolor": "white",
             "minorgridcolor": "white",
             "startlinecolor": "#2a3f5f"
            },
            "type": "carpet"
           }
          ],
          "choropleth": [
           {
            "colorbar": {
             "outlinewidth": 0,
             "ticks": ""
            },
            "type": "choropleth"
           }
          ],
          "contour": [
           {
            "colorbar": {
             "outlinewidth": 0,
             "ticks": ""
            },
            "colorscale": [
             [
              0,
              "#0d0887"
             ],
             [
              0.1111111111111111,
              "#46039f"
             ],
             [
              0.2222222222222222,
              "#7201a8"
             ],
             [
              0.3333333333333333,
              "#9c179e"
             ],
             [
              0.4444444444444444,
              "#bd3786"
             ],
             [
              0.5555555555555556,
              "#d8576b"
             ],
             [
              0.6666666666666666,
              "#ed7953"
             ],
             [
              0.7777777777777778,
              "#fb9f3a"
             ],
             [
              0.8888888888888888,
              "#fdca26"
             ],
             [
              1,
              "#f0f921"
             ]
            ],
            "type": "contour"
           }
          ],
          "contourcarpet": [
           {
            "colorbar": {
             "outlinewidth": 0,
             "ticks": ""
            },
            "type": "contourcarpet"
           }
          ],
          "heatmap": [
           {
            "colorbar": {
             "outlinewidth": 0,
             "ticks": ""
            },
            "colorscale": [
             [
              0,
              "#0d0887"
             ],
             [
              0.1111111111111111,
              "#46039f"
             ],
             [
              0.2222222222222222,
              "#7201a8"
             ],
             [
              0.3333333333333333,
              "#9c179e"
             ],
             [
              0.4444444444444444,
              "#bd3786"
             ],
             [
              0.5555555555555556,
              "#d8576b"
             ],
             [
              0.6666666666666666,
              "#ed7953"
             ],
             [
              0.7777777777777778,
              "#fb9f3a"
             ],
             [
              0.8888888888888888,
              "#fdca26"
             ],
             [
              1,
              "#f0f921"
             ]
            ],
            "type": "heatmap"
           }
          ],
          "heatmapgl": [
           {
            "colorbar": {
             "outlinewidth": 0,
             "ticks": ""
            },
            "colorscale": [
             [
              0,
              "#0d0887"
             ],
             [
              0.1111111111111111,
              "#46039f"
             ],
             [
              0.2222222222222222,
              "#7201a8"
             ],
             [
              0.3333333333333333,
              "#9c179e"
             ],
             [
              0.4444444444444444,
              "#bd3786"
             ],
             [
              0.5555555555555556,
              "#d8576b"
             ],
             [
              0.6666666666666666,
              "#ed7953"
             ],
             [
              0.7777777777777778,
              "#fb9f3a"
             ],
             [
              0.8888888888888888,
              "#fdca26"
             ],
             [
              1,
              "#f0f921"
             ]
            ],
            "type": "heatmapgl"
           }
          ],
          "histogram": [
           {
            "marker": {
             "pattern": {
              "fillmode": "overlay",
              "size": 10,
              "solidity": 0.2
             }
            },
            "type": "histogram"
           }
          ],
          "histogram2d": [
           {
            "colorbar": {
             "outlinewidth": 0,
             "ticks": ""
            },
            "colorscale": [
             [
              0,
              "#0d0887"
             ],
             [
              0.1111111111111111,
              "#46039f"
             ],
             [
              0.2222222222222222,
              "#7201a8"
             ],
             [
              0.3333333333333333,
              "#9c179e"
             ],
             [
              0.4444444444444444,
              "#bd3786"
             ],
             [
              0.5555555555555556,
              "#d8576b"
             ],
             [
              0.6666666666666666,
              "#ed7953"
             ],
             [
              0.7777777777777778,
              "#fb9f3a"
             ],
             [
              0.8888888888888888,
              "#fdca26"
             ],
             [
              1,
              "#f0f921"
             ]
            ],
            "type": "histogram2d"
           }
          ],
          "histogram2dcontour": [
           {
            "colorbar": {
             "outlinewidth": 0,
             "ticks": ""
            },
            "colorscale": [
             [
              0,
              "#0d0887"
             ],
             [
              0.1111111111111111,
              "#46039f"
             ],
             [
              0.2222222222222222,
              "#7201a8"
             ],
             [
              0.3333333333333333,
              "#9c179e"
             ],
             [
              0.4444444444444444,
              "#bd3786"
             ],
             [
              0.5555555555555556,
              "#d8576b"
             ],
             [
              0.6666666666666666,
              "#ed7953"
             ],
             [
              0.7777777777777778,
              "#fb9f3a"
             ],
             [
              0.8888888888888888,
              "#fdca26"
             ],
             [
              1,
              "#f0f921"
             ]
            ],
            "type": "histogram2dcontour"
           }
          ],
          "mesh3d": [
           {
            "colorbar": {
             "outlinewidth": 0,
             "ticks": ""
            },
            "type": "mesh3d"
           }
          ],
          "parcoords": [
           {
            "line": {
             "colorbar": {
              "outlinewidth": 0,
              "ticks": ""
             }
            },
            "type": "parcoords"
           }
          ],
          "pie": [
           {
            "automargin": true,
            "type": "pie"
           }
          ],
          "scatter": [
           {
            "fillpattern": {
             "fillmode": "overlay",
             "size": 10,
             "solidity": 0.2
            },
            "type": "scatter"
           }
          ],
          "scatter3d": [
           {
            "line": {
             "colorbar": {
              "outlinewidth": 0,
              "ticks": ""
             }
            },
            "marker": {
             "colorbar": {
              "outlinewidth": 0,
              "ticks": ""
             }
            },
            "type": "scatter3d"
           }
          ],
          "scattercarpet": [
           {
            "marker": {
             "colorbar": {
              "outlinewidth": 0,
              "ticks": ""
             }
            },
            "type": "scattercarpet"
           }
          ],
          "scattergeo": [
           {
            "marker": {
             "colorbar": {
              "outlinewidth": 0,
              "ticks": ""
             }
            },
            "type": "scattergeo"
           }
          ],
          "scattergl": [
           {
            "marker": {
             "colorbar": {
              "outlinewidth": 0,
              "ticks": ""
             }
            },
            "type": "scattergl"
           }
          ],
          "scattermapbox": [
           {
            "marker": {
             "colorbar": {
              "outlinewidth": 0,
              "ticks": ""
             }
            },
            "type": "scattermapbox"
           }
          ],
          "scatterpolar": [
           {
            "marker": {
             "colorbar": {
              "outlinewidth": 0,
              "ticks": ""
             }
            },
            "type": "scatterpolar"
           }
          ],
          "scatterpolargl": [
           {
            "marker": {
             "colorbar": {
              "outlinewidth": 0,
              "ticks": ""
             }
            },
            "type": "scatterpolargl"
           }
          ],
          "scatterternary": [
           {
            "marker": {
             "colorbar": {
              "outlinewidth": 0,
              "ticks": ""
             }
            },
            "type": "scatterternary"
           }
          ],
          "surface": [
           {
            "colorbar": {
             "outlinewidth": 0,
             "ticks": ""
            },
            "colorscale": [
             [
              0,
              "#0d0887"
             ],
             [
              0.1111111111111111,
              "#46039f"
             ],
             [
              0.2222222222222222,
              "#7201a8"
             ],
             [
              0.3333333333333333,
              "#9c179e"
             ],
             [
              0.4444444444444444,
              "#bd3786"
             ],
             [
              0.5555555555555556,
              "#d8576b"
             ],
             [
              0.6666666666666666,
              "#ed7953"
             ],
             [
              0.7777777777777778,
              "#fb9f3a"
             ],
             [
              0.8888888888888888,
              "#fdca26"
             ],
             [
              1,
              "#f0f921"
             ]
            ],
            "type": "surface"
           }
          ],
          "table": [
           {
            "cells": {
             "fill": {
              "color": "#EBF0F8"
             },
             "line": {
              "color": "white"
             }
            },
            "header": {
             "fill": {
              "color": "#C8D4E3"
             },
             "line": {
              "color": "white"
             }
            },
            "type": "table"
           }
          ]
         },
         "layout": {
          "annotationdefaults": {
           "arrowcolor": "#2a3f5f",
           "arrowhead": 0,
           "arrowwidth": 1
          },
          "autotypenumbers": "strict",
          "coloraxis": {
           "colorbar": {
            "outlinewidth": 0,
            "ticks": ""
           }
          },
          "colorscale": {
           "diverging": [
            [
             0,
             "#8e0152"
            ],
            [
             0.1,
             "#c51b7d"
            ],
            [
             0.2,
             "#de77ae"
            ],
            [
             0.3,
             "#f1b6da"
            ],
            [
             0.4,
             "#fde0ef"
            ],
            [
             0.5,
             "#f7f7f7"
            ],
            [
             0.6,
             "#e6f5d0"
            ],
            [
             0.7,
             "#b8e186"
            ],
            [
             0.8,
             "#7fbc41"
            ],
            [
             0.9,
             "#4d9221"
            ],
            [
             1,
             "#276419"
            ]
           ],
           "sequential": [
            [
             0,
             "#0d0887"
            ],
            [
             0.1111111111111111,
             "#46039f"
            ],
            [
             0.2222222222222222,
             "#7201a8"
            ],
            [
             0.3333333333333333,
             "#9c179e"
            ],
            [
             0.4444444444444444,
             "#bd3786"
            ],
            [
             0.5555555555555556,
             "#d8576b"
            ],
            [
             0.6666666666666666,
             "#ed7953"
            ],
            [
             0.7777777777777778,
             "#fb9f3a"
            ],
            [
             0.8888888888888888,
             "#fdca26"
            ],
            [
             1,
             "#f0f921"
            ]
           ],
           "sequentialminus": [
            [
             0,
             "#0d0887"
            ],
            [
             0.1111111111111111,
             "#46039f"
            ],
            [
             0.2222222222222222,
             "#7201a8"
            ],
            [
             0.3333333333333333,
             "#9c179e"
            ],
            [
             0.4444444444444444,
             "#bd3786"
            ],
            [
             0.5555555555555556,
             "#d8576b"
            ],
            [
             0.6666666666666666,
             "#ed7953"
            ],
            [
             0.7777777777777778,
             "#fb9f3a"
            ],
            [
             0.8888888888888888,
             "#fdca26"
            ],
            [
             1,
             "#f0f921"
            ]
           ]
          },
          "colorway": [
           "#636efa",
           "#EF553B",
           "#00cc96",
           "#ab63fa",
           "#FFA15A",
           "#19d3f3",
           "#FF6692",
           "#B6E880",
           "#FF97FF",
           "#FECB52"
          ],
          "font": {
           "color": "#2a3f5f"
          },
          "geo": {
           "bgcolor": "white",
           "lakecolor": "white",
           "landcolor": "#E5ECF6",
           "showlakes": true,
           "showland": true,
           "subunitcolor": "white"
          },
          "hoverlabel": {
           "align": "left"
          },
          "hovermode": "closest",
          "mapbox": {
           "style": "light"
          },
          "paper_bgcolor": "white",
          "plot_bgcolor": "#E5ECF6",
          "polar": {
           "angularaxis": {
            "gridcolor": "white",
            "linecolor": "white",
            "ticks": ""
           },
           "bgcolor": "#E5ECF6",
           "radialaxis": {
            "gridcolor": "white",
            "linecolor": "white",
            "ticks": ""
           }
          },
          "scene": {
           "xaxis": {
            "backgroundcolor": "#E5ECF6",
            "gridcolor": "white",
            "gridwidth": 2,
            "linecolor": "white",
            "showbackground": true,
            "ticks": "",
            "zerolinecolor": "white"
           },
           "yaxis": {
            "backgroundcolor": "#E5ECF6",
            "gridcolor": "white",
            "gridwidth": 2,
            "linecolor": "white",
            "showbackground": true,
            "ticks": "",
            "zerolinecolor": "white"
           },
           "zaxis": {
            "backgroundcolor": "#E5ECF6",
            "gridcolor": "white",
            "gridwidth": 2,
            "linecolor": "white",
            "showbackground": true,
            "ticks": "",
            "zerolinecolor": "white"
           }
          },
          "shapedefaults": {
           "line": {
            "color": "#2a3f5f"
           }
          },
          "ternary": {
           "aaxis": {
            "gridcolor": "white",
            "linecolor": "white",
            "ticks": ""
           },
           "baxis": {
            "gridcolor": "white",
            "linecolor": "white",
            "ticks": ""
           },
           "bgcolor": "#E5ECF6",
           "caxis": {
            "gridcolor": "white",
            "linecolor": "white",
            "ticks": ""
           }
          },
          "title": {
           "x": 0.05
          },
          "xaxis": {
           "automargin": true,
           "gridcolor": "white",
           "linecolor": "white",
           "ticks": "",
           "title": {
            "standoff": 15
           },
           "zerolinecolor": "white",
           "zerolinewidth": 2
          },
          "yaxis": {
           "automargin": true,
           "gridcolor": "white",
           "linecolor": "white",
           "ticks": "",
           "title": {
            "standoff": 15
           },
           "zerolinecolor": "white",
           "zerolinewidth": 2
          }
         }
        },
        "title": {
         "text": "Optimization History Plot"
        },
        "xaxis": {
         "title": {
          "text": "Trial"
         }
        },
        "yaxis": {
         "title": {
          "text": "Objective Value"
         }
        }
       }
      }
     },
     "metadata": {},
     "output_type": "display_data"
    }
   ],
   "source": [
    "vis.plot_optimization_history(study)"
   ]
  },
  {
   "cell_type": "code",
   "execution_count": 40,
   "metadata": {},
   "outputs": [
    {
     "data": {
      "application/vnd.plotly.v1+json": {
       "config": {
        "plotlyServerURL": "https://plot.ly"
       },
       "data": [
        {
         "cliponaxis": false,
         "hovertemplate": [
          "grow_policy (CategoricalDistribution): 0.0045122989111477186<extra></extra>",
          "lambda (FloatDistribution): 0.009394086177433977<extra></extra>",
          "alpha (FloatDistribution): 0.010839841488056522<extra></extra>",
          "gamma (FloatDistribution): 0.1539745602947732<extra></extra>",
          "max_depth (IntDistribution): 0.23298660249761324<extra></extra>",
          "eta (FloatDistribution): 0.5882926106309754<extra></extra>"
         ],
         "name": "Objective Value",
         "orientation": "h",
         "text": [
          "<0.01",
          "<0.01",
          "0.01",
          "0.15",
          "0.23",
          "0.59"
         ],
         "textposition": "outside",
         "type": "bar",
         "x": [
          0.0045122989111477186,
          0.009394086177433977,
          0.010839841488056522,
          0.1539745602947732,
          0.23298660249761324,
          0.5882926106309754
         ],
         "y": [
          "grow_policy",
          "lambda",
          "alpha",
          "gamma",
          "max_depth",
          "eta"
         ]
        }
       ],
       "layout": {
        "template": {
         "data": {
          "bar": [
           {
            "error_x": {
             "color": "#2a3f5f"
            },
            "error_y": {
             "color": "#2a3f5f"
            },
            "marker": {
             "line": {
              "color": "#E5ECF6",
              "width": 0.5
             },
             "pattern": {
              "fillmode": "overlay",
              "size": 10,
              "solidity": 0.2
             }
            },
            "type": "bar"
           }
          ],
          "barpolar": [
           {
            "marker": {
             "line": {
              "color": "#E5ECF6",
              "width": 0.5
             },
             "pattern": {
              "fillmode": "overlay",
              "size": 10,
              "solidity": 0.2
             }
            },
            "type": "barpolar"
           }
          ],
          "carpet": [
           {
            "aaxis": {
             "endlinecolor": "#2a3f5f",
             "gridcolor": "white",
             "linecolor": "white",
             "minorgridcolor": "white",
             "startlinecolor": "#2a3f5f"
            },
            "baxis": {
             "endlinecolor": "#2a3f5f",
             "gridcolor": "white",
             "linecolor": "white",
             "minorgridcolor": "white",
             "startlinecolor": "#2a3f5f"
            },
            "type": "carpet"
           }
          ],
          "choropleth": [
           {
            "colorbar": {
             "outlinewidth": 0,
             "ticks": ""
            },
            "type": "choropleth"
           }
          ],
          "contour": [
           {
            "colorbar": {
             "outlinewidth": 0,
             "ticks": ""
            },
            "colorscale": [
             [
              0,
              "#0d0887"
             ],
             [
              0.1111111111111111,
              "#46039f"
             ],
             [
              0.2222222222222222,
              "#7201a8"
             ],
             [
              0.3333333333333333,
              "#9c179e"
             ],
             [
              0.4444444444444444,
              "#bd3786"
             ],
             [
              0.5555555555555556,
              "#d8576b"
             ],
             [
              0.6666666666666666,
              "#ed7953"
             ],
             [
              0.7777777777777778,
              "#fb9f3a"
             ],
             [
              0.8888888888888888,
              "#fdca26"
             ],
             [
              1,
              "#f0f921"
             ]
            ],
            "type": "contour"
           }
          ],
          "contourcarpet": [
           {
            "colorbar": {
             "outlinewidth": 0,
             "ticks": ""
            },
            "type": "contourcarpet"
           }
          ],
          "heatmap": [
           {
            "colorbar": {
             "outlinewidth": 0,
             "ticks": ""
            },
            "colorscale": [
             [
              0,
              "#0d0887"
             ],
             [
              0.1111111111111111,
              "#46039f"
             ],
             [
              0.2222222222222222,
              "#7201a8"
             ],
             [
              0.3333333333333333,
              "#9c179e"
             ],
             [
              0.4444444444444444,
              "#bd3786"
             ],
             [
              0.5555555555555556,
              "#d8576b"
             ],
             [
              0.6666666666666666,
              "#ed7953"
             ],
             [
              0.7777777777777778,
              "#fb9f3a"
             ],
             [
              0.8888888888888888,
              "#fdca26"
             ],
             [
              1,
              "#f0f921"
             ]
            ],
            "type": "heatmap"
           }
          ],
          "heatmapgl": [
           {
            "colorbar": {
             "outlinewidth": 0,
             "ticks": ""
            },
            "colorscale": [
             [
              0,
              "#0d0887"
             ],
             [
              0.1111111111111111,
              "#46039f"
             ],
             [
              0.2222222222222222,
              "#7201a8"
             ],
             [
              0.3333333333333333,
              "#9c179e"
             ],
             [
              0.4444444444444444,
              "#bd3786"
             ],
             [
              0.5555555555555556,
              "#d8576b"
             ],
             [
              0.6666666666666666,
              "#ed7953"
             ],
             [
              0.7777777777777778,
              "#fb9f3a"
             ],
             [
              0.8888888888888888,
              "#fdca26"
             ],
             [
              1,
              "#f0f921"
             ]
            ],
            "type": "heatmapgl"
           }
          ],
          "histogram": [
           {
            "marker": {
             "pattern": {
              "fillmode": "overlay",
              "size": 10,
              "solidity": 0.2
             }
            },
            "type": "histogram"
           }
          ],
          "histogram2d": [
           {
            "colorbar": {
             "outlinewidth": 0,
             "ticks": ""
            },
            "colorscale": [
             [
              0,
              "#0d0887"
             ],
             [
              0.1111111111111111,
              "#46039f"
             ],
             [
              0.2222222222222222,
              "#7201a8"
             ],
             [
              0.3333333333333333,
              "#9c179e"
             ],
             [
              0.4444444444444444,
              "#bd3786"
             ],
             [
              0.5555555555555556,
              "#d8576b"
             ],
             [
              0.6666666666666666,
              "#ed7953"
             ],
             [
              0.7777777777777778,
              "#fb9f3a"
             ],
             [
              0.8888888888888888,
              "#fdca26"
             ],
             [
              1,
              "#f0f921"
             ]
            ],
            "type": "histogram2d"
           }
          ],
          "histogram2dcontour": [
           {
            "colorbar": {
             "outlinewidth": 0,
             "ticks": ""
            },
            "colorscale": [
             [
              0,
              "#0d0887"
             ],
             [
              0.1111111111111111,
              "#46039f"
             ],
             [
              0.2222222222222222,
              "#7201a8"
             ],
             [
              0.3333333333333333,
              "#9c179e"
             ],
             [
              0.4444444444444444,
              "#bd3786"
             ],
             [
              0.5555555555555556,
              "#d8576b"
             ],
             [
              0.6666666666666666,
              "#ed7953"
             ],
             [
              0.7777777777777778,
              "#fb9f3a"
             ],
             [
              0.8888888888888888,
              "#fdca26"
             ],
             [
              1,
              "#f0f921"
             ]
            ],
            "type": "histogram2dcontour"
           }
          ],
          "mesh3d": [
           {
            "colorbar": {
             "outlinewidth": 0,
             "ticks": ""
            },
            "type": "mesh3d"
           }
          ],
          "parcoords": [
           {
            "line": {
             "colorbar": {
              "outlinewidth": 0,
              "ticks": ""
             }
            },
            "type": "parcoords"
           }
          ],
          "pie": [
           {
            "automargin": true,
            "type": "pie"
           }
          ],
          "scatter": [
           {
            "fillpattern": {
             "fillmode": "overlay",
             "size": 10,
             "solidity": 0.2
            },
            "type": "scatter"
           }
          ],
          "scatter3d": [
           {
            "line": {
             "colorbar": {
              "outlinewidth": 0,
              "ticks": ""
             }
            },
            "marker": {
             "colorbar": {
              "outlinewidth": 0,
              "ticks": ""
             }
            },
            "type": "scatter3d"
           }
          ],
          "scattercarpet": [
           {
            "marker": {
             "colorbar": {
              "outlinewidth": 0,
              "ticks": ""
             }
            },
            "type": "scattercarpet"
           }
          ],
          "scattergeo": [
           {
            "marker": {
             "colorbar": {
              "outlinewidth": 0,
              "ticks": ""
             }
            },
            "type": "scattergeo"
           }
          ],
          "scattergl": [
           {
            "marker": {
             "colorbar": {
              "outlinewidth": 0,
              "ticks": ""
             }
            },
            "type": "scattergl"
           }
          ],
          "scattermapbox": [
           {
            "marker": {
             "colorbar": {
              "outlinewidth": 0,
              "ticks": ""
             }
            },
            "type": "scattermapbox"
           }
          ],
          "scatterpolar": [
           {
            "marker": {
             "colorbar": {
              "outlinewidth": 0,
              "ticks": ""
             }
            },
            "type": "scatterpolar"
           }
          ],
          "scatterpolargl": [
           {
            "marker": {
             "colorbar": {
              "outlinewidth": 0,
              "ticks": ""
             }
            },
            "type": "scatterpolargl"
           }
          ],
          "scatterternary": [
           {
            "marker": {
             "colorbar": {
              "outlinewidth": 0,
              "ticks": ""
             }
            },
            "type": "scatterternary"
           }
          ],
          "surface": [
           {
            "colorbar": {
             "outlinewidth": 0,
             "ticks": ""
            },
            "colorscale": [
             [
              0,
              "#0d0887"
             ],
             [
              0.1111111111111111,
              "#46039f"
             ],
             [
              0.2222222222222222,
              "#7201a8"
             ],
             [
              0.3333333333333333,
              "#9c179e"
             ],
             [
              0.4444444444444444,
              "#bd3786"
             ],
             [
              0.5555555555555556,
              "#d8576b"
             ],
             [
              0.6666666666666666,
              "#ed7953"
             ],
             [
              0.7777777777777778,
              "#fb9f3a"
             ],
             [
              0.8888888888888888,
              "#fdca26"
             ],
             [
              1,
              "#f0f921"
             ]
            ],
            "type": "surface"
           }
          ],
          "table": [
           {
            "cells": {
             "fill": {
              "color": "#EBF0F8"
             },
             "line": {
              "color": "white"
             }
            },
            "header": {
             "fill": {
              "color": "#C8D4E3"
             },
             "line": {
              "color": "white"
             }
            },
            "type": "table"
           }
          ]
         },
         "layout": {
          "annotationdefaults": {
           "arrowcolor": "#2a3f5f",
           "arrowhead": 0,
           "arrowwidth": 1
          },
          "autotypenumbers": "strict",
          "coloraxis": {
           "colorbar": {
            "outlinewidth": 0,
            "ticks": ""
           }
          },
          "colorscale": {
           "diverging": [
            [
             0,
             "#8e0152"
            ],
            [
             0.1,
             "#c51b7d"
            ],
            [
             0.2,
             "#de77ae"
            ],
            [
             0.3,
             "#f1b6da"
            ],
            [
             0.4,
             "#fde0ef"
            ],
            [
             0.5,
             "#f7f7f7"
            ],
            [
             0.6,
             "#e6f5d0"
            ],
            [
             0.7,
             "#b8e186"
            ],
            [
             0.8,
             "#7fbc41"
            ],
            [
             0.9,
             "#4d9221"
            ],
            [
             1,
             "#276419"
            ]
           ],
           "sequential": [
            [
             0,
             "#0d0887"
            ],
            [
             0.1111111111111111,
             "#46039f"
            ],
            [
             0.2222222222222222,
             "#7201a8"
            ],
            [
             0.3333333333333333,
             "#9c179e"
            ],
            [
             0.4444444444444444,
             "#bd3786"
            ],
            [
             0.5555555555555556,
             "#d8576b"
            ],
            [
             0.6666666666666666,
             "#ed7953"
            ],
            [
             0.7777777777777778,
             "#fb9f3a"
            ],
            [
             0.8888888888888888,
             "#fdca26"
            ],
            [
             1,
             "#f0f921"
            ]
           ],
           "sequentialminus": [
            [
             0,
             "#0d0887"
            ],
            [
             0.1111111111111111,
             "#46039f"
            ],
            [
             0.2222222222222222,
             "#7201a8"
            ],
            [
             0.3333333333333333,
             "#9c179e"
            ],
            [
             0.4444444444444444,
             "#bd3786"
            ],
            [
             0.5555555555555556,
             "#d8576b"
            ],
            [
             0.6666666666666666,
             "#ed7953"
            ],
            [
             0.7777777777777778,
             "#fb9f3a"
            ],
            [
             0.8888888888888888,
             "#fdca26"
            ],
            [
             1,
             "#f0f921"
            ]
           ]
          },
          "colorway": [
           "#636efa",
           "#EF553B",
           "#00cc96",
           "#ab63fa",
           "#FFA15A",
           "#19d3f3",
           "#FF6692",
           "#B6E880",
           "#FF97FF",
           "#FECB52"
          ],
          "font": {
           "color": "#2a3f5f"
          },
          "geo": {
           "bgcolor": "white",
           "lakecolor": "white",
           "landcolor": "#E5ECF6",
           "showlakes": true,
           "showland": true,
           "subunitcolor": "white"
          },
          "hoverlabel": {
           "align": "left"
          },
          "hovermode": "closest",
          "mapbox": {
           "style": "light"
          },
          "paper_bgcolor": "white",
          "plot_bgcolor": "#E5ECF6",
          "polar": {
           "angularaxis": {
            "gridcolor": "white",
            "linecolor": "white",
            "ticks": ""
           },
           "bgcolor": "#E5ECF6",
           "radialaxis": {
            "gridcolor": "white",
            "linecolor": "white",
            "ticks": ""
           }
          },
          "scene": {
           "xaxis": {
            "backgroundcolor": "#E5ECF6",
            "gridcolor": "white",
            "gridwidth": 2,
            "linecolor": "white",
            "showbackground": true,
            "ticks": "",
            "zerolinecolor": "white"
           },
           "yaxis": {
            "backgroundcolor": "#E5ECF6",
            "gridcolor": "white",
            "gridwidth": 2,
            "linecolor": "white",
            "showbackground": true,
            "ticks": "",
            "zerolinecolor": "white"
           },
           "zaxis": {
            "backgroundcolor": "#E5ECF6",
            "gridcolor": "white",
            "gridwidth": 2,
            "linecolor": "white",
            "showbackground": true,
            "ticks": "",
            "zerolinecolor": "white"
           }
          },
          "shapedefaults": {
           "line": {
            "color": "#2a3f5f"
           }
          },
          "ternary": {
           "aaxis": {
            "gridcolor": "white",
            "linecolor": "white",
            "ticks": ""
           },
           "baxis": {
            "gridcolor": "white",
            "linecolor": "white",
            "ticks": ""
           },
           "bgcolor": "#E5ECF6",
           "caxis": {
            "gridcolor": "white",
            "linecolor": "white",
            "ticks": ""
           }
          },
          "title": {
           "x": 0.05
          },
          "xaxis": {
           "automargin": true,
           "gridcolor": "white",
           "linecolor": "white",
           "ticks": "",
           "title": {
            "standoff": 15
           },
           "zerolinecolor": "white",
           "zerolinewidth": 2
          },
          "yaxis": {
           "automargin": true,
           "gridcolor": "white",
           "linecolor": "white",
           "ticks": "",
           "title": {
            "standoff": 15
           },
           "zerolinecolor": "white",
           "zerolinewidth": 2
          }
         }
        },
        "title": {
         "text": "Hyperparameter Importances"
        },
        "xaxis": {
         "title": {
          "text": "Hyperparameter Importance"
         }
        },
        "yaxis": {
         "title": {
          "text": "Hyperparameter"
         }
        }
       }
      }
     },
     "metadata": {},
     "output_type": "display_data"
    }
   ],
   "source": [
    "vis.plot_param_importances(study)"
   ]
  },
  {
   "cell_type": "code",
   "execution_count": 51,
   "metadata": {},
   "outputs": [],
   "source": [
    "best_model = study.best_trial.user_attrs['model']\n",
    "explainer = shap.TreeExplainer(best_model)"
   ]
  },
  {
   "cell_type": "code",
   "execution_count": null,
   "metadata": {},
   "outputs": [
    {
     "data": {
      "image/png": "[encoded data removed]",
      "text/plain": [
       "<Figure size 800x350 with 2 Axes>"
      ]
     },
     "metadata": {},
     "output_type": "display_data"
    }
   ],
   "source": [
    "X_train_best = study.best_trial.user_attrs['X_train']\n",
    "X_test_best = study.best_trial.user_attrs['X_test']\n",
    "Y_train_best = study.best_trial.user_attrs['Y_train']\n",
    "Y_test_best = study.best_trial.user_attrs['Y_test']\n",
    "\n",
    "explanation = explainer(X_test_best)\n",
    "shap.plots.beeswarm(explanation)"
   ]
  }
 ],
 "metadata": {
  "kernelspec": {
   "display_name": "venv",
   "language": "python",
   "name": "python3"
  },
  "language_info": {
   "codemirror_mode": {
    "name": "ipython",
    "version": 3
   },
   "file_extension": ".py",
   "mimetype": "text/x-python",
   "name": "python",
   "nbconvert_exporter": "python",
   "pygments_lexer": "ipython3",
   "version": "3.12.1"
  }
 },
 "nbformat": 4,
 "nbformat_minor": 2
}
